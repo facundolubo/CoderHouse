{
  "nbformat": 4,
  "nbformat_minor": 0,
  "metadata": {
    "colab": {
      "provenance": [],
      "include_colab_link": true
    },
    "kernelspec": {
      "name": "python3",
      "display_name": "Python 3"
    },
    "language_info": {
      "name": "python"
    }
  },
  "cells": [
    {
      "cell_type": "markdown",
      "metadata": {
        "id": "view-in-github",
        "colab_type": "text"
      },
      "source": [
        "<a href=\"https://colab.research.google.com/github/facundolubo/CoderHouse/blob/DS/Clase_12.ipynb\" target=\"_parent\"><img src=\"https://colab.research.google.com/assets/colab-badge.svg\" alt=\"Open In Colab\"/></a>"
      ]
    },
    {
      "cell_type": "markdown",
      "metadata": {
        "id": "KuwOrzF2oHiW"
      },
      "source": [
        "# ¿Qué factores están impulsando la discriminación salarial entre hombres y mujeres en su organización?"
      ]
    },
    {
      "cell_type": "code",
      "metadata": {
        "id": "9Xyfyry_oHif",
        "colab": {
          "base_uri": "https://localhost:8080/"
        },
        "outputId": "559b99b6-45d1-4911-e7d6-e1f111167501"
      },
      "source": [
        "### Load relevant packages\n",
        "import pandas                  as pd\n",
        "from   scipy import stats\n",
        "import numpy                   as np\n",
        "import matplotlib.pyplot       as plt\n",
        "import seaborn                 as sns\n",
        "import statsmodels.formula.api as sm\n",
        "# https://community.plot.ly/t/solved-update-to-plotly-4-0-0-broke-application/26526/2\n",
        "import os"
      ],
      "execution_count": null,
      "outputs": [
        {
          "output_type": "stream",
          "name": "stderr",
          "text": [
            "/usr/local/lib/python3.7/dist-packages/statsmodels/tools/_testing.py:19: FutureWarning: pandas.util.testing is deprecated. Use the functions in the public API at pandas.testing instead.\n",
            "  import pandas.util.testing as tm\n"
          ]
        }
      ]
    },
    {
      "cell_type": "markdown",
      "metadata": {
        "id": "asX_-5A7oHil"
      },
      "source": [
        "## Objetivos(2 min)\n",
        "\n",
        "En este caso, estableceremos una comprensión básica de las estadísticas necesarias para la regresión lineal y luego introduciremos la regresión lineal comenzando con 2 parámetros. Esperamos que los estudiantes comprendan a fondo los componentes funcionales de un modelo de regresión lineal, como la interpretación de los coeficientes y la comprensión de varias métricas para evaluar adecuadamente el rendimiento del modelo."
      ]
    },
    {
      "cell_type": "markdown",
      "metadata": {
        "id": "bZm9IN9voHin"
      },
      "source": [
        "## Introducción(5 min)"
      ]
    },
    {
      "cell_type": "markdown",
      "metadata": {
        "id": "NN9yrtjZoHin"
      },
      "source": [
        "**Contexto empresarial**. Eres un científico de datos en una gran organización. Su empresa está pasando por una revisión interna de sus prácticas de contratación y compensación a los empleados. En los últimos años, su empresa ha tenido poco éxito en la conversión de candidatas de alta calidad que deseaba contratar. La gerencia plantea la hipótesis de que esto se debe a una posible discriminación salarial y quiere averiguar qué la está causando."
      ]
    },
    {
      "cell_type": "markdown",
      "metadata": {
        "id": "AaOz2F5doHio"
      },
      "source": [
        "**Problema empresarial** Como parte de la revisión interna, el departamento de recursos humanos se ha acercado a usted para investigar específicamente la siguiente pregunta: <b> \"En general, ¿se les paga más a los hombres que a las mujeres en su organización? Si es así, ¿qué conduciendo esta brecha? \""
      ]
    },
    {
      "cell_type": "markdown",
      "metadata": {
        "id": "MNFocargoHip"
      },
      "source": [
        "**Contexto analítico**. El departamento de recursos humanos le ha proporcionado una base de datos de empleados que contiene información sobre varios atributos como rendimiento, educación, ingresos, antigüedad, etc. Usaremos técnicas de regresión lineal en este conjunto de datos para resolver el problema comercial descrito anteriormente. Veremos cómo la regresión lineal cuantifica la correlación entre la variable dependiente (salario) y las variables independientes (por ejemplo, educación, ingresos, antigüedad, etc.)\n",
        "\n",
        "El caso está estructurado de la siguiente manera: (1) realizaremos un análisis de datos exploratorio para investigar visualmente las diferencias salariales; (2) utilizar los conocimientos observados para ajustar formalmente los modelos de regresión; y finalmente (3) abordar el tema de la discriminación salarial."
      ]
    },
    {
      "cell_type": "markdown",
      "metadata": {
        "id": "0hUKZa8cNs0n"
      },
      "source": [
        "## Exploración de data (30 min)"
      ]
    },
    {
      "cell_type": "code",
      "metadata": {
        "colab": {
          "base_uri": "https://localhost:8080/"
        },
        "outputId": "054b74d9-82dc-4216-92cc-a6b7e663a0dd",
        "id": "ohieAEj0Ns0p"
      },
      "source": [
        "from google.colab import drive\n",
        "import os\n",
        "drive.mount('/content/gdrive')\n",
        "# Establecer ruta de acceso en drive\n",
        "import os\n",
        "print(os.getcwd())\n",
        "os.chdir(\"/content/gdrive/My Drive\")"
      ],
      "execution_count": null,
      "outputs": [
        {
          "output_type": "stream",
          "name": "stdout",
          "text": [
            "Mounted at /content/gdrive\n",
            "/content\n"
          ]
        }
      ]
    },
    {
      "cell_type": "code",
      "metadata": {
        "id": "W-ouWV0NoHiq"
      },
      "source": [
        "Data = pd.read_csv('glassdoordata.csv')"
      ],
      "execution_count": null,
      "outputs": []
    },
    {
      "cell_type": "code",
      "metadata": {
        "colab": {
          "base_uri": "https://localhost:8080/",
          "height": 206
        },
        "id": "avJmGwoFoHir",
        "outputId": "db19d15d-138b-4fb5-d774-eeb60de76a13"
      },
      "source": [
        "Data.head()"
      ],
      "execution_count": null,
      "outputs": [
        {
          "output_type": "execute_result",
          "data": {
            "text/plain": [
              "              jobtitle  gender  age  performance education      department  \\\n",
              "0     Graphic Designer  Female   18            5   College      Operations   \n",
              "1    Software Engineer    Male   21            5   College      Management   \n",
              "2  Warehouse Associate  Female   19            4       PhD  Administration   \n",
              "3    Software Engineer    Male   20            5   Masters           Sales   \n",
              "4     Graphic Designer    Male   26            5   Masters     Engineering   \n",
              "\n",
              "   seniority  income  bonus  \n",
              "0          2   42363   9938  \n",
              "1          5  108476  11128  \n",
              "2          5   90208   9268  \n",
              "3          4  108080  10154  \n",
              "4          5   99464   9319  "
            ],
            "text/html": [
              "\n",
              "  <div id=\"df-29d9885b-b68d-4d9c-b08e-b42bcb38838e\">\n",
              "    <div class=\"colab-df-container\">\n",
              "      <div>\n",
              "<style scoped>\n",
              "    .dataframe tbody tr th:only-of-type {\n",
              "        vertical-align: middle;\n",
              "    }\n",
              "\n",
              "    .dataframe tbody tr th {\n",
              "        vertical-align: top;\n",
              "    }\n",
              "\n",
              "    .dataframe thead th {\n",
              "        text-align: right;\n",
              "    }\n",
              "</style>\n",
              "<table border=\"1\" class=\"dataframe\">\n",
              "  <thead>\n",
              "    <tr style=\"text-align: right;\">\n",
              "      <th></th>\n",
              "      <th>jobtitle</th>\n",
              "      <th>gender</th>\n",
              "      <th>age</th>\n",
              "      <th>performance</th>\n",
              "      <th>education</th>\n",
              "      <th>department</th>\n",
              "      <th>seniority</th>\n",
              "      <th>income</th>\n",
              "      <th>bonus</th>\n",
              "    </tr>\n",
              "  </thead>\n",
              "  <tbody>\n",
              "    <tr>\n",
              "      <th>0</th>\n",
              "      <td>Graphic Designer</td>\n",
              "      <td>Female</td>\n",
              "      <td>18</td>\n",
              "      <td>5</td>\n",
              "      <td>College</td>\n",
              "      <td>Operations</td>\n",
              "      <td>2</td>\n",
              "      <td>42363</td>\n",
              "      <td>9938</td>\n",
              "    </tr>\n",
              "    <tr>\n",
              "      <th>1</th>\n",
              "      <td>Software Engineer</td>\n",
              "      <td>Male</td>\n",
              "      <td>21</td>\n",
              "      <td>5</td>\n",
              "      <td>College</td>\n",
              "      <td>Management</td>\n",
              "      <td>5</td>\n",
              "      <td>108476</td>\n",
              "      <td>11128</td>\n",
              "    </tr>\n",
              "    <tr>\n",
              "      <th>2</th>\n",
              "      <td>Warehouse Associate</td>\n",
              "      <td>Female</td>\n",
              "      <td>19</td>\n",
              "      <td>4</td>\n",
              "      <td>PhD</td>\n",
              "      <td>Administration</td>\n",
              "      <td>5</td>\n",
              "      <td>90208</td>\n",
              "      <td>9268</td>\n",
              "    </tr>\n",
              "    <tr>\n",
              "      <th>3</th>\n",
              "      <td>Software Engineer</td>\n",
              "      <td>Male</td>\n",
              "      <td>20</td>\n",
              "      <td>5</td>\n",
              "      <td>Masters</td>\n",
              "      <td>Sales</td>\n",
              "      <td>4</td>\n",
              "      <td>108080</td>\n",
              "      <td>10154</td>\n",
              "    </tr>\n",
              "    <tr>\n",
              "      <th>4</th>\n",
              "      <td>Graphic Designer</td>\n",
              "      <td>Male</td>\n",
              "      <td>26</td>\n",
              "      <td>5</td>\n",
              "      <td>Masters</td>\n",
              "      <td>Engineering</td>\n",
              "      <td>5</td>\n",
              "      <td>99464</td>\n",
              "      <td>9319</td>\n",
              "    </tr>\n",
              "  </tbody>\n",
              "</table>\n",
              "</div>\n",
              "      <button class=\"colab-df-convert\" onclick=\"convertToInteractive('df-29d9885b-b68d-4d9c-b08e-b42bcb38838e')\"\n",
              "              title=\"Convert this dataframe to an interactive table.\"\n",
              "              style=\"display:none;\">\n",
              "        \n",
              "  <svg xmlns=\"http://www.w3.org/2000/svg\" height=\"24px\"viewBox=\"0 0 24 24\"\n",
              "       width=\"24px\">\n",
              "    <path d=\"M0 0h24v24H0V0z\" fill=\"none\"/>\n",
              "    <path d=\"M18.56 5.44l.94 2.06.94-2.06 2.06-.94-2.06-.94-.94-2.06-.94 2.06-2.06.94zm-11 1L8.5 8.5l.94-2.06 2.06-.94-2.06-.94L8.5 2.5l-.94 2.06-2.06.94zm10 10l.94 2.06.94-2.06 2.06-.94-2.06-.94-.94-2.06-.94 2.06-2.06.94z\"/><path d=\"M17.41 7.96l-1.37-1.37c-.4-.4-.92-.59-1.43-.59-.52 0-1.04.2-1.43.59L10.3 9.45l-7.72 7.72c-.78.78-.78 2.05 0 2.83L4 21.41c.39.39.9.59 1.41.59.51 0 1.02-.2 1.41-.59l7.78-7.78 2.81-2.81c.8-.78.8-2.07 0-2.86zM5.41 20L4 18.59l7.72-7.72 1.47 1.35L5.41 20z\"/>\n",
              "  </svg>\n",
              "      </button>\n",
              "      \n",
              "  <style>\n",
              "    .colab-df-container {\n",
              "      display:flex;\n",
              "      flex-wrap:wrap;\n",
              "      gap: 12px;\n",
              "    }\n",
              "\n",
              "    .colab-df-convert {\n",
              "      background-color: #E8F0FE;\n",
              "      border: none;\n",
              "      border-radius: 50%;\n",
              "      cursor: pointer;\n",
              "      display: none;\n",
              "      fill: #1967D2;\n",
              "      height: 32px;\n",
              "      padding: 0 0 0 0;\n",
              "      width: 32px;\n",
              "    }\n",
              "\n",
              "    .colab-df-convert:hover {\n",
              "      background-color: #E2EBFA;\n",
              "      box-shadow: 0px 1px 2px rgba(60, 64, 67, 0.3), 0px 1px 3px 1px rgba(60, 64, 67, 0.15);\n",
              "      fill: #174EA6;\n",
              "    }\n",
              "\n",
              "    [theme=dark] .colab-df-convert {\n",
              "      background-color: #3B4455;\n",
              "      fill: #D2E3FC;\n",
              "    }\n",
              "\n",
              "    [theme=dark] .colab-df-convert:hover {\n",
              "      background-color: #434B5C;\n",
              "      box-shadow: 0px 1px 3px 1px rgba(0, 0, 0, 0.15);\n",
              "      filter: drop-shadow(0px 1px 2px rgba(0, 0, 0, 0.3));\n",
              "      fill: #FFFFFF;\n",
              "    }\n",
              "  </style>\n",
              "\n",
              "      <script>\n",
              "        const buttonEl =\n",
              "          document.querySelector('#df-29d9885b-b68d-4d9c-b08e-b42bcb38838e button.colab-df-convert');\n",
              "        buttonEl.style.display =\n",
              "          google.colab.kernel.accessAllowed ? 'block' : 'none';\n",
              "\n",
              "        async function convertToInteractive(key) {\n",
              "          const element = document.querySelector('#df-29d9885b-b68d-4d9c-b08e-b42bcb38838e');\n",
              "          const dataTable =\n",
              "            await google.colab.kernel.invokeFunction('convertToInteractive',\n",
              "                                                     [key], {});\n",
              "          if (!dataTable) return;\n",
              "\n",
              "          const docLinkHtml = 'Like what you see? Visit the ' +\n",
              "            '<a target=\"_blank\" href=https://colab.research.google.com/notebooks/data_table.ipynb>data table notebook</a>'\n",
              "            + ' to learn more about interactive tables.';\n",
              "          element.innerHTML = '';\n",
              "          dataTable['output_type'] = 'display_data';\n",
              "          await google.colab.output.renderOutput(dataTable, element);\n",
              "          const docLink = document.createElement('div');\n",
              "          docLink.innerHTML = docLinkHtml;\n",
              "          element.appendChild(docLink);\n",
              "        }\n",
              "      </script>\n",
              "    </div>\n",
              "  </div>\n",
              "  "
            ]
          },
          "metadata": {},
          "execution_count": 4
        }
      ]
    },
    {
      "cell_type": "code",
      "metadata": {
        "colab": {
          "base_uri": "https://localhost:8080/"
        },
        "id": "IzrfsaeEoHir",
        "outputId": "6b007724-5fda-411a-a372-11a6085840fc"
      },
      "source": [
        "Data.shape"
      ],
      "execution_count": null,
      "outputs": [
        {
          "output_type": "execute_result",
          "data": {
            "text/plain": [
              "(1000, 9)"
            ]
          },
          "metadata": {},
          "execution_count": 5
        }
      ]
    },
    {
      "cell_type": "markdown",
      "metadata": {
        "id": "MgGJHvyvoHis"
      },
      "source": [
        "Las variables disponibles son:\n",
        "* **job title**: el título del trabajo (por ejemplo, \"Diseñador gráfico\", \"Ingeniero de software\", etc.);\n",
        "* **gender**: hombre o mujer;\n",
        "* **age**: edad;\n",
        "* **performance**: en una escala del 1 al 5, siendo 1 el más bajo y 5 el más alto;\n",
        "* **education**: diferentes niveles de educación (por ejemplo, \"Universidad\", \"Doctorado\", \"Maestría\", \"Escuela secundaria\");\n",
        "* **department**: diferentes departamentos de la organización (por ejemplo, \"Operaciones\", \"Gestión\", etc.);\n",
        "* **seniority**: en una escala de 1 a 5, siendo 1 la más baja y 5 la más alta;\n",
        "* **income, bonus**: ambos expresados en dólares"
      ]
    },
    {
      "cell_type": "markdown",
      "metadata": {
        "id": "4pz9X2W1oHis"
      },
      "source": [
        "Como estamos interesados en la compensación total, creemos una nueva columna llamada <code>pay</code>:"
      ]
    },
    {
      "cell_type": "code",
      "metadata": {
        "id": "zGdNvgChoHit"
      },
      "source": [
        "Data['pay'] = Data['income'] + Data['bonus']# Crear una variable que tenga salario total anual"
      ],
      "execution_count": null,
      "outputs": []
    },
    {
      "cell_type": "code",
      "metadata": {
        "colab": {
          "base_uri": "https://localhost:8080/",
          "height": 206
        },
        "id": "WzlrgU2ToHit",
        "outputId": "d8938db1-a43d-4588-fb1f-e53e59266a27"
      },
      "source": [
        "Data.head()"
      ],
      "execution_count": null,
      "outputs": [
        {
          "output_type": "execute_result",
          "data": {
            "text/plain": [
              "              jobtitle  gender  age  performance education      department  \\\n",
              "0     Graphic Designer  Female   18            5   College      Operations   \n",
              "1    Software Engineer    Male   21            5   College      Management   \n",
              "2  Warehouse Associate  Female   19            4       PhD  Administration   \n",
              "3    Software Engineer    Male   20            5   Masters           Sales   \n",
              "4     Graphic Designer    Male   26            5   Masters     Engineering   \n",
              "\n",
              "   seniority  income  bonus     pay  \n",
              "0          2   42363   9938   52301  \n",
              "1          5  108476  11128  119604  \n",
              "2          5   90208   9268   99476  \n",
              "3          4  108080  10154  118234  \n",
              "4          5   99464   9319  108783  "
            ],
            "text/html": [
              "\n",
              "  <div id=\"df-965e9836-c2ce-4612-b708-6757dcf1275b\">\n",
              "    <div class=\"colab-df-container\">\n",
              "      <div>\n",
              "<style scoped>\n",
              "    .dataframe tbody tr th:only-of-type {\n",
              "        vertical-align: middle;\n",
              "    }\n",
              "\n",
              "    .dataframe tbody tr th {\n",
              "        vertical-align: top;\n",
              "    }\n",
              "\n",
              "    .dataframe thead th {\n",
              "        text-align: right;\n",
              "    }\n",
              "</style>\n",
              "<table border=\"1\" class=\"dataframe\">\n",
              "  <thead>\n",
              "    <tr style=\"text-align: right;\">\n",
              "      <th></th>\n",
              "      <th>jobtitle</th>\n",
              "      <th>gender</th>\n",
              "      <th>age</th>\n",
              "      <th>performance</th>\n",
              "      <th>education</th>\n",
              "      <th>department</th>\n",
              "      <th>seniority</th>\n",
              "      <th>income</th>\n",
              "      <th>bonus</th>\n",
              "      <th>pay</th>\n",
              "    </tr>\n",
              "  </thead>\n",
              "  <tbody>\n",
              "    <tr>\n",
              "      <th>0</th>\n",
              "      <td>Graphic Designer</td>\n",
              "      <td>Female</td>\n",
              "      <td>18</td>\n",
              "      <td>5</td>\n",
              "      <td>College</td>\n",
              "      <td>Operations</td>\n",
              "      <td>2</td>\n",
              "      <td>42363</td>\n",
              "      <td>9938</td>\n",
              "      <td>52301</td>\n",
              "    </tr>\n",
              "    <tr>\n",
              "      <th>1</th>\n",
              "      <td>Software Engineer</td>\n",
              "      <td>Male</td>\n",
              "      <td>21</td>\n",
              "      <td>5</td>\n",
              "      <td>College</td>\n",
              "      <td>Management</td>\n",
              "      <td>5</td>\n",
              "      <td>108476</td>\n",
              "      <td>11128</td>\n",
              "      <td>119604</td>\n",
              "    </tr>\n",
              "    <tr>\n",
              "      <th>2</th>\n",
              "      <td>Warehouse Associate</td>\n",
              "      <td>Female</td>\n",
              "      <td>19</td>\n",
              "      <td>4</td>\n",
              "      <td>PhD</td>\n",
              "      <td>Administration</td>\n",
              "      <td>5</td>\n",
              "      <td>90208</td>\n",
              "      <td>9268</td>\n",
              "      <td>99476</td>\n",
              "    </tr>\n",
              "    <tr>\n",
              "      <th>3</th>\n",
              "      <td>Software Engineer</td>\n",
              "      <td>Male</td>\n",
              "      <td>20</td>\n",
              "      <td>5</td>\n",
              "      <td>Masters</td>\n",
              "      <td>Sales</td>\n",
              "      <td>4</td>\n",
              "      <td>108080</td>\n",
              "      <td>10154</td>\n",
              "      <td>118234</td>\n",
              "    </tr>\n",
              "    <tr>\n",
              "      <th>4</th>\n",
              "      <td>Graphic Designer</td>\n",
              "      <td>Male</td>\n",
              "      <td>26</td>\n",
              "      <td>5</td>\n",
              "      <td>Masters</td>\n",
              "      <td>Engineering</td>\n",
              "      <td>5</td>\n",
              "      <td>99464</td>\n",
              "      <td>9319</td>\n",
              "      <td>108783</td>\n",
              "    </tr>\n",
              "  </tbody>\n",
              "</table>\n",
              "</div>\n",
              "      <button class=\"colab-df-convert\" onclick=\"convertToInteractive('df-965e9836-c2ce-4612-b708-6757dcf1275b')\"\n",
              "              title=\"Convert this dataframe to an interactive table.\"\n",
              "              style=\"display:none;\">\n",
              "        \n",
              "  <svg xmlns=\"http://www.w3.org/2000/svg\" height=\"24px\"viewBox=\"0 0 24 24\"\n",
              "       width=\"24px\">\n",
              "    <path d=\"M0 0h24v24H0V0z\" fill=\"none\"/>\n",
              "    <path d=\"M18.56 5.44l.94 2.06.94-2.06 2.06-.94-2.06-.94-.94-2.06-.94 2.06-2.06.94zm-11 1L8.5 8.5l.94-2.06 2.06-.94-2.06-.94L8.5 2.5l-.94 2.06-2.06.94zm10 10l.94 2.06.94-2.06 2.06-.94-2.06-.94-.94-2.06-.94 2.06-2.06.94z\"/><path d=\"M17.41 7.96l-1.37-1.37c-.4-.4-.92-.59-1.43-.59-.52 0-1.04.2-1.43.59L10.3 9.45l-7.72 7.72c-.78.78-.78 2.05 0 2.83L4 21.41c.39.39.9.59 1.41.59.51 0 1.02-.2 1.41-.59l7.78-7.78 2.81-2.81c.8-.78.8-2.07 0-2.86zM5.41 20L4 18.59l7.72-7.72 1.47 1.35L5.41 20z\"/>\n",
              "  </svg>\n",
              "      </button>\n",
              "      \n",
              "  <style>\n",
              "    .colab-df-container {\n",
              "      display:flex;\n",
              "      flex-wrap:wrap;\n",
              "      gap: 12px;\n",
              "    }\n",
              "\n",
              "    .colab-df-convert {\n",
              "      background-color: #E8F0FE;\n",
              "      border: none;\n",
              "      border-radius: 50%;\n",
              "      cursor: pointer;\n",
              "      display: none;\n",
              "      fill: #1967D2;\n",
              "      height: 32px;\n",
              "      padding: 0 0 0 0;\n",
              "      width: 32px;\n",
              "    }\n",
              "\n",
              "    .colab-df-convert:hover {\n",
              "      background-color: #E2EBFA;\n",
              "      box-shadow: 0px 1px 2px rgba(60, 64, 67, 0.3), 0px 1px 3px 1px rgba(60, 64, 67, 0.15);\n",
              "      fill: #174EA6;\n",
              "    }\n",
              "\n",
              "    [theme=dark] .colab-df-convert {\n",
              "      background-color: #3B4455;\n",
              "      fill: #D2E3FC;\n",
              "    }\n",
              "\n",
              "    [theme=dark] .colab-df-convert:hover {\n",
              "      background-color: #434B5C;\n",
              "      box-shadow: 0px 1px 3px 1px rgba(0, 0, 0, 0.15);\n",
              "      filter: drop-shadow(0px 1px 2px rgba(0, 0, 0, 0.3));\n",
              "      fill: #FFFFFF;\n",
              "    }\n",
              "  </style>\n",
              "\n",
              "      <script>\n",
              "        const buttonEl =\n",
              "          document.querySelector('#df-965e9836-c2ce-4612-b708-6757dcf1275b button.colab-df-convert');\n",
              "        buttonEl.style.display =\n",
              "          google.colab.kernel.accessAllowed ? 'block' : 'none';\n",
              "\n",
              "        async function convertToInteractive(key) {\n",
              "          const element = document.querySelector('#df-965e9836-c2ce-4612-b708-6757dcf1275b');\n",
              "          const dataTable =\n",
              "            await google.colab.kernel.invokeFunction('convertToInteractive',\n",
              "                                                     [key], {});\n",
              "          if (!dataTable) return;\n",
              "\n",
              "          const docLinkHtml = 'Like what you see? Visit the ' +\n",
              "            '<a target=\"_blank\" href=https://colab.research.google.com/notebooks/data_table.ipynb>data table notebook</a>'\n",
              "            + ' to learn more about interactive tables.';\n",
              "          element.innerHTML = '';\n",
              "          dataTable['output_type'] = 'display_data';\n",
              "          await google.colab.output.renderOutput(dataTable, element);\n",
              "          const docLink = document.createElement('div');\n",
              "          docLink.innerHTML = docLinkHtml;\n",
              "          element.appendChild(docLink);\n",
              "        }\n",
              "      </script>\n",
              "    </div>\n",
              "  </div>\n",
              "  "
            ]
          },
          "metadata": {},
          "execution_count": 7
        }
      ]
    },
    {
      "cell_type": "markdown",
      "source": [
        "# Algunos graficos descriptivos"
      ],
      "metadata": {
        "id": "MUK4asVcOhpm"
      }
    },
    {
      "cell_type": "code",
      "source": [
        "sns.boxplot(x='gender', y = 'pay', data = Data) \n",
        "#Data.boxplot(grid= False, column = ['pay'], by = ['gender'])\n",
        "plt.title(\"Pay vs Gender\");"
      ],
      "metadata": {
        "colab": {
          "base_uri": "https://localhost:8080/",
          "height": 295
        },
        "id": "B3z-JvqSOkdR",
        "outputId": "5689ecb7-2cb1-475f-89df-46d7ebed79b1"
      },
      "execution_count": null,
      "outputs": [
        {
          "output_type": "display_data",
          "data": {
            "text/plain": [
              "<Figure size 432x288 with 1 Axes>"
            ],
            "image/png": "[encoded data removed]"
          },
          "metadata": {
            "needs_background": "light"
          }
        }
      ]
    },
    {
      "cell_type": "code",
      "source": [
        "plt.scatter(Data['age'],Data['pay'])\n",
        "plt.title(\"Pay vs. Age\", fontsize=20, verticalalignment='bottom');\n",
        "plt.xlabel(\"Age\");\n",
        "plt.ylabel(\"Pay\");"
      ],
      "metadata": {
        "colab": {
          "base_uri": "https://localhost:8080/",
          "height": 304
        },
        "id": "RXxBza4SPBcw",
        "outputId": "5ab2a812-fe7d-4f9f-805e-c6e19bff06b4"
      },
      "execution_count": null,
      "outputs": [
        {
          "output_type": "display_data",
          "data": {
            "text/plain": [
              "<Figure size 432x288 with 1 Axes>"
            ],
            "image/png": "[encoded data removed]"
          },
          "metadata": {
            "needs_background": "light"
          }
        }
      ]
    },
    {
      "cell_type": "code",
      "source": [
        "sns.boxplot(x='education', y = 'pay', data = Data) \n",
        "plt.title(\"Pay vs. Education\", fontsize=20, verticalalignment='bottom');"
      ],
      "metadata": {
        "colab": {
          "base_uri": "https://localhost:8080/",
          "height": 304
        },
        "id": "rXQMbqTSPpBx",
        "outputId": "775b6cb4-c06c-463e-93e7-5853213b67fe"
      },
      "execution_count": null,
      "outputs": [
        {
          "output_type": "display_data",
          "data": {
            "text/plain": [
              "<Figure size 432x288 with 1 Axes>"
            ],
            "image/png": "[encoded data removed]"
          },
          "metadata": {
            "needs_background": "light"
          }
        }
      ]
    },
    {
      "cell_type": "code",
      "source": [
        "sns.boxplot(x='seniority', y = 'pay',hue='gender', data = Data) \n",
        "plt.title(\"Pay vs. Seniority\", fontsize=20, verticalalignment='bottom');"
      ],
      "metadata": {
        "colab": {
          "base_uri": "https://localhost:8080/",
          "height": 304
        },
        "id": "ne72z0ORQJbU",
        "outputId": "c401a699-a088-4ef1-a401-38e96f0ecd9d"
      },
      "execution_count": null,
      "outputs": [
        {
          "output_type": "display_data",
          "data": {
            "text/plain": [
              "<Figure size 432x288 with 1 Axes>"
            ],
            "image/png": "[encoded data removed]"
          },
          "metadata": {
            "needs_background": "light"
          }
        }
      ]
    },
    {
      "cell_type": "code",
      "source": [
        "sns.boxplot(x='education', y = 'pay', hue = 'gender', data = Data) \n",
        "plt.title(\"Pay vs. Education\", fontsize=20, verticalalignment='bottom');"
      ],
      "metadata": {
        "colab": {
          "base_uri": "https://localhost:8080/",
          "height": 304
        },
        "id": "SAGQPeO-Qm9S",
        "outputId": "a8f5daf4-7ce2-4687-dc97-1a39553c8980"
      },
      "execution_count": null,
      "outputs": [
        {
          "output_type": "display_data",
          "data": {
            "text/plain": [
              "<Figure size 432x288 with 1 Axes>"
            ],
            "image/png": "[encoded data removed]"
          },
          "metadata": {
            "needs_background": "light"
          }
        }
      ]
    },
    {
      "cell_type": "code",
      "source": [
        "plt.figure(figsize=(12,6))\n",
        "sns.boxplot(x='jobtitle', y = 'pay', hue = 'gender',data = Data) \n",
        "plt.title(\"Pay vs. Jobtitle\", fontsize=20, verticalalignment='bottom')\n",
        "plt.xticks(rotation=90);"
      ],
      "metadata": {
        "colab": {
          "base_uri": "https://localhost:8080/",
          "height": 510
        },
        "id": "7Oduye1HQud0",
        "outputId": "7a540128-464b-45aa-aaf5-92cfa12799a5"
      },
      "execution_count": null,
      "outputs": [
        {
          "output_type": "display_data",
          "data": {
            "text/plain": [
              "<Figure size 864x432 with 1 Axes>"
            ],
            "image/png": "[encoded data removed]"
          },
          "metadata": {
            "needs_background": "light"
          }
        }
      ]
    },
    {
      "cell_type": "markdown",
      "metadata": {
        "id": "ST46g8pVoHjA"
      },
      "source": [
        "## Interpretar la salida de un modelo lineal (10 min)\n",
        "El modelo lineal de salario versus edad se puede ajustar de la siguiente manera:"
      ]
    },
    {
      "cell_type": "code",
      "metadata": {
        "colab": {
          "base_uri": "https://localhost:8080/"
        },
        "id": "PPYs94lmaz4u",
        "outputId": "527ac8a1-2cee-4349-fabf-85ae9e0e3f08"
      },
      "source": [
        "Data.columns"
      ],
      "execution_count": null,
      "outputs": [
        {
          "output_type": "execute_result",
          "data": {
            "text/plain": [
              "Index(['jobtitle', 'gender', 'age', 'performance', 'education', 'department',\n",
              "       'seniority', 'income', 'bonus', 'pay'],\n",
              "      dtype='object')"
            ]
          },
          "metadata": {},
          "execution_count": 15
        }
      ]
    },
    {
      "cell_type": "code",
      "metadata": {
        "colab": {
          "base_uri": "https://localhost:8080/"
        },
        "id": "6WA5qm3LoHjA",
        "outputId": "9ddf8376-1953-4b19-861a-67f9ef5e17cc"
      },
      "source": [
        "model1 = 'pay~age'\n",
        "lm1   = sm.ols(formula = model1, data = Data).fit()\n",
        "print(lm1.summary())"
      ],
      "execution_count": null,
      "outputs": [
        {
          "output_type": "stream",
          "name": "stdout",
          "text": [
            "                            OLS Regression Results                            \n",
            "==============================================================================\n",
            "Dep. Variable:                    pay   R-squared:                       0.285\n",
            "Model:                            OLS   Adj. R-squared:                  0.284\n",
            "Method:                 Least Squares   F-statistic:                     397.5\n",
            "Date:                Tue, 26 Jul 2022   Prob (F-statistic):           1.04e-74\n",
            "Time:                        01:05:54   Log-Likelihood:                -11384.\n",
            "No. Observations:                1000   AIC:                         2.277e+04\n",
            "Df Residuals:                     998   BIC:                         2.278e+04\n",
            "Df Model:                           1                                         \n",
            "Covariance Type:            nonrobust                                         \n",
            "==============================================================================\n",
            "                 coef    std err          t      P>|t|      [0.025      0.975]\n",
            "------------------------------------------------------------------------------\n",
            "Intercept   6.206e+04   2062.885     30.085      0.000     5.8e+04    6.61e+04\n",
            "age          939.2501     47.109     19.938      0.000     846.806    1031.694\n",
            "==============================================================================\n",
            "Omnibus:                        6.360   Durbin-Watson:                   1.905\n",
            "Prob(Omnibus):                  0.042   Jarque-Bera (JB):                6.421\n",
            "Skew:                           0.182   Prob(JB):                       0.0403\n",
            "Kurtosis:                       2.853   Cond. No.                         134.\n",
            "==============================================================================\n",
            "\n",
            "Warnings:\n",
            "[1] Standard Errors assume that the covariance matrix of the errors is correctly specified.\n"
          ]
        }
      ]
    },
    {
      "cell_type": "markdown",
      "metadata": {
        "id": "Sagouz94oHjF"
      },
      "source": [
        "## Mirando age vs gender: Variables Categoricas (10 min)"
      ]
    },
    {
      "cell_type": "markdown",
      "metadata": {
        "id": "LRW4iPcUoHjG"
      },
      "source": [
        "Ahora que hemos visto que la edad explica parte de la relación con el salario, consideremos un modelo en el que tengamos en cuenta la edad y el género simultáneamente. La edad es una variable numérica (p. Ej., 26,5, 32). Por el contrario, el género solo toma dos valores: masculino y femenino. Estas variables se denominan <b> variables categóricas </b>. La forma en que interpretamos los coeficientes de las variables factoriales en el modelo lineal es ligeramente diferente de los de las variables numéricas:"
      ]
    },
    {
      "cell_type": "code",
      "metadata": {
        "colab": {
          "base_uri": "https://localhost:8080/",
          "height": 424
        },
        "id": "rAGO8_TrrWVp",
        "outputId": "5fe29eb6-15f2-4802-bdb7-e4fd1e80be75"
      },
      "source": [
        "Data"
      ],
      "execution_count": null,
      "outputs": [
        {
          "output_type": "execute_result",
          "data": {
            "text/plain": [
              "                jobtitle  gender  age  performance    education  \\\n",
              "0       Graphic Designer  Female   18            5      College   \n",
              "1      Software Engineer    Male   21            5      College   \n",
              "2    Warehouse Associate  Female   19            4          PhD   \n",
              "3      Software Engineer    Male   20            5      Masters   \n",
              "4       Graphic Designer    Male   26            5      Masters   \n",
              "..                   ...     ...  ...          ...          ...   \n",
              "995  Marketing Associate  Female   61            1  High School   \n",
              "996       Data Scientist    Male   57            1      Masters   \n",
              "997    Financial Analyst    Male   48            1  High School   \n",
              "998    Financial Analyst    Male   65            2  High School   \n",
              "999    Financial Analyst    Male   60            1          PhD   \n",
              "\n",
              "         department  seniority  income  bonus     pay  \n",
              "0        Operations          2   42363   9938   52301  \n",
              "1        Management          5  108476  11128  119604  \n",
              "2    Administration          5   90208   9268   99476  \n",
              "3             Sales          4  108080  10154  118234  \n",
              "4       Engineering          5   99464   9319  108783  \n",
              "..              ...        ...     ...    ...     ...  \n",
              "995  Administration          1   62644   3270   65914  \n",
              "996           Sales          2  108977   3567  112544  \n",
              "997      Operations          1   92347   2724   95071  \n",
              "998  Administration          1   97376   2225   99601  \n",
              "999           Sales          2  123108   2244  125352  \n",
              "\n",
              "[1000 rows x 10 columns]"
            ],
            "text/html": [
              "\n",
              "  <div id=\"df-5290b149-c304-4ced-a8a2-16b6659c35b9\">\n",
              "    <div class=\"colab-df-container\">\n",
              "      <div>\n",
              "<style scoped>\n",
              "    .dataframe tbody tr th:only-of-type {\n",
              "        vertical-align: middle;\n",
              "    }\n",
              "\n",
              "    .dataframe tbody tr th {\n",
              "        vertical-align: top;\n",
              "    }\n",
              "\n",
              "    .dataframe thead th {\n",
              "        text-align: right;\n",
              "    }\n",
              "</style>\n",
              "<table border=\"1\" class=\"dataframe\">\n",
              "  <thead>\n",
              "    <tr style=\"text-align: right;\">\n",
              "      <th></th>\n",
              "      <th>jobtitle</th>\n",
              "      <th>gender</th>\n",
              "      <th>age</th>\n",
              "      <th>performance</th>\n",
              "      <th>education</th>\n",
              "      <th>department</th>\n",
              "      <th>seniority</th>\n",
              "      <th>income</th>\n",
              "      <th>bonus</th>\n",
              "      <th>pay</th>\n",
              "    </tr>\n",
              "  </thead>\n",
              "  <tbody>\n",
              "    <tr>\n",
              "      <th>0</th>\n",
              "      <td>Graphic Designer</td>\n",
              "      <td>Female</td>\n",
              "      <td>18</td>\n",
              "      <td>5</td>\n",
              "      <td>College</td>\n",
              "      <td>Operations</td>\n",
              "      <td>2</td>\n",
              "      <td>42363</td>\n",
              "      <td>9938</td>\n",
              "      <td>52301</td>\n",
              "    </tr>\n",
              "    <tr>\n",
              "      <th>1</th>\n",
              "      <td>Software Engineer</td>\n",
              "      <td>Male</td>\n",
              "      <td>21</td>\n",
              "      <td>5</td>\n",
              "      <td>College</td>\n",
              "      <td>Management</td>\n",
              "      <td>5</td>\n",
              "      <td>108476</td>\n",
              "      <td>11128</td>\n",
              "      <td>119604</td>\n",
              "    </tr>\n",
              "    <tr>\n",
              "      <th>2</th>\n",
              "      <td>Warehouse Associate</td>\n",
              "      <td>Female</td>\n",
              "      <td>19</td>\n",
              "      <td>4</td>\n",
              "      <td>PhD</td>\n",
              "      <td>Administration</td>\n",
              "      <td>5</td>\n",
              "      <td>90208</td>\n",
              "      <td>9268</td>\n",
              "      <td>99476</td>\n",
              "    </tr>\n",
              "    <tr>\n",
              "      <th>3</th>\n",
              "      <td>Software Engineer</td>\n",
              "      <td>Male</td>\n",
              "      <td>20</td>\n",
              "      <td>5</td>\n",
              "      <td>Masters</td>\n",
              "      <td>Sales</td>\n",
              "      <td>4</td>\n",
              "      <td>108080</td>\n",
              "      <td>10154</td>\n",
              "      <td>118234</td>\n",
              "    </tr>\n",
              "    <tr>\n",
              "      <th>4</th>\n",
              "      <td>Graphic Designer</td>\n",
              "      <td>Male</td>\n",
              "      <td>26</td>\n",
              "      <td>5</td>\n",
              "      <td>Masters</td>\n",
              "      <td>Engineering</td>\n",
              "      <td>5</td>\n",
              "      <td>99464</td>\n",
              "      <td>9319</td>\n",
              "      <td>108783</td>\n",
              "    </tr>\n",
              "    <tr>\n",
              "      <th>...</th>\n",
              "      <td>...</td>\n",
              "      <td>...</td>\n",
              "      <td>...</td>\n",
              "      <td>...</td>\n",
              "      <td>...</td>\n",
              "      <td>...</td>\n",
              "      <td>...</td>\n",
              "      <td>...</td>\n",
              "      <td>...</td>\n",
              "      <td>...</td>\n",
              "    </tr>\n",
              "    <tr>\n",
              "      <th>995</th>\n",
              "      <td>Marketing Associate</td>\n",
              "      <td>Female</td>\n",
              "      <td>61</td>\n",
              "      <td>1</td>\n",
              "      <td>High School</td>\n",
              "      <td>Administration</td>\n",
              "      <td>1</td>\n",
              "      <td>62644</td>\n",
              "      <td>3270</td>\n",
              "      <td>65914</td>\n",
              "    </tr>\n",
              "    <tr>\n",
              "      <th>996</th>\n",
              "      <td>Data Scientist</td>\n",
              "      <td>Male</td>\n",
              "      <td>57</td>\n",
              "      <td>1</td>\n",
              "      <td>Masters</td>\n",
              "      <td>Sales</td>\n",
              "      <td>2</td>\n",
              "      <td>108977</td>\n",
              "      <td>3567</td>\n",
              "      <td>112544</td>\n",
              "    </tr>\n",
              "    <tr>\n",
              "      <th>997</th>\n",
              "      <td>Financial Analyst</td>\n",
              "      <td>Male</td>\n",
              "      <td>48</td>\n",
              "      <td>1</td>\n",
              "      <td>High School</td>\n",
              "      <td>Operations</td>\n",
              "      <td>1</td>\n",
              "      <td>92347</td>\n",
              "      <td>2724</td>\n",
              "      <td>95071</td>\n",
              "    </tr>\n",
              "    <tr>\n",
              "      <th>998</th>\n",
              "      <td>Financial Analyst</td>\n",
              "      <td>Male</td>\n",
              "      <td>65</td>\n",
              "      <td>2</td>\n",
              "      <td>High School</td>\n",
              "      <td>Administration</td>\n",
              "      <td>1</td>\n",
              "      <td>97376</td>\n",
              "      <td>2225</td>\n",
              "      <td>99601</td>\n",
              "    </tr>\n",
              "    <tr>\n",
              "      <th>999</th>\n",
              "      <td>Financial Analyst</td>\n",
              "      <td>Male</td>\n",
              "      <td>60</td>\n",
              "      <td>1</td>\n",
              "      <td>PhD</td>\n",
              "      <td>Sales</td>\n",
              "      <td>2</td>\n",
              "      <td>123108</td>\n",
              "      <td>2244</td>\n",
              "      <td>125352</td>\n",
              "    </tr>\n",
              "  </tbody>\n",
              "</table>\n",
              "<p>1000 rows × 10 columns</p>\n",
              "</div>\n",
              "      <button class=\"colab-df-convert\" onclick=\"convertToInteractive('df-5290b149-c304-4ced-a8a2-16b6659c35b9')\"\n",
              "              title=\"Convert this dataframe to an interactive table.\"\n",
              "              style=\"display:none;\">\n",
              "        \n",
              "  <svg xmlns=\"http://www.w3.org/2000/svg\" height=\"24px\"viewBox=\"0 0 24 24\"\n",
              "       width=\"24px\">\n",
              "    <path d=\"M0 0h24v24H0V0z\" fill=\"none\"/>\n",
              "    <path d=\"M18.56 5.44l.94 2.06.94-2.06 2.06-.94-2.06-.94-.94-2.06-.94 2.06-2.06.94zm-11 1L8.5 8.5l.94-2.06 2.06-.94-2.06-.94L8.5 2.5l-.94 2.06-2.06.94zm10 10l.94 2.06.94-2.06 2.06-.94-2.06-.94-.94-2.06-.94 2.06-2.06.94z\"/><path d=\"M17.41 7.96l-1.37-1.37c-.4-.4-.92-.59-1.43-.59-.52 0-1.04.2-1.43.59L10.3 9.45l-7.72 7.72c-.78.78-.78 2.05 0 2.83L4 21.41c.39.39.9.59 1.41.59.51 0 1.02-.2 1.41-.59l7.78-7.78 2.81-2.81c.8-.78.8-2.07 0-2.86zM5.41 20L4 18.59l7.72-7.72 1.47 1.35L5.41 20z\"/>\n",
              "  </svg>\n",
              "      </button>\n",
              "      \n",
              "  <style>\n",
              "    .colab-df-container {\n",
              "      display:flex;\n",
              "      flex-wrap:wrap;\n",
              "      gap: 12px;\n",
              "    }\n",
              "\n",
              "    .colab-df-convert {\n",
              "      background-color: #E8F0FE;\n",
              "      border: none;\n",
              "      border-radius: 50%;\n",
              "      cursor: pointer;\n",
              "      display: none;\n",
              "      fill: #1967D2;\n",
              "      height: 32px;\n",
              "      padding: 0 0 0 0;\n",
              "      width: 32px;\n",
              "    }\n",
              "\n",
              "    .colab-df-convert:hover {\n",
              "      background-color: #E2EBFA;\n",
              "      box-shadow: 0px 1px 2px rgba(60, 64, 67, 0.3), 0px 1px 3px 1px rgba(60, 64, 67, 0.15);\n",
              "      fill: #174EA6;\n",
              "    }\n",
              "\n",
              "    [theme=dark] .colab-df-convert {\n",
              "      background-color: #3B4455;\n",
              "      fill: #D2E3FC;\n",
              "    }\n",
              "\n",
              "    [theme=dark] .colab-df-convert:hover {\n",
              "      background-color: #434B5C;\n",
              "      box-shadow: 0px 1px 3px 1px rgba(0, 0, 0, 0.15);\n",
              "      filter: drop-shadow(0px 1px 2px rgba(0, 0, 0, 0.3));\n",
              "      fill: #FFFFFF;\n",
              "    }\n",
              "  </style>\n",
              "\n",
              "      <script>\n",
              "        const buttonEl =\n",
              "          document.querySelector('#df-5290b149-c304-4ced-a8a2-16b6659c35b9 button.colab-df-convert');\n",
              "        buttonEl.style.display =\n",
              "          google.colab.kernel.accessAllowed ? 'block' : 'none';\n",
              "\n",
              "        async function convertToInteractive(key) {\n",
              "          const element = document.querySelector('#df-5290b149-c304-4ced-a8a2-16b6659c35b9');\n",
              "          const dataTable =\n",
              "            await google.colab.kernel.invokeFunction('convertToInteractive',\n",
              "                                                     [key], {});\n",
              "          if (!dataTable) return;\n",
              "\n",
              "          const docLinkHtml = 'Like what you see? Visit the ' +\n",
              "            '<a target=\"_blank\" href=https://colab.research.google.com/notebooks/data_table.ipynb>data table notebook</a>'\n",
              "            + ' to learn more about interactive tables.';\n",
              "          element.innerHTML = '';\n",
              "          dataTable['output_type'] = 'display_data';\n",
              "          await google.colab.output.renderOutput(dataTable, element);\n",
              "          const docLink = document.createElement('div');\n",
              "          docLink.innerHTML = docLinkHtml;\n",
              "          element.appendChild(docLink);\n",
              "        }\n",
              "      </script>\n",
              "    </div>\n",
              "  </div>\n",
              "  "
            ]
          },
          "metadata": {},
          "execution_count": 17
        }
      ]
    },
    {
      "cell_type": "code",
      "metadata": {
        "colab": {
          "base_uri": "https://localhost:8080/"
        },
        "id": "VBcadm1HoHjG",
        "outputId": "7ed78c34-3303-43d5-c61b-8caa70d05b9e"
      },
      "source": [
        "model2 = 'pay~age + gender'\n",
        "lm2    = sm.ols(formula = model2, data = Data).fit()\n",
        "print(lm2.summary())"
      ],
      "execution_count": null,
      "outputs": [
        {
          "output_type": "stream",
          "name": "stdout",
          "text": [
            "                            OLS Regression Results                            \n",
            "==============================================================================\n",
            "Dep. Variable:                    pay   R-squared:                       0.319\n",
            "Model:                            OLS   Adj. R-squared:                  0.317\n",
            "Method:                 Least Squares   F-statistic:                     233.2\n",
            "Date:                Tue, 26 Jul 2022   Prob (F-statistic):           8.10e-84\n",
            "Time:                        01:10:36   Log-Likelihood:                -11359.\n",
            "No. Observations:                1000   AIC:                         2.272e+04\n",
            "Df Residuals:                     997   BIC:                         2.274e+04\n",
            "Df Model:                           2                                         \n",
            "Covariance Type:            nonrobust                                         \n",
            "==================================================================================\n",
            "                     coef    std err          t      P>|t|      [0.025      0.975]\n",
            "----------------------------------------------------------------------------------\n",
            "Intercept       5.674e+04   2151.480     26.373      0.000    5.25e+04     6.1e+04\n",
            "gender[T.Male]  9279.3180   1317.787      7.042      0.000    6693.364    1.19e+04\n",
            "age              948.5266     46.022     20.610      0.000     858.216    1038.837\n",
            "==============================================================================\n",
            "Omnibus:                        9.898   Durbin-Watson:                   1.871\n",
            "Prob(Omnibus):                  0.007   Jarque-Bera (JB):                9.345\n",
            "Skew:                           0.197   Prob(JB):                      0.00935\n",
            "Kurtosis:                       2.737   Cond. No.                         148.\n",
            "==============================================================================\n",
            "\n",
            "Warnings:\n",
            "[1] Standard Errors assume that the covariance matrix of the errors is correctly specified.\n"
          ]
        }
      ]
    },
    {
      "cell_type": "markdown",
      "metadata": {
        "id": "X14wVM7uoHjG"
      },
      "source": [
        "La interpretación del coeficiente de edad es la misma que antes: si la edad aumenta en un año, se espera que el salario aumente en 948,5 USD. Ahora, concéntrate en el coeficiente de género. Solo muestra masculino (T.male), porque la categoría femenina se toma como la categoría predeterminada. (Tenga en cuenta que la elección de la categoría predeterminada no importa; fácilmente podríamos haber elegido hacer masculino como categoría predeterminada y, por lo tanto, el coeficiente de género sería T.female). El coeficiente 9279.3180 se interpreta de la siguiente manera: para empleados de la misma edad, en promedio, los hombres ganan 9279,3180 USD más que las mujeres."
      ]
    },
    {
      "cell_type": "markdown",
      "metadata": {
        "id": "dv2gKHcmoHjI"
      },
      "source": [
        "## Modelo integrado teniendo en cuenta todas las variables (10 min)"
      ]
    },
    {
      "cell_type": "markdown",
      "metadata": {
        "id": "OWsNPzOAoHjJ"
      },
      "source": [
        "Consideremos todos los demás factores que podrían explicar las brechas salariales a la vez. ¿Qué puedes concluir ?:"
      ]
    },
    {
      "cell_type": "code",
      "metadata": {
        "colab": {
          "base_uri": "https://localhost:8080/"
        },
        "id": "GKJAK6TvoHjJ",
        "outputId": "0b654cd3-4b00-4b2a-ec75-98a6bbd22738"
      },
      "source": [
        "model4 = 'pay~jobtitle + age+ performance + education+department + seniority + gender'\n",
        "lm4    = sm.ols(formula = model4, data = Data).fit()\n",
        "print(lm4.summary())"
      ],
      "execution_count": null,
      "outputs": [
        {
          "output_type": "stream",
          "name": "stdout",
          "text": [
            "                            OLS Regression Results                            \n",
            "==============================================================================\n",
            "Dep. Variable:                    pay   R-squared:                       0.841\n",
            "Model:                            OLS   Adj. R-squared:                  0.838\n",
            "Method:                 Least Squares   F-statistic:                     259.6\n",
            "Date:                Tue, 26 Jul 2022   Prob (F-statistic):               0.00\n",
            "Time:                        01:15:07   Log-Likelihood:                -10631.\n",
            "No. Observations:                1000   AIC:                         2.130e+04\n",
            "Df Residuals:                     979   BIC:                         2.141e+04\n",
            "Df Model:                          20                                         \n",
            "Covariance Type:            nonrobust                                         \n",
            "===================================================================================================\n",
            "                                      coef    std err          t      P>|t|      [0.025      0.975]\n",
            "---------------------------------------------------------------------------------------------------\n",
            "Intercept                        2.203e+04   1933.534     11.392      0.000    1.82e+04    2.58e+04\n",
            "jobtitle[T.Driver]              -3928.9812   1447.166     -2.715      0.007   -6768.886   -1089.076\n",
            "jobtitle[T.Financial Analyst]    3417.7090   1388.276      2.462      0.014     693.370    6142.048\n",
            "jobtitle[T.Graphic Designer]    -2457.6992   1420.886     -1.730      0.084   -5246.031     330.633\n",
            "jobtitle[T.IT]                  -2149.7022   1427.414     -1.506      0.132   -4950.846     651.442\n",
            "jobtitle[T.Manager]               3.16e+04   1471.445     21.476      0.000    2.87e+04    3.45e+04\n",
            "jobtitle[T.Marketing Associate] -1.701e+04   1385.795    -12.277      0.000   -1.97e+04   -1.43e+04\n",
            "jobtitle[T.Sales Associate]       263.4456   1435.261      0.184      0.854   -2553.096    3079.988\n",
            "jobtitle[T.Software Engineer]    1.339e+04   1413.182      9.473      0.000    1.06e+04    1.62e+04\n",
            "jobtitle[T.Warehouse Associate]  -564.0171   1452.967     -0.388      0.698   -3415.305    2287.271\n",
            "education[T.High School]        -1435.1693    908.773     -1.579      0.115   -3218.536     348.198\n",
            "education[T.Masters]             4717.9971    914.421      5.160      0.000    2923.546    6512.448\n",
            "education[T.PhD]                 6026.2867    929.705      6.482      0.000    4201.842    7850.731\n",
            "department[T.Engineering]        3267.9358   1036.509      3.153      0.002    1233.901    5301.970\n",
            "department[T.Management]         2957.8290   1033.031      2.863      0.004     930.619    4985.039\n",
            "department[T.Operations]         -481.4968   1014.616     -0.475      0.635   -2472.570    1509.577\n",
            "department[T.Sales]              6193.4962   1020.679      6.068      0.000    4190.526    8196.466\n",
            "gender[T.Male]                    392.3244    715.798      0.548      0.584   -1012.351    1797.000\n",
            "age                               948.9464     22.527     42.126      0.000     904.740     993.152\n",
            "performance                      1156.8797    228.188      5.070      0.000     709.085    1604.674\n",
            "seniority                        9903.7103    231.490     42.782      0.000    9449.436    1.04e+04\n",
            "==============================================================================\n",
            "Omnibus:                        3.500   Durbin-Watson:                   1.982\n",
            "Prob(Omnibus):                  0.174   Jarque-Bera (JB):                3.555\n",
            "Skew:                          -0.130   Prob(JB):                        0.169\n",
            "Kurtosis:                       2.866   Cond. No.                         453.\n",
            "==============================================================================\n",
            "\n",
            "Warnings:\n",
            "[1] Standard Errors assume that the covariance matrix of the errors is correctly specified.\n"
          ]
        }
      ]
    },
    {
      "cell_type": "markdown",
      "metadata": {
        "id": "b0bdj7SjoHjL"
      },
      "source": [
        "\n",
        "## Conclusiones (5 min)\n",
        "\n",
        "Usamos las técnicas de regresión lineal para determinar si existía o no discriminación salarial basada en el género dentro de su organización. Modelamos el efecto de varias variables independientes (en este caso, antigüedad, edad, desempeño y cargo) para explicar la variación observada en una variable dependiente (en este caso, el salario). Observamos la estadística de $ R $ al cuadrado de nuestros modelos lineales para ayudarnos a medir qué porcentaje de la variación observada en el pago se explica por las variables independientes.\n",
        "\n",
        "Vimos que la diferencia en el salario promedio entre hombres y mujeres es de unos 8500 USD en estos datos. Sin embargo, esta diferencia se convirtió en 400 USD y es estadísticamente indistinguible (valor $ p $ = 0.584) de cero después de controlar los otros factores correlacionados con el salario. Sin embargo, una exploración más profunda de los datos sugirió que las mujeres están desproporcionadamente sobrerrepresentadas en los trabajos peor pagados, mientras que los hombres están desproporcionadamente sobrerrepresentados en los trabajos mejor pagados.\n",
        "\n",
        "Por lo tanto, se justifica una investigación sobre las prácticas de contratación, promoción y colocación laboral de hombres y mujeres. En su informe al departamento de recursos humanos, debe pedirles que analicen las siguientes preguntas:\n",
        "1. ¿Las mujeres eligen o se ven obligadas a aceptar trabajos peor pagados?\n",
        "2. ¿Se discrimina a las mujeres en los procesos de contratación para trabajos mejor remunerados?"
      ]
    },
    {
      "cell_type": "markdown",
      "metadata": {
        "id": "EPoo_HkgoHjM"
      },
      "source": [
        "## Para llevar (7 min)\n",
        "En este caso, aprendió cómo aprovechar sus habilidades en el análisis de datos exploratorios para construir un modelo lineal efectivo que tuvo en cuenta varios factores relacionados con el resultado de interés (pago). Fundamentalmente, aprendimos que:\n",
        "\n",
        "1. No es suficiente mirar directamente la relación entre el resultado de interés y la variable independiente de interés; puede haber varios factores de confusión.\n",
        "2. Llevar a cabo la EDA antes de construir cualquier modelo es importante para descubrir y tener en cuenta estos factores de confusión que podrían estar impulsando las diferencias en el resultado de interés.\n",
        "3. $R$ al cuadrado es una cantidad importante que explica qué tan bien su modelo explicó la variación observada. Se puede utilizar para comparar diferentes modelos.\n",
        "4. Analizar los coeficientes de una regresión lineal para comprender cómo los diversos parámetros impactan en el resultado final es extremadamente importante; esta interpretabilidad es una parte clave de la traducción de datos en acciones comerciales.\n",
        "\n",
        "En estos días, los medios destacan constantemente los algoritmos de aprendizaje automático más avanzados, como las redes neuronales. Es importante que reconozca el inmenso valor de la regresión lineal, en particular por sus capacidades de inferencia e interpretabilidad. Si bien las redes neuronales pueden superar la regresión lineal en ciertas tareas, es mucho más una caja negra y comprender cómo los datos hacen que el modelo reaccione es extremadamente importante en la mayoría de los escenarios comerciales."
      ]
    }
  ]
}
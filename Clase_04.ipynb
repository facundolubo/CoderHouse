{
  "nbformat": 4,
  "nbformat_minor": 0,
  "metadata": {
    "colab": {
      "provenance": [],
      "include_colab_link": true
    },
    "kernelspec": {
      "name": "python3",
      "display_name": "Python 3"
    },
    "language_info": {
      "name": "python"
    }
  },
  "cells": [
    {
      "cell_type": "markdown",
      "metadata": {
        "id": "view-in-github",
        "colab_type": "text"
      },
      "source": [
        "<a href=\"https://colab.research.google.com/github/facundolubo/CoderHouse/blob/main/Clase_04.ipynb\" target=\"_parent\"><img src=\"https://colab.research.google.com/assets/colab-badge.svg\" alt=\"Open In Colab\"/></a>"
      ]
    },
    {
      "cell_type": "markdown",
      "source": [
        "# Parte 1 Clase"
      ],
      "metadata": {
        "id": "2AX_XkUmZ6sJ"
      }
    },
    {
      "cell_type": "markdown",
      "source": [
        "## Series"
      ],
      "metadata": {
        "id": "csi6o_tRael3"
      }
    },
    {
      "cell_type": "code",
      "source": [
        "import pandas as pd\n",
        "Numeros = range(50, 70, 2)\n",
        "Numeros"
      ],
      "metadata": {
        "colab": {
          "base_uri": "https://localhost:8080/"
        },
        "id": "uCHXDo8YjOGl",
        "outputId": "bbddb847-b8d7-45ad-aa8a-c19875547fe1"
      },
      "execution_count": null,
      "outputs": [
        {
          "output_type": "execute_result",
          "data": {
            "text/plain": [
              "range(50, 70, 2)"
            ]
          },
          "metadata": {},
          "execution_count": 1
        }
      ]
    },
    {
      "cell_type": "code",
      "source": [
        "pd.Series?"
      ],
      "metadata": {
        "id": "ApTHvikZjSmw"
      },
      "execution_count": null,
      "outputs": []
    },
    {
      "cell_type": "code",
      "source": [
        "import pandas as pd\n",
        "Numeros = range(50, 70, 2)\n",
        "Numeros_serie = pd.Series(data=Numeros)\n",
        "print(Numeros_serie)"
      ],
      "metadata": {
        "colab": {
          "base_uri": "https://localhost:8080/"
        },
        "id": "_K00Y-9qZ9uo",
        "outputId": "c51b5693-2938-44e8-b626-7bc4aa0645d9"
      },
      "execution_count": null,
      "outputs": [
        {
          "output_type": "stream",
          "name": "stdout",
          "text": [
            "0    50\n",
            "1    52\n",
            "2    54\n",
            "3    56\n",
            "4    58\n",
            "5    60\n",
            "6    62\n",
            "7    64\n",
            "8    66\n",
            "9    68\n",
            "dtype: int64\n"
          ]
        }
      ]
    },
    {
      "cell_type": "code",
      "source": [
        "print(Numeros_serie.index)"
      ],
      "metadata": {
        "colab": {
          "base_uri": "https://localhost:8080/"
        },
        "id": "9Y1-VYPpaIl-",
        "outputId": "df8e6506-7744-44cd-ffa9-bf8e615e60a8"
      },
      "execution_count": null,
      "outputs": [
        {
          "output_type": "stream",
          "name": "stdout",
          "text": [
            "RangeIndex(start=0, stop=10, step=1)\n"
          ]
        }
      ]
    },
    {
      "cell_type": "code",
      "source": [
        "print(Numeros_serie.values)"
      ],
      "metadata": {
        "colab": {
          "base_uri": "https://localhost:8080/"
        },
        "id": "jm6NEScbaMYH",
        "outputId": "37a69b0d-68ef-49cf-f593-ffbf6cf80a83"
      },
      "execution_count": null,
      "outputs": [
        {
          "output_type": "stream",
          "name": "stdout",
          "text": [
            "[50 52 54 56 58 60 62 64 66 68]\n"
          ]
        }
      ]
    },
    {
      "cell_type": "code",
      "source": [
        "pd.Series?"
      ],
      "metadata": {
        "id": "SGVYPDR1aX5c"
      },
      "execution_count": null,
      "outputs": []
    },
    {
      "cell_type": "code",
      "source": [
        "Numeros_en_texto = ['primero','segundo','tercero','cuarto','quinto','sexto','séptimo','octavo','noveno','décimo']\n",
        "Numeros_serie_2 = pd.Series(data=Numeros,index=Numeros_en_texto,name='David')\n",
        "Numeros_serie_2"
      ],
      "metadata": {
        "colab": {
          "base_uri": "https://localhost:8080/"
        },
        "id": "poUQ-rb8aUtw",
        "outputId": "b86621a1-6f5a-4adf-e52d-4b610847adf9"
      },
      "execution_count": null,
      "outputs": [
        {
          "output_type": "execute_result",
          "data": {
            "text/plain": [
              "primero    50\n",
              "segundo    52\n",
              "tercero    54\n",
              "cuarto     56\n",
              "quinto     58\n",
              "sexto      60\n",
              "séptimo    62\n",
              "octavo     64\n",
              "noveno     66\n",
              "décimo     68\n",
              "Name: David, dtype: int64"
            ]
          },
          "metadata": {},
          "execution_count": 16
        }
      ]
    },
    {
      "cell_type": "code",
      "source": [
        "type(Numeros_serie_2.index)"
      ],
      "metadata": {
        "colab": {
          "base_uri": "https://localhost:8080/"
        },
        "id": "hyMoo_qyksWz",
        "outputId": "6ef5db94-6b66-4f43-f850-964debeb63a2"
      },
      "execution_count": null,
      "outputs": [
        {
          "output_type": "execute_result",
          "data": {
            "text/plain": [
              "pandas.core.indexes.base.Index"
            ]
          },
          "metadata": {},
          "execution_count": 13
        }
      ]
    },
    {
      "cell_type": "markdown",
      "source": [
        "## Dataframes"
      ],
      "metadata": {
        "id": "ahCUFBAEag1R"
      }
    },
    {
      "cell_type": "code",
      "source": [
        "modelos = ['A4 3.0 Quattro 4dr manual',\n",
        " 'A4 3.0 Quattro 4dr auto',\n",
        " 'A6 3.0 4dr',\n",
        " 'A6 3.0 Quattro 4dr',\n",
        " 'A4 3.0 convertible 2dr']\n",
        "peso = [3583, 3627, 3561, 3880, 3814]\n",
        "precios = ['$33,430', '$34,480', '$36,640', '$39,640', '$42,490']"
      ],
      "metadata": {
        "id": "BBwZyNBmaibF"
      },
      "execution_count": null,
      "outputs": []
    },
    {
      "cell_type": "code",
      "source": [
        "Autos_peso = pd.Series(data=peso,index=modelos)\n",
        "Autos_precio = pd.Series(data=precios,index=modelos) \n",
        "Autos_precio"
      ],
      "metadata": {
        "colab": {
          "base_uri": "https://localhost:8080/"
        },
        "id": "6KJQ9uCFaoH4",
        "outputId": "17d9cd78-d425-4821-aa4a-6465118bb87e"
      },
      "execution_count": null,
      "outputs": [
        {
          "output_type": "execute_result",
          "data": {
            "text/plain": [
              "A4 3.0 Quattro 4dr manual    $33,430\n",
              "A4 3.0 Quattro 4dr auto      $34,480\n",
              "A6 3.0 4dr                   $36,640\n",
              "A6 3.0 Quattro 4dr           $39,640\n",
              "A4 3.0 convertible 2dr       $42,490\n",
              "dtype: object"
            ]
          },
          "metadata": {},
          "execution_count": 18
        }
      ]
    },
    {
      "cell_type": "code",
      "source": [
        "Autos_peso"
      ],
      "metadata": {
        "colab": {
          "base_uri": "https://localhost:8080/"
        },
        "id": "Bom5IsNmmA7x",
        "outputId": "7297987f-b6ab-4226-db9f-9ca636c06a60"
      },
      "execution_count": null,
      "outputs": [
        {
          "output_type": "execute_result",
          "data": {
            "text/plain": [
              "A4 3.0 Quattro 4dr manual    3583\n",
              "A4 3.0 Quattro 4dr auto      3627\n",
              "A6 3.0 4dr                   3561\n",
              "A6 3.0 Quattro 4dr           3880\n",
              "A4 3.0 convertible 2dr       3814\n",
              "dtype: int64"
            ]
          },
          "metadata": {},
          "execution_count": 19
        }
      ]
    },
    {
      "cell_type": "code",
      "source": [
        "Autos = pd.DataFrame(data={'Peso':Autos_peso,'Precio':Autos_precio})\n",
        "Autos"
      ],
      "metadata": {
        "colab": {
          "base_uri": "https://localhost:8080/",
          "height": 206
        },
        "id": "1hd579_5avqU",
        "outputId": "e642eec8-6589-45b6-8911-1375ca7da9d6"
      },
      "execution_count": null,
      "outputs": [
        {
          "output_type": "execute_result",
          "data": {
            "text/plain": [
              "                           Peso   Precio\n",
              "A4 3.0 Quattro 4dr manual  3583  $33,430\n",
              "A4 3.0 Quattro 4dr auto    3627  $34,480\n",
              "A6 3.0 4dr                 3561  $36,640\n",
              "A6 3.0 Quattro 4dr         3880  $39,640\n",
              "A4 3.0 convertible 2dr     3814  $42,490"
            ],
            "text/html": [
              "\n",
              "  <div id=\"df-ac39a2e2-6efe-4156-9673-8ad126c9b73d\">\n",
              "    <div class=\"colab-df-container\">\n",
              "      <div>\n",
              "<style scoped>\n",
              "    .dataframe tbody tr th:only-of-type {\n",
              "        vertical-align: middle;\n",
              "    }\n",
              "\n",
              "    .dataframe tbody tr th {\n",
              "        vertical-align: top;\n",
              "    }\n",
              "\n",
              "    .dataframe thead th {\n",
              "        text-align: right;\n",
              "    }\n",
              "</style>\n",
              "<table border=\"1\" class=\"dataframe\">\n",
              "  <thead>\n",
              "    <tr style=\"text-align: right;\">\n",
              "      <th></th>\n",
              "      <th>Peso</th>\n",
              "      <th>Precio</th>\n",
              "    </tr>\n",
              "  </thead>\n",
              "  <tbody>\n",
              "    <tr>\n",
              "      <th>A4 3.0 Quattro 4dr manual</th>\n",
              "      <td>3583</td>\n",
              "      <td>$33,430</td>\n",
              "    </tr>\n",
              "    <tr>\n",
              "      <th>A4 3.0 Quattro 4dr auto</th>\n",
              "      <td>3627</td>\n",
              "      <td>$34,480</td>\n",
              "    </tr>\n",
              "    <tr>\n",
              "      <th>A6 3.0 4dr</th>\n",
              "      <td>3561</td>\n",
              "      <td>$36,640</td>\n",
              "    </tr>\n",
              "    <tr>\n",
              "      <th>A6 3.0 Quattro 4dr</th>\n",
              "      <td>3880</td>\n",
              "      <td>$39,640</td>\n",
              "    </tr>\n",
              "    <tr>\n",
              "      <th>A4 3.0 convertible 2dr</th>\n",
              "      <td>3814</td>\n",
              "      <td>$42,490</td>\n",
              "    </tr>\n",
              "  </tbody>\n",
              "</table>\n",
              "</div>\n",
              "      <button class=\"colab-df-convert\" onclick=\"convertToInteractive('df-ac39a2e2-6efe-4156-9673-8ad126c9b73d')\"\n",
              "              title=\"Convert this dataframe to an interactive table.\"\n",
              "              style=\"display:none;\">\n",
              "        \n",
              "  <svg xmlns=\"http://www.w3.org/2000/svg\" height=\"24px\"viewBox=\"0 0 24 24\"\n",
              "       width=\"24px\">\n",
              "    <path d=\"M0 0h24v24H0V0z\" fill=\"none\"/>\n",
              "    <path d=\"M18.56 5.44l.94 2.06.94-2.06 2.06-.94-2.06-.94-.94-2.06-.94 2.06-2.06.94zm-11 1L8.5 8.5l.94-2.06 2.06-.94-2.06-.94L8.5 2.5l-.94 2.06-2.06.94zm10 10l.94 2.06.94-2.06 2.06-.94-2.06-.94-.94-2.06-.94 2.06-2.06.94z\"/><path d=\"M17.41 7.96l-1.37-1.37c-.4-.4-.92-.59-1.43-.59-.52 0-1.04.2-1.43.59L10.3 9.45l-7.72 7.72c-.78.78-.78 2.05 0 2.83L4 21.41c.39.39.9.59 1.41.59.51 0 1.02-.2 1.41-.59l7.78-7.78 2.81-2.81c.8-.78.8-2.07 0-2.86zM5.41 20L4 18.59l7.72-7.72 1.47 1.35L5.41 20z\"/>\n",
              "  </svg>\n",
              "      </button>\n",
              "      \n",
              "  <style>\n",
              "    .colab-df-container {\n",
              "      display:flex;\n",
              "      flex-wrap:wrap;\n",
              "      gap: 12px;\n",
              "    }\n",
              "\n",
              "    .colab-df-convert {\n",
              "      background-color: #E8F0FE;\n",
              "      border: none;\n",
              "      border-radius: 50%;\n",
              "      cursor: pointer;\n",
              "      display: none;\n",
              "      fill: #1967D2;\n",
              "      height: 32px;\n",
              "      padding: 0 0 0 0;\n",
              "      width: 32px;\n",
              "    }\n",
              "\n",
              "    .colab-df-convert:hover {\n",
              "      background-color: #E2EBFA;\n",
              "      box-shadow: 0px 1px 2px rgba(60, 64, 67, 0.3), 0px 1px 3px 1px rgba(60, 64, 67, 0.15);\n",
              "      fill: #174EA6;\n",
              "    }\n",
              "\n",
              "    [theme=dark] .colab-df-convert {\n",
              "      background-color: #3B4455;\n",
              "      fill: #D2E3FC;\n",
              "    }\n",
              "\n",
              "    [theme=dark] .colab-df-convert:hover {\n",
              "      background-color: #434B5C;\n",
              "      box-shadow: 0px 1px 3px 1px rgba(0, 0, 0, 0.15);\n",
              "      filter: drop-shadow(0px 1px 2px rgba(0, 0, 0, 0.3));\n",
              "      fill: #FFFFFF;\n",
              "    }\n",
              "  </style>\n",
              "\n",
              "      <script>\n",
              "        const buttonEl =\n",
              "          document.querySelector('#df-ac39a2e2-6efe-4156-9673-8ad126c9b73d button.colab-df-convert');\n",
              "        buttonEl.style.display =\n",
              "          google.colab.kernel.accessAllowed ? 'block' : 'none';\n",
              "\n",
              "        async function convertToInteractive(key) {\n",
              "          const element = document.querySelector('#df-ac39a2e2-6efe-4156-9673-8ad126c9b73d');\n",
              "          const dataTable =\n",
              "            await google.colab.kernel.invokeFunction('convertToInteractive',\n",
              "                                                     [key], {});\n",
              "          if (!dataTable) return;\n",
              "\n",
              "          const docLinkHtml = 'Like what you see? Visit the ' +\n",
              "            '<a target=\"_blank\" href=https://colab.research.google.com/notebooks/data_table.ipynb>data table notebook</a>'\n",
              "            + ' to learn more about interactive tables.';\n",
              "          element.innerHTML = '';\n",
              "          dataTable['output_type'] = 'display_data';\n",
              "          await google.colab.output.renderOutput(dataTable, element);\n",
              "          const docLink = document.createElement('div');\n",
              "          docLink.innerHTML = docLinkHtml;\n",
              "          element.appendChild(docLink);\n",
              "        }\n",
              "      </script>\n",
              "    </div>\n",
              "  </div>\n",
              "  "
            ]
          },
          "metadata": {},
          "execution_count": 20
        }
      ]
    },
    {
      "cell_type": "code",
      "source": [
        "type(Autos)"
      ],
      "metadata": {
        "colab": {
          "base_uri": "https://localhost:8080/"
        },
        "id": "IKwwM7EdmQr-",
        "outputId": "73905717-7840-4108-d849-f328cd2c47aa"
      },
      "execution_count": null,
      "outputs": [
        {
          "output_type": "execute_result",
          "data": {
            "text/plain": [
              "pandas.core.frame.DataFrame"
            ]
          },
          "metadata": {},
          "execution_count": 21
        }
      ]
    },
    {
      "cell_type": "code",
      "source": [
        "import numpy as np\n",
        "Ajedrez_64 =np.arange(1,65).reshape(8,8)\n",
        "Ajedrez_64"
      ],
      "metadata": {
        "colab": {
          "base_uri": "https://localhost:8080/"
        },
        "id": "x-udX31Dmuw8",
        "outputId": "7163246b-049c-431e-86d0-2d12ff5c77fe"
      },
      "execution_count": null,
      "outputs": [
        {
          "output_type": "execute_result",
          "data": {
            "text/plain": [
              "array([[ 1,  2,  3,  4,  5,  6,  7,  8],\n",
              "       [ 9, 10, 11, 12, 13, 14, 15, 16],\n",
              "       [17, 18, 19, 20, 21, 22, 23, 24],\n",
              "       [25, 26, 27, 28, 29, 30, 31, 32],\n",
              "       [33, 34, 35, 36, 37, 38, 39, 40],\n",
              "       [41, 42, 43, 44, 45, 46, 47, 48],\n",
              "       [49, 50, 51, 52, 53, 54, 55, 56],\n",
              "       [57, 58, 59, 60, 61, 62, 63, 64]])"
            ]
          },
          "metadata": {},
          "execution_count": 25
        }
      ]
    },
    {
      "cell_type": "code",
      "source": [
        "pd.DataFrame?"
      ],
      "metadata": {
        "id": "1RFuGTXgm-ZH"
      },
      "execution_count": null,
      "outputs": []
    },
    {
      "cell_type": "code",
      "source": [
        "import numpy as np\n",
        "Ajedrez_64 = np.arange(1,65).reshape(8,8)\n",
        "Ajedrez_df = pd.DataFrame(data=Ajedrez_64,columns=range(1,9),index=['A','B','C','D','E','F','G','H']) \n",
        "Ajedrez_df"
      ],
      "metadata": {
        "colab": {
          "base_uri": "https://localhost:8080/",
          "height": 300
        },
        "id": "5zkWu7yka2cv",
        "outputId": "57fee940-29e5-462e-fbd2-367ec801bc10"
      },
      "execution_count": null,
      "outputs": [
        {
          "output_type": "execute_result",
          "data": {
            "text/plain": [
              "    1   2   3   4   5   6   7   8\n",
              "A   1   2   3   4   5   6   7   8\n",
              "B   9  10  11  12  13  14  15  16\n",
              "C  17  18  19  20  21  22  23  24\n",
              "D  25  26  27  28  29  30  31  32\n",
              "E  33  34  35  36  37  38  39  40\n",
              "F  41  42  43  44  45  46  47  48\n",
              "G  49  50  51  52  53  54  55  56\n",
              "H  57  58  59  60  61  62  63  64"
            ],
            "text/html": [
              "\n",
              "  <div id=\"df-90ed013c-491e-4dc2-ae0e-9fb7052f1ccf\">\n",
              "    <div class=\"colab-df-container\">\n",
              "      <div>\n",
              "<style scoped>\n",
              "    .dataframe tbody tr th:only-of-type {\n",
              "        vertical-align: middle;\n",
              "    }\n",
              "\n",
              "    .dataframe tbody tr th {\n",
              "        vertical-align: top;\n",
              "    }\n",
              "\n",
              "    .dataframe thead th {\n",
              "        text-align: right;\n",
              "    }\n",
              "</style>\n",
              "<table border=\"1\" class=\"dataframe\">\n",
              "  <thead>\n",
              "    <tr style=\"text-align: right;\">\n",
              "      <th></th>\n",
              "      <th>1</th>\n",
              "      <th>2</th>\n",
              "      <th>3</th>\n",
              "      <th>4</th>\n",
              "      <th>5</th>\n",
              "      <th>6</th>\n",
              "      <th>7</th>\n",
              "      <th>8</th>\n",
              "    </tr>\n",
              "  </thead>\n",
              "  <tbody>\n",
              "    <tr>\n",
              "      <th>A</th>\n",
              "      <td>1</td>\n",
              "      <td>2</td>\n",
              "      <td>3</td>\n",
              "      <td>4</td>\n",
              "      <td>5</td>\n",
              "      <td>6</td>\n",
              "      <td>7</td>\n",
              "      <td>8</td>\n",
              "    </tr>\n",
              "    <tr>\n",
              "      <th>B</th>\n",
              "      <td>9</td>\n",
              "      <td>10</td>\n",
              "      <td>11</td>\n",
              "      <td>12</td>\n",
              "      <td>13</td>\n",
              "      <td>14</td>\n",
              "      <td>15</td>\n",
              "      <td>16</td>\n",
              "    </tr>\n",
              "    <tr>\n",
              "      <th>C</th>\n",
              "      <td>17</td>\n",
              "      <td>18</td>\n",
              "      <td>19</td>\n",
              "      <td>20</td>\n",
              "      <td>21</td>\n",
              "      <td>22</td>\n",
              "      <td>23</td>\n",
              "      <td>24</td>\n",
              "    </tr>\n",
              "    <tr>\n",
              "      <th>D</th>\n",
              "      <td>25</td>\n",
              "      <td>26</td>\n",
              "      <td>27</td>\n",
              "      <td>28</td>\n",
              "      <td>29</td>\n",
              "      <td>30</td>\n",
              "      <td>31</td>\n",
              "      <td>32</td>\n",
              "    </tr>\n",
              "    <tr>\n",
              "      <th>E</th>\n",
              "      <td>33</td>\n",
              "      <td>34</td>\n",
              "      <td>35</td>\n",
              "      <td>36</td>\n",
              "      <td>37</td>\n",
              "      <td>38</td>\n",
              "      <td>39</td>\n",
              "      <td>40</td>\n",
              "    </tr>\n",
              "    <tr>\n",
              "      <th>F</th>\n",
              "      <td>41</td>\n",
              "      <td>42</td>\n",
              "      <td>43</td>\n",
              "      <td>44</td>\n",
              "      <td>45</td>\n",
              "      <td>46</td>\n",
              "      <td>47</td>\n",
              "      <td>48</td>\n",
              "    </tr>\n",
              "    <tr>\n",
              "      <th>G</th>\n",
              "      <td>49</td>\n",
              "      <td>50</td>\n",
              "      <td>51</td>\n",
              "      <td>52</td>\n",
              "      <td>53</td>\n",
              "      <td>54</td>\n",
              "      <td>55</td>\n",
              "      <td>56</td>\n",
              "    </tr>\n",
              "    <tr>\n",
              "      <th>H</th>\n",
              "      <td>57</td>\n",
              "      <td>58</td>\n",
              "      <td>59</td>\n",
              "      <td>60</td>\n",
              "      <td>61</td>\n",
              "      <td>62</td>\n",
              "      <td>63</td>\n",
              "      <td>64</td>\n",
              "    </tr>\n",
              "  </tbody>\n",
              "</table>\n",
              "</div>\n",
              "      <button class=\"colab-df-convert\" onclick=\"convertToInteractive('df-90ed013c-491e-4dc2-ae0e-9fb7052f1ccf')\"\n",
              "              title=\"Convert this dataframe to an interactive table.\"\n",
              "              style=\"display:none;\">\n",
              "        \n",
              "  <svg xmlns=\"http://www.w3.org/2000/svg\" height=\"24px\"viewBox=\"0 0 24 24\"\n",
              "       width=\"24px\">\n",
              "    <path d=\"M0 0h24v24H0V0z\" fill=\"none\"/>\n",
              "    <path d=\"M18.56 5.44l.94 2.06.94-2.06 2.06-.94-2.06-.94-.94-2.06-.94 2.06-2.06.94zm-11 1L8.5 8.5l.94-2.06 2.06-.94-2.06-.94L8.5 2.5l-.94 2.06-2.06.94zm10 10l.94 2.06.94-2.06 2.06-.94-2.06-.94-.94-2.06-.94 2.06-2.06.94z\"/><path d=\"M17.41 7.96l-1.37-1.37c-.4-.4-.92-.59-1.43-.59-.52 0-1.04.2-1.43.59L10.3 9.45l-7.72 7.72c-.78.78-.78 2.05 0 2.83L4 21.41c.39.39.9.59 1.41.59.51 0 1.02-.2 1.41-.59l7.78-7.78 2.81-2.81c.8-.78.8-2.07 0-2.86zM5.41 20L4 18.59l7.72-7.72 1.47 1.35L5.41 20z\"/>\n",
              "  </svg>\n",
              "      </button>\n",
              "      \n",
              "  <style>\n",
              "    .colab-df-container {\n",
              "      display:flex;\n",
              "      flex-wrap:wrap;\n",
              "      gap: 12px;\n",
              "    }\n",
              "\n",
              "    .colab-df-convert {\n",
              "      background-color: #E8F0FE;\n",
              "      border: none;\n",
              "      border-radius: 50%;\n",
              "      cursor: pointer;\n",
              "      display: none;\n",
              "      fill: #1967D2;\n",
              "      height: 32px;\n",
              "      padding: 0 0 0 0;\n",
              "      width: 32px;\n",
              "    }\n",
              "\n",
              "    .colab-df-convert:hover {\n",
              "      background-color: #E2EBFA;\n",
              "      box-shadow: 0px 1px 2px rgba(60, 64, 67, 0.3), 0px 1px 3px 1px rgba(60, 64, 67, 0.15);\n",
              "      fill: #174EA6;\n",
              "    }\n",
              "\n",
              "    [theme=dark] .colab-df-convert {\n",
              "      background-color: #3B4455;\n",
              "      fill: #D2E3FC;\n",
              "    }\n",
              "\n",
              "    [theme=dark] .colab-df-convert:hover {\n",
              "      background-color: #434B5C;\n",
              "      box-shadow: 0px 1px 3px 1px rgba(0, 0, 0, 0.15);\n",
              "      filter: drop-shadow(0px 1px 2px rgba(0, 0, 0, 0.3));\n",
              "      fill: #FFFFFF;\n",
              "    }\n",
              "  </style>\n",
              "\n",
              "      <script>\n",
              "        const buttonEl =\n",
              "          document.querySelector('#df-90ed013c-491e-4dc2-ae0e-9fb7052f1ccf button.colab-df-convert');\n",
              "        buttonEl.style.display =\n",
              "          google.colab.kernel.accessAllowed ? 'block' : 'none';\n",
              "\n",
              "        async function convertToInteractive(key) {\n",
              "          const element = document.querySelector('#df-90ed013c-491e-4dc2-ae0e-9fb7052f1ccf');\n",
              "          const dataTable =\n",
              "            await google.colab.kernel.invokeFunction('convertToInteractive',\n",
              "                                                     [key], {});\n",
              "          if (!dataTable) return;\n",
              "\n",
              "          const docLinkHtml = 'Like what you see? Visit the ' +\n",
              "            '<a target=\"_blank\" href=https://colab.research.google.com/notebooks/data_table.ipynb>data table notebook</a>'\n",
              "            + ' to learn more about interactive tables.';\n",
              "          element.innerHTML = '';\n",
              "          dataTable['output_type'] = 'display_data';\n",
              "          await google.colab.output.renderOutput(dataTable, element);\n",
              "          const docLink = document.createElement('div');\n",
              "          docLink.innerHTML = docLinkHtml;\n",
              "          element.appendChild(docLink);\n",
              "        }\n",
              "      </script>\n",
              "    </div>\n",
              "  </div>\n",
              "  "
            ]
          },
          "metadata": {},
          "execution_count": 27
        }
      ]
    },
    {
      "cell_type": "markdown",
      "source": [
        "## Seleccion de datos"
      ],
      "metadata": {
        "id": "fl31bjjRbBGy"
      }
    },
    {
      "cell_type": "code",
      "source": [
        "print(Numeros_serie_2)"
      ],
      "metadata": {
        "colab": {
          "base_uri": "https://localhost:8080/"
        },
        "id": "3A45LsVabIN4",
        "outputId": "e293fd97-4066-4df3-dfcf-518adeaa4b2d"
      },
      "execution_count": null,
      "outputs": [
        {
          "output_type": "stream",
          "name": "stdout",
          "text": [
            "primero    50\n",
            "segundo    52\n",
            "tercero    54\n",
            "cuarto     56\n",
            "quinto     58\n",
            "sexto      60\n",
            "séptimo    62\n",
            "octavo     64\n",
            "noveno     66\n",
            "décimo     68\n",
            "Name: David, dtype: int64\n"
          ]
        }
      ]
    },
    {
      "cell_type": "code",
      "source": [
        "Numeros_serie_2['quinto']"
      ],
      "metadata": {
        "colab": {
          "base_uri": "https://localhost:8080/"
        },
        "id": "FyIy5fltbDeM",
        "outputId": "58154c67-6a70-441f-c5fa-6aa078505418"
      },
      "execution_count": null,
      "outputs": [
        {
          "output_type": "execute_result",
          "data": {
            "text/plain": [
              "58"
            ]
          },
          "metadata": {},
          "execution_count": 29
        }
      ]
    },
    {
      "cell_type": "code",
      "source": [
        "Numeros_serie_2.loc['quinto']"
      ],
      "metadata": {
        "colab": {
          "base_uri": "https://localhost:8080/"
        },
        "id": "pCPCsDyGbHA_",
        "outputId": "a26f2d0d-1156-4f75-f886-ffa1a1476e6f"
      },
      "execution_count": null,
      "outputs": [
        {
          "output_type": "execute_result",
          "data": {
            "text/plain": [
              "58"
            ]
          },
          "metadata": {},
          "execution_count": 30
        }
      ]
    },
    {
      "cell_type": "code",
      "source": [
        "Numeros_serie_2.iloc[4]"
      ],
      "metadata": {
        "colab": {
          "base_uri": "https://localhost:8080/"
        },
        "id": "G0TslLzdbMtq",
        "outputId": "46a2eb85-479f-4a82-dacd-ad83e7ae63d2"
      },
      "execution_count": null,
      "outputs": [
        {
          "output_type": "execute_result",
          "data": {
            "text/plain": [
              "58"
            ]
          },
          "metadata": {},
          "execution_count": 31
        }
      ]
    },
    {
      "cell_type": "code",
      "source": [
        "Autos"
      ],
      "metadata": {
        "colab": {
          "base_uri": "https://localhost:8080/",
          "height": 206
        },
        "id": "PaROcFojoitA",
        "outputId": "cdd69fae-bea7-4eb8-e30f-58b656b56024"
      },
      "execution_count": null,
      "outputs": [
        {
          "output_type": "execute_result",
          "data": {
            "text/plain": [
              "                           Peso   Precio\n",
              "A4 3.0 Quattro 4dr manual  3583  $33,430\n",
              "A4 3.0 Quattro 4dr auto    3627  $34,480\n",
              "A6 3.0 4dr                 3561  $36,640\n",
              "A6 3.0 Quattro 4dr         3880  $39,640\n",
              "A4 3.0 convertible 2dr     3814  $42,490"
            ],
            "text/html": [
              "\n",
              "  <div id=\"df-6e260aae-68bb-49ce-bd94-e028a865846f\">\n",
              "    <div class=\"colab-df-container\">\n",
              "      <div>\n",
              "<style scoped>\n",
              "    .dataframe tbody tr th:only-of-type {\n",
              "        vertical-align: middle;\n",
              "    }\n",
              "\n",
              "    .dataframe tbody tr th {\n",
              "        vertical-align: top;\n",
              "    }\n",
              "\n",
              "    .dataframe thead th {\n",
              "        text-align: right;\n",
              "    }\n",
              "</style>\n",
              "<table border=\"1\" class=\"dataframe\">\n",
              "  <thead>\n",
              "    <tr style=\"text-align: right;\">\n",
              "      <th></th>\n",
              "      <th>Peso</th>\n",
              "      <th>Precio</th>\n",
              "    </tr>\n",
              "  </thead>\n",
              "  <tbody>\n",
              "    <tr>\n",
              "      <th>A4 3.0 Quattro 4dr manual</th>\n",
              "      <td>3583</td>\n",
              "      <td>$33,430</td>\n",
              "    </tr>\n",
              "    <tr>\n",
              "      <th>A4 3.0 Quattro 4dr auto</th>\n",
              "      <td>3627</td>\n",
              "      <td>$34,480</td>\n",
              "    </tr>\n",
              "    <tr>\n",
              "      <th>A6 3.0 4dr</th>\n",
              "      <td>3561</td>\n",
              "      <td>$36,640</td>\n",
              "    </tr>\n",
              "    <tr>\n",
              "      <th>A6 3.0 Quattro 4dr</th>\n",
              "      <td>3880</td>\n",
              "      <td>$39,640</td>\n",
              "    </tr>\n",
              "    <tr>\n",
              "      <th>A4 3.0 convertible 2dr</th>\n",
              "      <td>3814</td>\n",
              "      <td>$42,490</td>\n",
              "    </tr>\n",
              "  </tbody>\n",
              "</table>\n",
              "</div>\n",
              "      <button class=\"colab-df-convert\" onclick=\"convertToInteractive('df-6e260aae-68bb-49ce-bd94-e028a865846f')\"\n",
              "              title=\"Convert this dataframe to an interactive table.\"\n",
              "              style=\"display:none;\">\n",
              "        \n",
              "  <svg xmlns=\"http://www.w3.org/2000/svg\" height=\"24px\"viewBox=\"0 0 24 24\"\n",
              "       width=\"24px\">\n",
              "    <path d=\"M0 0h24v24H0V0z\" fill=\"none\"/>\n",
              "    <path d=\"M18.56 5.44l.94 2.06.94-2.06 2.06-.94-2.06-.94-.94-2.06-.94 2.06-2.06.94zm-11 1L8.5 8.5l.94-2.06 2.06-.94-2.06-.94L8.5 2.5l-.94 2.06-2.06.94zm10 10l.94 2.06.94-2.06 2.06-.94-2.06-.94-.94-2.06-.94 2.06-2.06.94z\"/><path d=\"M17.41 7.96l-1.37-1.37c-.4-.4-.92-.59-1.43-.59-.52 0-1.04.2-1.43.59L10.3 9.45l-7.72 7.72c-.78.78-.78 2.05 0 2.83L4 21.41c.39.39.9.59 1.41.59.51 0 1.02-.2 1.41-.59l7.78-7.78 2.81-2.81c.8-.78.8-2.07 0-2.86zM5.41 20L4 18.59l7.72-7.72 1.47 1.35L5.41 20z\"/>\n",
              "  </svg>\n",
              "      </button>\n",
              "      \n",
              "  <style>\n",
              "    .colab-df-container {\n",
              "      display:flex;\n",
              "      flex-wrap:wrap;\n",
              "      gap: 12px;\n",
              "    }\n",
              "\n",
              "    .colab-df-convert {\n",
              "      background-color: #E8F0FE;\n",
              "      border: none;\n",
              "      border-radius: 50%;\n",
              "      cursor: pointer;\n",
              "      display: none;\n",
              "      fill: #1967D2;\n",
              "      height: 32px;\n",
              "      padding: 0 0 0 0;\n",
              "      width: 32px;\n",
              "    }\n",
              "\n",
              "    .colab-df-convert:hover {\n",
              "      background-color: #E2EBFA;\n",
              "      box-shadow: 0px 1px 2px rgba(60, 64, 67, 0.3), 0px 1px 3px 1px rgba(60, 64, 67, 0.15);\n",
              "      fill: #174EA6;\n",
              "    }\n",
              "\n",
              "    [theme=dark] .colab-df-convert {\n",
              "      background-color: #3B4455;\n",
              "      fill: #D2E3FC;\n",
              "    }\n",
              "\n",
              "    [theme=dark] .colab-df-convert:hover {\n",
              "      background-color: #434B5C;\n",
              "      box-shadow: 0px 1px 3px 1px rgba(0, 0, 0, 0.15);\n",
              "      filter: drop-shadow(0px 1px 2px rgba(0, 0, 0, 0.3));\n",
              "      fill: #FFFFFF;\n",
              "    }\n",
              "  </style>\n",
              "\n",
              "      <script>\n",
              "        const buttonEl =\n",
              "          document.querySelector('#df-6e260aae-68bb-49ce-bd94-e028a865846f button.colab-df-convert');\n",
              "        buttonEl.style.display =\n",
              "          google.colab.kernel.accessAllowed ? 'block' : 'none';\n",
              "\n",
              "        async function convertToInteractive(key) {\n",
              "          const element = document.querySelector('#df-6e260aae-68bb-49ce-bd94-e028a865846f');\n",
              "          const dataTable =\n",
              "            await google.colab.kernel.invokeFunction('convertToInteractive',\n",
              "                                                     [key], {});\n",
              "          if (!dataTable) return;\n",
              "\n",
              "          const docLinkHtml = 'Like what you see? Visit the ' +\n",
              "            '<a target=\"_blank\" href=https://colab.research.google.com/notebooks/data_table.ipynb>data table notebook</a>'\n",
              "            + ' to learn more about interactive tables.';\n",
              "          element.innerHTML = '';\n",
              "          dataTable['output_type'] = 'display_data';\n",
              "          await google.colab.output.renderOutput(dataTable, element);\n",
              "          const docLink = document.createElement('div');\n",
              "          docLink.innerHTML = docLinkHtml;\n",
              "          element.appendChild(docLink);\n",
              "        }\n",
              "      </script>\n",
              "    </div>\n",
              "  </div>\n",
              "  "
            ]
          },
          "metadata": {},
          "execution_count": 34
        }
      ]
    },
    {
      "cell_type": "code",
      "source": [
        "Autos.index"
      ],
      "metadata": {
        "colab": {
          "base_uri": "https://localhost:8080/"
        },
        "id": "W7bClMWsbU_D",
        "outputId": "d5152b0f-a762-44e3-93e2-e933f5f74e59"
      },
      "execution_count": null,
      "outputs": [
        {
          "output_type": "execute_result",
          "data": {
            "text/plain": [
              "Index(['A4 3.0 Quattro 4dr manual', 'A4 3.0 Quattro 4dr auto', 'A6 3.0 4dr',\n",
              "       'A6 3.0 Quattro 4dr', 'A4 3.0 convertible 2dr'],\n",
              "      dtype='object')"
            ]
          },
          "metadata": {},
          "execution_count": 32
        }
      ]
    },
    {
      "cell_type": "code",
      "source": [
        "Autos.columns"
      ],
      "metadata": {
        "colab": {
          "base_uri": "https://localhost:8080/"
        },
        "id": "NTL45nZNbWD3",
        "outputId": "288e77c1-154b-477e-e542-f26888333d87"
      },
      "execution_count": null,
      "outputs": [
        {
          "output_type": "execute_result",
          "data": {
            "text/plain": [
              "Index(['Peso', 'Precio'], dtype='object')"
            ]
          },
          "metadata": {},
          "execution_count": 33
        }
      ]
    },
    {
      "cell_type": "code",
      "source": [
        "Autos.values"
      ],
      "metadata": {
        "colab": {
          "base_uri": "https://localhost:8080/"
        },
        "id": "npw6PCDAbZWV",
        "outputId": "1f9ffd17-115f-46ab-a616-258e0a7a15bc"
      },
      "execution_count": null,
      "outputs": [
        {
          "output_type": "execute_result",
          "data": {
            "text/plain": [
              "array([[3583, '$33,430'],\n",
              "       [3627, '$34,480'],\n",
              "       [3561, '$36,640'],\n",
              "       [3880, '$39,640'],\n",
              "       [3814, '$42,490']], dtype=object)"
            ]
          },
          "metadata": {},
          "execution_count": 35
        }
      ]
    },
    {
      "cell_type": "code",
      "source": [
        "type(Autos.values)"
      ],
      "metadata": {
        "colab": {
          "base_uri": "https://localhost:8080/"
        },
        "id": "Sm5wC8rIbaNP",
        "outputId": "7c8cb78f-f93e-48f1-c88a-b99a1f99230d"
      },
      "execution_count": null,
      "outputs": [
        {
          "output_type": "execute_result",
          "data": {
            "text/plain": [
              "numpy.ndarray"
            ]
          },
          "metadata": {},
          "execution_count": 36
        }
      ]
    },
    {
      "cell_type": "code",
      "source": [
        "# Seleccion de columna\n",
        "Autos['Peso']"
      ],
      "metadata": {
        "colab": {
          "base_uri": "https://localhost:8080/"
        },
        "id": "1_ePUj9mbfXa",
        "outputId": "a566b1be-c12b-48a2-cc28-072e469c50a9"
      },
      "execution_count": null,
      "outputs": [
        {
          "output_type": "execute_result",
          "data": {
            "text/plain": [
              "A4 3.0 Quattro 4dr manual    3583\n",
              "A4 3.0 Quattro 4dr auto      3627\n",
              "A6 3.0 4dr                   3561\n",
              "A6 3.0 Quattro 4dr           3880\n",
              "A4 3.0 convertible 2dr       3814\n",
              "Name: Peso, dtype: int64"
            ]
          },
          "metadata": {},
          "execution_count": 37
        }
      ]
    },
    {
      "cell_type": "code",
      "source": [
        "Autos.values[1]"
      ],
      "metadata": {
        "colab": {
          "base_uri": "https://localhost:8080/"
        },
        "id": "FgRt9VdYbjuG",
        "outputId": "d5a069d6-276c-42a3-e50d-9d94c425844d"
      },
      "execution_count": null,
      "outputs": [
        {
          "output_type": "execute_result",
          "data": {
            "text/plain": [
              "array([3627, '$34,480'], dtype=object)"
            ]
          },
          "metadata": {},
          "execution_count": 38
        }
      ]
    },
    {
      "cell_type": "code",
      "source": [
        "Autos.loc['A4 3.0 Quattro 4dr manual']"
      ],
      "metadata": {
        "colab": {
          "base_uri": "https://localhost:8080/"
        },
        "id": "kRgY9UG-pDKb",
        "outputId": "cd9f8384-9059-44c0-fc84-34a4d7f9e4ba"
      },
      "execution_count": null,
      "outputs": [
        {
          "output_type": "execute_result",
          "data": {
            "text/plain": [
              "Peso         3583\n",
              "Precio    $33,430\n",
              "Name: A4 3.0 Quattro 4dr manual, dtype: object"
            ]
          },
          "metadata": {},
          "execution_count": 42
        }
      ]
    },
    {
      "cell_type": "code",
      "source": [
        "Autos.loc[Autos.Peso >= 3600,'Precio']"
      ],
      "metadata": {
        "colab": {
          "base_uri": "https://localhost:8080/"
        },
        "id": "yRsxchocb89v",
        "outputId": "bb721da1-780f-4d99-ddd7-be982dc1a79a"
      },
      "execution_count": null,
      "outputs": [
        {
          "output_type": "execute_result",
          "data": {
            "text/plain": [
              "A4 3.0 Quattro 4dr auto    $34,480\n",
              "A6 3.0 Quattro 4dr         $39,640\n",
              "A4 3.0 convertible 2dr     $42,490\n",
              "Name: Precio, dtype: object"
            ]
          },
          "metadata": {},
          "execution_count": 43
        }
      ]
    },
    {
      "cell_type": "code",
      "source": [
        "# Otra forma\n",
        "Autos[Autos['Peso']>= 3600]['Precio']"
      ],
      "metadata": {
        "colab": {
          "base_uri": "https://localhost:8080/"
        },
        "id": "Mmc5p4Rgb-LZ",
        "outputId": "3161bf65-3254-4038-9e9e-e19e4f3289eb"
      },
      "execution_count": null,
      "outputs": [
        {
          "output_type": "execute_result",
          "data": {
            "text/plain": [
              "A4 3.0 Quattro 4dr auto    $34,480\n",
              "A6 3.0 Quattro 4dr         $39,640\n",
              "A4 3.0 convertible 2dr     $42,490\n",
              "Name: Precio, dtype: object"
            ]
          },
          "metadata": {},
          "execution_count": 44
        }
      ]
    },
    {
      "cell_type": "code",
      "source": [
        "a=pd.Series(data=[1,2,3],index=['A','B','C'])\n",
        "b=pd.Series(data=[1,2,3],index=['D','E','F'])\n",
        "s = pd.DataFrame(data={'A':a,'B':b})\n",
        "s"
      ],
      "metadata": {
        "colab": {
          "base_uri": "https://localhost:8080/",
          "height": 238
        },
        "id": "7_sdhZlbp-_K",
        "outputId": "da7f3983-e3a5-4635-cefa-85da64f8c141"
      },
      "execution_count": null,
      "outputs": [
        {
          "output_type": "execute_result",
          "data": {
            "text/plain": [
              "     A    B\n",
              "A  1.0  NaN\n",
              "B  2.0  NaN\n",
              "C  3.0  NaN\n",
              "D  NaN  1.0\n",
              "E  NaN  2.0\n",
              "F  NaN  3.0"
            ],
            "text/html": [
              "\n",
              "  <div id=\"df-e3b6b2f6-901f-486b-a4ec-676ee4afbbd3\">\n",
              "    <div class=\"colab-df-container\">\n",
              "      <div>\n",
              "<style scoped>\n",
              "    .dataframe tbody tr th:only-of-type {\n",
              "        vertical-align: middle;\n",
              "    }\n",
              "\n",
              "    .dataframe tbody tr th {\n",
              "        vertical-align: top;\n",
              "    }\n",
              "\n",
              "    .dataframe thead th {\n",
              "        text-align: right;\n",
              "    }\n",
              "</style>\n",
              "<table border=\"1\" class=\"dataframe\">\n",
              "  <thead>\n",
              "    <tr style=\"text-align: right;\">\n",
              "      <th></th>\n",
              "      <th>A</th>\n",
              "      <th>B</th>\n",
              "    </tr>\n",
              "  </thead>\n",
              "  <tbody>\n",
              "    <tr>\n",
              "      <th>A</th>\n",
              "      <td>1.0</td>\n",
              "      <td>NaN</td>\n",
              "    </tr>\n",
              "    <tr>\n",
              "      <th>B</th>\n",
              "      <td>2.0</td>\n",
              "      <td>NaN</td>\n",
              "    </tr>\n",
              "    <tr>\n",
              "      <th>C</th>\n",
              "      <td>3.0</td>\n",
              "      <td>NaN</td>\n",
              "    </tr>\n",
              "    <tr>\n",
              "      <th>D</th>\n",
              "      <td>NaN</td>\n",
              "      <td>1.0</td>\n",
              "    </tr>\n",
              "    <tr>\n",
              "      <th>E</th>\n",
              "      <td>NaN</td>\n",
              "      <td>2.0</td>\n",
              "    </tr>\n",
              "    <tr>\n",
              "      <th>F</th>\n",
              "      <td>NaN</td>\n",
              "      <td>3.0</td>\n",
              "    </tr>\n",
              "  </tbody>\n",
              "</table>\n",
              "</div>\n",
              "      <button class=\"colab-df-convert\" onclick=\"convertToInteractive('df-e3b6b2f6-901f-486b-a4ec-676ee4afbbd3')\"\n",
              "              title=\"Convert this dataframe to an interactive table.\"\n",
              "              style=\"display:none;\">\n",
              "        \n",
              "  <svg xmlns=\"http://www.w3.org/2000/svg\" height=\"24px\"viewBox=\"0 0 24 24\"\n",
              "       width=\"24px\">\n",
              "    <path d=\"M0 0h24v24H0V0z\" fill=\"none\"/>\n",
              "    <path d=\"M18.56 5.44l.94 2.06.94-2.06 2.06-.94-2.06-.94-.94-2.06-.94 2.06-2.06.94zm-11 1L8.5 8.5l.94-2.06 2.06-.94-2.06-.94L8.5 2.5l-.94 2.06-2.06.94zm10 10l.94 2.06.94-2.06 2.06-.94-2.06-.94-.94-2.06-.94 2.06-2.06.94z\"/><path d=\"M17.41 7.96l-1.37-1.37c-.4-.4-.92-.59-1.43-.59-.52 0-1.04.2-1.43.59L10.3 9.45l-7.72 7.72c-.78.78-.78 2.05 0 2.83L4 21.41c.39.39.9.59 1.41.59.51 0 1.02-.2 1.41-.59l7.78-7.78 2.81-2.81c.8-.78.8-2.07 0-2.86zM5.41 20L4 18.59l7.72-7.72 1.47 1.35L5.41 20z\"/>\n",
              "  </svg>\n",
              "      </button>\n",
              "      \n",
              "  <style>\n",
              "    .colab-df-container {\n",
              "      display:flex;\n",
              "      flex-wrap:wrap;\n",
              "      gap: 12px;\n",
              "    }\n",
              "\n",
              "    .colab-df-convert {\n",
              "      background-color: #E8F0FE;\n",
              "      border: none;\n",
              "      border-radius: 50%;\n",
              "      cursor: pointer;\n",
              "      display: none;\n",
              "      fill: #1967D2;\n",
              "      height: 32px;\n",
              "      padding: 0 0 0 0;\n",
              "      width: 32px;\n",
              "    }\n",
              "\n",
              "    .colab-df-convert:hover {\n",
              "      background-color: #E2EBFA;\n",
              "      box-shadow: 0px 1px 2px rgba(60, 64, 67, 0.3), 0px 1px 3px 1px rgba(60, 64, 67, 0.15);\n",
              "      fill: #174EA6;\n",
              "    }\n",
              "\n",
              "    [theme=dark] .colab-df-convert {\n",
              "      background-color: #3B4455;\n",
              "      fill: #D2E3FC;\n",
              "    }\n",
              "\n",
              "    [theme=dark] .colab-df-convert:hover {\n",
              "      background-color: #434B5C;\n",
              "      box-shadow: 0px 1px 3px 1px rgba(0, 0, 0, 0.15);\n",
              "      filter: drop-shadow(0px 1px 2px rgba(0, 0, 0, 0.3));\n",
              "      fill: #FFFFFF;\n",
              "    }\n",
              "  </style>\n",
              "\n",
              "      <script>\n",
              "        const buttonEl =\n",
              "          document.querySelector('#df-e3b6b2f6-901f-486b-a4ec-676ee4afbbd3 button.colab-df-convert');\n",
              "        buttonEl.style.display =\n",
              "          google.colab.kernel.accessAllowed ? 'block' : 'none';\n",
              "\n",
              "        async function convertToInteractive(key) {\n",
              "          const element = document.querySelector('#df-e3b6b2f6-901f-486b-a4ec-676ee4afbbd3');\n",
              "          const dataTable =\n",
              "            await google.colab.kernel.invokeFunction('convertToInteractive',\n",
              "                                                     [key], {});\n",
              "          if (!dataTable) return;\n",
              "\n",
              "          const docLinkHtml = 'Like what you see? Visit the ' +\n",
              "            '<a target=\"_blank\" href=https://colab.research.google.com/notebooks/data_table.ipynb>data table notebook</a>'\n",
              "            + ' to learn more about interactive tables.';\n",
              "          element.innerHTML = '';\n",
              "          dataTable['output_type'] = 'display_data';\n",
              "          await google.colab.output.renderOutput(dataTable, element);\n",
              "          const docLink = document.createElement('div');\n",
              "          docLink.innerHTML = docLinkHtml;\n",
              "          element.appendChild(docLink);\n",
              "        }\n",
              "      </script>\n",
              "    </div>\n",
              "  </div>\n",
              "  "
            ]
          },
          "metadata": {},
          "execution_count": 46
        }
      ]
    },
    {
      "cell_type": "code",
      "source": [
        "Autos"
      ],
      "metadata": {
        "colab": {
          "base_uri": "https://localhost:8080/",
          "height": 206
        },
        "id": "DaSg55pdqpK-",
        "outputId": "f5c33b2c-1c05-4b00-ba39-e1d6410400d8"
      },
      "execution_count": null,
      "outputs": [
        {
          "output_type": "execute_result",
          "data": {
            "text/plain": [
              "                           Peso   Precio\n",
              "A4 3.0 Quattro 4dr manual  3583  $33,430\n",
              "A4 3.0 Quattro 4dr auto    3627  $34,480\n",
              "A6 3.0 4dr                 3561  $36,640\n",
              "A6 3.0 Quattro 4dr         3880  $39,640\n",
              "A4 3.0 convertible 2dr     3814  $42,490"
            ],
            "text/html": [
              "\n",
              "  <div id=\"df-7d0b2ea5-96aa-49fb-93cd-b0ace80f5c20\">\n",
              "    <div class=\"colab-df-container\">\n",
              "      <div>\n",
              "<style scoped>\n",
              "    .dataframe tbody tr th:only-of-type {\n",
              "        vertical-align: middle;\n",
              "    }\n",
              "\n",
              "    .dataframe tbody tr th {\n",
              "        vertical-align: top;\n",
              "    }\n",
              "\n",
              "    .dataframe thead th {\n",
              "        text-align: right;\n",
              "    }\n",
              "</style>\n",
              "<table border=\"1\" class=\"dataframe\">\n",
              "  <thead>\n",
              "    <tr style=\"text-align: right;\">\n",
              "      <th></th>\n",
              "      <th>Peso</th>\n",
              "      <th>Precio</th>\n",
              "    </tr>\n",
              "  </thead>\n",
              "  <tbody>\n",
              "    <tr>\n",
              "      <th>A4 3.0 Quattro 4dr manual</th>\n",
              "      <td>3583</td>\n",
              "      <td>$33,430</td>\n",
              "    </tr>\n",
              "    <tr>\n",
              "      <th>A4 3.0 Quattro 4dr auto</th>\n",
              "      <td>3627</td>\n",
              "      <td>$34,480</td>\n",
              "    </tr>\n",
              "    <tr>\n",
              "      <th>A6 3.0 4dr</th>\n",
              "      <td>3561</td>\n",
              "      <td>$36,640</td>\n",
              "    </tr>\n",
              "    <tr>\n",
              "      <th>A6 3.0 Quattro 4dr</th>\n",
              "      <td>3880</td>\n",
              "      <td>$39,640</td>\n",
              "    </tr>\n",
              "    <tr>\n",
              "      <th>A4 3.0 convertible 2dr</th>\n",
              "      <td>3814</td>\n",
              "      <td>$42,490</td>\n",
              "    </tr>\n",
              "  </tbody>\n",
              "</table>\n",
              "</div>\n",
              "      <button class=\"colab-df-convert\" onclick=\"convertToInteractive('df-7d0b2ea5-96aa-49fb-93cd-b0ace80f5c20')\"\n",
              "              title=\"Convert this dataframe to an interactive table.\"\n",
              "              style=\"display:none;\">\n",
              "        \n",
              "  <svg xmlns=\"http://www.w3.org/2000/svg\" height=\"24px\"viewBox=\"0 0 24 24\"\n",
              "       width=\"24px\">\n",
              "    <path d=\"M0 0h24v24H0V0z\" fill=\"none\"/>\n",
              "    <path d=\"M18.56 5.44l.94 2.06.94-2.06 2.06-.94-2.06-.94-.94-2.06-.94 2.06-2.06.94zm-11 1L8.5 8.5l.94-2.06 2.06-.94-2.06-.94L8.5 2.5l-.94 2.06-2.06.94zm10 10l.94 2.06.94-2.06 2.06-.94-2.06-.94-.94-2.06-.94 2.06-2.06.94z\"/><path d=\"M17.41 7.96l-1.37-1.37c-.4-.4-.92-.59-1.43-.59-.52 0-1.04.2-1.43.59L10.3 9.45l-7.72 7.72c-.78.78-.78 2.05 0 2.83L4 21.41c.39.39.9.59 1.41.59.51 0 1.02-.2 1.41-.59l7.78-7.78 2.81-2.81c.8-.78.8-2.07 0-2.86zM5.41 20L4 18.59l7.72-7.72 1.47 1.35L5.41 20z\"/>\n",
              "  </svg>\n",
              "      </button>\n",
              "      \n",
              "  <style>\n",
              "    .colab-df-container {\n",
              "      display:flex;\n",
              "      flex-wrap:wrap;\n",
              "      gap: 12px;\n",
              "    }\n",
              "\n",
              "    .colab-df-convert {\n",
              "      background-color: #E8F0FE;\n",
              "      border: none;\n",
              "      border-radius: 50%;\n",
              "      cursor: pointer;\n",
              "      display: none;\n",
              "      fill: #1967D2;\n",
              "      height: 32px;\n",
              "      padding: 0 0 0 0;\n",
              "      width: 32px;\n",
              "    }\n",
              "\n",
              "    .colab-df-convert:hover {\n",
              "      background-color: #E2EBFA;\n",
              "      box-shadow: 0px 1px 2px rgba(60, 64, 67, 0.3), 0px 1px 3px 1px rgba(60, 64, 67, 0.15);\n",
              "      fill: #174EA6;\n",
              "    }\n",
              "\n",
              "    [theme=dark] .colab-df-convert {\n",
              "      background-color: #3B4455;\n",
              "      fill: #D2E3FC;\n",
              "    }\n",
              "\n",
              "    [theme=dark] .colab-df-convert:hover {\n",
              "      background-color: #434B5C;\n",
              "      box-shadow: 0px 1px 3px 1px rgba(0, 0, 0, 0.15);\n",
              "      filter: drop-shadow(0px 1px 2px rgba(0, 0, 0, 0.3));\n",
              "      fill: #FFFFFF;\n",
              "    }\n",
              "  </style>\n",
              "\n",
              "      <script>\n",
              "        const buttonEl =\n",
              "          document.querySelector('#df-7d0b2ea5-96aa-49fb-93cd-b0ace80f5c20 button.colab-df-convert');\n",
              "        buttonEl.style.display =\n",
              "          google.colab.kernel.accessAllowed ? 'block' : 'none';\n",
              "\n",
              "        async function convertToInteractive(key) {\n",
              "          const element = document.querySelector('#df-7d0b2ea5-96aa-49fb-93cd-b0ace80f5c20');\n",
              "          const dataTable =\n",
              "            await google.colab.kernel.invokeFunction('convertToInteractive',\n",
              "                                                     [key], {});\n",
              "          if (!dataTable) return;\n",
              "\n",
              "          const docLinkHtml = 'Like what you see? Visit the ' +\n",
              "            '<a target=\"_blank\" href=https://colab.research.google.com/notebooks/data_table.ipynb>data table notebook</a>'\n",
              "            + ' to learn more about interactive tables.';\n",
              "          element.innerHTML = '';\n",
              "          dataTable['output_type'] = 'display_data';\n",
              "          await google.colab.output.renderOutput(dataTable, element);\n",
              "          const docLink = document.createElement('div');\n",
              "          docLink.innerHTML = docLinkHtml;\n",
              "          element.appendChild(docLink);\n",
              "        }\n",
              "      </script>\n",
              "    </div>\n",
              "  </div>\n",
              "  "
            ]
          },
          "metadata": {},
          "execution_count": 48
        }
      ]
    },
    {
      "cell_type": "code",
      "source": [
        "Autos.T"
      ],
      "metadata": {
        "colab": {
          "base_uri": "https://localhost:8080/",
          "height": 112
        },
        "id": "oswLsvZPcKMU",
        "outputId": "c3299a69-b320-4344-ce3f-449380d35133"
      },
      "execution_count": null,
      "outputs": [
        {
          "output_type": "execute_result",
          "data": {
            "text/plain": [
              "       A4 3.0 Quattro 4dr manual A4 3.0 Quattro 4dr auto A6 3.0 4dr  \\\n",
              "Peso                        3583                    3627       3561   \n",
              "Precio                   $33,430                 $34,480    $36,640   \n",
              "\n",
              "       A6 3.0 Quattro 4dr A4 3.0 convertible 2dr  \n",
              "Peso                 3880                   3814  \n",
              "Precio            $39,640                $42,490  "
            ],
            "text/html": [
              "\n",
              "  <div id=\"df-63508137-ba6f-4c40-93b3-1a47145b1605\">\n",
              "    <div class=\"colab-df-container\">\n",
              "      <div>\n",
              "<style scoped>\n",
              "    .dataframe tbody tr th:only-of-type {\n",
              "        vertical-align: middle;\n",
              "    }\n",
              "\n",
              "    .dataframe tbody tr th {\n",
              "        vertical-align: top;\n",
              "    }\n",
              "\n",
              "    .dataframe thead th {\n",
              "        text-align: right;\n",
              "    }\n",
              "</style>\n",
              "<table border=\"1\" class=\"dataframe\">\n",
              "  <thead>\n",
              "    <tr style=\"text-align: right;\">\n",
              "      <th></th>\n",
              "      <th>A4 3.0 Quattro 4dr manual</th>\n",
              "      <th>A4 3.0 Quattro 4dr auto</th>\n",
              "      <th>A6 3.0 4dr</th>\n",
              "      <th>A6 3.0 Quattro 4dr</th>\n",
              "      <th>A4 3.0 convertible 2dr</th>\n",
              "    </tr>\n",
              "  </thead>\n",
              "  <tbody>\n",
              "    <tr>\n",
              "      <th>Peso</th>\n",
              "      <td>3583</td>\n",
              "      <td>3627</td>\n",
              "      <td>3561</td>\n",
              "      <td>3880</td>\n",
              "      <td>3814</td>\n",
              "    </tr>\n",
              "    <tr>\n",
              "      <th>Precio</th>\n",
              "      <td>$33,430</td>\n",
              "      <td>$34,480</td>\n",
              "      <td>$36,640</td>\n",
              "      <td>$39,640</td>\n",
              "      <td>$42,490</td>\n",
              "    </tr>\n",
              "  </tbody>\n",
              "</table>\n",
              "</div>\n",
              "      <button class=\"colab-df-convert\" onclick=\"convertToInteractive('df-63508137-ba6f-4c40-93b3-1a47145b1605')\"\n",
              "              title=\"Convert this dataframe to an interactive table.\"\n",
              "              style=\"display:none;\">\n",
              "        \n",
              "  <svg xmlns=\"http://www.w3.org/2000/svg\" height=\"24px\"viewBox=\"0 0 24 24\"\n",
              "       width=\"24px\">\n",
              "    <path d=\"M0 0h24v24H0V0z\" fill=\"none\"/>\n",
              "    <path d=\"M18.56 5.44l.94 2.06.94-2.06 2.06-.94-2.06-.94-.94-2.06-.94 2.06-2.06.94zm-11 1L8.5 8.5l.94-2.06 2.06-.94-2.06-.94L8.5 2.5l-.94 2.06-2.06.94zm10 10l.94 2.06.94-2.06 2.06-.94-2.06-.94-.94-2.06-.94 2.06-2.06.94z\"/><path d=\"M17.41 7.96l-1.37-1.37c-.4-.4-.92-.59-1.43-.59-.52 0-1.04.2-1.43.59L10.3 9.45l-7.72 7.72c-.78.78-.78 2.05 0 2.83L4 21.41c.39.39.9.59 1.41.59.51 0 1.02-.2 1.41-.59l7.78-7.78 2.81-2.81c.8-.78.8-2.07 0-2.86zM5.41 20L4 18.59l7.72-7.72 1.47 1.35L5.41 20z\"/>\n",
              "  </svg>\n",
              "      </button>\n",
              "      \n",
              "  <style>\n",
              "    .colab-df-container {\n",
              "      display:flex;\n",
              "      flex-wrap:wrap;\n",
              "      gap: 12px;\n",
              "    }\n",
              "\n",
              "    .colab-df-convert {\n",
              "      background-color: #E8F0FE;\n",
              "      border: none;\n",
              "      border-radius: 50%;\n",
              "      cursor: pointer;\n",
              "      display: none;\n",
              "      fill: #1967D2;\n",
              "      height: 32px;\n",
              "      padding: 0 0 0 0;\n",
              "      width: 32px;\n",
              "    }\n",
              "\n",
              "    .colab-df-convert:hover {\n",
              "      background-color: #E2EBFA;\n",
              "      box-shadow: 0px 1px 2px rgba(60, 64, 67, 0.3), 0px 1px 3px 1px rgba(60, 64, 67, 0.15);\n",
              "      fill: #174EA6;\n",
              "    }\n",
              "\n",
              "    [theme=dark] .colab-df-convert {\n",
              "      background-color: #3B4455;\n",
              "      fill: #D2E3FC;\n",
              "    }\n",
              "\n",
              "    [theme=dark] .colab-df-convert:hover {\n",
              "      background-color: #434B5C;\n",
              "      box-shadow: 0px 1px 3px 1px rgba(0, 0, 0, 0.15);\n",
              "      filter: drop-shadow(0px 1px 2px rgba(0, 0, 0, 0.3));\n",
              "      fill: #FFFFFF;\n",
              "    }\n",
              "  </style>\n",
              "\n",
              "      <script>\n",
              "        const buttonEl =\n",
              "          document.querySelector('#df-63508137-ba6f-4c40-93b3-1a47145b1605 button.colab-df-convert');\n",
              "        buttonEl.style.display =\n",
              "          google.colab.kernel.accessAllowed ? 'block' : 'none';\n",
              "\n",
              "        async function convertToInteractive(key) {\n",
              "          const element = document.querySelector('#df-63508137-ba6f-4c40-93b3-1a47145b1605');\n",
              "          const dataTable =\n",
              "            await google.colab.kernel.invokeFunction('convertToInteractive',\n",
              "                                                     [key], {});\n",
              "          if (!dataTable) return;\n",
              "\n",
              "          const docLinkHtml = 'Like what you see? Visit the ' +\n",
              "            '<a target=\"_blank\" href=https://colab.research.google.com/notebooks/data_table.ipynb>data table notebook</a>'\n",
              "            + ' to learn more about interactive tables.';\n",
              "          element.innerHTML = '';\n",
              "          dataTable['output_type'] = 'display_data';\n",
              "          await google.colab.output.renderOutput(dataTable, element);\n",
              "          const docLink = document.createElement('div');\n",
              "          docLink.innerHTML = docLinkHtml;\n",
              "          element.appendChild(docLink);\n",
              "        }\n",
              "      </script>\n",
              "    </div>\n",
              "  </div>\n",
              "  "
            ]
          },
          "metadata": {},
          "execution_count": 47
        }
      ]
    },
    {
      "cell_type": "markdown",
      "source": [
        "Operaciones vectorizadas"
      ],
      "metadata": {
        "id": "2nAi_kg7cMFS"
      }
    },
    {
      "cell_type": "code",
      "source": [
        "Numeros_3 = range(51,70,2)\n",
        "Numeros_serie_3 = pd.Series(data=Numeros_3,index=Numeros_en_texto)\n",
        "Numeros_serie_3"
      ],
      "metadata": {
        "colab": {
          "base_uri": "https://localhost:8080/"
        },
        "id": "HSF61mwjcLVv",
        "outputId": "602fa7bb-0122-4243-bb81-03f6afcc59a7"
      },
      "execution_count": null,
      "outputs": [
        {
          "output_type": "execute_result",
          "data": {
            "text/plain": [
              "primero    51\n",
              "segundo    53\n",
              "tercero    55\n",
              "cuarto     57\n",
              "quinto     59\n",
              "sexto      61\n",
              "séptimo    63\n",
              "octavo     65\n",
              "noveno     67\n",
              "décimo     69\n",
              "dtype: int64"
            ]
          },
          "metadata": {},
          "execution_count": 49
        }
      ]
    },
    {
      "cell_type": "code",
      "source": [
        "Numeros_serie_2"
      ],
      "metadata": {
        "colab": {
          "base_uri": "https://localhost:8080/"
        },
        "id": "OREKipphcpMI",
        "outputId": "8297f592-2a08-4926-cb01-26dec39c8ce0"
      },
      "execution_count": null,
      "outputs": [
        {
          "output_type": "execute_result",
          "data": {
            "text/plain": [
              "primero    50\n",
              "segundo    52\n",
              "tercero    54\n",
              "cuarto     56\n",
              "quinto     58\n",
              "sexto      60\n",
              "séptimo    62\n",
              "octavo     64\n",
              "noveno     66\n",
              "décimo     68\n",
              "Name: David, dtype: int64"
            ]
          },
          "metadata": {},
          "execution_count": 50
        }
      ]
    },
    {
      "cell_type": "code",
      "source": [
        "Numeros_serie_2 + Numeros_serie_3"
      ],
      "metadata": {
        "colab": {
          "base_uri": "https://localhost:8080/"
        },
        "id": "iAGi9ykEcq8L",
        "outputId": "68c88683-d9e7-442c-d3fb-2f7544115e86"
      },
      "execution_count": null,
      "outputs": [
        {
          "output_type": "execute_result",
          "data": {
            "text/plain": [
              "primero    101\n",
              "segundo    105\n",
              "tercero    109\n",
              "cuarto     113\n",
              "quinto     117\n",
              "sexto      121\n",
              "séptimo    125\n",
              "octavo     129\n",
              "noveno     133\n",
              "décimo     137\n",
              "dtype: int64"
            ]
          },
          "metadata": {},
          "execution_count": 51
        }
      ]
    },
    {
      "cell_type": "code",
      "source": [
        "Numeros_serie_2.add(Numeros_serie_3)"
      ],
      "metadata": {
        "colab": {
          "base_uri": "https://localhost:8080/"
        },
        "id": "8_r45tX4cxI4",
        "outputId": "01d5760e-ade0-4c89-c3b9-e854dd507de6"
      },
      "execution_count": null,
      "outputs": [
        {
          "output_type": "execute_result",
          "data": {
            "text/plain": [
              "primero    101\n",
              "segundo    105\n",
              "tercero    109\n",
              "cuarto     113\n",
              "quinto     117\n",
              "sexto      121\n",
              "séptimo    125\n",
              "octavo     129\n",
              "noveno     133\n",
              "décimo     137\n",
              "dtype: int64"
            ]
          },
          "metadata": {},
          "execution_count": 52
        }
      ]
    },
    {
      "cell_type": "code",
      "source": [
        "# que pasa si no tenemos el mismo indice?\n",
        "a= pd.Series(data=[1,2,3,4], index=['A','B','C','D'])\n",
        "b= pd.Series(data=[2,4,6,8], index=['A','D','E','D'])\n",
        "a+b"
      ],
      "metadata": {
        "colab": {
          "base_uri": "https://localhost:8080/"
        },
        "id": "xr3qx_6NcyMO",
        "outputId": "f08ea4eb-19da-4de2-a908-4a7d100b30a2"
      },
      "execution_count": null,
      "outputs": [
        {
          "output_type": "execute_result",
          "data": {
            "text/plain": [
              "A     3.0\n",
              "B     NaN\n",
              "C     NaN\n",
              "D     8.0\n",
              "D    12.0\n",
              "E     NaN\n",
              "dtype: float64"
            ]
          },
          "metadata": {},
          "execution_count": 53
        }
      ]
    },
    {
      "cell_type": "code",
      "source": [
        "# Ahora veamolo en 2D\n",
        "largo = [179, 179, 192, 192, 180]\n",
        "Autos_2 = pd.DataFrame({'Peso':peso,'Largo':largo},index=modelos)\n",
        "Autos_2"
      ],
      "metadata": {
        "colab": {
          "base_uri": "https://localhost:8080/",
          "height": 206
        },
        "id": "PShTsUxicZ7V",
        "outputId": "621b27b7-7f27-4a24-e9de-e831db9d5186"
      },
      "execution_count": null,
      "outputs": [
        {
          "output_type": "execute_result",
          "data": {
            "text/plain": [
              "                           Peso  Largo\n",
              "A4 3.0 Quattro 4dr manual  3583    179\n",
              "A4 3.0 Quattro 4dr auto    3627    179\n",
              "A6 3.0 4dr                 3561    192\n",
              "A6 3.0 Quattro 4dr         3880    192\n",
              "A4 3.0 convertible 2dr     3814    180"
            ],
            "text/html": [
              "\n",
              "  <div id=\"df-a91aaaed-2ce0-43d1-826d-3265f5f5c5fc\">\n",
              "    <div class=\"colab-df-container\">\n",
              "      <div>\n",
              "<style scoped>\n",
              "    .dataframe tbody tr th:only-of-type {\n",
              "        vertical-align: middle;\n",
              "    }\n",
              "\n",
              "    .dataframe tbody tr th {\n",
              "        vertical-align: top;\n",
              "    }\n",
              "\n",
              "    .dataframe thead th {\n",
              "        text-align: right;\n",
              "    }\n",
              "</style>\n",
              "<table border=\"1\" class=\"dataframe\">\n",
              "  <thead>\n",
              "    <tr style=\"text-align: right;\">\n",
              "      <th></th>\n",
              "      <th>Peso</th>\n",
              "      <th>Largo</th>\n",
              "    </tr>\n",
              "  </thead>\n",
              "  <tbody>\n",
              "    <tr>\n",
              "      <th>A4 3.0 Quattro 4dr manual</th>\n",
              "      <td>3583</td>\n",
              "      <td>179</td>\n",
              "    </tr>\n",
              "    <tr>\n",
              "      <th>A4 3.0 Quattro 4dr auto</th>\n",
              "      <td>3627</td>\n",
              "      <td>179</td>\n",
              "    </tr>\n",
              "    <tr>\n",
              "      <th>A6 3.0 4dr</th>\n",
              "      <td>3561</td>\n",
              "      <td>192</td>\n",
              "    </tr>\n",
              "    <tr>\n",
              "      <th>A6 3.0 Quattro 4dr</th>\n",
              "      <td>3880</td>\n",
              "      <td>192</td>\n",
              "    </tr>\n",
              "    <tr>\n",
              "      <th>A4 3.0 convertible 2dr</th>\n",
              "      <td>3814</td>\n",
              "      <td>180</td>\n",
              "    </tr>\n",
              "  </tbody>\n",
              "</table>\n",
              "</div>\n",
              "      <button class=\"colab-df-convert\" onclick=\"convertToInteractive('df-a91aaaed-2ce0-43d1-826d-3265f5f5c5fc')\"\n",
              "              title=\"Convert this dataframe to an interactive table.\"\n",
              "              style=\"display:none;\">\n",
              "        \n",
              "  <svg xmlns=\"http://www.w3.org/2000/svg\" height=\"24px\"viewBox=\"0 0 24 24\"\n",
              "       width=\"24px\">\n",
              "    <path d=\"M0 0h24v24H0V0z\" fill=\"none\"/>\n",
              "    <path d=\"M18.56 5.44l.94 2.06.94-2.06 2.06-.94-2.06-.94-.94-2.06-.94 2.06-2.06.94zm-11 1L8.5 8.5l.94-2.06 2.06-.94-2.06-.94L8.5 2.5l-.94 2.06-2.06.94zm10 10l.94 2.06.94-2.06 2.06-.94-2.06-.94-.94-2.06-.94 2.06-2.06.94z\"/><path d=\"M17.41 7.96l-1.37-1.37c-.4-.4-.92-.59-1.43-.59-.52 0-1.04.2-1.43.59L10.3 9.45l-7.72 7.72c-.78.78-.78 2.05 0 2.83L4 21.41c.39.39.9.59 1.41.59.51 0 1.02-.2 1.41-.59l7.78-7.78 2.81-2.81c.8-.78.8-2.07 0-2.86zM5.41 20L4 18.59l7.72-7.72 1.47 1.35L5.41 20z\"/>\n",
              "  </svg>\n",
              "      </button>\n",
              "      \n",
              "  <style>\n",
              "    .colab-df-container {\n",
              "      display:flex;\n",
              "      flex-wrap:wrap;\n",
              "      gap: 12px;\n",
              "    }\n",
              "\n",
              "    .colab-df-convert {\n",
              "      background-color: #E8F0FE;\n",
              "      border: none;\n",
              "      border-radius: 50%;\n",
              "      cursor: pointer;\n",
              "      display: none;\n",
              "      fill: #1967D2;\n",
              "      height: 32px;\n",
              "      padding: 0 0 0 0;\n",
              "      width: 32px;\n",
              "    }\n",
              "\n",
              "    .colab-df-convert:hover {\n",
              "      background-color: #E2EBFA;\n",
              "      box-shadow: 0px 1px 2px rgba(60, 64, 67, 0.3), 0px 1px 3px 1px rgba(60, 64, 67, 0.15);\n",
              "      fill: #174EA6;\n",
              "    }\n",
              "\n",
              "    [theme=dark] .colab-df-convert {\n",
              "      background-color: #3B4455;\n",
              "      fill: #D2E3FC;\n",
              "    }\n",
              "\n",
              "    [theme=dark] .colab-df-convert:hover {\n",
              "      background-color: #434B5C;\n",
              "      box-shadow: 0px 1px 3px 1px rgba(0, 0, 0, 0.15);\n",
              "      filter: drop-shadow(0px 1px 2px rgba(0, 0, 0, 0.3));\n",
              "      fill: #FFFFFF;\n",
              "    }\n",
              "  </style>\n",
              "\n",
              "      <script>\n",
              "        const buttonEl =\n",
              "          document.querySelector('#df-a91aaaed-2ce0-43d1-826d-3265f5f5c5fc button.colab-df-convert');\n",
              "        buttonEl.style.display =\n",
              "          google.colab.kernel.accessAllowed ? 'block' : 'none';\n",
              "\n",
              "        async function convertToInteractive(key) {\n",
              "          const element = document.querySelector('#df-a91aaaed-2ce0-43d1-826d-3265f5f5c5fc');\n",
              "          const dataTable =\n",
              "            await google.colab.kernel.invokeFunction('convertToInteractive',\n",
              "                                                     [key], {});\n",
              "          if (!dataTable) return;\n",
              "\n",
              "          const docLinkHtml = 'Like what you see? Visit the ' +\n",
              "            '<a target=\"_blank\" href=https://colab.research.google.com/notebooks/data_table.ipynb>data table notebook</a>'\n",
              "            + ' to learn more about interactive tables.';\n",
              "          element.innerHTML = '';\n",
              "          dataTable['output_type'] = 'display_data';\n",
              "          await google.colab.output.renderOutput(dataTable, element);\n",
              "          const docLink = document.createElement('div');\n",
              "          docLink.innerHTML = docLinkHtml;\n",
              "          element.appendChild(docLink);\n",
              "        }\n",
              "      </script>\n",
              "    </div>\n",
              "  </div>\n",
              "  "
            ]
          },
          "metadata": {},
          "execution_count": 54
        }
      ]
    },
    {
      "cell_type": "code",
      "source": [
        "Autos_2.iloc[0]"
      ],
      "metadata": {
        "colab": {
          "base_uri": "https://localhost:8080/"
        },
        "id": "itwu9kqJcfvH",
        "outputId": "c5526574-48c3-44c7-abcb-e01f4f338d01"
      },
      "execution_count": null,
      "outputs": [
        {
          "output_type": "execute_result",
          "data": {
            "text/plain": [
              "Peso     3583\n",
              "Largo     179\n",
              "Name: A4 3.0 Quattro 4dr manual, dtype: int64"
            ]
          },
          "metadata": {},
          "execution_count": 55
        }
      ]
    },
    {
      "cell_type": "code",
      "source": [
        "David=Autos_2 / Autos_2.iloc[0]\n",
        "David"
      ],
      "metadata": {
        "colab": {
          "base_uri": "https://localhost:8080/",
          "height": 206
        },
        "id": "zxXiZjA9sIui",
        "outputId": "e3ea61ea-8ae1-4b07-cee0-3e37feb1484b"
      },
      "execution_count": null,
      "outputs": [
        {
          "output_type": "execute_result",
          "data": {
            "text/plain": [
              "                               Peso     Largo\n",
              "A4 3.0 Quattro 4dr manual  1.000000  1.000000\n",
              "A4 3.0 Quattro 4dr auto    1.012280  1.000000\n",
              "A6 3.0 4dr                 0.993860  1.072626\n",
              "A6 3.0 Quattro 4dr         1.082891  1.072626\n",
              "A4 3.0 convertible 2dr     1.064471  1.005587"
            ],
            "text/html": [
              "\n",
              "  <div id=\"df-c77a6488-7f57-4052-b37c-68f524563147\">\n",
              "    <div class=\"colab-df-container\">\n",
              "      <div>\n",
              "<style scoped>\n",
              "    .dataframe tbody tr th:only-of-type {\n",
              "        vertical-align: middle;\n",
              "    }\n",
              "\n",
              "    .dataframe tbody tr th {\n",
              "        vertical-align: top;\n",
              "    }\n",
              "\n",
              "    .dataframe thead th {\n",
              "        text-align: right;\n",
              "    }\n",
              "</style>\n",
              "<table border=\"1\" class=\"dataframe\">\n",
              "  <thead>\n",
              "    <tr style=\"text-align: right;\">\n",
              "      <th></th>\n",
              "      <th>Peso</th>\n",
              "      <th>Largo</th>\n",
              "    </tr>\n",
              "  </thead>\n",
              "  <tbody>\n",
              "    <tr>\n",
              "      <th>A4 3.0 Quattro 4dr manual</th>\n",
              "      <td>1.000000</td>\n",
              "      <td>1.000000</td>\n",
              "    </tr>\n",
              "    <tr>\n",
              "      <th>A4 3.0 Quattro 4dr auto</th>\n",
              "      <td>1.012280</td>\n",
              "      <td>1.000000</td>\n",
              "    </tr>\n",
              "    <tr>\n",
              "      <th>A6 3.0 4dr</th>\n",
              "      <td>0.993860</td>\n",
              "      <td>1.072626</td>\n",
              "    </tr>\n",
              "    <tr>\n",
              "      <th>A6 3.0 Quattro 4dr</th>\n",
              "      <td>1.082891</td>\n",
              "      <td>1.072626</td>\n",
              "    </tr>\n",
              "    <tr>\n",
              "      <th>A4 3.0 convertible 2dr</th>\n",
              "      <td>1.064471</td>\n",
              "      <td>1.005587</td>\n",
              "    </tr>\n",
              "  </tbody>\n",
              "</table>\n",
              "</div>\n",
              "      <button class=\"colab-df-convert\" onclick=\"convertToInteractive('df-c77a6488-7f57-4052-b37c-68f524563147')\"\n",
              "              title=\"Convert this dataframe to an interactive table.\"\n",
              "              style=\"display:none;\">\n",
              "        \n",
              "  <svg xmlns=\"http://www.w3.org/2000/svg\" height=\"24px\"viewBox=\"0 0 24 24\"\n",
              "       width=\"24px\">\n",
              "    <path d=\"M0 0h24v24H0V0z\" fill=\"none\"/>\n",
              "    <path d=\"M18.56 5.44l.94 2.06.94-2.06 2.06-.94-2.06-.94-.94-2.06-.94 2.06-2.06.94zm-11 1L8.5 8.5l.94-2.06 2.06-.94-2.06-.94L8.5 2.5l-.94 2.06-2.06.94zm10 10l.94 2.06.94-2.06 2.06-.94-2.06-.94-.94-2.06-.94 2.06-2.06.94z\"/><path d=\"M17.41 7.96l-1.37-1.37c-.4-.4-.92-.59-1.43-.59-.52 0-1.04.2-1.43.59L10.3 9.45l-7.72 7.72c-.78.78-.78 2.05 0 2.83L4 21.41c.39.39.9.59 1.41.59.51 0 1.02-.2 1.41-.59l7.78-7.78 2.81-2.81c.8-.78.8-2.07 0-2.86zM5.41 20L4 18.59l7.72-7.72 1.47 1.35L5.41 20z\"/>\n",
              "  </svg>\n",
              "      </button>\n",
              "      \n",
              "  <style>\n",
              "    .colab-df-container {\n",
              "      display:flex;\n",
              "      flex-wrap:wrap;\n",
              "      gap: 12px;\n",
              "    }\n",
              "\n",
              "    .colab-df-convert {\n",
              "      background-color: #E8F0FE;\n",
              "      border: none;\n",
              "      border-radius: 50%;\n",
              "      cursor: pointer;\n",
              "      display: none;\n",
              "      fill: #1967D2;\n",
              "      height: 32px;\n",
              "      padding: 0 0 0 0;\n",
              "      width: 32px;\n",
              "    }\n",
              "\n",
              "    .colab-df-convert:hover {\n",
              "      background-color: #E2EBFA;\n",
              "      box-shadow: 0px 1px 2px rgba(60, 64, 67, 0.3), 0px 1px 3px 1px rgba(60, 64, 67, 0.15);\n",
              "      fill: #174EA6;\n",
              "    }\n",
              "\n",
              "    [theme=dark] .colab-df-convert {\n",
              "      background-color: #3B4455;\n",
              "      fill: #D2E3FC;\n",
              "    }\n",
              "\n",
              "    [theme=dark] .colab-df-convert:hover {\n",
              "      background-color: #434B5C;\n",
              "      box-shadow: 0px 1px 3px 1px rgba(0, 0, 0, 0.15);\n",
              "      filter: drop-shadow(0px 1px 2px rgba(0, 0, 0, 0.3));\n",
              "      fill: #FFFFFF;\n",
              "    }\n",
              "  </style>\n",
              "\n",
              "      <script>\n",
              "        const buttonEl =\n",
              "          document.querySelector('#df-c77a6488-7f57-4052-b37c-68f524563147 button.colab-df-convert');\n",
              "        buttonEl.style.display =\n",
              "          google.colab.kernel.accessAllowed ? 'block' : 'none';\n",
              "\n",
              "        async function convertToInteractive(key) {\n",
              "          const element = document.querySelector('#df-c77a6488-7f57-4052-b37c-68f524563147');\n",
              "          const dataTable =\n",
              "            await google.colab.kernel.invokeFunction('convertToInteractive',\n",
              "                                                     [key], {});\n",
              "          if (!dataTable) return;\n",
              "\n",
              "          const docLinkHtml = 'Like what you see? Visit the ' +\n",
              "            '<a target=\"_blank\" href=https://colab.research.google.com/notebooks/data_table.ipynb>data table notebook</a>'\n",
              "            + ' to learn more about interactive tables.';\n",
              "          element.innerHTML = '';\n",
              "          dataTable['output_type'] = 'display_data';\n",
              "          await google.colab.output.renderOutput(dataTable, element);\n",
              "          const docLink = document.createElement('div');\n",
              "          docLink.innerHTML = docLinkHtml;\n",
              "          element.appendChild(docLink);\n",
              "        }\n",
              "      </script>\n",
              "    </div>\n",
              "  </div>\n",
              "  "
            ]
          },
          "metadata": {},
          "execution_count": 59
        }
      ]
    },
    {
      "cell_type": "code",
      "source": [
        "Autos_2 / Autos_2.iloc[0] * 100"
      ],
      "metadata": {
        "colab": {
          "base_uri": "https://localhost:8080/",
          "height": 206
        },
        "id": "o21XgsiTcc8k",
        "outputId": "887bf7a9-3e88-4465-c1cc-c760f713c190"
      },
      "execution_count": null,
      "outputs": [
        {
          "output_type": "execute_result",
          "data": {
            "text/plain": [
              "                                 Peso       Largo\n",
              "A4 3.0 Quattro 4dr manual  100.000000  100.000000\n",
              "A4 3.0 Quattro 4dr auto    101.228021  100.000000\n",
              "A6 3.0 4dr                  99.385989  107.262570\n",
              "A6 3.0 Quattro 4dr         108.289143  107.262570\n",
              "A4 3.0 convertible 2dr     106.447111  100.558659"
            ],
            "text/html": [
              "\n",
              "  <div id=\"df-5af7e67e-1842-4567-95c5-ef34f14b4911\">\n",
              "    <div class=\"colab-df-container\">\n",
              "      <div>\n",
              "<style scoped>\n",
              "    .dataframe tbody tr th:only-of-type {\n",
              "        vertical-align: middle;\n",
              "    }\n",
              "\n",
              "    .dataframe tbody tr th {\n",
              "        vertical-align: top;\n",
              "    }\n",
              "\n",
              "    .dataframe thead th {\n",
              "        text-align: right;\n",
              "    }\n",
              "</style>\n",
              "<table border=\"1\" class=\"dataframe\">\n",
              "  <thead>\n",
              "    <tr style=\"text-align: right;\">\n",
              "      <th></th>\n",
              "      <th>Peso</th>\n",
              "      <th>Largo</th>\n",
              "    </tr>\n",
              "  </thead>\n",
              "  <tbody>\n",
              "    <tr>\n",
              "      <th>A4 3.0 Quattro 4dr manual</th>\n",
              "      <td>100.000000</td>\n",
              "      <td>100.000000</td>\n",
              "    </tr>\n",
              "    <tr>\n",
              "      <th>A4 3.0 Quattro 4dr auto</th>\n",
              "      <td>101.228021</td>\n",
              "      <td>100.000000</td>\n",
              "    </tr>\n",
              "    <tr>\n",
              "      <th>A6 3.0 4dr</th>\n",
              "      <td>99.385989</td>\n",
              "      <td>107.262570</td>\n",
              "    </tr>\n",
              "    <tr>\n",
              "      <th>A6 3.0 Quattro 4dr</th>\n",
              "      <td>108.289143</td>\n",
              "      <td>107.262570</td>\n",
              "    </tr>\n",
              "    <tr>\n",
              "      <th>A4 3.0 convertible 2dr</th>\n",
              "      <td>106.447111</td>\n",
              "      <td>100.558659</td>\n",
              "    </tr>\n",
              "  </tbody>\n",
              "</table>\n",
              "</div>\n",
              "      <button class=\"colab-df-convert\" onclick=\"convertToInteractive('df-5af7e67e-1842-4567-95c5-ef34f14b4911')\"\n",
              "              title=\"Convert this dataframe to an interactive table.\"\n",
              "              style=\"display:none;\">\n",
              "        \n",
              "  <svg xmlns=\"http://www.w3.org/2000/svg\" height=\"24px\"viewBox=\"0 0 24 24\"\n",
              "       width=\"24px\">\n",
              "    <path d=\"M0 0h24v24H0V0z\" fill=\"none\"/>\n",
              "    <path d=\"M18.56 5.44l.94 2.06.94-2.06 2.06-.94-2.06-.94-.94-2.06-.94 2.06-2.06.94zm-11 1L8.5 8.5l.94-2.06 2.06-.94-2.06-.94L8.5 2.5l-.94 2.06-2.06.94zm10 10l.94 2.06.94-2.06 2.06-.94-2.06-.94-.94-2.06-.94 2.06-2.06.94z\"/><path d=\"M17.41 7.96l-1.37-1.37c-.4-.4-.92-.59-1.43-.59-.52 0-1.04.2-1.43.59L10.3 9.45l-7.72 7.72c-.78.78-.78 2.05 0 2.83L4 21.41c.39.39.9.59 1.41.59.51 0 1.02-.2 1.41-.59l7.78-7.78 2.81-2.81c.8-.78.8-2.07 0-2.86zM5.41 20L4 18.59l7.72-7.72 1.47 1.35L5.41 20z\"/>\n",
              "  </svg>\n",
              "      </button>\n",
              "      \n",
              "  <style>\n",
              "    .colab-df-container {\n",
              "      display:flex;\n",
              "      flex-wrap:wrap;\n",
              "      gap: 12px;\n",
              "    }\n",
              "\n",
              "    .colab-df-convert {\n",
              "      background-color: #E8F0FE;\n",
              "      border: none;\n",
              "      border-radius: 50%;\n",
              "      cursor: pointer;\n",
              "      display: none;\n",
              "      fill: #1967D2;\n",
              "      height: 32px;\n",
              "      padding: 0 0 0 0;\n",
              "      width: 32px;\n",
              "    }\n",
              "\n",
              "    .colab-df-convert:hover {\n",
              "      background-color: #E2EBFA;\n",
              "      box-shadow: 0px 1px 2px rgba(60, 64, 67, 0.3), 0px 1px 3px 1px rgba(60, 64, 67, 0.15);\n",
              "      fill: #174EA6;\n",
              "    }\n",
              "\n",
              "    [theme=dark] .colab-df-convert {\n",
              "      background-color: #3B4455;\n",
              "      fill: #D2E3FC;\n",
              "    }\n",
              "\n",
              "    [theme=dark] .colab-df-convert:hover {\n",
              "      background-color: #434B5C;\n",
              "      box-shadow: 0px 1px 3px 1px rgba(0, 0, 0, 0.15);\n",
              "      filter: drop-shadow(0px 1px 2px rgba(0, 0, 0, 0.3));\n",
              "      fill: #FFFFFF;\n",
              "    }\n",
              "  </style>\n",
              "\n",
              "      <script>\n",
              "        const buttonEl =\n",
              "          document.querySelector('#df-5af7e67e-1842-4567-95c5-ef34f14b4911 button.colab-df-convert');\n",
              "        buttonEl.style.display =\n",
              "          google.colab.kernel.accessAllowed ? 'block' : 'none';\n",
              "\n",
              "        async function convertToInteractive(key) {\n",
              "          const element = document.querySelector('#df-5af7e67e-1842-4567-95c5-ef34f14b4911');\n",
              "          const dataTable =\n",
              "            await google.colab.kernel.invokeFunction('convertToInteractive',\n",
              "                                                     [key], {});\n",
              "          if (!dataTable) return;\n",
              "\n",
              "          const docLinkHtml = 'Like what you see? Visit the ' +\n",
              "            '<a target=\"_blank\" href=https://colab.research.google.com/notebooks/data_table.ipynb>data table notebook</a>'\n",
              "            + ' to learn more about interactive tables.';\n",
              "          element.innerHTML = '';\n",
              "          dataTable['output_type'] = 'display_data';\n",
              "          await google.colab.output.renderOutput(dataTable, element);\n",
              "          const docLink = document.createElement('div');\n",
              "          docLink.innerHTML = docLinkHtml;\n",
              "          element.appendChild(docLink);\n",
              "        }\n",
              "      </script>\n",
              "    </div>\n",
              "  </div>\n",
              "  "
            ]
          },
          "metadata": {},
          "execution_count": 57
        }
      ]
    },
    {
      "cell_type": "code",
      "source": [
        "a"
      ],
      "metadata": {
        "colab": {
          "base_uri": "https://localhost:8080/"
        },
        "id": "b9Eb4bEitjz4",
        "outputId": "d3d26b30-4ab8-493b-dd48-9ca4262f9dbb"
      },
      "execution_count": null,
      "outputs": [
        {
          "output_type": "execute_result",
          "data": {
            "text/plain": [
              "A    1\n",
              "B    2\n",
              "C    3\n",
              "D    4\n",
              "dtype: int64"
            ]
          },
          "metadata": {},
          "execution_count": 60
        }
      ]
    },
    {
      "cell_type": "code",
      "source": [
        "b"
      ],
      "metadata": {
        "colab": {
          "base_uri": "https://localhost:8080/"
        },
        "id": "pHAa7SjKtkiR",
        "outputId": "823148be-2915-413e-a3a8-87854c91336a"
      },
      "execution_count": null,
      "outputs": [
        {
          "output_type": "execute_result",
          "data": {
            "text/plain": [
              "A    2\n",
              "D    4\n",
              "E    6\n",
              "D    8\n",
              "dtype: int64"
            ]
          },
          "metadata": {},
          "execution_count": 61
        }
      ]
    },
    {
      "cell_type": "code",
      "source": [
        "a+b"
      ],
      "metadata": {
        "colab": {
          "base_uri": "https://localhost:8080/"
        },
        "id": "OeWRi6CItrWj",
        "outputId": "4614e822-9251-436c-8dd8-06ddbc8a5fbd"
      },
      "execution_count": null,
      "outputs": [
        {
          "output_type": "execute_result",
          "data": {
            "text/plain": [
              "A     3.0\n",
              "B     NaN\n",
              "C     NaN\n",
              "D     8.0\n",
              "D    12.0\n",
              "E     NaN\n",
              "dtype: float64"
            ]
          },
          "metadata": {},
          "execution_count": 63
        }
      ]
    },
    {
      "cell_type": "code",
      "source": [
        "# datos ausentes\n",
        "a.add(b, fill_value=0)"
      ],
      "metadata": {
        "colab": {
          "base_uri": "https://localhost:8080/"
        },
        "id": "b9mbICSudP1a",
        "outputId": "6566f3c4-0e82-404b-8773-0304cd01c818"
      },
      "execution_count": null,
      "outputs": [
        {
          "output_type": "execute_result",
          "data": {
            "text/plain": [
              "A     3.0\n",
              "B     2.0\n",
              "C     3.0\n",
              "D     8.0\n",
              "D    12.0\n",
              "E     6.0\n",
              "dtype: float64"
            ]
          },
          "metadata": {},
          "execution_count": 66
        }
      ]
    },
    {
      "cell_type": "code",
      "source": [
        "# Nans basico\n",
        "valor_nan = np.nan\n",
        "type(valor_nan)"
      ],
      "metadata": {
        "colab": {
          "base_uri": "https://localhost:8080/"
        },
        "id": "6B08g5M0dg97",
        "outputId": "a5ae9ba7-1db8-4bd5-9a9a-f9eda614eeb3"
      },
      "execution_count": null,
      "outputs": [
        {
          "output_type": "execute_result",
          "data": {
            "text/plain": [
              "float"
            ]
          },
          "metadata": {},
          "execution_count": 67
        }
      ]
    },
    {
      "cell_type": "code",
      "source": [
        "2 * valor_nan"
      ],
      "metadata": {
        "colab": {
          "base_uri": "https://localhost:8080/"
        },
        "id": "HsGBNheCdkl3",
        "outputId": "7e2e359b-f71c-4693-aa49-8893fae788df"
      },
      "execution_count": null,
      "outputs": [
        {
          "output_type": "execute_result",
          "data": {
            "text/plain": [
              "nan"
            ]
          },
          "metadata": {},
          "execution_count": 68
        }
      ]
    },
    {
      "cell_type": "code",
      "source": [
        "np.nanprod([2,valor_nan])"
      ],
      "metadata": {
        "colab": {
          "base_uri": "https://localhost:8080/"
        },
        "id": "TeSvZ8ppdmqe",
        "outputId": "4d4526d2-254a-4212-ea27-90520278d3b2"
      },
      "execution_count": null,
      "outputs": [
        {
          "output_type": "execute_result",
          "data": {
            "text/plain": [
              "2.0"
            ]
          },
          "metadata": {},
          "execution_count": 69
        }
      ]
    },
    {
      "cell_type": "code",
      "source": [
        "a"
      ],
      "metadata": {
        "colab": {
          "base_uri": "https://localhost:8080/"
        },
        "id": "c_PyV3PyxQic",
        "outputId": "9d8e42e4-6408-4c68-93ca-eb99d9fed217"
      },
      "execution_count": null,
      "outputs": [
        {
          "output_type": "execute_result",
          "data": {
            "text/plain": [
              "A    1\n",
              "B    2\n",
              "C    3\n",
              "D    4\n",
              "dtype: int64"
            ]
          },
          "metadata": {},
          "execution_count": 70
        }
      ]
    },
    {
      "cell_type": "code",
      "source": [
        "b"
      ],
      "metadata": {
        "colab": {
          "base_uri": "https://localhost:8080/"
        },
        "id": "i-Kr-KwoxRsl",
        "outputId": "0e2aebf6-ca3b-4efc-c4cb-f7e07ef38b55"
      },
      "execution_count": null,
      "outputs": [
        {
          "output_type": "execute_result",
          "data": {
            "text/plain": [
              "A    2\n",
              "D    4\n",
              "E    6\n",
              "D    8\n",
              "dtype: int64"
            ]
          },
          "metadata": {},
          "execution_count": 71
        }
      ]
    },
    {
      "cell_type": "code",
      "source": [
        "Numeros_nan=a+b\n",
        "Numeros_nan"
      ],
      "metadata": {
        "colab": {
          "base_uri": "https://localhost:8080/"
        },
        "id": "Bfpm5DCbdqD3",
        "outputId": "7adb0538-75a5-4c17-f583-8aed2b3ae743"
      },
      "execution_count": null,
      "outputs": [
        {
          "output_type": "execute_result",
          "data": {
            "text/plain": [
              "A     3.0\n",
              "B     NaN\n",
              "C     NaN\n",
              "D     8.0\n",
              "D    12.0\n",
              "E     NaN\n",
              "dtype: float64"
            ]
          },
          "metadata": {},
          "execution_count": 72
        }
      ]
    },
    {
      "cell_type": "code",
      "source": [
        "Numeros_nan.isnull()"
      ],
      "metadata": {
        "colab": {
          "base_uri": "https://localhost:8080/"
        },
        "id": "PuZmOgqGdtj0",
        "outputId": "6f8504d9-400c-43fd-b7b1-2742e5faec3d"
      },
      "execution_count": null,
      "outputs": [
        {
          "output_type": "execute_result",
          "data": {
            "text/plain": [
              "A    False\n",
              "B     True\n",
              "C     True\n",
              "D    False\n",
              "D    False\n",
              "E     True\n",
              "dtype: bool"
            ]
          },
          "metadata": {},
          "execution_count": 73
        }
      ]
    },
    {
      "cell_type": "code",
      "source": [
        "Numeros_nan.isnull().sum()"
      ],
      "metadata": {
        "colab": {
          "base_uri": "https://localhost:8080/"
        },
        "id": "3A3DZYdXdy1B",
        "outputId": "bd21bdc9-52f5-427f-f966-c61ce4972b8b"
      },
      "execution_count": null,
      "outputs": [
        {
          "output_type": "execute_result",
          "data": {
            "text/plain": [
              "3"
            ]
          },
          "metadata": {},
          "execution_count": 74
        }
      ]
    },
    {
      "cell_type": "code",
      "source": [
        "Numeros_nan.fillna(0)"
      ],
      "metadata": {
        "colab": {
          "base_uri": "https://localhost:8080/"
        },
        "id": "mnyD9OyYd1IS",
        "outputId": "ca9259b3-dba4-41d8-f4de-0b1d3b3d1280"
      },
      "execution_count": null,
      "outputs": [
        {
          "output_type": "execute_result",
          "data": {
            "text/plain": [
              "A     3.0\n",
              "B     0.0\n",
              "C     0.0\n",
              "D     8.0\n",
              "D    12.0\n",
              "E     0.0\n",
              "dtype: float64"
            ]
          },
          "metadata": {},
          "execution_count": 78
        }
      ]
    },
    {
      "cell_type": "code",
      "source": [
        "Numeros_nan"
      ],
      "metadata": {
        "colab": {
          "base_uri": "https://localhost:8080/"
        },
        "id": "F_mUAWCnd2Ov",
        "outputId": "fb0bd940-31e7-495e-f83e-6d33b7fef8d1"
      },
      "execution_count": null,
      "outputs": [
        {
          "output_type": "execute_result",
          "data": {
            "text/plain": [
              "A     3.0\n",
              "B     NaN\n",
              "C     NaN\n",
              "D     8.0\n",
              "D    12.0\n",
              "E     NaN\n",
              "dtype: float64"
            ]
          },
          "metadata": {},
          "execution_count": 79
        }
      ]
    },
    {
      "cell_type": "code",
      "source": [
        "Numeros_nan.dropna()"
      ],
      "metadata": {
        "colab": {
          "base_uri": "https://localhost:8080/"
        },
        "id": "rBL113KBd6gL",
        "outputId": "613375cb-30a7-4418-a75e-4bbeccb3863a"
      },
      "execution_count": null,
      "outputs": [
        {
          "output_type": "execute_result",
          "data": {
            "text/plain": [
              "A     3.0\n",
              "D     8.0\n",
              "D    12.0\n",
              "dtype: float64"
            ]
          },
          "metadata": {},
          "execution_count": 80
        }
      ]
    },
    {
      "cell_type": "code",
      "source": [
        "a=pd.Series(data=[1,2,np.nan])\n",
        "b=pd.Series(data=[1,3,4])\n",
        "df= pd.DataFrame(data={'A':a, 'B':b})\n",
        "df.isnull().sum()\n",
        "df"
      ],
      "metadata": {
        "colab": {
          "base_uri": "https://localhost:8080/",
          "height": 143
        },
        "id": "uDoirN7mxxGS",
        "outputId": "2a18654a-b0ea-47e7-ddf7-4108a7f13250"
      },
      "execution_count": null,
      "outputs": [
        {
          "output_type": "execute_result",
          "data": {
            "text/plain": [
              "     A  B\n",
              "0  1.0  1\n",
              "1  2.0  3\n",
              "2  NaN  4"
            ],
            "text/html": [
              "\n",
              "  <div id=\"df-bb5ed53f-21bc-4523-a375-19c606a7ec32\">\n",
              "    <div class=\"colab-df-container\">\n",
              "      <div>\n",
              "<style scoped>\n",
              "    .dataframe tbody tr th:only-of-type {\n",
              "        vertical-align: middle;\n",
              "    }\n",
              "\n",
              "    .dataframe tbody tr th {\n",
              "        vertical-align: top;\n",
              "    }\n",
              "\n",
              "    .dataframe thead th {\n",
              "        text-align: right;\n",
              "    }\n",
              "</style>\n",
              "<table border=\"1\" class=\"dataframe\">\n",
              "  <thead>\n",
              "    <tr style=\"text-align: right;\">\n",
              "      <th></th>\n",
              "      <th>A</th>\n",
              "      <th>B</th>\n",
              "    </tr>\n",
              "  </thead>\n",
              "  <tbody>\n",
              "    <tr>\n",
              "      <th>0</th>\n",
              "      <td>1.0</td>\n",
              "      <td>1</td>\n",
              "    </tr>\n",
              "    <tr>\n",
              "      <th>1</th>\n",
              "      <td>2.0</td>\n",
              "      <td>3</td>\n",
              "    </tr>\n",
              "    <tr>\n",
              "      <th>2</th>\n",
              "      <td>NaN</td>\n",
              "      <td>4</td>\n",
              "    </tr>\n",
              "  </tbody>\n",
              "</table>\n",
              "</div>\n",
              "      <button class=\"colab-df-convert\" onclick=\"convertToInteractive('df-bb5ed53f-21bc-4523-a375-19c606a7ec32')\"\n",
              "              title=\"Convert this dataframe to an interactive table.\"\n",
              "              style=\"display:none;\">\n",
              "        \n",
              "  <svg xmlns=\"http://www.w3.org/2000/svg\" height=\"24px\"viewBox=\"0 0 24 24\"\n",
              "       width=\"24px\">\n",
              "    <path d=\"M0 0h24v24H0V0z\" fill=\"none\"/>\n",
              "    <path d=\"M18.56 5.44l.94 2.06.94-2.06 2.06-.94-2.06-.94-.94-2.06-.94 2.06-2.06.94zm-11 1L8.5 8.5l.94-2.06 2.06-.94-2.06-.94L8.5 2.5l-.94 2.06-2.06.94zm10 10l.94 2.06.94-2.06 2.06-.94-2.06-.94-.94-2.06-.94 2.06-2.06.94z\"/><path d=\"M17.41 7.96l-1.37-1.37c-.4-.4-.92-.59-1.43-.59-.52 0-1.04.2-1.43.59L10.3 9.45l-7.72 7.72c-.78.78-.78 2.05 0 2.83L4 21.41c.39.39.9.59 1.41.59.51 0 1.02-.2 1.41-.59l7.78-7.78 2.81-2.81c.8-.78.8-2.07 0-2.86zM5.41 20L4 18.59l7.72-7.72 1.47 1.35L5.41 20z\"/>\n",
              "  </svg>\n",
              "      </button>\n",
              "      \n",
              "  <style>\n",
              "    .colab-df-container {\n",
              "      display:flex;\n",
              "      flex-wrap:wrap;\n",
              "      gap: 12px;\n",
              "    }\n",
              "\n",
              "    .colab-df-convert {\n",
              "      background-color: #E8F0FE;\n",
              "      border: none;\n",
              "      border-radius: 50%;\n",
              "      cursor: pointer;\n",
              "      display: none;\n",
              "      fill: #1967D2;\n",
              "      height: 32px;\n",
              "      padding: 0 0 0 0;\n",
              "      width: 32px;\n",
              "    }\n",
              "\n",
              "    .colab-df-convert:hover {\n",
              "      background-color: #E2EBFA;\n",
              "      box-shadow: 0px 1px 2px rgba(60, 64, 67, 0.3), 0px 1px 3px 1px rgba(60, 64, 67, 0.15);\n",
              "      fill: #174EA6;\n",
              "    }\n",
              "\n",
              "    [theme=dark] .colab-df-convert {\n",
              "      background-color: #3B4455;\n",
              "      fill: #D2E3FC;\n",
              "    }\n",
              "\n",
              "    [theme=dark] .colab-df-convert:hover {\n",
              "      background-color: #434B5C;\n",
              "      box-shadow: 0px 1px 3px 1px rgba(0, 0, 0, 0.15);\n",
              "      filter: drop-shadow(0px 1px 2px rgba(0, 0, 0, 0.3));\n",
              "      fill: #FFFFFF;\n",
              "    }\n",
              "  </style>\n",
              "\n",
              "      <script>\n",
              "        const buttonEl =\n",
              "          document.querySelector('#df-bb5ed53f-21bc-4523-a375-19c606a7ec32 button.colab-df-convert');\n",
              "        buttonEl.style.display =\n",
              "          google.colab.kernel.accessAllowed ? 'block' : 'none';\n",
              "\n",
              "        async function convertToInteractive(key) {\n",
              "          const element = document.querySelector('#df-bb5ed53f-21bc-4523-a375-19c606a7ec32');\n",
              "          const dataTable =\n",
              "            await google.colab.kernel.invokeFunction('convertToInteractive',\n",
              "                                                     [key], {});\n",
              "          if (!dataTable) return;\n",
              "\n",
              "          const docLinkHtml = 'Like what you see? Visit the ' +\n",
              "            '<a target=\"_blank\" href=https://colab.research.google.com/notebooks/data_table.ipynb>data table notebook</a>'\n",
              "            + ' to learn more about interactive tables.';\n",
              "          element.innerHTML = '';\n",
              "          dataTable['output_type'] = 'display_data';\n",
              "          await google.colab.output.renderOutput(dataTable, element);\n",
              "          const docLink = document.createElement('div');\n",
              "          docLink.innerHTML = docLinkHtml;\n",
              "          element.appendChild(docLink);\n",
              "        }\n",
              "      </script>\n",
              "    </div>\n",
              "  </div>\n",
              "  "
            ]
          },
          "metadata": {},
          "execution_count": 85
        }
      ]
    },
    {
      "cell_type": "code",
      "source": [
        "df.dropna(subset=['A'])"
      ],
      "metadata": {
        "colab": {
          "base_uri": "https://localhost:8080/",
          "height": 112
        },
        "id": "FNbiVDRKyKJX",
        "outputId": "c586265c-007a-4958-e233-5c4389feb8e2"
      },
      "execution_count": null,
      "outputs": [
        {
          "output_type": "execute_result",
          "data": {
            "text/plain": [
              "     A  B\n",
              "0  1.0  1\n",
              "1  2.0  3"
            ],
            "text/html": [
              "\n",
              "  <div id=\"df-fbae4c3c-d345-45bc-b6de-98daf0e7fa6a\">\n",
              "    <div class=\"colab-df-container\">\n",
              "      <div>\n",
              "<style scoped>\n",
              "    .dataframe tbody tr th:only-of-type {\n",
              "        vertical-align: middle;\n",
              "    }\n",
              "\n",
              "    .dataframe tbody tr th {\n",
              "        vertical-align: top;\n",
              "    }\n",
              "\n",
              "    .dataframe thead th {\n",
              "        text-align: right;\n",
              "    }\n",
              "</style>\n",
              "<table border=\"1\" class=\"dataframe\">\n",
              "  <thead>\n",
              "    <tr style=\"text-align: right;\">\n",
              "      <th></th>\n",
              "      <th>A</th>\n",
              "      <th>B</th>\n",
              "    </tr>\n",
              "  </thead>\n",
              "  <tbody>\n",
              "    <tr>\n",
              "      <th>0</th>\n",
              "      <td>1.0</td>\n",
              "      <td>1</td>\n",
              "    </tr>\n",
              "    <tr>\n",
              "      <th>1</th>\n",
              "      <td>2.0</td>\n",
              "      <td>3</td>\n",
              "    </tr>\n",
              "  </tbody>\n",
              "</table>\n",
              "</div>\n",
              "      <button class=\"colab-df-convert\" onclick=\"convertToInteractive('df-fbae4c3c-d345-45bc-b6de-98daf0e7fa6a')\"\n",
              "              title=\"Convert this dataframe to an interactive table.\"\n",
              "              style=\"display:none;\">\n",
              "        \n",
              "  <svg xmlns=\"http://www.w3.org/2000/svg\" height=\"24px\"viewBox=\"0 0 24 24\"\n",
              "       width=\"24px\">\n",
              "    <path d=\"M0 0h24v24H0V0z\" fill=\"none\"/>\n",
              "    <path d=\"M18.56 5.44l.94 2.06.94-2.06 2.06-.94-2.06-.94-.94-2.06-.94 2.06-2.06.94zm-11 1L8.5 8.5l.94-2.06 2.06-.94-2.06-.94L8.5 2.5l-.94 2.06-2.06.94zm10 10l.94 2.06.94-2.06 2.06-.94-2.06-.94-.94-2.06-.94 2.06-2.06.94z\"/><path d=\"M17.41 7.96l-1.37-1.37c-.4-.4-.92-.59-1.43-.59-.52 0-1.04.2-1.43.59L10.3 9.45l-7.72 7.72c-.78.78-.78 2.05 0 2.83L4 21.41c.39.39.9.59 1.41.59.51 0 1.02-.2 1.41-.59l7.78-7.78 2.81-2.81c.8-.78.8-2.07 0-2.86zM5.41 20L4 18.59l7.72-7.72 1.47 1.35L5.41 20z\"/>\n",
              "  </svg>\n",
              "      </button>\n",
              "      \n",
              "  <style>\n",
              "    .colab-df-container {\n",
              "      display:flex;\n",
              "      flex-wrap:wrap;\n",
              "      gap: 12px;\n",
              "    }\n",
              "\n",
              "    .colab-df-convert {\n",
              "      background-color: #E8F0FE;\n",
              "      border: none;\n",
              "      border-radius: 50%;\n",
              "      cursor: pointer;\n",
              "      display: none;\n",
              "      fill: #1967D2;\n",
              "      height: 32px;\n",
              "      padding: 0 0 0 0;\n",
              "      width: 32px;\n",
              "    }\n",
              "\n",
              "    .colab-df-convert:hover {\n",
              "      background-color: #E2EBFA;\n",
              "      box-shadow: 0px 1px 2px rgba(60, 64, 67, 0.3), 0px 1px 3px 1px rgba(60, 64, 67, 0.15);\n",
              "      fill: #174EA6;\n",
              "    }\n",
              "\n",
              "    [theme=dark] .colab-df-convert {\n",
              "      background-color: #3B4455;\n",
              "      fill: #D2E3FC;\n",
              "    }\n",
              "\n",
              "    [theme=dark] .colab-df-convert:hover {\n",
              "      background-color: #434B5C;\n",
              "      box-shadow: 0px 1px 3px 1px rgba(0, 0, 0, 0.15);\n",
              "      filter: drop-shadow(0px 1px 2px rgba(0, 0, 0, 0.3));\n",
              "      fill: #FFFFFF;\n",
              "    }\n",
              "  </style>\n",
              "\n",
              "      <script>\n",
              "        const buttonEl =\n",
              "          document.querySelector('#df-fbae4c3c-d345-45bc-b6de-98daf0e7fa6a button.colab-df-convert');\n",
              "        buttonEl.style.display =\n",
              "          google.colab.kernel.accessAllowed ? 'block' : 'none';\n",
              "\n",
              "        async function convertToInteractive(key) {\n",
              "          const element = document.querySelector('#df-fbae4c3c-d345-45bc-b6de-98daf0e7fa6a');\n",
              "          const dataTable =\n",
              "            await google.colab.kernel.invokeFunction('convertToInteractive',\n",
              "                                                     [key], {});\n",
              "          if (!dataTable) return;\n",
              "\n",
              "          const docLinkHtml = 'Like what you see? Visit the ' +\n",
              "            '<a target=\"_blank\" href=https://colab.research.google.com/notebooks/data_table.ipynb>data table notebook</a>'\n",
              "            + ' to learn more about interactive tables.';\n",
              "          element.innerHTML = '';\n",
              "          dataTable['output_type'] = 'display_data';\n",
              "          await google.colab.output.renderOutput(dataTable, element);\n",
              "          const docLink = document.createElement('div');\n",
              "          docLink.innerHTML = docLinkHtml;\n",
              "          element.appendChild(docLink);\n",
              "        }\n",
              "      </script>\n",
              "    </div>\n",
              "  </div>\n",
              "  "
            ]
          },
          "metadata": {},
          "execution_count": 88
        }
      ]
    },
    {
      "cell_type": "code",
      "source": [
        "df_c=df.copy()\n",
        "df_c"
      ],
      "metadata": {
        "colab": {
          "base_uri": "https://localhost:8080/",
          "height": 143
        },
        "id": "dPjzdZzQymmF",
        "outputId": "8ef55adb-434f-47b6-da65-7a4d660b91b1"
      },
      "execution_count": null,
      "outputs": [
        {
          "output_type": "execute_result",
          "data": {
            "text/plain": [
              "     A  B\n",
              "0  1.0  1\n",
              "1  2.0  3\n",
              "2  NaN  4"
            ],
            "text/html": [
              "\n",
              "  <div id=\"df-facb606c-afe5-4ebe-b19e-422ac768eafd\">\n",
              "    <div class=\"colab-df-container\">\n",
              "      <div>\n",
              "<style scoped>\n",
              "    .dataframe tbody tr th:only-of-type {\n",
              "        vertical-align: middle;\n",
              "    }\n",
              "\n",
              "    .dataframe tbody tr th {\n",
              "        vertical-align: top;\n",
              "    }\n",
              "\n",
              "    .dataframe thead th {\n",
              "        text-align: right;\n",
              "    }\n",
              "</style>\n",
              "<table border=\"1\" class=\"dataframe\">\n",
              "  <thead>\n",
              "    <tr style=\"text-align: right;\">\n",
              "      <th></th>\n",
              "      <th>A</th>\n",
              "      <th>B</th>\n",
              "    </tr>\n",
              "  </thead>\n",
              "  <tbody>\n",
              "    <tr>\n",
              "      <th>0</th>\n",
              "      <td>1.0</td>\n",
              "      <td>1</td>\n",
              "    </tr>\n",
              "    <tr>\n",
              "      <th>1</th>\n",
              "      <td>2.0</td>\n",
              "      <td>3</td>\n",
              "    </tr>\n",
              "    <tr>\n",
              "      <th>2</th>\n",
              "      <td>NaN</td>\n",
              "      <td>4</td>\n",
              "    </tr>\n",
              "  </tbody>\n",
              "</table>\n",
              "</div>\n",
              "      <button class=\"colab-df-convert\" onclick=\"convertToInteractive('df-facb606c-afe5-4ebe-b19e-422ac768eafd')\"\n",
              "              title=\"Convert this dataframe to an interactive table.\"\n",
              "              style=\"display:none;\">\n",
              "        \n",
              "  <svg xmlns=\"http://www.w3.org/2000/svg\" height=\"24px\"viewBox=\"0 0 24 24\"\n",
              "       width=\"24px\">\n",
              "    <path d=\"M0 0h24v24H0V0z\" fill=\"none\"/>\n",
              "    <path d=\"M18.56 5.44l.94 2.06.94-2.06 2.06-.94-2.06-.94-.94-2.06-.94 2.06-2.06.94zm-11 1L8.5 8.5l.94-2.06 2.06-.94-2.06-.94L8.5 2.5l-.94 2.06-2.06.94zm10 10l.94 2.06.94-2.06 2.06-.94-2.06-.94-.94-2.06-.94 2.06-2.06.94z\"/><path d=\"M17.41 7.96l-1.37-1.37c-.4-.4-.92-.59-1.43-.59-.52 0-1.04.2-1.43.59L10.3 9.45l-7.72 7.72c-.78.78-.78 2.05 0 2.83L4 21.41c.39.39.9.59 1.41.59.51 0 1.02-.2 1.41-.59l7.78-7.78 2.81-2.81c.8-.78.8-2.07 0-2.86zM5.41 20L4 18.59l7.72-7.72 1.47 1.35L5.41 20z\"/>\n",
              "  </svg>\n",
              "      </button>\n",
              "      \n",
              "  <style>\n",
              "    .colab-df-container {\n",
              "      display:flex;\n",
              "      flex-wrap:wrap;\n",
              "      gap: 12px;\n",
              "    }\n",
              "\n",
              "    .colab-df-convert {\n",
              "      background-color: #E8F0FE;\n",
              "      border: none;\n",
              "      border-radius: 50%;\n",
              "      cursor: pointer;\n",
              "      display: none;\n",
              "      fill: #1967D2;\n",
              "      height: 32px;\n",
              "      padding: 0 0 0 0;\n",
              "      width: 32px;\n",
              "    }\n",
              "\n",
              "    .colab-df-convert:hover {\n",
              "      background-color: #E2EBFA;\n",
              "      box-shadow: 0px 1px 2px rgba(60, 64, 67, 0.3), 0px 1px 3px 1px rgba(60, 64, 67, 0.15);\n",
              "      fill: #174EA6;\n",
              "    }\n",
              "\n",
              "    [theme=dark] .colab-df-convert {\n",
              "      background-color: #3B4455;\n",
              "      fill: #D2E3FC;\n",
              "    }\n",
              "\n",
              "    [theme=dark] .colab-df-convert:hover {\n",
              "      background-color: #434B5C;\n",
              "      box-shadow: 0px 1px 3px 1px rgba(0, 0, 0, 0.15);\n",
              "      filter: drop-shadow(0px 1px 2px rgba(0, 0, 0, 0.3));\n",
              "      fill: #FFFFFF;\n",
              "    }\n",
              "  </style>\n",
              "\n",
              "      <script>\n",
              "        const buttonEl =\n",
              "          document.querySelector('#df-facb606c-afe5-4ebe-b19e-422ac768eafd button.colab-df-convert');\n",
              "        buttonEl.style.display =\n",
              "          google.colab.kernel.accessAllowed ? 'block' : 'none';\n",
              "\n",
              "        async function convertToInteractive(key) {\n",
              "          const element = document.querySelector('#df-facb606c-afe5-4ebe-b19e-422ac768eafd');\n",
              "          const dataTable =\n",
              "            await google.colab.kernel.invokeFunction('convertToInteractive',\n",
              "                                                     [key], {});\n",
              "          if (!dataTable) return;\n",
              "\n",
              "          const docLinkHtml = 'Like what you see? Visit the ' +\n",
              "            '<a target=\"_blank\" href=https://colab.research.google.com/notebooks/data_table.ipynb>data table notebook</a>'\n",
              "            + ' to learn more about interactive tables.';\n",
              "          element.innerHTML = '';\n",
              "          dataTable['output_type'] = 'display_data';\n",
              "          await google.colab.output.renderOutput(dataTable, element);\n",
              "          const docLink = document.createElement('div');\n",
              "          docLink.innerHTML = docLinkHtml;\n",
              "          element.appendChild(docLink);\n",
              "        }\n",
              "      </script>\n",
              "    </div>\n",
              "  </div>\n",
              "  "
            ]
          },
          "metadata": {},
          "execution_count": 90
        }
      ]
    },
    {
      "cell_type": "code",
      "source": [
        "# Metodo pct_change\n",
        "df= pd.DataFrame(data=[10,11,15,16,11,5], index=['A','B','C','D','E','F'],columns=['Data'])\n",
        "df"
      ],
      "metadata": {
        "colab": {
          "base_uri": "https://localhost:8080/",
          "height": 238
        },
        "id": "_RU40yWpeBvd",
        "outputId": "55ae8945-e6ad-4bb6-9c34-4a99d9139c86"
      },
      "execution_count": null,
      "outputs": [
        {
          "output_type": "execute_result",
          "data": {
            "text/plain": [
              "   Data\n",
              "A    10\n",
              "B    11\n",
              "C    15\n",
              "D    16\n",
              "E    11\n",
              "F     5"
            ],
            "text/html": [
              "\n",
              "  <div id=\"df-9322ee9b-0ac4-4a3a-b413-40ca76925d91\">\n",
              "    <div class=\"colab-df-container\">\n",
              "      <div>\n",
              "<style scoped>\n",
              "    .dataframe tbody tr th:only-of-type {\n",
              "        vertical-align: middle;\n",
              "    }\n",
              "\n",
              "    .dataframe tbody tr th {\n",
              "        vertical-align: top;\n",
              "    }\n",
              "\n",
              "    .dataframe thead th {\n",
              "        text-align: right;\n",
              "    }\n",
              "</style>\n",
              "<table border=\"1\" class=\"dataframe\">\n",
              "  <thead>\n",
              "    <tr style=\"text-align: right;\">\n",
              "      <th></th>\n",
              "      <th>Data</th>\n",
              "    </tr>\n",
              "  </thead>\n",
              "  <tbody>\n",
              "    <tr>\n",
              "      <th>A</th>\n",
              "      <td>10</td>\n",
              "    </tr>\n",
              "    <tr>\n",
              "      <th>B</th>\n",
              "      <td>11</td>\n",
              "    </tr>\n",
              "    <tr>\n",
              "      <th>C</th>\n",
              "      <td>15</td>\n",
              "    </tr>\n",
              "    <tr>\n",
              "      <th>D</th>\n",
              "      <td>16</td>\n",
              "    </tr>\n",
              "    <tr>\n",
              "      <th>E</th>\n",
              "      <td>11</td>\n",
              "    </tr>\n",
              "    <tr>\n",
              "      <th>F</th>\n",
              "      <td>5</td>\n",
              "    </tr>\n",
              "  </tbody>\n",
              "</table>\n",
              "</div>\n",
              "      <button class=\"colab-df-convert\" onclick=\"convertToInteractive('df-9322ee9b-0ac4-4a3a-b413-40ca76925d91')\"\n",
              "              title=\"Convert this dataframe to an interactive table.\"\n",
              "              style=\"display:none;\">\n",
              "        \n",
              "  <svg xmlns=\"http://www.w3.org/2000/svg\" height=\"24px\"viewBox=\"0 0 24 24\"\n",
              "       width=\"24px\">\n",
              "    <path d=\"M0 0h24v24H0V0z\" fill=\"none\"/>\n",
              "    <path d=\"M18.56 5.44l.94 2.06.94-2.06 2.06-.94-2.06-.94-.94-2.06-.94 2.06-2.06.94zm-11 1L8.5 8.5l.94-2.06 2.06-.94-2.06-.94L8.5 2.5l-.94 2.06-2.06.94zm10 10l.94 2.06.94-2.06 2.06-.94-2.06-.94-.94-2.06-.94 2.06-2.06.94z\"/><path d=\"M17.41 7.96l-1.37-1.37c-.4-.4-.92-.59-1.43-.59-.52 0-1.04.2-1.43.59L10.3 9.45l-7.72 7.72c-.78.78-.78 2.05 0 2.83L4 21.41c.39.39.9.59 1.41.59.51 0 1.02-.2 1.41-.59l7.78-7.78 2.81-2.81c.8-.78.8-2.07 0-2.86zM5.41 20L4 18.59l7.72-7.72 1.47 1.35L5.41 20z\"/>\n",
              "  </svg>\n",
              "      </button>\n",
              "      \n",
              "  <style>\n",
              "    .colab-df-container {\n",
              "      display:flex;\n",
              "      flex-wrap:wrap;\n",
              "      gap: 12px;\n",
              "    }\n",
              "\n",
              "    .colab-df-convert {\n",
              "      background-color: #E8F0FE;\n",
              "      border: none;\n",
              "      border-radius: 50%;\n",
              "      cursor: pointer;\n",
              "      display: none;\n",
              "      fill: #1967D2;\n",
              "      height: 32px;\n",
              "      padding: 0 0 0 0;\n",
              "      width: 32px;\n",
              "    }\n",
              "\n",
              "    .colab-df-convert:hover {\n",
              "      background-color: #E2EBFA;\n",
              "      box-shadow: 0px 1px 2px rgba(60, 64, 67, 0.3), 0px 1px 3px 1px rgba(60, 64, 67, 0.15);\n",
              "      fill: #174EA6;\n",
              "    }\n",
              "\n",
              "    [theme=dark] .colab-df-convert {\n",
              "      background-color: #3B4455;\n",
              "      fill: #D2E3FC;\n",
              "    }\n",
              "\n",
              "    [theme=dark] .colab-df-convert:hover {\n",
              "      background-color: #434B5C;\n",
              "      box-shadow: 0px 1px 3px 1px rgba(0, 0, 0, 0.15);\n",
              "      filter: drop-shadow(0px 1px 2px rgba(0, 0, 0, 0.3));\n",
              "      fill: #FFFFFF;\n",
              "    }\n",
              "  </style>\n",
              "\n",
              "      <script>\n",
              "        const buttonEl =\n",
              "          document.querySelector('#df-9322ee9b-0ac4-4a3a-b413-40ca76925d91 button.colab-df-convert');\n",
              "        buttonEl.style.display =\n",
              "          google.colab.kernel.accessAllowed ? 'block' : 'none';\n",
              "\n",
              "        async function convertToInteractive(key) {\n",
              "          const element = document.querySelector('#df-9322ee9b-0ac4-4a3a-b413-40ca76925d91');\n",
              "          const dataTable =\n",
              "            await google.colab.kernel.invokeFunction('convertToInteractive',\n",
              "                                                     [key], {});\n",
              "          if (!dataTable) return;\n",
              "\n",
              "          const docLinkHtml = 'Like what you see? Visit the ' +\n",
              "            '<a target=\"_blank\" href=https://colab.research.google.com/notebooks/data_table.ipynb>data table notebook</a>'\n",
              "            + ' to learn more about interactive tables.';\n",
              "          element.innerHTML = '';\n",
              "          dataTable['output_type'] = 'display_data';\n",
              "          await google.colab.output.renderOutput(dataTable, element);\n",
              "          const docLink = document.createElement('div');\n",
              "          docLink.innerHTML = docLinkHtml;\n",
              "          element.appendChild(docLink);\n",
              "        }\n",
              "      </script>\n",
              "    </div>\n",
              "  </div>\n",
              "  "
            ]
          },
          "metadata": {},
          "execution_count": 92
        }
      ]
    },
    {
      "cell_type": "code",
      "source": [
        "df.pct_change?"
      ],
      "metadata": {
        "id": "j_j2dxwnzKq-"
      },
      "execution_count": null,
      "outputs": []
    },
    {
      "cell_type": "code",
      "source": [
        "df.pct_change(periods=1)"
      ],
      "metadata": {
        "colab": {
          "base_uri": "https://localhost:8080/",
          "height": 238
        },
        "id": "Gnwj0HlZzIor",
        "outputId": "805c1cd2-2be5-4b5f-f38c-1adfd3082777"
      },
      "execution_count": null,
      "outputs": [
        {
          "output_type": "execute_result",
          "data": {
            "text/plain": [
              "       Data\n",
              "A       NaN\n",
              "B  0.100000\n",
              "C  0.363636\n",
              "D  0.066667\n",
              "E -0.312500\n",
              "F -0.545455"
            ],
            "text/html": [
              "\n",
              "  <div id=\"df-6152b740-4e41-4479-900b-c800438bce48\">\n",
              "    <div class=\"colab-df-container\">\n",
              "      <div>\n",
              "<style scoped>\n",
              "    .dataframe tbody tr th:only-of-type {\n",
              "        vertical-align: middle;\n",
              "    }\n",
              "\n",
              "    .dataframe tbody tr th {\n",
              "        vertical-align: top;\n",
              "    }\n",
              "\n",
              "    .dataframe thead th {\n",
              "        text-align: right;\n",
              "    }\n",
              "</style>\n",
              "<table border=\"1\" class=\"dataframe\">\n",
              "  <thead>\n",
              "    <tr style=\"text-align: right;\">\n",
              "      <th></th>\n",
              "      <th>Data</th>\n",
              "    </tr>\n",
              "  </thead>\n",
              "  <tbody>\n",
              "    <tr>\n",
              "      <th>A</th>\n",
              "      <td>NaN</td>\n",
              "    </tr>\n",
              "    <tr>\n",
              "      <th>B</th>\n",
              "      <td>0.100000</td>\n",
              "    </tr>\n",
              "    <tr>\n",
              "      <th>C</th>\n",
              "      <td>0.363636</td>\n",
              "    </tr>\n",
              "    <tr>\n",
              "      <th>D</th>\n",
              "      <td>0.066667</td>\n",
              "    </tr>\n",
              "    <tr>\n",
              "      <th>E</th>\n",
              "      <td>-0.312500</td>\n",
              "    </tr>\n",
              "    <tr>\n",
              "      <th>F</th>\n",
              "      <td>-0.545455</td>\n",
              "    </tr>\n",
              "  </tbody>\n",
              "</table>\n",
              "</div>\n",
              "      <button class=\"colab-df-convert\" onclick=\"convertToInteractive('df-6152b740-4e41-4479-900b-c800438bce48')\"\n",
              "              title=\"Convert this dataframe to an interactive table.\"\n",
              "              style=\"display:none;\">\n",
              "        \n",
              "  <svg xmlns=\"http://www.w3.org/2000/svg\" height=\"24px\"viewBox=\"0 0 24 24\"\n",
              "       width=\"24px\">\n",
              "    <path d=\"M0 0h24v24H0V0z\" fill=\"none\"/>\n",
              "    <path d=\"M18.56 5.44l.94 2.06.94-2.06 2.06-.94-2.06-.94-.94-2.06-.94 2.06-2.06.94zm-11 1L8.5 8.5l.94-2.06 2.06-.94-2.06-.94L8.5 2.5l-.94 2.06-2.06.94zm10 10l.94 2.06.94-2.06 2.06-.94-2.06-.94-.94-2.06-.94 2.06-2.06.94z\"/><path d=\"M17.41 7.96l-1.37-1.37c-.4-.4-.92-.59-1.43-.59-.52 0-1.04.2-1.43.59L10.3 9.45l-7.72 7.72c-.78.78-.78 2.05 0 2.83L4 21.41c.39.39.9.59 1.41.59.51 0 1.02-.2 1.41-.59l7.78-7.78 2.81-2.81c.8-.78.8-2.07 0-2.86zM5.41 20L4 18.59l7.72-7.72 1.47 1.35L5.41 20z\"/>\n",
              "  </svg>\n",
              "      </button>\n",
              "      \n",
              "  <style>\n",
              "    .colab-df-container {\n",
              "      display:flex;\n",
              "      flex-wrap:wrap;\n",
              "      gap: 12px;\n",
              "    }\n",
              "\n",
              "    .colab-df-convert {\n",
              "      background-color: #E8F0FE;\n",
              "      border: none;\n",
              "      border-radius: 50%;\n",
              "      cursor: pointer;\n",
              "      display: none;\n",
              "      fill: #1967D2;\n",
              "      height: 32px;\n",
              "      padding: 0 0 0 0;\n",
              "      width: 32px;\n",
              "    }\n",
              "\n",
              "    .colab-df-convert:hover {\n",
              "      background-color: #E2EBFA;\n",
              "      box-shadow: 0px 1px 2px rgba(60, 64, 67, 0.3), 0px 1px 3px 1px rgba(60, 64, 67, 0.15);\n",
              "      fill: #174EA6;\n",
              "    }\n",
              "\n",
              "    [theme=dark] .colab-df-convert {\n",
              "      background-color: #3B4455;\n",
              "      fill: #D2E3FC;\n",
              "    }\n",
              "\n",
              "    [theme=dark] .colab-df-convert:hover {\n",
              "      background-color: #434B5C;\n",
              "      box-shadow: 0px 1px 3px 1px rgba(0, 0, 0, 0.15);\n",
              "      filter: drop-shadow(0px 1px 2px rgba(0, 0, 0, 0.3));\n",
              "      fill: #FFFFFF;\n",
              "    }\n",
              "  </style>\n",
              "\n",
              "      <script>\n",
              "        const buttonEl =\n",
              "          document.querySelector('#df-6152b740-4e41-4479-900b-c800438bce48 button.colab-df-convert');\n",
              "        buttonEl.style.display =\n",
              "          google.colab.kernel.accessAllowed ? 'block' : 'none';\n",
              "\n",
              "        async function convertToInteractive(key) {\n",
              "          const element = document.querySelector('#df-6152b740-4e41-4479-900b-c800438bce48');\n",
              "          const dataTable =\n",
              "            await google.colab.kernel.invokeFunction('convertToInteractive',\n",
              "                                                     [key], {});\n",
              "          if (!dataTable) return;\n",
              "\n",
              "          const docLinkHtml = 'Like what you see? Visit the ' +\n",
              "            '<a target=\"_blank\" href=https://colab.research.google.com/notebooks/data_table.ipynb>data table notebook</a>'\n",
              "            + ' to learn more about interactive tables.';\n",
              "          element.innerHTML = '';\n",
              "          dataTable['output_type'] = 'display_data';\n",
              "          await google.colab.output.renderOutput(dataTable, element);\n",
              "          const docLink = document.createElement('div');\n",
              "          docLink.innerHTML = docLinkHtml;\n",
              "          element.appendChild(docLink);\n",
              "        }\n",
              "      </script>\n",
              "    </div>\n",
              "  </div>\n",
              "  "
            ]
          },
          "metadata": {},
          "execution_count": 94
        }
      ]
    },
    {
      "cell_type": "code",
      "source": [
        "df.pct_change(periods=1).plot()"
      ],
      "metadata": {
        "colab": {
          "base_uri": "https://localhost:8080/",
          "height": 285
        },
        "id": "S5jn1SLGelzY",
        "outputId": "6ba9d462-0a18-4820-ce2a-6bb72106e4b3"
      },
      "execution_count": null,
      "outputs": [
        {
          "output_type": "execute_result",
          "data": {
            "text/plain": [
              "<matplotlib.axes._subplots.AxesSubplot at 0x7f42264b89d0>"
            ]
          },
          "metadata": {},
          "execution_count": 95
        },
        {
          "output_type": "display_data",
          "data": {
            "text/plain": [
              "<Figure size 432x288 with 1 Axes>"
            ],
            "image/png": "[encoded data removed]"
          },
          "metadata": {
            "needs_background": "light"
          }
        }
      ]
    },
    {
      "cell_type": "markdown",
      "source": [
        "# Manipulacion de series y dataframes (Ejemplo en vivo)"
      ],
      "metadata": {
        "id": "DZAYHjI6ZeEL"
      }
    },
    {
      "cell_type": "code",
      "source": [
        "# Vamos a crear una estructura de serie\n",
        "import pandas as pd\n",
        "serie= pd.Series(data=[1,2,3,4],index=['David','Juan',1,2],name='SerieX')\n",
        "serie"
      ],
      "metadata": {
        "id": "muZ-KWpxZhsT",
        "colab": {
          "base_uri": "https://localhost:8080/"
        },
        "outputId": "e8b69460-925f-492f-d1be-5e08838ab6db"
      },
      "execution_count": null,
      "outputs": [
        {
          "output_type": "execute_result",
          "data": {
            "text/plain": [
              "David    1\n",
              "Juan     2\n",
              "1        3\n",
              "2        4\n",
              "Name: SerieX, dtype: int64"
            ]
          },
          "metadata": {},
          "execution_count": 96
        }
      ]
    },
    {
      "cell_type": "code",
      "source": [
        "# Algunas propiedades de la serie\n",
        "print('Indice de la serie:',serie.index)\n",
        "print('Valores de la serie:',serie.values)\n",
        "print('Longitud de serie:',serie.count())\n",
        "# Verificar nulos en la serie\n",
        "serie.isna()"
      ],
      "metadata": {
        "colab": {
          "base_uri": "https://localhost:8080/"
        },
        "id": "x-VwR4c4mfP9",
        "outputId": "6f5a1180-6cb1-4dda-ff6d-bcf2a8177bd7"
      },
      "execution_count": null,
      "outputs": [
        {
          "output_type": "stream",
          "name": "stdout",
          "text": [
            "Indice de la serie: Index(['David', 'Juan', 1, 2], dtype='object')\n",
            "Valores de la serie: [1 2 3 4]\n",
            "Longitud de serie: 4\n"
          ]
        },
        {
          "output_type": "execute_result",
          "data": {
            "text/plain": [
              "David    False\n",
              "Juan     False\n",
              "1        False\n",
              "2        False\n",
              "Name: SerieX, dtype: bool"
            ]
          },
          "metadata": {},
          "execution_count": 97
        }
      ]
    },
    {
      "cell_type": "code",
      "source": [
        "# Filtrar un indice\n",
        "serie.loc['David']"
      ],
      "metadata": {
        "colab": {
          "base_uri": "https://localhost:8080/"
        },
        "id": "2Y6KLud9nXRH",
        "outputId": "e535c8b6-4a47-4cec-ee2d-dce8cb2f0f49"
      },
      "execution_count": null,
      "outputs": [
        {
          "output_type": "execute_result",
          "data": {
            "text/plain": [
              "1"
            ]
          },
          "metadata": {},
          "execution_count": 98
        }
      ]
    },
    {
      "cell_type": "code",
      "source": [
        "# Filtrar pero de otra forma\n",
        "serie.iloc[0]"
      ],
      "metadata": {
        "colab": {
          "base_uri": "https://localhost:8080/"
        },
        "id": "H0qo33OynbaM",
        "outputId": "5e048aac-5377-46c2-8dd3-832771625169"
      },
      "execution_count": null,
      "outputs": [
        {
          "output_type": "execute_result",
          "data": {
            "text/plain": [
              "1"
            ]
          },
          "metadata": {},
          "execution_count": 99
        }
      ]
    },
    {
      "cell_type": "code",
      "source": [
        "# Filtrar varios indices\n",
        "serie.loc[['David',1]]"
      ],
      "metadata": {
        "colab": {
          "base_uri": "https://localhost:8080/"
        },
        "id": "zTsXcmK2ngO3",
        "outputId": "d9d01321-12a2-4614-8b22-4ae845e62512"
      },
      "execution_count": null,
      "outputs": [
        {
          "output_type": "execute_result",
          "data": {
            "text/plain": [
              "David    1\n",
              "1        3\n",
              "Name: SerieX, dtype: int64"
            ]
          },
          "metadata": {},
          "execution_count": 100
        }
      ]
    },
    {
      "cell_type": "code",
      "source": [
        "serie.filter(items=['David',1]) # OTra forma"
      ],
      "metadata": {
        "colab": {
          "base_uri": "https://localhost:8080/"
        },
        "id": "lErAHC2wex1d",
        "outputId": "afc45a06-4dab-42f8-cd41-5fde0e5f2cf3"
      },
      "execution_count": null,
      "outputs": [
        {
          "output_type": "execute_result",
          "data": {
            "text/plain": [
              "David    1\n",
              "1        3\n",
              "Name: SerieX, dtype: int64"
            ]
          },
          "metadata": {},
          "execution_count": 101
        }
      ]
    },
    {
      "cell_type": "code",
      "source": [
        "import numpy as np\n",
        "serie_2= pd.Series(data=[1,1,1,1,np.nan , 20,np.nan])\n",
        "serie_2"
      ],
      "metadata": {
        "colab": {
          "base_uri": "https://localhost:8080/"
        },
        "id": "nMCii5Nen2u9",
        "outputId": "a008bb4a-6796-4b7f-b86a-9efbb0af2ce2"
      },
      "execution_count": null,
      "outputs": [
        {
          "output_type": "execute_result",
          "data": {
            "text/plain": [
              "0     1.0\n",
              "1     1.0\n",
              "2     1.0\n",
              "3     1.0\n",
              "4     NaN\n",
              "5    20.0\n",
              "6     NaN\n",
              "dtype: float64"
            ]
          },
          "metadata": {},
          "execution_count": 105
        }
      ]
    },
    {
      "cell_type": "code",
      "source": [
        "# Suma de nulos\n",
        "serie_2.isnull().sum()"
      ],
      "metadata": {
        "colab": {
          "base_uri": "https://localhost:8080/"
        },
        "id": "pybnOTlEoNLP",
        "outputId": "fc84c6e5-05ef-4763-92de-766faa5c554c"
      },
      "execution_count": null,
      "outputs": [
        {
          "output_type": "execute_result",
          "data": {
            "text/plain": [
              "2"
            ]
          },
          "metadata": {},
          "execution_count": 103
        }
      ]
    },
    {
      "cell_type": "code",
      "source": [
        "# Conteo de valores no tiene en cuenta los NaN\n",
        "serie_2.value_counts()"
      ],
      "metadata": {
        "colab": {
          "base_uri": "https://localhost:8080/"
        },
        "id": "n8Om7dPIoVT-",
        "outputId": "ff3bee1b-cc69-4dae-f4f9-0a80ab537907"
      },
      "execution_count": null,
      "outputs": [
        {
          "output_type": "execute_result",
          "data": {
            "text/plain": [
              "1.0     4\n",
              "20.0    1\n",
              "dtype: int64"
            ]
          },
          "metadata": {},
          "execution_count": 106
        }
      ]
    },
    {
      "cell_type": "code",
      "source": [
        "# Creemos un dataframe\n",
        "valores= [1000, 3500, 3000, 4000, 3000 , 2450]\n",
        "nombres= ['David','Juan','Pedro','Lucas','Andrea','Felipe']\n",
        "genero=['M','M','M','M','F','M']\n",
        "df= pd.DataFrame(data={'salarios':valores, 'genero':genero},index=nombres)\n",
        "df"
      ],
      "metadata": {
        "colab": {
          "base_uri": "https://localhost:8080/",
          "height": 238
        },
        "id": "VXzbE9vwovjP",
        "outputId": "503988fb-b6ff-458e-a12f-7948d0c607b0"
      },
      "execution_count": null,
      "outputs": [
        {
          "output_type": "execute_result",
          "data": {
            "text/plain": [
              "        salarios genero\n",
              "David       1000      M\n",
              "Juan        3500      M\n",
              "Pedro       3000      M\n",
              "Lucas       4000      M\n",
              "Andrea      3000      F\n",
              "Felipe      2450      M"
            ],
            "text/html": [
              "\n",
              "  <div id=\"df-aca8523b-c43e-47c9-8134-da1609f1ccd6\">\n",
              "    <div class=\"colab-df-container\">\n",
              "      <div>\n",
              "<style scoped>\n",
              "    .dataframe tbody tr th:only-of-type {\n",
              "        vertical-align: middle;\n",
              "    }\n",
              "\n",
              "    .dataframe tbody tr th {\n",
              "        vertical-align: top;\n",
              "    }\n",
              "\n",
              "    .dataframe thead th {\n",
              "        text-align: right;\n",
              "    }\n",
              "</style>\n",
              "<table border=\"1\" class=\"dataframe\">\n",
              "  <thead>\n",
              "    <tr style=\"text-align: right;\">\n",
              "      <th></th>\n",
              "      <th>salarios</th>\n",
              "      <th>genero</th>\n",
              "    </tr>\n",
              "  </thead>\n",
              "  <tbody>\n",
              "    <tr>\n",
              "      <th>David</th>\n",
              "      <td>1000</td>\n",
              "      <td>M</td>\n",
              "    </tr>\n",
              "    <tr>\n",
              "      <th>Juan</th>\n",
              "      <td>3500</td>\n",
              "      <td>M</td>\n",
              "    </tr>\n",
              "    <tr>\n",
              "      <th>Pedro</th>\n",
              "      <td>3000</td>\n",
              "      <td>M</td>\n",
              "    </tr>\n",
              "    <tr>\n",
              "      <th>Lucas</th>\n",
              "      <td>4000</td>\n",
              "      <td>M</td>\n",
              "    </tr>\n",
              "    <tr>\n",
              "      <th>Andrea</th>\n",
              "      <td>3000</td>\n",
              "      <td>F</td>\n",
              "    </tr>\n",
              "    <tr>\n",
              "      <th>Felipe</th>\n",
              "      <td>2450</td>\n",
              "      <td>M</td>\n",
              "    </tr>\n",
              "  </tbody>\n",
              "</table>\n",
              "</div>\n",
              "      <button class=\"colab-df-convert\" onclick=\"convertToInteractive('df-aca8523b-c43e-47c9-8134-da1609f1ccd6')\"\n",
              "              title=\"Convert this dataframe to an interactive table.\"\n",
              "              style=\"display:none;\">\n",
              "        \n",
              "  <svg xmlns=\"http://www.w3.org/2000/svg\" height=\"24px\"viewBox=\"0 0 24 24\"\n",
              "       width=\"24px\">\n",
              "    <path d=\"M0 0h24v24H0V0z\" fill=\"none\"/>\n",
              "    <path d=\"M18.56 5.44l.94 2.06.94-2.06 2.06-.94-2.06-.94-.94-2.06-.94 2.06-2.06.94zm-11 1L8.5 8.5l.94-2.06 2.06-.94-2.06-.94L8.5 2.5l-.94 2.06-2.06.94zm10 10l.94 2.06.94-2.06 2.06-.94-2.06-.94-.94-2.06-.94 2.06-2.06.94z\"/><path d=\"M17.41 7.96l-1.37-1.37c-.4-.4-.92-.59-1.43-.59-.52 0-1.04.2-1.43.59L10.3 9.45l-7.72 7.72c-.78.78-.78 2.05 0 2.83L4 21.41c.39.39.9.59 1.41.59.51 0 1.02-.2 1.41-.59l7.78-7.78 2.81-2.81c.8-.78.8-2.07 0-2.86zM5.41 20L4 18.59l7.72-7.72 1.47 1.35L5.41 20z\"/>\n",
              "  </svg>\n",
              "      </button>\n",
              "      \n",
              "  <style>\n",
              "    .colab-df-container {\n",
              "      display:flex;\n",
              "      flex-wrap:wrap;\n",
              "      gap: 12px;\n",
              "    }\n",
              "\n",
              "    .colab-df-convert {\n",
              "      background-color: #E8F0FE;\n",
              "      border: none;\n",
              "      border-radius: 50%;\n",
              "      cursor: pointer;\n",
              "      display: none;\n",
              "      fill: #1967D2;\n",
              "      height: 32px;\n",
              "      padding: 0 0 0 0;\n",
              "      width: 32px;\n",
              "    }\n",
              "\n",
              "    .colab-df-convert:hover {\n",
              "      background-color: #E2EBFA;\n",
              "      box-shadow: 0px 1px 2px rgba(60, 64, 67, 0.3), 0px 1px 3px 1px rgba(60, 64, 67, 0.15);\n",
              "      fill: #174EA6;\n",
              "    }\n",
              "\n",
              "    [theme=dark] .colab-df-convert {\n",
              "      background-color: #3B4455;\n",
              "      fill: #D2E3FC;\n",
              "    }\n",
              "\n",
              "    [theme=dark] .colab-df-convert:hover {\n",
              "      background-color: #434B5C;\n",
              "      box-shadow: 0px 1px 3px 1px rgba(0, 0, 0, 0.15);\n",
              "      filter: drop-shadow(0px 1px 2px rgba(0, 0, 0, 0.3));\n",
              "      fill: #FFFFFF;\n",
              "    }\n",
              "  </style>\n",
              "\n",
              "      <script>\n",
              "        const buttonEl =\n",
              "          document.querySelector('#df-aca8523b-c43e-47c9-8134-da1609f1ccd6 button.colab-df-convert');\n",
              "        buttonEl.style.display =\n",
              "          google.colab.kernel.accessAllowed ? 'block' : 'none';\n",
              "\n",
              "        async function convertToInteractive(key) {\n",
              "          const element = document.querySelector('#df-aca8523b-c43e-47c9-8134-da1609f1ccd6');\n",
              "          const dataTable =\n",
              "            await google.colab.kernel.invokeFunction('convertToInteractive',\n",
              "                                                     [key], {});\n",
              "          if (!dataTable) return;\n",
              "\n",
              "          const docLinkHtml = 'Like what you see? Visit the ' +\n",
              "            '<a target=\"_blank\" href=https://colab.research.google.com/notebooks/data_table.ipynb>data table notebook</a>'\n",
              "            + ' to learn more about interactive tables.';\n",
              "          element.innerHTML = '';\n",
              "          dataTable['output_type'] = 'display_data';\n",
              "          await google.colab.output.renderOutput(dataTable, element);\n",
              "          const docLink = document.createElement('div');\n",
              "          docLink.innerHTML = docLinkHtml;\n",
              "          element.appendChild(docLink);\n",
              "        }\n",
              "      </script>\n",
              "    </div>\n",
              "  </div>\n",
              "  "
            ]
          },
          "metadata": {},
          "execution_count": 107
        }
      ]
    },
    {
      "cell_type": "code",
      "source": [
        "df[(df['salarios']==3000) | (df['salarios']==4000)]"
      ],
      "metadata": {
        "colab": {
          "base_uri": "https://localhost:8080/",
          "height": 143
        },
        "id": "2dx0mjrO0j7m",
        "outputId": "04b623ba-2043-498c-9956-d31f4846a9a7"
      },
      "execution_count": null,
      "outputs": [
        {
          "output_type": "execute_result",
          "data": {
            "text/plain": [
              "        salarios genero\n",
              "Pedro       3000      M\n",
              "Lucas       4000      M\n",
              "Andrea      3000      F"
            ],
            "text/html": [
              "\n",
              "  <div id=\"df-415f1fe1-9e60-4b62-b9bc-5e3d65e0e883\">\n",
              "    <div class=\"colab-df-container\">\n",
              "      <div>\n",
              "<style scoped>\n",
              "    .dataframe tbody tr th:only-of-type {\n",
              "        vertical-align: middle;\n",
              "    }\n",
              "\n",
              "    .dataframe tbody tr th {\n",
              "        vertical-align: top;\n",
              "    }\n",
              "\n",
              "    .dataframe thead th {\n",
              "        text-align: right;\n",
              "    }\n",
              "</style>\n",
              "<table border=\"1\" class=\"dataframe\">\n",
              "  <thead>\n",
              "    <tr style=\"text-align: right;\">\n",
              "      <th></th>\n",
              "      <th>salarios</th>\n",
              "      <th>genero</th>\n",
              "    </tr>\n",
              "  </thead>\n",
              "  <tbody>\n",
              "    <tr>\n",
              "      <th>Pedro</th>\n",
              "      <td>3000</td>\n",
              "      <td>M</td>\n",
              "    </tr>\n",
              "    <tr>\n",
              "      <th>Lucas</th>\n",
              "      <td>4000</td>\n",
              "      <td>M</td>\n",
              "    </tr>\n",
              "    <tr>\n",
              "      <th>Andrea</th>\n",
              "      <td>3000</td>\n",
              "      <td>F</td>\n",
              "    </tr>\n",
              "  </tbody>\n",
              "</table>\n",
              "</div>\n",
              "      <button class=\"colab-df-convert\" onclick=\"convertToInteractive('df-415f1fe1-9e60-4b62-b9bc-5e3d65e0e883')\"\n",
              "              title=\"Convert this dataframe to an interactive table.\"\n",
              "              style=\"display:none;\">\n",
              "        \n",
              "  <svg xmlns=\"http://www.w3.org/2000/svg\" height=\"24px\"viewBox=\"0 0 24 24\"\n",
              "       width=\"24px\">\n",
              "    <path d=\"M0 0h24v24H0V0z\" fill=\"none\"/>\n",
              "    <path d=\"M18.56 5.44l.94 2.06.94-2.06 2.06-.94-2.06-.94-.94-2.06-.94 2.06-2.06.94zm-11 1L8.5 8.5l.94-2.06 2.06-.94-2.06-.94L8.5 2.5l-.94 2.06-2.06.94zm10 10l.94 2.06.94-2.06 2.06-.94-2.06-.94-.94-2.06-.94 2.06-2.06.94z\"/><path d=\"M17.41 7.96l-1.37-1.37c-.4-.4-.92-.59-1.43-.59-.52 0-1.04.2-1.43.59L10.3 9.45l-7.72 7.72c-.78.78-.78 2.05 0 2.83L4 21.41c.39.39.9.59 1.41.59.51 0 1.02-.2 1.41-.59l7.78-7.78 2.81-2.81c.8-.78.8-2.07 0-2.86zM5.41 20L4 18.59l7.72-7.72 1.47 1.35L5.41 20z\"/>\n",
              "  </svg>\n",
              "      </button>\n",
              "      \n",
              "  <style>\n",
              "    .colab-df-container {\n",
              "      display:flex;\n",
              "      flex-wrap:wrap;\n",
              "      gap: 12px;\n",
              "    }\n",
              "\n",
              "    .colab-df-convert {\n",
              "      background-color: #E8F0FE;\n",
              "      border: none;\n",
              "      border-radius: 50%;\n",
              "      cursor: pointer;\n",
              "      display: none;\n",
              "      fill: #1967D2;\n",
              "      height: 32px;\n",
              "      padding: 0 0 0 0;\n",
              "      width: 32px;\n",
              "    }\n",
              "\n",
              "    .colab-df-convert:hover {\n",
              "      background-color: #E2EBFA;\n",
              "      box-shadow: 0px 1px 2px rgba(60, 64, 67, 0.3), 0px 1px 3px 1px rgba(60, 64, 67, 0.15);\n",
              "      fill: #174EA6;\n",
              "    }\n",
              "\n",
              "    [theme=dark] .colab-df-convert {\n",
              "      background-color: #3B4455;\n",
              "      fill: #D2E3FC;\n",
              "    }\n",
              "\n",
              "    [theme=dark] .colab-df-convert:hover {\n",
              "      background-color: #434B5C;\n",
              "      box-shadow: 0px 1px 3px 1px rgba(0, 0, 0, 0.15);\n",
              "      filter: drop-shadow(0px 1px 2px rgba(0, 0, 0, 0.3));\n",
              "      fill: #FFFFFF;\n",
              "    }\n",
              "  </style>\n",
              "\n",
              "      <script>\n",
              "        const buttonEl =\n",
              "          document.querySelector('#df-415f1fe1-9e60-4b62-b9bc-5e3d65e0e883 button.colab-df-convert');\n",
              "        buttonEl.style.display =\n",
              "          google.colab.kernel.accessAllowed ? 'block' : 'none';\n",
              "\n",
              "        async function convertToInteractive(key) {\n",
              "          const element = document.querySelector('#df-415f1fe1-9e60-4b62-b9bc-5e3d65e0e883');\n",
              "          const dataTable =\n",
              "            await google.colab.kernel.invokeFunction('convertToInteractive',\n",
              "                                                     [key], {});\n",
              "          if (!dataTable) return;\n",
              "\n",
              "          const docLinkHtml = 'Like what you see? Visit the ' +\n",
              "            '<a target=\"_blank\" href=https://colab.research.google.com/notebooks/data_table.ipynb>data table notebook</a>'\n",
              "            + ' to learn more about interactive tables.';\n",
              "          element.innerHTML = '';\n",
              "          dataTable['output_type'] = 'display_data';\n",
              "          await google.colab.output.renderOutput(dataTable, element);\n",
              "          const docLink = document.createElement('div');\n",
              "          docLink.innerHTML = docLinkHtml;\n",
              "          element.appendChild(docLink);\n",
              "        }\n",
              "      </script>\n",
              "    </div>\n",
              "  </div>\n",
              "  "
            ]
          },
          "metadata": {},
          "execution_count": 112
        }
      ]
    },
    {
      "cell_type": "code",
      "source": [
        "# filtremos por genero\n",
        "df_m= df[df['genero']=='M']\n",
        "print(df_m.head())\n",
        "print('------')\n",
        "df_f=df[df['genero']=='F']\n",
        "print(df_f.head())"
      ],
      "metadata": {
        "colab": {
          "base_uri": "https://localhost:8080/"
        },
        "id": "qsaA9EVopWCt",
        "outputId": "50e36249-3c75-4ce7-c68e-353edffaee8a"
      },
      "execution_count": null,
      "outputs": [
        {
          "output_type": "stream",
          "name": "stdout",
          "text": [
            "        salarios genero\n",
            "David       1000      M\n",
            "Juan        3500      M\n",
            "Pedro       3000      M\n",
            "Lucas       4000      M\n",
            "Felipe      2450      M\n",
            "------\n",
            "        salarios genero\n",
            "Andrea      3000      F\n"
          ]
        }
      ]
    },
    {
      "cell_type": "code",
      "source": [
        "# Otra forma\n",
        "condicion_h = df['genero']=='M'\n",
        "condicion_m = df['genero']=='F'\n",
        "print(df[condicion_h])\n",
        "print('-------------')\n",
        "print(df[condicion_m])"
      ],
      "metadata": {
        "colab": {
          "base_uri": "https://localhost:8080/"
        },
        "id": "Pv2Nwu0BqgZ0",
        "outputId": "91b01df5-bf71-4552-b14c-a3a4a729a6bf"
      },
      "execution_count": null,
      "outputs": [
        {
          "output_type": "stream",
          "name": "stdout",
          "text": [
            "        salarios genero\n",
            "David       1000      M\n",
            "Juan        3500      M\n",
            "Pedro       3000      M\n",
            "Lucas       4000      M\n",
            "Felipe      2450      M\n",
            "-------------\n",
            "        salarios genero\n",
            "Andrea      3000      F\n"
          ]
        }
      ]
    },
    {
      "cell_type": "code",
      "source": [
        "# Algunas cosas adicionales\n",
        "df.loc['David'][['salarios','genero']]"
      ],
      "metadata": {
        "colab": {
          "base_uri": "https://localhost:8080/"
        },
        "id": "s_KCupa4ptGH",
        "outputId": "cbe9f728-8e31-4969-87f7-c14f4bb0d33e"
      },
      "execution_count": null,
      "outputs": [
        {
          "output_type": "execute_result",
          "data": {
            "text/plain": [
              "salarios    1000\n",
              "genero         M\n",
              "Name: David, dtype: object"
            ]
          },
          "metadata": {},
          "execution_count": 116
        }
      ]
    },
    {
      "cell_type": "code",
      "source": [
        "df.loc['David',['salarios','genero']]"
      ],
      "metadata": {
        "colab": {
          "base_uri": "https://localhost:8080/"
        },
        "id": "A1xCIOfo1TMC",
        "outputId": "73514275-64d1-496d-d1e0-9a5e1e49c02c"
      },
      "execution_count": null,
      "outputs": [
        {
          "output_type": "execute_result",
          "data": {
            "text/plain": [
              "salarios    1000\n",
              "genero         M\n",
              "Name: David, dtype: object"
            ]
          },
          "metadata": {},
          "execution_count": 118
        }
      ]
    },
    {
      "cell_type": "code",
      "source": [
        "df.loc[['David','Juan']][['salarios','genero']]"
      ],
      "metadata": {
        "colab": {
          "base_uri": "https://localhost:8080/",
          "height": 112
        },
        "id": "6XxDVtzAqUZ4",
        "outputId": "bf451f6a-ac5d-451a-ff07-2564d1c3967d"
      },
      "execution_count": null,
      "outputs": [
        {
          "output_type": "execute_result",
          "data": {
            "text/plain": [
              "       salarios genero\n",
              "David      1000      M\n",
              "Juan       3500      M"
            ],
            "text/html": [
              "\n",
              "  <div id=\"df-72e677a9-fd15-4247-ba36-6be000b4ddd3\">\n",
              "    <div class=\"colab-df-container\">\n",
              "      <div>\n",
              "<style scoped>\n",
              "    .dataframe tbody tr th:only-of-type {\n",
              "        vertical-align: middle;\n",
              "    }\n",
              "\n",
              "    .dataframe tbody tr th {\n",
              "        vertical-align: top;\n",
              "    }\n",
              "\n",
              "    .dataframe thead th {\n",
              "        text-align: right;\n",
              "    }\n",
              "</style>\n",
              "<table border=\"1\" class=\"dataframe\">\n",
              "  <thead>\n",
              "    <tr style=\"text-align: right;\">\n",
              "      <th></th>\n",
              "      <th>salarios</th>\n",
              "      <th>genero</th>\n",
              "    </tr>\n",
              "  </thead>\n",
              "  <tbody>\n",
              "    <tr>\n",
              "      <th>David</th>\n",
              "      <td>1000</td>\n",
              "      <td>M</td>\n",
              "    </tr>\n",
              "    <tr>\n",
              "      <th>Juan</th>\n",
              "      <td>3500</td>\n",
              "      <td>M</td>\n",
              "    </tr>\n",
              "  </tbody>\n",
              "</table>\n",
              "</div>\n",
              "      <button class=\"colab-df-convert\" onclick=\"convertToInteractive('df-72e677a9-fd15-4247-ba36-6be000b4ddd3')\"\n",
              "              title=\"Convert this dataframe to an interactive table.\"\n",
              "              style=\"display:none;\">\n",
              "        \n",
              "  <svg xmlns=\"http://www.w3.org/2000/svg\" height=\"24px\"viewBox=\"0 0 24 24\"\n",
              "       width=\"24px\">\n",
              "    <path d=\"M0 0h24v24H0V0z\" fill=\"none\"/>\n",
              "    <path d=\"M18.56 5.44l.94 2.06.94-2.06 2.06-.94-2.06-.94-.94-2.06-.94 2.06-2.06.94zm-11 1L8.5 8.5l.94-2.06 2.06-.94-2.06-.94L8.5 2.5l-.94 2.06-2.06.94zm10 10l.94 2.06.94-2.06 2.06-.94-2.06-.94-.94-2.06-.94 2.06-2.06.94z\"/><path d=\"M17.41 7.96l-1.37-1.37c-.4-.4-.92-.59-1.43-.59-.52 0-1.04.2-1.43.59L10.3 9.45l-7.72 7.72c-.78.78-.78 2.05 0 2.83L4 21.41c.39.39.9.59 1.41.59.51 0 1.02-.2 1.41-.59l7.78-7.78 2.81-2.81c.8-.78.8-2.07 0-2.86zM5.41 20L4 18.59l7.72-7.72 1.47 1.35L5.41 20z\"/>\n",
              "  </svg>\n",
              "      </button>\n",
              "      \n",
              "  <style>\n",
              "    .colab-df-container {\n",
              "      display:flex;\n",
              "      flex-wrap:wrap;\n",
              "      gap: 12px;\n",
              "    }\n",
              "\n",
              "    .colab-df-convert {\n",
              "      background-color: #E8F0FE;\n",
              "      border: none;\n",
              "      border-radius: 50%;\n",
              "      cursor: pointer;\n",
              "      display: none;\n",
              "      fill: #1967D2;\n",
              "      height: 32px;\n",
              "      padding: 0 0 0 0;\n",
              "      width: 32px;\n",
              "    }\n",
              "\n",
              "    .colab-df-convert:hover {\n",
              "      background-color: #E2EBFA;\n",
              "      box-shadow: 0px 1px 2px rgba(60, 64, 67, 0.3), 0px 1px 3px 1px rgba(60, 64, 67, 0.15);\n",
              "      fill: #174EA6;\n",
              "    }\n",
              "\n",
              "    [theme=dark] .colab-df-convert {\n",
              "      background-color: #3B4455;\n",
              "      fill: #D2E3FC;\n",
              "    }\n",
              "\n",
              "    [theme=dark] .colab-df-convert:hover {\n",
              "      background-color: #434B5C;\n",
              "      box-shadow: 0px 1px 3px 1px rgba(0, 0, 0, 0.15);\n",
              "      filter: drop-shadow(0px 1px 2px rgba(0, 0, 0, 0.3));\n",
              "      fill: #FFFFFF;\n",
              "    }\n",
              "  </style>\n",
              "\n",
              "      <script>\n",
              "        const buttonEl =\n",
              "          document.querySelector('#df-72e677a9-fd15-4247-ba36-6be000b4ddd3 button.colab-df-convert');\n",
              "        buttonEl.style.display =\n",
              "          google.colab.kernel.accessAllowed ? 'block' : 'none';\n",
              "\n",
              "        async function convertToInteractive(key) {\n",
              "          const element = document.querySelector('#df-72e677a9-fd15-4247-ba36-6be000b4ddd3');\n",
              "          const dataTable =\n",
              "            await google.colab.kernel.invokeFunction('convertToInteractive',\n",
              "                                                     [key], {});\n",
              "          if (!dataTable) return;\n",
              "\n",
              "          const docLinkHtml = 'Like what you see? Visit the ' +\n",
              "            '<a target=\"_blank\" href=https://colab.research.google.com/notebooks/data_table.ipynb>data table notebook</a>'\n",
              "            + ' to learn more about interactive tables.';\n",
              "          element.innerHTML = '';\n",
              "          dataTable['output_type'] = 'display_data';\n",
              "          await google.colab.output.renderOutput(dataTable, element);\n",
              "          const docLink = document.createElement('div');\n",
              "          docLink.innerHTML = docLinkHtml;\n",
              "          element.appendChild(docLink);\n",
              "        }\n",
              "      </script>\n",
              "    </div>\n",
              "  </div>\n",
              "  "
            ]
          },
          "metadata": {},
          "execution_count": 83
        }
      ]
    },
    {
      "cell_type": "markdown",
      "source": [
        "# Lectura de csv t txt"
      ],
      "metadata": {
        "id": "WUA7-zARStyN"
      }
    },
    {
      "cell_type": "code",
      "source": [
        "from google.colab import drive\n",
        "import os\n",
        "drive.mount('/content/gdrive')"
      ],
      "metadata": {
        "colab": {
          "base_uri": "https://localhost:8080/"
        },
        "id": "1X1zRCSjVh_M",
        "outputId": "4c11f7b7-76ef-4a85-d2f9-c16a08be5909"
      },
      "execution_count": null,
      "outputs": [
        {
          "output_type": "stream",
          "name": "stdout",
          "text": [
            "Mounted at /content/gdrive\n"
          ]
        }
      ]
    },
    {
      "cell_type": "code",
      "source": [
        "%cd '/content/gdrive/MyDrive'\n",
        "df= pd.read_csv('winequality-red.csv',sep=',')\n",
        "df\n",
        "#print(df[['density','pH','sulphates','alcohol','quality']].head())"
      ],
      "metadata": {
        "colab": {
          "base_uri": "https://localhost:8080/",
          "height": 503
        },
        "id": "sbNsOIcAXLSC",
        "outputId": "89203b80-9c26-4744-d58e-dbfc61a9d4ad"
      },
      "execution_count": null,
      "outputs": [
        {
          "output_type": "stream",
          "name": "stdout",
          "text": [
            "/content/gdrive/MyDrive\n"
          ]
        },
        {
          "output_type": "execute_result",
          "data": {
            "text/plain": [
              "      fixed acidity  volatile acidity  citric acid  residual sugar  chlorides  \\\n",
              "0               7.4             0.700         0.00             1.9      0.076   \n",
              "1               7.8             0.880         0.00             2.6      0.098   \n",
              "2               7.8             0.760         0.04             2.3      0.092   \n",
              "3              11.2             0.280         0.56             1.9      0.075   \n",
              "4               7.4             0.700         0.00             1.9      0.076   \n",
              "...             ...               ...          ...             ...        ...   \n",
              "1594            6.2             0.600         0.08             2.0      0.090   \n",
              "1595            5.9             0.550         0.10             2.2      0.062   \n",
              "1596            6.3             0.510         0.13             2.3      0.076   \n",
              "1597            5.9             0.645         0.12             2.0      0.075   \n",
              "1598            6.0             0.310         0.47             3.6      0.067   \n",
              "\n",
              "      free sulfur dioxide  total sulfur dioxide  density    pH  sulphates  \\\n",
              "0                    11.0                  34.0  0.99780  3.51       0.56   \n",
              "1                    25.0                  67.0  0.99680  3.20       0.68   \n",
              "2                    15.0                  54.0  0.99700  3.26       0.65   \n",
              "3                    17.0                  60.0  0.99800  3.16       0.58   \n",
              "4                    11.0                  34.0  0.99780  3.51       0.56   \n",
              "...                   ...                   ...      ...   ...        ...   \n",
              "1594                 32.0                  44.0  0.99490  3.45       0.58   \n",
              "1595                 39.0                  51.0  0.99512  3.52       0.76   \n",
              "1596                 29.0                  40.0  0.99574  3.42       0.75   \n",
              "1597                 32.0                  44.0  0.99547  3.57       0.71   \n",
              "1598                 18.0                  42.0  0.99549  3.39       0.66   \n",
              "\n",
              "      alcohol  quality  \n",
              "0         9.4        5  \n",
              "1         9.8        5  \n",
              "2         9.8        5  \n",
              "3         9.8        6  \n",
              "4         9.4        5  \n",
              "...       ...      ...  \n",
              "1594     10.5        5  \n",
              "1595     11.2        6  \n",
              "1596     11.0        6  \n",
              "1597     10.2        5  \n",
              "1598     11.0        6  \n",
              "\n",
              "[1599 rows x 12 columns]"
            ],
            "text/html": [
              "\n",
              "  <div id=\"df-ef7d8ea1-7304-416f-8f25-27bd2b32da7a\">\n",
              "    <div class=\"colab-df-container\">\n",
              "      <div>\n",
              "<style scoped>\n",
              "    .dataframe tbody tr th:only-of-type {\n",
              "        vertical-align: middle;\n",
              "    }\n",
              "\n",
              "    .dataframe tbody tr th {\n",
              "        vertical-align: top;\n",
              "    }\n",
              "\n",
              "    .dataframe thead th {\n",
              "        text-align: right;\n",
              "    }\n",
              "</style>\n",
              "<table border=\"1\" class=\"dataframe\">\n",
              "  <thead>\n",
              "    <tr style=\"text-align: right;\">\n",
              "      <th></th>\n",
              "      <th>fixed acidity</th>\n",
              "      <th>volatile acidity</th>\n",
              "      <th>citric acid</th>\n",
              "      <th>residual sugar</th>\n",
              "      <th>chlorides</th>\n",
              "      <th>free sulfur dioxide</th>\n",
              "      <th>total sulfur dioxide</th>\n",
              "      <th>density</th>\n",
              "      <th>pH</th>\n",
              "      <th>sulphates</th>\n",
              "      <th>alcohol</th>\n",
              "      <th>quality</th>\n",
              "    </tr>\n",
              "  </thead>\n",
              "  <tbody>\n",
              "    <tr>\n",
              "      <th>0</th>\n",
              "      <td>7.4</td>\n",
              "      <td>0.700</td>\n",
              "      <td>0.00</td>\n",
              "      <td>1.9</td>\n",
              "      <td>0.076</td>\n",
              "      <td>11.0</td>\n",
              "      <td>34.0</td>\n",
              "      <td>0.99780</td>\n",
              "      <td>3.51</td>\n",
              "      <td>0.56</td>\n",
              "      <td>9.4</td>\n",
              "      <td>5</td>\n",
              "    </tr>\n",
              "    <tr>\n",
              "      <th>1</th>\n",
              "      <td>7.8</td>\n",
              "      <td>0.880</td>\n",
              "      <td>0.00</td>\n",
              "      <td>2.6</td>\n",
              "      <td>0.098</td>\n",
              "      <td>25.0</td>\n",
              "      <td>67.0</td>\n",
              "      <td>0.99680</td>\n",
              "      <td>3.20</td>\n",
              "      <td>0.68</td>\n",
              "      <td>9.8</td>\n",
              "      <td>5</td>\n",
              "    </tr>\n",
              "    <tr>\n",
              "      <th>2</th>\n",
              "      <td>7.8</td>\n",
              "      <td>0.760</td>\n",
              "      <td>0.04</td>\n",
              "      <td>2.3</td>\n",
              "      <td>0.092</td>\n",
              "      <td>15.0</td>\n",
              "      <td>54.0</td>\n",
              "      <td>0.99700</td>\n",
              "      <td>3.26</td>\n",
              "      <td>0.65</td>\n",
              "      <td>9.8</td>\n",
              "      <td>5</td>\n",
              "    </tr>\n",
              "    <tr>\n",
              "      <th>3</th>\n",
              "      <td>11.2</td>\n",
              "      <td>0.280</td>\n",
              "      <td>0.56</td>\n",
              "      <td>1.9</td>\n",
              "      <td>0.075</td>\n",
              "      <td>17.0</td>\n",
              "      <td>60.0</td>\n",
              "      <td>0.99800</td>\n",
              "      <td>3.16</td>\n",
              "      <td>0.58</td>\n",
              "      <td>9.8</td>\n",
              "      <td>6</td>\n",
              "    </tr>\n",
              "    <tr>\n",
              "      <th>4</th>\n",
              "      <td>7.4</td>\n",
              "      <td>0.700</td>\n",
              "      <td>0.00</td>\n",
              "      <td>1.9</td>\n",
              "      <td>0.076</td>\n",
              "      <td>11.0</td>\n",
              "      <td>34.0</td>\n",
              "      <td>0.99780</td>\n",
              "      <td>3.51</td>\n",
              "      <td>0.56</td>\n",
              "      <td>9.4</td>\n",
              "      <td>5</td>\n",
              "    </tr>\n",
              "    <tr>\n",
              "      <th>...</th>\n",
              "      <td>...</td>\n",
              "      <td>...</td>\n",
              "      <td>...</td>\n",
              "      <td>...</td>\n",
              "      <td>...</td>\n",
              "      <td>...</td>\n",
              "      <td>...</td>\n",
              "      <td>...</td>\n",
              "      <td>...</td>\n",
              "      <td>...</td>\n",
              "      <td>...</td>\n",
              "      <td>...</td>\n",
              "    </tr>\n",
              "    <tr>\n",
              "      <th>1594</th>\n",
              "      <td>6.2</td>\n",
              "      <td>0.600</td>\n",
              "      <td>0.08</td>\n",
              "      <td>2.0</td>\n",
              "      <td>0.090</td>\n",
              "      <td>32.0</td>\n",
              "      <td>44.0</td>\n",
              "      <td>0.99490</td>\n",
              "      <td>3.45</td>\n",
              "      <td>0.58</td>\n",
              "      <td>10.5</td>\n",
              "      <td>5</td>\n",
              "    </tr>\n",
              "    <tr>\n",
              "      <th>1595</th>\n",
              "      <td>5.9</td>\n",
              "      <td>0.550</td>\n",
              "      <td>0.10</td>\n",
              "      <td>2.2</td>\n",
              "      <td>0.062</td>\n",
              "      <td>39.0</td>\n",
              "      <td>51.0</td>\n",
              "      <td>0.99512</td>\n",
              "      <td>3.52</td>\n",
              "      <td>0.76</td>\n",
              "      <td>11.2</td>\n",
              "      <td>6</td>\n",
              "    </tr>\n",
              "    <tr>\n",
              "      <th>1596</th>\n",
              "      <td>6.3</td>\n",
              "      <td>0.510</td>\n",
              "      <td>0.13</td>\n",
              "      <td>2.3</td>\n",
              "      <td>0.076</td>\n",
              "      <td>29.0</td>\n",
              "      <td>40.0</td>\n",
              "      <td>0.99574</td>\n",
              "      <td>3.42</td>\n",
              "      <td>0.75</td>\n",
              "      <td>11.0</td>\n",
              "      <td>6</td>\n",
              "    </tr>\n",
              "    <tr>\n",
              "      <th>1597</th>\n",
              "      <td>5.9</td>\n",
              "      <td>0.645</td>\n",
              "      <td>0.12</td>\n",
              "      <td>2.0</td>\n",
              "      <td>0.075</td>\n",
              "      <td>32.0</td>\n",
              "      <td>44.0</td>\n",
              "      <td>0.99547</td>\n",
              "      <td>3.57</td>\n",
              "      <td>0.71</td>\n",
              "      <td>10.2</td>\n",
              "      <td>5</td>\n",
              "    </tr>\n",
              "    <tr>\n",
              "      <th>1598</th>\n",
              "      <td>6.0</td>\n",
              "      <td>0.310</td>\n",
              "      <td>0.47</td>\n",
              "      <td>3.6</td>\n",
              "      <td>0.067</td>\n",
              "      <td>18.0</td>\n",
              "      <td>42.0</td>\n",
              "      <td>0.99549</td>\n",
              "      <td>3.39</td>\n",
              "      <td>0.66</td>\n",
              "      <td>11.0</td>\n",
              "      <td>6</td>\n",
              "    </tr>\n",
              "  </tbody>\n",
              "</table>\n",
              "<p>1599 rows × 12 columns</p>\n",
              "</div>\n",
              "      <button class=\"colab-df-convert\" onclick=\"convertToInteractive('df-ef7d8ea1-7304-416f-8f25-27bd2b32da7a')\"\n",
              "              title=\"Convert this dataframe to an interactive table.\"\n",
              "              style=\"display:none;\">\n",
              "        \n",
              "  <svg xmlns=\"http://www.w3.org/2000/svg\" height=\"24px\"viewBox=\"0 0 24 24\"\n",
              "       width=\"24px\">\n",
              "    <path d=\"M0 0h24v24H0V0z\" fill=\"none\"/>\n",
              "    <path d=\"M18.56 5.44l.94 2.06.94-2.06 2.06-.94-2.06-.94-.94-2.06-.94 2.06-2.06.94zm-11 1L8.5 8.5l.94-2.06 2.06-.94-2.06-.94L8.5 2.5l-.94 2.06-2.06.94zm10 10l.94 2.06.94-2.06 2.06-.94-2.06-.94-.94-2.06-.94 2.06-2.06.94z\"/><path d=\"M17.41 7.96l-1.37-1.37c-.4-.4-.92-.59-1.43-.59-.52 0-1.04.2-1.43.59L10.3 9.45l-7.72 7.72c-.78.78-.78 2.05 0 2.83L4 21.41c.39.39.9.59 1.41.59.51 0 1.02-.2 1.41-.59l7.78-7.78 2.81-2.81c.8-.78.8-2.07 0-2.86zM5.41 20L4 18.59l7.72-7.72 1.47 1.35L5.41 20z\"/>\n",
              "  </svg>\n",
              "      </button>\n",
              "      \n",
              "  <style>\n",
              "    .colab-df-container {\n",
              "      display:flex;\n",
              "      flex-wrap:wrap;\n",
              "      gap: 12px;\n",
              "    }\n",
              "\n",
              "    .colab-df-convert {\n",
              "      background-color: #E8F0FE;\n",
              "      border: none;\n",
              "      border-radius: 50%;\n",
              "      cursor: pointer;\n",
              "      display: none;\n",
              "      fill: #1967D2;\n",
              "      height: 32px;\n",
              "      padding: 0 0 0 0;\n",
              "      width: 32px;\n",
              "    }\n",
              "\n",
              "    .colab-df-convert:hover {\n",
              "      background-color: #E2EBFA;\n",
              "      box-shadow: 0px 1px 2px rgba(60, 64, 67, 0.3), 0px 1px 3px 1px rgba(60, 64, 67, 0.15);\n",
              "      fill: #174EA6;\n",
              "    }\n",
              "\n",
              "    [theme=dark] .colab-df-convert {\n",
              "      background-color: #3B4455;\n",
              "      fill: #D2E3FC;\n",
              "    }\n",
              "\n",
              "    [theme=dark] .colab-df-convert:hover {\n",
              "      background-color: #434B5C;\n",
              "      box-shadow: 0px 1px 3px 1px rgba(0, 0, 0, 0.15);\n",
              "      filter: drop-shadow(0px 1px 2px rgba(0, 0, 0, 0.3));\n",
              "      fill: #FFFFFF;\n",
              "    }\n",
              "  </style>\n",
              "\n",
              "      <script>\n",
              "        const buttonEl =\n",
              "          document.querySelector('#df-ef7d8ea1-7304-416f-8f25-27bd2b32da7a button.colab-df-convert');\n",
              "        buttonEl.style.display =\n",
              "          google.colab.kernel.accessAllowed ? 'block' : 'none';\n",
              "\n",
              "        async function convertToInteractive(key) {\n",
              "          const element = document.querySelector('#df-ef7d8ea1-7304-416f-8f25-27bd2b32da7a');\n",
              "          const dataTable =\n",
              "            await google.colab.kernel.invokeFunction('convertToInteractive',\n",
              "                                                     [key], {});\n",
              "          if (!dataTable) return;\n",
              "\n",
              "          const docLinkHtml = 'Like what you see? Visit the ' +\n",
              "            '<a target=\"_blank\" href=https://colab.research.google.com/notebooks/data_table.ipynb>data table notebook</a>'\n",
              "            + ' to learn more about interactive tables.';\n",
              "          element.innerHTML = '';\n",
              "          dataTable['output_type'] = 'display_data';\n",
              "          await google.colab.output.renderOutput(dataTable, element);\n",
              "          const docLink = document.createElement('div');\n",
              "          docLink.innerHTML = docLinkHtml;\n",
              "          element.appendChild(docLink);\n",
              "        }\n",
              "      </script>\n",
              "    </div>\n",
              "  </div>\n",
              "  "
            ]
          },
          "metadata": {},
          "execution_count": 120
        }
      ]
    },
    {
      "cell_type": "code",
      "source": [
        "df= pd.read_csv('pokemon_data.txt',delimiter='\\t')\n",
        "df"
      ],
      "metadata": {
        "colab": {
          "base_uri": "https://localhost:8080/",
          "height": 424
        },
        "id": "UC61PbL93ZsG",
        "outputId": "8cab08ff-c656-43e3-f5b7-5af07aaae21b"
      },
      "execution_count": null,
      "outputs": [
        {
          "output_type": "execute_result",
          "data": {
            "text/plain": [
              "       #                   Name   Type 1  Type 2  HP  Attack  Defense  \\\n",
              "0      1              Bulbasaur    Grass  Poison  45      49       49   \n",
              "1      2                Ivysaur    Grass  Poison  60      62       63   \n",
              "2      3               Venusaur    Grass  Poison  80      82       83   \n",
              "3      3  VenusaurMega Venusaur    Grass  Poison  80     100      123   \n",
              "4      4             Charmander     Fire     NaN  39      52       43   \n",
              "..   ...                    ...      ...     ...  ..     ...      ...   \n",
              "795  719                Diancie     Rock   Fairy  50     100      150   \n",
              "796  719    DiancieMega Diancie     Rock   Fairy  50     160      110   \n",
              "797  720    HoopaHoopa Confined  Psychic   Ghost  80     110       60   \n",
              "798  720     HoopaHoopa Unbound  Psychic    Dark  80     160       60   \n",
              "799  721              Volcanion     Fire   Water  80     110      120   \n",
              "\n",
              "     Sp. Atk  Sp. Def  Speed  Generation  Legendary  \n",
              "0         65       65     45           1      False  \n",
              "1         80       80     60           1      False  \n",
              "2        100      100     80           1      False  \n",
              "3        122      120     80           1      False  \n",
              "4         60       50     65           1      False  \n",
              "..       ...      ...    ...         ...        ...  \n",
              "795      100      150     50           6       True  \n",
              "796      160      110    110           6       True  \n",
              "797      150      130     70           6       True  \n",
              "798      170      130     80           6       True  \n",
              "799      130       90     70           6       True  \n",
              "\n",
              "[800 rows x 12 columns]"
            ],
            "text/html": [
              "\n",
              "  <div id=\"df-bb27b3de-0048-4ea8-93a8-9767eabfa301\">\n",
              "    <div class=\"colab-df-container\">\n",
              "      <div>\n",
              "<style scoped>\n",
              "    .dataframe tbody tr th:only-of-type {\n",
              "        vertical-align: middle;\n",
              "    }\n",
              "\n",
              "    .dataframe tbody tr th {\n",
              "        vertical-align: top;\n",
              "    }\n",
              "\n",
              "    .dataframe thead th {\n",
              "        text-align: right;\n",
              "    }\n",
              "</style>\n",
              "<table border=\"1\" class=\"dataframe\">\n",
              "  <thead>\n",
              "    <tr style=\"text-align: right;\">\n",
              "      <th></th>\n",
              "      <th>#</th>\n",
              "      <th>Name</th>\n",
              "      <th>Type 1</th>\n",
              "      <th>Type 2</th>\n",
              "      <th>HP</th>\n",
              "      <th>Attack</th>\n",
              "      <th>Defense</th>\n",
              "      <th>Sp. Atk</th>\n",
              "      <th>Sp. Def</th>\n",
              "      <th>Speed</th>\n",
              "      <th>Generation</th>\n",
              "      <th>Legendary</th>\n",
              "    </tr>\n",
              "  </thead>\n",
              "  <tbody>\n",
              "    <tr>\n",
              "      <th>0</th>\n",
              "      <td>1</td>\n",
              "      <td>Bulbasaur</td>\n",
              "      <td>Grass</td>\n",
              "      <td>Poison</td>\n",
              "      <td>45</td>\n",
              "      <td>49</td>\n",
              "      <td>49</td>\n",
              "      <td>65</td>\n",
              "      <td>65</td>\n",
              "      <td>45</td>\n",
              "      <td>1</td>\n",
              "      <td>False</td>\n",
              "    </tr>\n",
              "    <tr>\n",
              "      <th>1</th>\n",
              "      <td>2</td>\n",
              "      <td>Ivysaur</td>\n",
              "      <td>Grass</td>\n",
              "      <td>Poison</td>\n",
              "      <td>60</td>\n",
              "      <td>62</td>\n",
              "      <td>63</td>\n",
              "      <td>80</td>\n",
              "      <td>80</td>\n",
              "      <td>60</td>\n",
              "      <td>1</td>\n",
              "      <td>False</td>\n",
              "    </tr>\n",
              "    <tr>\n",
              "      <th>2</th>\n",
              "      <td>3</td>\n",
              "      <td>Venusaur</td>\n",
              "      <td>Grass</td>\n",
              "      <td>Poison</td>\n",
              "      <td>80</td>\n",
              "      <td>82</td>\n",
              "      <td>83</td>\n",
              "      <td>100</td>\n",
              "      <td>100</td>\n",
              "      <td>80</td>\n",
              "      <td>1</td>\n",
              "      <td>False</td>\n",
              "    </tr>\n",
              "    <tr>\n",
              "      <th>3</th>\n",
              "      <td>3</td>\n",
              "      <td>VenusaurMega Venusaur</td>\n",
              "      <td>Grass</td>\n",
              "      <td>Poison</td>\n",
              "      <td>80</td>\n",
              "      <td>100</td>\n",
              "      <td>123</td>\n",
              "      <td>122</td>\n",
              "      <td>120</td>\n",
              "      <td>80</td>\n",
              "      <td>1</td>\n",
              "      <td>False</td>\n",
              "    </tr>\n",
              "    <tr>\n",
              "      <th>4</th>\n",
              "      <td>4</td>\n",
              "      <td>Charmander</td>\n",
              "      <td>Fire</td>\n",
              "      <td>NaN</td>\n",
              "      <td>39</td>\n",
              "      <td>52</td>\n",
              "      <td>43</td>\n",
              "      <td>60</td>\n",
              "      <td>50</td>\n",
              "      <td>65</td>\n",
              "      <td>1</td>\n",
              "      <td>False</td>\n",
              "    </tr>\n",
              "    <tr>\n",
              "      <th>...</th>\n",
              "      <td>...</td>\n",
              "      <td>...</td>\n",
              "      <td>...</td>\n",
              "      <td>...</td>\n",
              "      <td>...</td>\n",
              "      <td>...</td>\n",
              "      <td>...</td>\n",
              "      <td>...</td>\n",
              "      <td>...</td>\n",
              "      <td>...</td>\n",
              "      <td>...</td>\n",
              "      <td>...</td>\n",
              "    </tr>\n",
              "    <tr>\n",
              "      <th>795</th>\n",
              "      <td>719</td>\n",
              "      <td>Diancie</td>\n",
              "      <td>Rock</td>\n",
              "      <td>Fairy</td>\n",
              "      <td>50</td>\n",
              "      <td>100</td>\n",
              "      <td>150</td>\n",
              "      <td>100</td>\n",
              "      <td>150</td>\n",
              "      <td>50</td>\n",
              "      <td>6</td>\n",
              "      <td>True</td>\n",
              "    </tr>\n",
              "    <tr>\n",
              "      <th>796</th>\n",
              "      <td>719</td>\n",
              "      <td>DiancieMega Diancie</td>\n",
              "      <td>Rock</td>\n",
              "      <td>Fairy</td>\n",
              "      <td>50</td>\n",
              "      <td>160</td>\n",
              "      <td>110</td>\n",
              "      <td>160</td>\n",
              "      <td>110</td>\n",
              "      <td>110</td>\n",
              "      <td>6</td>\n",
              "      <td>True</td>\n",
              "    </tr>\n",
              "    <tr>\n",
              "      <th>797</th>\n",
              "      <td>720</td>\n",
              "      <td>HoopaHoopa Confined</td>\n",
              "      <td>Psychic</td>\n",
              "      <td>Ghost</td>\n",
              "      <td>80</td>\n",
              "      <td>110</td>\n",
              "      <td>60</td>\n",
              "      <td>150</td>\n",
              "      <td>130</td>\n",
              "      <td>70</td>\n",
              "      <td>6</td>\n",
              "      <td>True</td>\n",
              "    </tr>\n",
              "    <tr>\n",
              "      <th>798</th>\n",
              "      <td>720</td>\n",
              "      <td>HoopaHoopa Unbound</td>\n",
              "      <td>Psychic</td>\n",
              "      <td>Dark</td>\n",
              "      <td>80</td>\n",
              "      <td>160</td>\n",
              "      <td>60</td>\n",
              "      <td>170</td>\n",
              "      <td>130</td>\n",
              "      <td>80</td>\n",
              "      <td>6</td>\n",
              "      <td>True</td>\n",
              "    </tr>\n",
              "    <tr>\n",
              "      <th>799</th>\n",
              "      <td>721</td>\n",
              "      <td>Volcanion</td>\n",
              "      <td>Fire</td>\n",
              "      <td>Water</td>\n",
              "      <td>80</td>\n",
              "      <td>110</td>\n",
              "      <td>120</td>\n",
              "      <td>130</td>\n",
              "      <td>90</td>\n",
              "      <td>70</td>\n",
              "      <td>6</td>\n",
              "      <td>True</td>\n",
              "    </tr>\n",
              "  </tbody>\n",
              "</table>\n",
              "<p>800 rows × 12 columns</p>\n",
              "</div>\n",
              "      <button class=\"colab-df-convert\" onclick=\"convertToInteractive('df-bb27b3de-0048-4ea8-93a8-9767eabfa301')\"\n",
              "              title=\"Convert this dataframe to an interactive table.\"\n",
              "              style=\"display:none;\">\n",
              "        \n",
              "  <svg xmlns=\"http://www.w3.org/2000/svg\" height=\"24px\"viewBox=\"0 0 24 24\"\n",
              "       width=\"24px\">\n",
              "    <path d=\"M0 0h24v24H0V0z\" fill=\"none\"/>\n",
              "    <path d=\"M18.56 5.44l.94 2.06.94-2.06 2.06-.94-2.06-.94-.94-2.06-.94 2.06-2.06.94zm-11 1L8.5 8.5l.94-2.06 2.06-.94-2.06-.94L8.5 2.5l-.94 2.06-2.06.94zm10 10l.94 2.06.94-2.06 2.06-.94-2.06-.94-.94-2.06-.94 2.06-2.06.94z\"/><path d=\"M17.41 7.96l-1.37-1.37c-.4-.4-.92-.59-1.43-.59-.52 0-1.04.2-1.43.59L10.3 9.45l-7.72 7.72c-.78.78-.78 2.05 0 2.83L4 21.41c.39.39.9.59 1.41.59.51 0 1.02-.2 1.41-.59l7.78-7.78 2.81-2.81c.8-.78.8-2.07 0-2.86zM5.41 20L4 18.59l7.72-7.72 1.47 1.35L5.41 20z\"/>\n",
              "  </svg>\n",
              "      </button>\n",
              "      \n",
              "  <style>\n",
              "    .colab-df-container {\n",
              "      display:flex;\n",
              "      flex-wrap:wrap;\n",
              "      gap: 12px;\n",
              "    }\n",
              "\n",
              "    .colab-df-convert {\n",
              "      background-color: #E8F0FE;\n",
              "      border: none;\n",
              "      border-radius: 50%;\n",
              "      cursor: pointer;\n",
              "      display: none;\n",
              "      fill: #1967D2;\n",
              "      height: 32px;\n",
              "      padding: 0 0 0 0;\n",
              "      width: 32px;\n",
              "    }\n",
              "\n",
              "    .colab-df-convert:hover {\n",
              "      background-color: #E2EBFA;\n",
              "      box-shadow: 0px 1px 2px rgba(60, 64, 67, 0.3), 0px 1px 3px 1px rgba(60, 64, 67, 0.15);\n",
              "      fill: #174EA6;\n",
              "    }\n",
              "\n",
              "    [theme=dark] .colab-df-convert {\n",
              "      background-color: #3B4455;\n",
              "      fill: #D2E3FC;\n",
              "    }\n",
              "\n",
              "    [theme=dark] .colab-df-convert:hover {\n",
              "      background-color: #434B5C;\n",
              "      box-shadow: 0px 1px 3px 1px rgba(0, 0, 0, 0.15);\n",
              "      filter: drop-shadow(0px 1px 2px rgba(0, 0, 0, 0.3));\n",
              "      fill: #FFFFFF;\n",
              "    }\n",
              "  </style>\n",
              "\n",
              "      <script>\n",
              "        const buttonEl =\n",
              "          document.querySelector('#df-bb27b3de-0048-4ea8-93a8-9767eabfa301 button.colab-df-convert');\n",
              "        buttonEl.style.display =\n",
              "          google.colab.kernel.accessAllowed ? 'block' : 'none';\n",
              "\n",
              "        async function convertToInteractive(key) {\n",
              "          const element = document.querySelector('#df-bb27b3de-0048-4ea8-93a8-9767eabfa301');\n",
              "          const dataTable =\n",
              "            await google.colab.kernel.invokeFunction('convertToInteractive',\n",
              "                                                     [key], {});\n",
              "          if (!dataTable) return;\n",
              "\n",
              "          const docLinkHtml = 'Like what you see? Visit the ' +\n",
              "            '<a target=\"_blank\" href=https://colab.research.google.com/notebooks/data_table.ipynb>data table notebook</a>'\n",
              "            + ' to learn more about interactive tables.';\n",
              "          element.innerHTML = '';\n",
              "          dataTable['output_type'] = 'display_data';\n",
              "          await google.colab.output.renderOutput(dataTable, element);\n",
              "          const docLink = document.createElement('div');\n",
              "          docLink.innerHTML = docLinkHtml;\n",
              "          element.appendChild(docLink);\n",
              "        }\n",
              "      </script>\n",
              "    </div>\n",
              "  </div>\n",
              "  "
            ]
          },
          "metadata": {},
          "execution_count": 122
        }
      ]
    },
    {
      "cell_type": "code",
      "source": [
        "%cd '/content/gdrive/MyDrive'\n",
        "df= pd.read_csv('pokemon_data.txt',delimiter='\\t')\n",
        "print(df[['Name','Type 1','HP','Attack','Defense']].head())"
      ],
      "metadata": {
        "colab": {
          "base_uri": "https://localhost:8080/"
        },
        "id": "EewYtQM3XzPL",
        "outputId": "c1a90063-92f2-4a77-daaf-db88e26c6fe4"
      },
      "execution_count": null,
      "outputs": [
        {
          "output_type": "stream",
          "name": "stdout",
          "text": [
            "/content/gdrive/MyDrive\n",
            "                    Name Type 1  HP  Attack  Defense\n",
            "0              Bulbasaur  Grass  45      49       49\n",
            "1                Ivysaur  Grass  60      62       63\n",
            "2               Venusaur  Grass  80      82       83\n",
            "3  VenusaurMega Venusaur  Grass  80     100      123\n",
            "4             Charmander   Fire  39      52       43\n"
          ]
        }
      ]
    },
    {
      "cell_type": "markdown",
      "source": [
        "# Lectura de xlsx"
      ],
      "metadata": {
        "id": "mP1vJAa-S0rV"
      }
    },
    {
      "cell_type": "code",
      "source": [
        "%cd '/content/gdrive/MyDrive'\n",
        "df= pd.read_excel('defaultoutput.xlsx')\n",
        "df\n",
        "#print(df[['index','ID','Year_Birth','Education','Income']].head())"
      ],
      "metadata": {
        "colab": {
          "base_uri": "https://localhost:8080/",
          "height": 523
        },
        "id": "J_zpcwnaS0nQ",
        "outputId": "d976a6e2-53a9-47b2-f027-12d20b911ad5"
      },
      "execution_count": null,
      "outputs": [
        {
          "output_type": "stream",
          "name": "stdout",
          "text": [
            "/content/gdrive/MyDrive\n"
          ]
        },
        {
          "output_type": "execute_result",
          "data": {
            "text/plain": [
              "      Unnamed: 0  index     ID  Year_Birth   Education Marital_Status  \\\n",
              "0              0      0   5524        1957  Graduation         Single   \n",
              "1              1      1   2174        1954  Graduation         Single   \n",
              "2              2      2   4141        1965  Graduation       Together   \n",
              "3              3      3   6182        1984  Graduation       Together   \n",
              "4              4      4   5324        1981         PhD        Married   \n",
              "...          ...    ...    ...         ...         ...            ...   \n",
              "2235        2235   2235  10870        1967  Graduation        Married   \n",
              "2236        2236   2236   4001        1946         PhD       Together   \n",
              "2237        2237   2237   7270        1981  Graduation       Divorced   \n",
              "2238        2238   2238   8235        1956      Master       Together   \n",
              "2239        2239   2239   9405        1954         PhD        Married   \n",
              "\n",
              "       Income  Kidhome  Teenhome Dt_Customer  ...  AcceptedCmp5  AcceptedCmp1  \\\n",
              "0     58138.0        0         0  04-09-2012  ...         False         False   \n",
              "1     46344.0        1         1  08-03-2014  ...         False         False   \n",
              "2     71613.0        0         0  21-08-2013  ...         False         False   \n",
              "3     26646.0        1         0  10-02-2014  ...         False         False   \n",
              "4     58293.0        1         0  19-01-2014  ...         False         False   \n",
              "...       ...      ...       ...         ...  ...           ...           ...   \n",
              "2235  61223.0        0         1  13-06-2013  ...         False         False   \n",
              "2236  64014.0        2         1  10-06-2014  ...         False          True   \n",
              "2237  56981.0        0         0  25-01-2014  ...         False         False   \n",
              "2238  69245.0        0         1  24-01-2014  ...         False         False   \n",
              "2239  52869.0        1         1  15-10-2012  ...         False         False   \n",
              "\n",
              "      AcceptedCmp2  Complain  Z_CostContact  Z_Revenue  Response  \\\n",
              "0            False     False              3         11      True   \n",
              "1            False     False              3         11     False   \n",
              "2            False     False              3         11     False   \n",
              "3            False     False              3         11     False   \n",
              "4            False     False              3         11     False   \n",
              "...            ...       ...            ...        ...       ...   \n",
              "2235         False     False              3         11     False   \n",
              "2236         False     False              3         11     False   \n",
              "2237         False     False              3         11     False   \n",
              "2238         False     False              3         11     False   \n",
              "2239         False     False              3         11      True   \n",
              "\n",
              "      MostExpensive  Marital_Status_key  Education_key  \n",
              "0             Wines                   0              1  \n",
              "1             Wines                   0              1  \n",
              "2             Wines                   2              1  \n",
              "3      MeatProducts                   2              1  \n",
              "4             Wines                   1              0  \n",
              "...             ...                 ...            ...  \n",
              "2235          Wines                   1              1  \n",
              "2236          Wines                   2              0  \n",
              "2237          Wines                   3              1  \n",
              "2238          Wines                   2              2  \n",
              "2239          Wines                   1              0  \n",
              "\n",
              "[2240 rows x 34 columns]"
            ],
            "text/html": [
              "\n",
              "  <div id=\"df-81e4f7d2-4d7c-4591-a7e8-91194e88b261\">\n",
              "    <div class=\"colab-df-container\">\n",
              "      <div>\n",
              "<style scoped>\n",
              "    .dataframe tbody tr th:only-of-type {\n",
              "        vertical-align: middle;\n",
              "    }\n",
              "\n",
              "    .dataframe tbody tr th {\n",
              "        vertical-align: top;\n",
              "    }\n",
              "\n",
              "    .dataframe thead th {\n",
              "        text-align: right;\n",
              "    }\n",
              "</style>\n",
              "<table border=\"1\" class=\"dataframe\">\n",
              "  <thead>\n",
              "    <tr style=\"text-align: right;\">\n",
              "      <th></th>\n",
              "      <th>Unnamed: 0</th>\n",
              "      <th>index</th>\n",
              "      <th>ID</th>\n",
              "      <th>Year_Birth</th>\n",
              "      <th>Education</th>\n",
              "      <th>Marital_Status</th>\n",
              "      <th>Income</th>\n",
              "      <th>Kidhome</th>\n",
              "      <th>Teenhome</th>\n",
              "      <th>Dt_Customer</th>\n",
              "      <th>...</th>\n",
              "      <th>AcceptedCmp5</th>\n",
              "      <th>AcceptedCmp1</th>\n",
              "      <th>AcceptedCmp2</th>\n",
              "      <th>Complain</th>\n",
              "      <th>Z_CostContact</th>\n",
              "      <th>Z_Revenue</th>\n",
              "      <th>Response</th>\n",
              "      <th>MostExpensive</th>\n",
              "      <th>Marital_Status_key</th>\n",
              "      <th>Education_key</th>\n",
              "    </tr>\n",
              "  </thead>\n",
              "  <tbody>\n",
              "    <tr>\n",
              "      <th>0</th>\n",
              "      <td>0</td>\n",
              "      <td>0</td>\n",
              "      <td>5524</td>\n",
              "      <td>1957</td>\n",
              "      <td>Graduation</td>\n",
              "      <td>Single</td>\n",
              "      <td>58138.0</td>\n",
              "      <td>0</td>\n",
              "      <td>0</td>\n",
              "      <td>04-09-2012</td>\n",
              "      <td>...</td>\n",
              "      <td>False</td>\n",
              "      <td>False</td>\n",
              "      <td>False</td>\n",
              "      <td>False</td>\n",
              "      <td>3</td>\n",
              "      <td>11</td>\n",
              "      <td>True</td>\n",
              "      <td>Wines</td>\n",
              "      <td>0</td>\n",
              "      <td>1</td>\n",
              "    </tr>\n",
              "    <tr>\n",
              "      <th>1</th>\n",
              "      <td>1</td>\n",
              "      <td>1</td>\n",
              "      <td>2174</td>\n",
              "      <td>1954</td>\n",
              "      <td>Graduation</td>\n",
              "      <td>Single</td>\n",
              "      <td>46344.0</td>\n",
              "      <td>1</td>\n",
              "      <td>1</td>\n",
              "      <td>08-03-2014</td>\n",
              "      <td>...</td>\n",
              "      <td>False</td>\n",
              "      <td>False</td>\n",
              "      <td>False</td>\n",
              "      <td>False</td>\n",
              "      <td>3</td>\n",
              "      <td>11</td>\n",
              "      <td>False</td>\n",
              "      <td>Wines</td>\n",
              "      <td>0</td>\n",
              "      <td>1</td>\n",
              "    </tr>\n",
              "    <tr>\n",
              "      <th>2</th>\n",
              "      <td>2</td>\n",
              "      <td>2</td>\n",
              "      <td>4141</td>\n",
              "      <td>1965</td>\n",
              "      <td>Graduation</td>\n",
              "      <td>Together</td>\n",
              "      <td>71613.0</td>\n",
              "      <td>0</td>\n",
              "      <td>0</td>\n",
              "      <td>21-08-2013</td>\n",
              "      <td>...</td>\n",
              "      <td>False</td>\n",
              "      <td>False</td>\n",
              "      <td>False</td>\n",
              "      <td>False</td>\n",
              "      <td>3</td>\n",
              "      <td>11</td>\n",
              "      <td>False</td>\n",
              "      <td>Wines</td>\n",
              "      <td>2</td>\n",
              "      <td>1</td>\n",
              "    </tr>\n",
              "    <tr>\n",
              "      <th>3</th>\n",
              "      <td>3</td>\n",
              "      <td>3</td>\n",
              "      <td>6182</td>\n",
              "      <td>1984</td>\n",
              "      <td>Graduation</td>\n",
              "      <td>Together</td>\n",
              "      <td>26646.0</td>\n",
              "      <td>1</td>\n",
              "      <td>0</td>\n",
              "      <td>10-02-2014</td>\n",
              "      <td>...</td>\n",
              "      <td>False</td>\n",
              "      <td>False</td>\n",
              "      <td>False</td>\n",
              "      <td>False</td>\n",
              "      <td>3</td>\n",
              "      <td>11</td>\n",
              "      <td>False</td>\n",
              "      <td>MeatProducts</td>\n",
              "      <td>2</td>\n",
              "      <td>1</td>\n",
              "    </tr>\n",
              "    <tr>\n",
              "      <th>4</th>\n",
              "      <td>4</td>\n",
              "      <td>4</td>\n",
              "      <td>5324</td>\n",
              "      <td>1981</td>\n",
              "      <td>PhD</td>\n",
              "      <td>Married</td>\n",
              "      <td>58293.0</td>\n",
              "      <td>1</td>\n",
              "      <td>0</td>\n",
              "      <td>19-01-2014</td>\n",
              "      <td>...</td>\n",
              "      <td>False</td>\n",
              "      <td>False</td>\n",
              "      <td>False</td>\n",
              "      <td>False</td>\n",
              "      <td>3</td>\n",
              "      <td>11</td>\n",
              "      <td>False</td>\n",
              "      <td>Wines</td>\n",
              "      <td>1</td>\n",
              "      <td>0</td>\n",
              "    </tr>\n",
              "    <tr>\n",
              "      <th>...</th>\n",
              "      <td>...</td>\n",
              "      <td>...</td>\n",
              "      <td>...</td>\n",
              "      <td>...</td>\n",
              "      <td>...</td>\n",
              "      <td>...</td>\n",
              "      <td>...</td>\n",
              "      <td>...</td>\n",
              "      <td>...</td>\n",
              "      <td>...</td>\n",
              "      <td>...</td>\n",
              "      <td>...</td>\n",
              "      <td>...</td>\n",
              "      <td>...</td>\n",
              "      <td>...</td>\n",
              "      <td>...</td>\n",
              "      <td>...</td>\n",
              "      <td>...</td>\n",
              "      <td>...</td>\n",
              "      <td>...</td>\n",
              "      <td>...</td>\n",
              "    </tr>\n",
              "    <tr>\n",
              "      <th>2235</th>\n",
              "      <td>2235</td>\n",
              "      <td>2235</td>\n",
              "      <td>10870</td>\n",
              "      <td>1967</td>\n",
              "      <td>Graduation</td>\n",
              "      <td>Married</td>\n",
              "      <td>61223.0</td>\n",
              "      <td>0</td>\n",
              "      <td>1</td>\n",
              "      <td>13-06-2013</td>\n",
              "      <td>...</td>\n",
              "      <td>False</td>\n",
              "      <td>False</td>\n",
              "      <td>False</td>\n",
              "      <td>False</td>\n",
              "      <td>3</td>\n",
              "      <td>11</td>\n",
              "      <td>False</td>\n",
              "      <td>Wines</td>\n",
              "      <td>1</td>\n",
              "      <td>1</td>\n",
              "    </tr>\n",
              "    <tr>\n",
              "      <th>2236</th>\n",
              "      <td>2236</td>\n",
              "      <td>2236</td>\n",
              "      <td>4001</td>\n",
              "      <td>1946</td>\n",
              "      <td>PhD</td>\n",
              "      <td>Together</td>\n",
              "      <td>64014.0</td>\n",
              "      <td>2</td>\n",
              "      <td>1</td>\n",
              "      <td>10-06-2014</td>\n",
              "      <td>...</td>\n",
              "      <td>False</td>\n",
              "      <td>True</td>\n",
              "      <td>False</td>\n",
              "      <td>False</td>\n",
              "      <td>3</td>\n",
              "      <td>11</td>\n",
              "      <td>False</td>\n",
              "      <td>Wines</td>\n",
              "      <td>2</td>\n",
              "      <td>0</td>\n",
              "    </tr>\n",
              "    <tr>\n",
              "      <th>2237</th>\n",
              "      <td>2237</td>\n",
              "      <td>2237</td>\n",
              "      <td>7270</td>\n",
              "      <td>1981</td>\n",
              "      <td>Graduation</td>\n",
              "      <td>Divorced</td>\n",
              "      <td>56981.0</td>\n",
              "      <td>0</td>\n",
              "      <td>0</td>\n",
              "      <td>25-01-2014</td>\n",
              "      <td>...</td>\n",
              "      <td>False</td>\n",
              "      <td>False</td>\n",
              "      <td>False</td>\n",
              "      <td>False</td>\n",
              "      <td>3</td>\n",
              "      <td>11</td>\n",
              "      <td>False</td>\n",
              "      <td>Wines</td>\n",
              "      <td>3</td>\n",
              "      <td>1</td>\n",
              "    </tr>\n",
              "    <tr>\n",
              "      <th>2238</th>\n",
              "      <td>2238</td>\n",
              "      <td>2238</td>\n",
              "      <td>8235</td>\n",
              "      <td>1956</td>\n",
              "      <td>Master</td>\n",
              "      <td>Together</td>\n",
              "      <td>69245.0</td>\n",
              "      <td>0</td>\n",
              "      <td>1</td>\n",
              "      <td>24-01-2014</td>\n",
              "      <td>...</td>\n",
              "      <td>False</td>\n",
              "      <td>False</td>\n",
              "      <td>False</td>\n",
              "      <td>False</td>\n",
              "      <td>3</td>\n",
              "      <td>11</td>\n",
              "      <td>False</td>\n",
              "      <td>Wines</td>\n",
              "      <td>2</td>\n",
              "      <td>2</td>\n",
              "    </tr>\n",
              "    <tr>\n",
              "      <th>2239</th>\n",
              "      <td>2239</td>\n",
              "      <td>2239</td>\n",
              "      <td>9405</td>\n",
              "      <td>1954</td>\n",
              "      <td>PhD</td>\n",
              "      <td>Married</td>\n",
              "      <td>52869.0</td>\n",
              "      <td>1</td>\n",
              "      <td>1</td>\n",
              "      <td>15-10-2012</td>\n",
              "      <td>...</td>\n",
              "      <td>False</td>\n",
              "      <td>False</td>\n",
              "      <td>False</td>\n",
              "      <td>False</td>\n",
              "      <td>3</td>\n",
              "      <td>11</td>\n",
              "      <td>True</td>\n",
              "      <td>Wines</td>\n",
              "      <td>1</td>\n",
              "      <td>0</td>\n",
              "    </tr>\n",
              "  </tbody>\n",
              "</table>\n",
              "<p>2240 rows × 34 columns</p>\n",
              "</div>\n",
              "      <button class=\"colab-df-convert\" onclick=\"convertToInteractive('df-81e4f7d2-4d7c-4591-a7e8-91194e88b261')\"\n",
              "              title=\"Convert this dataframe to an interactive table.\"\n",
              "              style=\"display:none;\">\n",
              "        \n",
              "  <svg xmlns=\"http://www.w3.org/2000/svg\" height=\"24px\"viewBox=\"0 0 24 24\"\n",
              "       width=\"24px\">\n",
              "    <path d=\"M0 0h24v24H0V0z\" fill=\"none\"/>\n",
              "    <path d=\"M18.56 5.44l.94 2.06.94-2.06 2.06-.94-2.06-.94-.94-2.06-.94 2.06-2.06.94zm-11 1L8.5 8.5l.94-2.06 2.06-.94-2.06-.94L8.5 2.5l-.94 2.06-2.06.94zm10 10l.94 2.06.94-2.06 2.06-.94-2.06-.94-.94-2.06-.94 2.06-2.06.94z\"/><path d=\"M17.41 7.96l-1.37-1.37c-.4-.4-.92-.59-1.43-.59-.52 0-1.04.2-1.43.59L10.3 9.45l-7.72 7.72c-.78.78-.78 2.05 0 2.83L4 21.41c.39.39.9.59 1.41.59.51 0 1.02-.2 1.41-.59l7.78-7.78 2.81-2.81c.8-.78.8-2.07 0-2.86zM5.41 20L4 18.59l7.72-7.72 1.47 1.35L5.41 20z\"/>\n",
              "  </svg>\n",
              "      </button>\n",
              "      \n",
              "  <style>\n",
              "    .colab-df-container {\n",
              "      display:flex;\n",
              "      flex-wrap:wrap;\n",
              "      gap: 12px;\n",
              "    }\n",
              "\n",
              "    .colab-df-convert {\n",
              "      background-color: #E8F0FE;\n",
              "      border: none;\n",
              "      border-radius: 50%;\n",
              "      cursor: pointer;\n",
              "      display: none;\n",
              "      fill: #1967D2;\n",
              "      height: 32px;\n",
              "      padding: 0 0 0 0;\n",
              "      width: 32px;\n",
              "    }\n",
              "\n",
              "    .colab-df-convert:hover {\n",
              "      background-color: #E2EBFA;\n",
              "      box-shadow: 0px 1px 2px rgba(60, 64, 67, 0.3), 0px 1px 3px 1px rgba(60, 64, 67, 0.15);\n",
              "      fill: #174EA6;\n",
              "    }\n",
              "\n",
              "    [theme=dark] .colab-df-convert {\n",
              "      background-color: #3B4455;\n",
              "      fill: #D2E3FC;\n",
              "    }\n",
              "\n",
              "    [theme=dark] .colab-df-convert:hover {\n",
              "      background-color: #434B5C;\n",
              "      box-shadow: 0px 1px 3px 1px rgba(0, 0, 0, 0.15);\n",
              "      filter: drop-shadow(0px 1px 2px rgba(0, 0, 0, 0.3));\n",
              "      fill: #FFFFFF;\n",
              "    }\n",
              "  </style>\n",
              "\n",
              "      <script>\n",
              "        const buttonEl =\n",
              "          document.querySelector('#df-81e4f7d2-4d7c-4591-a7e8-91194e88b261 button.colab-df-convert');\n",
              "        buttonEl.style.display =\n",
              "          google.colab.kernel.accessAllowed ? 'block' : 'none';\n",
              "\n",
              "        async function convertToInteractive(key) {\n",
              "          const element = document.querySelector('#df-81e4f7d2-4d7c-4591-a7e8-91194e88b261');\n",
              "          const dataTable =\n",
              "            await google.colab.kernel.invokeFunction('convertToInteractive',\n",
              "                                                     [key], {});\n",
              "          if (!dataTable) return;\n",
              "\n",
              "          const docLinkHtml = 'Like what you see? Visit the ' +\n",
              "            '<a target=\"_blank\" href=https://colab.research.google.com/notebooks/data_table.ipynb>data table notebook</a>'\n",
              "            + ' to learn more about interactive tables.';\n",
              "          element.innerHTML = '';\n",
              "          dataTable['output_type'] = 'display_data';\n",
              "          await google.colab.output.renderOutput(dataTable, element);\n",
              "          const docLink = document.createElement('div');\n",
              "          docLink.innerHTML = docLinkHtml;\n",
              "          element.appendChild(docLink);\n",
              "        }\n",
              "      </script>\n",
              "    </div>\n",
              "  </div>\n",
              "  "
            ]
          },
          "metadata": {},
          "execution_count": 123
        }
      ]
    },
    {
      "cell_type": "markdown",
      "source": [
        "# Lectura desde Github /Apis"
      ],
      "metadata": {
        "id": "R8WGdo9RS2I0"
      }
    },
    {
      "cell_type": "code",
      "source": [
        "import pandas as pd\n",
        "\n",
        "url = 'https://raw.githubusercontent.com/JJTorresDS/stocks-ds-edu/main/stocks.csv'\n",
        "df = pd.read_csv(url, index_col=0)\n",
        "df\n",
        "#print(df[['AMZN','MCD','SBUX','GOOG','MSFT']].head(5).round(1))"
      ],
      "metadata": {
        "colab": {
          "base_uri": "https://localhost:8080/",
          "height": 519
        },
        "id": "1dpyS-ywTWyw",
        "outputId": "0b612de3-9f3c-436c-dc54-6d72d6cd52dd"
      },
      "execution_count": null,
      "outputs": [
        {
          "output_type": "execute_result",
          "data": {
            "text/plain": [
              "                       MCD        SBUX         GOOG         AMZN        MSFT  \\\n",
              "formatted_date                                                                 \n",
              "2016-01-01      106.332146   54.353962   742.950012   587.000000   49.853489   \n",
              "2016-02-01      100.671043   52.064243   697.770020   552.520020   46.043667   \n",
              "2016-03-01      108.782211   53.571442   744.950012   593.640015   50.339031   \n",
              "2016-04-01      109.483307   50.457645   693.010010   659.590027   45.453705   \n",
              "2016-05-01      105.648926   49.255203   735.719971   722.789978   48.306515   \n",
              "...                    ...         ...          ...          ...         ...   \n",
              "2021-07-01      240.055786  120.441193  2704.419922  3327.590088  283.846313   \n",
              "2021-08-01      234.863205  116.533272  2909.239990  3470.790039  300.752960   \n",
              "2021-09-01      239.780670  109.836403  2665.310059  3285.040039  281.405182   \n",
              "2021-10-01      244.196198  105.614609  2965.409912  3372.429932  331.014404   \n",
              "2021-11-01      243.251434  109.169281  2849.040039  3507.070068  329.986298   \n",
              "\n",
              "                       JPM        BAC          C         MAR         HLT  \\\n",
              "formatted_date                                                             \n",
              "2016-01-01       50.424938  12.573010  36.897804   57.754189   35.192841   \n",
              "2016-02-01       48.033066  11.132540  33.707108   64.228912   41.061607   \n",
              "2016-03-01       50.524323  12.021718  36.223217   67.336624   44.499886   \n",
              "2016-04-01       53.919910  12.995729  40.153545   66.305466   43.716049   \n",
              "2016-05-01       56.098225  13.201019  40.447887   62.474155   41.198154   \n",
              "...                    ...        ...        ...         ...         ...   \n",
              "2021-07-01      150.006454  37.981613  66.635887  145.979996  131.449997   \n",
              "2021-08-01      158.991928  41.338173  71.392593  135.139999  124.860001   \n",
              "2021-09-01      162.709534  42.031269  69.675041  148.089996  132.110001   \n",
              "2021-10-01      168.872391  47.551128  68.662384  160.020004  143.949997   \n",
              "2021-11-01      158.830002  44.256985  63.700001  147.559998  135.070007   \n",
              "\n",
              "                      RCL           V          MA        PYPL  \n",
              "formatted_date                                                 \n",
              "2016-01-01      74.235298   71.574371   85.822624   36.139999  \n",
              "2016-02-01      67.360649   69.556580   83.956566   38.139999  \n",
              "2016-03-01      74.790009   73.631477   91.278160   38.599998  \n",
              "2016-04-01      70.465584   74.363144   93.683258   39.180000  \n",
              "2016-05-01      70.456474   75.999847   92.817329   37.790001  \n",
              "...                   ...         ...         ...         ...  \n",
              "2021-07-01      76.870003  245.622177  384.999420  275.529999  \n",
              "2021-08-01      82.730003  228.386063  345.793121  288.660004  \n",
              "2021-09-01      88.949997  222.358551  347.241272  260.209991  \n",
              "2021-10-01      84.430000  211.397858  335.096588  232.589996  \n",
              "2021-11-01      69.820000  193.429489  314.920013  184.889999  \n",
              "\n",
              "[71 rows x 14 columns]"
            ],
            "text/html": [
              "\n",
              "  <div id=\"df-88a13b35-28de-41b4-95c9-1f02595e7d88\">\n",
              "    <div class=\"colab-df-container\">\n",
              "      <div>\n",
              "<style scoped>\n",
              "    .dataframe tbody tr th:only-of-type {\n",
              "        vertical-align: middle;\n",
              "    }\n",
              "\n",
              "    .dataframe tbody tr th {\n",
              "        vertical-align: top;\n",
              "    }\n",
              "\n",
              "    .dataframe thead th {\n",
              "        text-align: right;\n",
              "    }\n",
              "</style>\n",
              "<table border=\"1\" class=\"dataframe\">\n",
              "  <thead>\n",
              "    <tr style=\"text-align: right;\">\n",
              "      <th></th>\n",
              "      <th>MCD</th>\n",
              "      <th>SBUX</th>\n",
              "      <th>GOOG</th>\n",
              "      <th>AMZN</th>\n",
              "      <th>MSFT</th>\n",
              "      <th>JPM</th>\n",
              "      <th>BAC</th>\n",
              "      <th>C</th>\n",
              "      <th>MAR</th>\n",
              "      <th>HLT</th>\n",
              "      <th>RCL</th>\n",
              "      <th>V</th>\n",
              "      <th>MA</th>\n",
              "      <th>PYPL</th>\n",
              "    </tr>\n",
              "    <tr>\n",
              "      <th>formatted_date</th>\n",
              "      <th></th>\n",
              "      <th></th>\n",
              "      <th></th>\n",
              "      <th></th>\n",
              "      <th></th>\n",
              "      <th></th>\n",
              "      <th></th>\n",
              "      <th></th>\n",
              "      <th></th>\n",
              "      <th></th>\n",
              "      <th></th>\n",
              "      <th></th>\n",
              "      <th></th>\n",
              "      <th></th>\n",
              "    </tr>\n",
              "  </thead>\n",
              "  <tbody>\n",
              "    <tr>\n",
              "      <th>2016-01-01</th>\n",
              "      <td>106.332146</td>\n",
              "      <td>54.353962</td>\n",
              "      <td>742.950012</td>\n",
              "      <td>587.000000</td>\n",
              "      <td>49.853489</td>\n",
              "      <td>50.424938</td>\n",
              "      <td>12.573010</td>\n",
              "      <td>36.897804</td>\n",
              "      <td>57.754189</td>\n",
              "      <td>35.192841</td>\n",
              "      <td>74.235298</td>\n",
              "      <td>71.574371</td>\n",
              "      <td>85.822624</td>\n",
              "      <td>36.139999</td>\n",
              "    </tr>\n",
              "    <tr>\n",
              "      <th>2016-02-01</th>\n",
              "      <td>100.671043</td>\n",
              "      <td>52.064243</td>\n",
              "      <td>697.770020</td>\n",
              "      <td>552.520020</td>\n",
              "      <td>46.043667</td>\n",
              "      <td>48.033066</td>\n",
              "      <td>11.132540</td>\n",
              "      <td>33.707108</td>\n",
              "      <td>64.228912</td>\n",
              "      <td>41.061607</td>\n",
              "      <td>67.360649</td>\n",
              "      <td>69.556580</td>\n",
              "      <td>83.956566</td>\n",
              "      <td>38.139999</td>\n",
              "    </tr>\n",
              "    <tr>\n",
              "      <th>2016-03-01</th>\n",
              "      <td>108.782211</td>\n",
              "      <td>53.571442</td>\n",
              "      <td>744.950012</td>\n",
              "      <td>593.640015</td>\n",
              "      <td>50.339031</td>\n",
              "      <td>50.524323</td>\n",
              "      <td>12.021718</td>\n",
              "      <td>36.223217</td>\n",
              "      <td>67.336624</td>\n",
              "      <td>44.499886</td>\n",
              "      <td>74.790009</td>\n",
              "      <td>73.631477</td>\n",
              "      <td>91.278160</td>\n",
              "      <td>38.599998</td>\n",
              "    </tr>\n",
              "    <tr>\n",
              "      <th>2016-04-01</th>\n",
              "      <td>109.483307</td>\n",
              "      <td>50.457645</td>\n",
              "      <td>693.010010</td>\n",
              "      <td>659.590027</td>\n",
              "      <td>45.453705</td>\n",
              "      <td>53.919910</td>\n",
              "      <td>12.995729</td>\n",
              "      <td>40.153545</td>\n",
              "      <td>66.305466</td>\n",
              "      <td>43.716049</td>\n",
              "      <td>70.465584</td>\n",
              "      <td>74.363144</td>\n",
              "      <td>93.683258</td>\n",
              "      <td>39.180000</td>\n",
              "    </tr>\n",
              "    <tr>\n",
              "      <th>2016-05-01</th>\n",
              "      <td>105.648926</td>\n",
              "      <td>49.255203</td>\n",
              "      <td>735.719971</td>\n",
              "      <td>722.789978</td>\n",
              "      <td>48.306515</td>\n",
              "      <td>56.098225</td>\n",
              "      <td>13.201019</td>\n",
              "      <td>40.447887</td>\n",
              "      <td>62.474155</td>\n",
              "      <td>41.198154</td>\n",
              "      <td>70.456474</td>\n",
              "      <td>75.999847</td>\n",
              "      <td>92.817329</td>\n",
              "      <td>37.790001</td>\n",
              "    </tr>\n",
              "    <tr>\n",
              "      <th>...</th>\n",
              "      <td>...</td>\n",
              "      <td>...</td>\n",
              "      <td>...</td>\n",
              "      <td>...</td>\n",
              "      <td>...</td>\n",
              "      <td>...</td>\n",
              "      <td>...</td>\n",
              "      <td>...</td>\n",
              "      <td>...</td>\n",
              "      <td>...</td>\n",
              "      <td>...</td>\n",
              "      <td>...</td>\n",
              "      <td>...</td>\n",
              "      <td>...</td>\n",
              "    </tr>\n",
              "    <tr>\n",
              "      <th>2021-07-01</th>\n",
              "      <td>240.055786</td>\n",
              "      <td>120.441193</td>\n",
              "      <td>2704.419922</td>\n",
              "      <td>3327.590088</td>\n",
              "      <td>283.846313</td>\n",
              "      <td>150.006454</td>\n",
              "      <td>37.981613</td>\n",
              "      <td>66.635887</td>\n",
              "      <td>145.979996</td>\n",
              "      <td>131.449997</td>\n",
              "      <td>76.870003</td>\n",
              "      <td>245.622177</td>\n",
              "      <td>384.999420</td>\n",
              "      <td>275.529999</td>\n",
              "    </tr>\n",
              "    <tr>\n",
              "      <th>2021-08-01</th>\n",
              "      <td>234.863205</td>\n",
              "      <td>116.533272</td>\n",
              "      <td>2909.239990</td>\n",
              "      <td>3470.790039</td>\n",
              "      <td>300.752960</td>\n",
              "      <td>158.991928</td>\n",
              "      <td>41.338173</td>\n",
              "      <td>71.392593</td>\n",
              "      <td>135.139999</td>\n",
              "      <td>124.860001</td>\n",
              "      <td>82.730003</td>\n",
              "      <td>228.386063</td>\n",
              "      <td>345.793121</td>\n",
              "      <td>288.660004</td>\n",
              "    </tr>\n",
              "    <tr>\n",
              "      <th>2021-09-01</th>\n",
              "      <td>239.780670</td>\n",
              "      <td>109.836403</td>\n",
              "      <td>2665.310059</td>\n",
              "      <td>3285.040039</td>\n",
              "      <td>281.405182</td>\n",
              "      <td>162.709534</td>\n",
              "      <td>42.031269</td>\n",
              "      <td>69.675041</td>\n",
              "      <td>148.089996</td>\n",
              "      <td>132.110001</td>\n",
              "      <td>88.949997</td>\n",
              "      <td>222.358551</td>\n",
              "      <td>347.241272</td>\n",
              "      <td>260.209991</td>\n",
              "    </tr>\n",
              "    <tr>\n",
              "      <th>2021-10-01</th>\n",
              "      <td>244.196198</td>\n",
              "      <td>105.614609</td>\n",
              "      <td>2965.409912</td>\n",
              "      <td>3372.429932</td>\n",
              "      <td>331.014404</td>\n",
              "      <td>168.872391</td>\n",
              "      <td>47.551128</td>\n",
              "      <td>68.662384</td>\n",
              "      <td>160.020004</td>\n",
              "      <td>143.949997</td>\n",
              "      <td>84.430000</td>\n",
              "      <td>211.397858</td>\n",
              "      <td>335.096588</td>\n",
              "      <td>232.589996</td>\n",
              "    </tr>\n",
              "    <tr>\n",
              "      <th>2021-11-01</th>\n",
              "      <td>243.251434</td>\n",
              "      <td>109.169281</td>\n",
              "      <td>2849.040039</td>\n",
              "      <td>3507.070068</td>\n",
              "      <td>329.986298</td>\n",
              "      <td>158.830002</td>\n",
              "      <td>44.256985</td>\n",
              "      <td>63.700001</td>\n",
              "      <td>147.559998</td>\n",
              "      <td>135.070007</td>\n",
              "      <td>69.820000</td>\n",
              "      <td>193.429489</td>\n",
              "      <td>314.920013</td>\n",
              "      <td>184.889999</td>\n",
              "    </tr>\n",
              "  </tbody>\n",
              "</table>\n",
              "<p>71 rows × 14 columns</p>\n",
              "</div>\n",
              "      <button class=\"colab-df-convert\" onclick=\"convertToInteractive('df-88a13b35-28de-41b4-95c9-1f02595e7d88')\"\n",
              "              title=\"Convert this dataframe to an interactive table.\"\n",
              "              style=\"display:none;\">\n",
              "        \n",
              "  <svg xmlns=\"http://www.w3.org/2000/svg\" height=\"24px\"viewBox=\"0 0 24 24\"\n",
              "       width=\"24px\">\n",
              "    <path d=\"M0 0h24v24H0V0z\" fill=\"none\"/>\n",
              "    <path d=\"M18.56 5.44l.94 2.06.94-2.06 2.06-.94-2.06-.94-.94-2.06-.94 2.06-2.06.94zm-11 1L8.5 8.5l.94-2.06 2.06-.94-2.06-.94L8.5 2.5l-.94 2.06-2.06.94zm10 10l.94 2.06.94-2.06 2.06-.94-2.06-.94-.94-2.06-.94 2.06-2.06.94z\"/><path d=\"M17.41 7.96l-1.37-1.37c-.4-.4-.92-.59-1.43-.59-.52 0-1.04.2-1.43.59L10.3 9.45l-7.72 7.72c-.78.78-.78 2.05 0 2.83L4 21.41c.39.39.9.59 1.41.59.51 0 1.02-.2 1.41-.59l7.78-7.78 2.81-2.81c.8-.78.8-2.07 0-2.86zM5.41 20L4 18.59l7.72-7.72 1.47 1.35L5.41 20z\"/>\n",
              "  </svg>\n",
              "      </button>\n",
              "      \n",
              "  <style>\n",
              "    .colab-df-container {\n",
              "      display:flex;\n",
              "      flex-wrap:wrap;\n",
              "      gap: 12px;\n",
              "    }\n",
              "\n",
              "    .colab-df-convert {\n",
              "      background-color: #E8F0FE;\n",
              "      border: none;\n",
              "      border-radius: 50%;\n",
              "      cursor: pointer;\n",
              "      display: none;\n",
              "      fill: #1967D2;\n",
              "      height: 32px;\n",
              "      padding: 0 0 0 0;\n",
              "      width: 32px;\n",
              "    }\n",
              "\n",
              "    .colab-df-convert:hover {\n",
              "      background-color: #E2EBFA;\n",
              "      box-shadow: 0px 1px 2px rgba(60, 64, 67, 0.3), 0px 1px 3px 1px rgba(60, 64, 67, 0.15);\n",
              "      fill: #174EA6;\n",
              "    }\n",
              "\n",
              "    [theme=dark] .colab-df-convert {\n",
              "      background-color: #3B4455;\n",
              "      fill: #D2E3FC;\n",
              "    }\n",
              "\n",
              "    [theme=dark] .colab-df-convert:hover {\n",
              "      background-color: #434B5C;\n",
              "      box-shadow: 0px 1px 3px 1px rgba(0, 0, 0, 0.15);\n",
              "      filter: drop-shadow(0px 1px 2px rgba(0, 0, 0, 0.3));\n",
              "      fill: #FFFFFF;\n",
              "    }\n",
              "  </style>\n",
              "\n",
              "      <script>\n",
              "        const buttonEl =\n",
              "          document.querySelector('#df-88a13b35-28de-41b4-95c9-1f02595e7d88 button.colab-df-convert');\n",
              "        buttonEl.style.display =\n",
              "          google.colab.kernel.accessAllowed ? 'block' : 'none';\n",
              "\n",
              "        async function convertToInteractive(key) {\n",
              "          const element = document.querySelector('#df-88a13b35-28de-41b4-95c9-1f02595e7d88');\n",
              "          const dataTable =\n",
              "            await google.colab.kernel.invokeFunction('convertToInteractive',\n",
              "                                                     [key], {});\n",
              "          if (!dataTable) return;\n",
              "\n",
              "          const docLinkHtml = 'Like what you see? Visit the ' +\n",
              "            '<a target=\"_blank\" href=https://colab.research.google.com/notebooks/data_table.ipynb>data table notebook</a>'\n",
              "            + ' to learn more about interactive tables.';\n",
              "          element.innerHTML = '';\n",
              "          dataTable['output_type'] = 'display_data';\n",
              "          await google.colab.output.renderOutput(dataTable, element);\n",
              "          const docLink = document.createElement('div');\n",
              "          docLink.innerHTML = docLinkHtml;\n",
              "          element.appendChild(docLink);\n",
              "        }\n",
              "      </script>\n",
              "    </div>\n",
              "  </div>\n",
              "  "
            ]
          },
          "metadata": {},
          "execution_count": 124
        }
      ]
    },
    {
      "cell_type": "code",
      "source": [
        "!wget -O cars_clus.csv https://s3-api.us-geo.objectstorage.softlayer.net/cf-courses-data/CognitiveClass/ML0101ENv3/labs/cars_clus.csv"
      ],
      "metadata": {
        "colab": {
          "base_uri": "https://localhost:8080/"
        },
        "id": "lIO9hU5LUK0O",
        "outputId": "f7bd73b8-713a-4a60-9dcd-a1471d1f9ead"
      },
      "execution_count": null,
      "outputs": [
        {
          "output_type": "stream",
          "name": "stdout",
          "text": [
            "--2022-06-28 01:16:24--  https://s3-api.us-geo.objectstorage.softlayer.net/cf-courses-data/CognitiveClass/ML0101ENv3/labs/cars_clus.csv\n",
            "Resolving s3-api.us-geo.objectstorage.softlayer.net (s3-api.us-geo.objectstorage.softlayer.net)... 67.228.254.196\n",
            "Connecting to s3-api.us-geo.objectstorage.softlayer.net (s3-api.us-geo.objectstorage.softlayer.net)|67.228.254.196|:443... connected.\n",
            "HTTP request sent, awaiting response... 200 OK\n",
            "Length: 17774 (17K) [text/csv]\n",
            "Saving to: ‘cars_clus.csv’\n",
            "\n",
            "cars_clus.csv       100%[===================>]  17.36K  --.-KB/s    in 0s      \n",
            "\n",
            "2022-06-28 01:16:25 (79.8 MB/s) - ‘cars_clus.csv’ saved [17774/17774]\n",
            "\n"
          ]
        }
      ]
    },
    {
      "cell_type": "code",
      "source": [
        "filename = 'cars_clus.csv'\n",
        "#Lectura\n",
        "pdf = pd.read_csv(filename)\n",
        "pdf\n",
        "#print (\"Shape: \", pdf.shape)\n",
        "#print(pdf[['manufact','model','sales','resale']].head(5))"
      ],
      "metadata": {
        "colab": {
          "base_uri": "https://localhost:8080/",
          "height": 424
        },
        "id": "opv3prIlUL2B",
        "outputId": "8ecc5cd4-8d1a-44a8-b6c5-ffa202cc8ba3"
      },
      "execution_count": null,
      "outputs": [
        {
          "output_type": "execute_result",
          "data": {
            "text/plain": [
              "    manufact     model   sales  resale    type   price engine_s horsepow  \\\n",
              "0      Acura   Integra  16.919  16.360   0.000  21.500    1.800  140.000   \n",
              "1      Acura        TL  39.384  19.875   0.000  28.400    3.200  225.000   \n",
              "2      Acura        CL  14.114  18.225   0.000  $null$    3.200  225.000   \n",
              "3      Acura        RL   8.588  29.725   0.000  42.000    3.500  210.000   \n",
              "4       Audi        A4  20.397  22.255   0.000  23.990    1.800  150.000   \n",
              "..       ...       ...     ...     ...     ...     ...      ...      ...   \n",
              "154    Volvo       V70  17.531  $null$   0.000  28.800    2.400  168.000   \n",
              "155    Volvo       C70   3.493  $null$   0.000  45.500    2.300  236.000   \n",
              "156    Volvo       S80  18.969  $null$   0.000  36.000    2.900  201.000   \n",
              "157      NaN    newCar  $null$  $null$  $null$  21.500    1.500   76.000   \n",
              "158      NaN  newTruck  $null$  $null$  $null$  34.200    3.500  167.000   \n",
              "\n",
              "    wheelbas   width   length curb_wgt fuel_cap     mpg lnsales  partition  \n",
              "0    101.200  67.300  172.400    2.639   13.200  28.000   2.828        0.0  \n",
              "1    108.100  70.300  192.900    3.517   17.200  25.000   3.673        0.0  \n",
              "2    106.900  70.600  192.000    3.470   17.200  26.000   2.647        0.0  \n",
              "3    114.600  71.400  196.600    3.850   18.000  22.000   2.150        0.0  \n",
              "4    102.600  68.200  178.000    2.998   16.400  27.000   3.015        0.0  \n",
              "..       ...     ...      ...      ...      ...     ...     ...        ...  \n",
              "154  104.900  69.300  186.200    3.259   17.900  25.000   2.864        0.0  \n",
              "155  104.900  71.500  185.700    3.601   18.500  23.000   1.251        0.0  \n",
              "156  109.900  72.100  189.800    3.600   21.100  24.000   2.943        0.0  \n",
              "157  106.300  67.900  175.000    2.932   11.900  46.000  $null$        1.0  \n",
              "158  109.800  75.200  188.400    4.508   17.200  26.000  $null$        1.0  \n",
              "\n",
              "[159 rows x 16 columns]"
            ],
            "text/html": [
              "\n",
              "  <div id=\"df-2c5058f5-3686-470a-939e-9cd18d2f97ed\">\n",
              "    <div class=\"colab-df-container\">\n",
              "      <div>\n",
              "<style scoped>\n",
              "    .dataframe tbody tr th:only-of-type {\n",
              "        vertical-align: middle;\n",
              "    }\n",
              "\n",
              "    .dataframe tbody tr th {\n",
              "        vertical-align: top;\n",
              "    }\n",
              "\n",
              "    .dataframe thead th {\n",
              "        text-align: right;\n",
              "    }\n",
              "</style>\n",
              "<table border=\"1\" class=\"dataframe\">\n",
              "  <thead>\n",
              "    <tr style=\"text-align: right;\">\n",
              "      <th></th>\n",
              "      <th>manufact</th>\n",
              "      <th>model</th>\n",
              "      <th>sales</th>\n",
              "      <th>resale</th>\n",
              "      <th>type</th>\n",
              "      <th>price</th>\n",
              "      <th>engine_s</th>\n",
              "      <th>horsepow</th>\n",
              "      <th>wheelbas</th>\n",
              "      <th>width</th>\n",
              "      <th>length</th>\n",
              "      <th>curb_wgt</th>\n",
              "      <th>fuel_cap</th>\n",
              "      <th>mpg</th>\n",
              "      <th>lnsales</th>\n",
              "      <th>partition</th>\n",
              "    </tr>\n",
              "  </thead>\n",
              "  <tbody>\n",
              "    <tr>\n",
              "      <th>0</th>\n",
              "      <td>Acura</td>\n",
              "      <td>Integra</td>\n",
              "      <td>16.919</td>\n",
              "      <td>16.360</td>\n",
              "      <td>0.000</td>\n",
              "      <td>21.500</td>\n",
              "      <td>1.800</td>\n",
              "      <td>140.000</td>\n",
              "      <td>101.200</td>\n",
              "      <td>67.300</td>\n",
              "      <td>172.400</td>\n",
              "      <td>2.639</td>\n",
              "      <td>13.200</td>\n",
              "      <td>28.000</td>\n",
              "      <td>2.828</td>\n",
              "      <td>0.0</td>\n",
              "    </tr>\n",
              "    <tr>\n",
              "      <th>1</th>\n",
              "      <td>Acura</td>\n",
              "      <td>TL</td>\n",
              "      <td>39.384</td>\n",
              "      <td>19.875</td>\n",
              "      <td>0.000</td>\n",
              "      <td>28.400</td>\n",
              "      <td>3.200</td>\n",
              "      <td>225.000</td>\n",
              "      <td>108.100</td>\n",
              "      <td>70.300</td>\n",
              "      <td>192.900</td>\n",
              "      <td>3.517</td>\n",
              "      <td>17.200</td>\n",
              "      <td>25.000</td>\n",
              "      <td>3.673</td>\n",
              "      <td>0.0</td>\n",
              "    </tr>\n",
              "    <tr>\n",
              "      <th>2</th>\n",
              "      <td>Acura</td>\n",
              "      <td>CL</td>\n",
              "      <td>14.114</td>\n",
              "      <td>18.225</td>\n",
              "      <td>0.000</td>\n",
              "      <td>$null$</td>\n",
              "      <td>3.200</td>\n",
              "      <td>225.000</td>\n",
              "      <td>106.900</td>\n",
              "      <td>70.600</td>\n",
              "      <td>192.000</td>\n",
              "      <td>3.470</td>\n",
              "      <td>17.200</td>\n",
              "      <td>26.000</td>\n",
              "      <td>2.647</td>\n",
              "      <td>0.0</td>\n",
              "    </tr>\n",
              "    <tr>\n",
              "      <th>3</th>\n",
              "      <td>Acura</td>\n",
              "      <td>RL</td>\n",
              "      <td>8.588</td>\n",
              "      <td>29.725</td>\n",
              "      <td>0.000</td>\n",
              "      <td>42.000</td>\n",
              "      <td>3.500</td>\n",
              "      <td>210.000</td>\n",
              "      <td>114.600</td>\n",
              "      <td>71.400</td>\n",
              "      <td>196.600</td>\n",
              "      <td>3.850</td>\n",
              "      <td>18.000</td>\n",
              "      <td>22.000</td>\n",
              "      <td>2.150</td>\n",
              "      <td>0.0</td>\n",
              "    </tr>\n",
              "    <tr>\n",
              "      <th>4</th>\n",
              "      <td>Audi</td>\n",
              "      <td>A4</td>\n",
              "      <td>20.397</td>\n",
              "      <td>22.255</td>\n",
              "      <td>0.000</td>\n",
              "      <td>23.990</td>\n",
              "      <td>1.800</td>\n",
              "      <td>150.000</td>\n",
              "      <td>102.600</td>\n",
              "      <td>68.200</td>\n",
              "      <td>178.000</td>\n",
              "      <td>2.998</td>\n",
              "      <td>16.400</td>\n",
              "      <td>27.000</td>\n",
              "      <td>3.015</td>\n",
              "      <td>0.0</td>\n",
              "    </tr>\n",
              "    <tr>\n",
              "      <th>...</th>\n",
              "      <td>...</td>\n",
              "      <td>...</td>\n",
              "      <td>...</td>\n",
              "      <td>...</td>\n",
              "      <td>...</td>\n",
              "      <td>...</td>\n",
              "      <td>...</td>\n",
              "      <td>...</td>\n",
              "      <td>...</td>\n",
              "      <td>...</td>\n",
              "      <td>...</td>\n",
              "      <td>...</td>\n",
              "      <td>...</td>\n",
              "      <td>...</td>\n",
              "      <td>...</td>\n",
              "      <td>...</td>\n",
              "    </tr>\n",
              "    <tr>\n",
              "      <th>154</th>\n",
              "      <td>Volvo</td>\n",
              "      <td>V70</td>\n",
              "      <td>17.531</td>\n",
              "      <td>$null$</td>\n",
              "      <td>0.000</td>\n",
              "      <td>28.800</td>\n",
              "      <td>2.400</td>\n",
              "      <td>168.000</td>\n",
              "      <td>104.900</td>\n",
              "      <td>69.300</td>\n",
              "      <td>186.200</td>\n",
              "      <td>3.259</td>\n",
              "      <td>17.900</td>\n",
              "      <td>25.000</td>\n",
              "      <td>2.864</td>\n",
              "      <td>0.0</td>\n",
              "    </tr>\n",
              "    <tr>\n",
              "      <th>155</th>\n",
              "      <td>Volvo</td>\n",
              "      <td>C70</td>\n",
              "      <td>3.493</td>\n",
              "      <td>$null$</td>\n",
              "      <td>0.000</td>\n",
              "      <td>45.500</td>\n",
              "      <td>2.300</td>\n",
              "      <td>236.000</td>\n",
              "      <td>104.900</td>\n",
              "      <td>71.500</td>\n",
              "      <td>185.700</td>\n",
              "      <td>3.601</td>\n",
              "      <td>18.500</td>\n",
              "      <td>23.000</td>\n",
              "      <td>1.251</td>\n",
              "      <td>0.0</td>\n",
              "    </tr>\n",
              "    <tr>\n",
              "      <th>156</th>\n",
              "      <td>Volvo</td>\n",
              "      <td>S80</td>\n",
              "      <td>18.969</td>\n",
              "      <td>$null$</td>\n",
              "      <td>0.000</td>\n",
              "      <td>36.000</td>\n",
              "      <td>2.900</td>\n",
              "      <td>201.000</td>\n",
              "      <td>109.900</td>\n",
              "      <td>72.100</td>\n",
              "      <td>189.800</td>\n",
              "      <td>3.600</td>\n",
              "      <td>21.100</td>\n",
              "      <td>24.000</td>\n",
              "      <td>2.943</td>\n",
              "      <td>0.0</td>\n",
              "    </tr>\n",
              "    <tr>\n",
              "      <th>157</th>\n",
              "      <td>NaN</td>\n",
              "      <td>newCar</td>\n",
              "      <td>$null$</td>\n",
              "      <td>$null$</td>\n",
              "      <td>$null$</td>\n",
              "      <td>21.500</td>\n",
              "      <td>1.500</td>\n",
              "      <td>76.000</td>\n",
              "      <td>106.300</td>\n",
              "      <td>67.900</td>\n",
              "      <td>175.000</td>\n",
              "      <td>2.932</td>\n",
              "      <td>11.900</td>\n",
              "      <td>46.000</td>\n",
              "      <td>$null$</td>\n",
              "      <td>1.0</td>\n",
              "    </tr>\n",
              "    <tr>\n",
              "      <th>158</th>\n",
              "      <td>NaN</td>\n",
              "      <td>newTruck</td>\n",
              "      <td>$null$</td>\n",
              "      <td>$null$</td>\n",
              "      <td>$null$</td>\n",
              "      <td>34.200</td>\n",
              "      <td>3.500</td>\n",
              "      <td>167.000</td>\n",
              "      <td>109.800</td>\n",
              "      <td>75.200</td>\n",
              "      <td>188.400</td>\n",
              "      <td>4.508</td>\n",
              "      <td>17.200</td>\n",
              "      <td>26.000</td>\n",
              "      <td>$null$</td>\n",
              "      <td>1.0</td>\n",
              "    </tr>\n",
              "  </tbody>\n",
              "</table>\n",
              "<p>159 rows × 16 columns</p>\n",
              "</div>\n",
              "      <button class=\"colab-df-convert\" onclick=\"convertToInteractive('df-2c5058f5-3686-470a-939e-9cd18d2f97ed')\"\n",
              "              title=\"Convert this dataframe to an interactive table.\"\n",
              "              style=\"display:none;\">\n",
              "        \n",
              "  <svg xmlns=\"http://www.w3.org/2000/svg\" height=\"24px\"viewBox=\"0 0 24 24\"\n",
              "       width=\"24px\">\n",
              "    <path d=\"M0 0h24v24H0V0z\" fill=\"none\"/>\n",
              "    <path d=\"M18.56 5.44l.94 2.06.94-2.06 2.06-.94-2.06-.94-.94-2.06-.94 2.06-2.06.94zm-11 1L8.5 8.5l.94-2.06 2.06-.94-2.06-.94L8.5 2.5l-.94 2.06-2.06.94zm10 10l.94 2.06.94-2.06 2.06-.94-2.06-.94-.94-2.06-.94 2.06-2.06.94z\"/><path d=\"M17.41 7.96l-1.37-1.37c-.4-.4-.92-.59-1.43-.59-.52 0-1.04.2-1.43.59L10.3 9.45l-7.72 7.72c-.78.78-.78 2.05 0 2.83L4 21.41c.39.39.9.59 1.41.59.51 0 1.02-.2 1.41-.59l7.78-7.78 2.81-2.81c.8-.78.8-2.07 0-2.86zM5.41 20L4 18.59l7.72-7.72 1.47 1.35L5.41 20z\"/>\n",
              "  </svg>\n",
              "      </button>\n",
              "      \n",
              "  <style>\n",
              "    .colab-df-container {\n",
              "      display:flex;\n",
              "      flex-wrap:wrap;\n",
              "      gap: 12px;\n",
              "    }\n",
              "\n",
              "    .colab-df-convert {\n",
              "      background-color: #E8F0FE;\n",
              "      border: none;\n",
              "      border-radius: 50%;\n",
              "      cursor: pointer;\n",
              "      display: none;\n",
              "      fill: #1967D2;\n",
              "      height: 32px;\n",
              "      padding: 0 0 0 0;\n",
              "      width: 32px;\n",
              "    }\n",
              "\n",
              "    .colab-df-convert:hover {\n",
              "      background-color: #E2EBFA;\n",
              "      box-shadow: 0px 1px 2px rgba(60, 64, 67, 0.3), 0px 1px 3px 1px rgba(60, 64, 67, 0.15);\n",
              "      fill: #174EA6;\n",
              "    }\n",
              "\n",
              "    [theme=dark] .colab-df-convert {\n",
              "      background-color: #3B4455;\n",
              "      fill: #D2E3FC;\n",
              "    }\n",
              "\n",
              "    [theme=dark] .colab-df-convert:hover {\n",
              "      background-color: #434B5C;\n",
              "      box-shadow: 0px 1px 3px 1px rgba(0, 0, 0, 0.15);\n",
              "      filter: drop-shadow(0px 1px 2px rgba(0, 0, 0, 0.3));\n",
              "      fill: #FFFFFF;\n",
              "    }\n",
              "  </style>\n",
              "\n",
              "      <script>\n",
              "        const buttonEl =\n",
              "          document.querySelector('#df-2c5058f5-3686-470a-939e-9cd18d2f97ed button.colab-df-convert');\n",
              "        buttonEl.style.display =\n",
              "          google.colab.kernel.accessAllowed ? 'block' : 'none';\n",
              "\n",
              "        async function convertToInteractive(key) {\n",
              "          const element = document.querySelector('#df-2c5058f5-3686-470a-939e-9cd18d2f97ed');\n",
              "          const dataTable =\n",
              "            await google.colab.kernel.invokeFunction('convertToInteractive',\n",
              "                                                     [key], {});\n",
              "          if (!dataTable) return;\n",
              "\n",
              "          const docLinkHtml = 'Like what you see? Visit the ' +\n",
              "            '<a target=\"_blank\" href=https://colab.research.google.com/notebooks/data_table.ipynb>data table notebook</a>'\n",
              "            + ' to learn more about interactive tables.';\n",
              "          element.innerHTML = '';\n",
              "          dataTable['output_type'] = 'display_data';\n",
              "          await google.colab.output.renderOutput(dataTable, element);\n",
              "          const docLink = document.createElement('div');\n",
              "          docLink.innerHTML = docLinkHtml;\n",
              "          element.appendChild(docLink);\n",
              "        }\n",
              "      </script>\n",
              "    </div>\n",
              "  </div>\n",
              "  "
            ]
          },
          "metadata": {},
          "execution_count": 126
        }
      ]
    },
    {
      "cell_type": "code",
      "source": [
        "pdf.to_excel?"
      ],
      "metadata": {
        "id": "P6Nzi0F_5Qjz"
      },
      "execution_count": null,
      "outputs": []
    },
    {
      "cell_type": "code",
      "source": [
        "pdf.to_csv('dt.csv',sep=',')"
      ],
      "metadata": {
        "id": "y96dw13l5H52"
      },
      "execution_count": null,
      "outputs": []
    },
    {
      "cell_type": "markdown",
      "source": [
        "# Desafio generico: Lectura de informacion\n",
        "\n",
        "Los datos se encuentran en la siguiente link:\n",
        "[Data Acciones](https://raw.githubusercontent.com/JJTorresDS/stocks-ds-edu/main/stocks.csv)\n",
        "\n"
      ],
      "metadata": {
        "id": "Ofv1tHEg7dVT"
      }
    },
    {
      "cell_type": "code",
      "source": [
        "import pandas as pd\n",
        "\n",
        "url = 'https://raw.githubusercontent.com/JJTorresDS/stocks-ds-edu/main/stocks.csv'\n",
        "df = pd.read_csv(url, index_col=0)\n",
        "df"
      ],
      "metadata": {
        "colab": {
          "base_uri": "https://localhost:8080/",
          "height": 519
        },
        "id": "UBQeIbm17wPf",
        "outputId": "ed2cbbd2-b96b-4255-ca16-0c1f95d0f913"
      },
      "execution_count": null,
      "outputs": [
        {
          "output_type": "execute_result",
          "data": {
            "text/plain": [
              "                       MCD        SBUX         GOOG         AMZN        MSFT  \\\n",
              "formatted_date                                                                 \n",
              "2016-01-01      106.332146   54.353962   742.950012   587.000000   49.853489   \n",
              "2016-02-01      100.671043   52.064243   697.770020   552.520020   46.043667   \n",
              "2016-03-01      108.782211   53.571442   744.950012   593.640015   50.339031   \n",
              "2016-04-01      109.483307   50.457645   693.010010   659.590027   45.453705   \n",
              "2016-05-01      105.648926   49.255203   735.719971   722.789978   48.306515   \n",
              "...                    ...         ...          ...          ...         ...   \n",
              "2021-07-01      240.055786  120.441193  2704.419922  3327.590088  283.846313   \n",
              "2021-08-01      234.863205  116.533272  2909.239990  3470.790039  300.752960   \n",
              "2021-09-01      239.780670  109.836403  2665.310059  3285.040039  281.405182   \n",
              "2021-10-01      244.196198  105.614609  2965.409912  3372.429932  331.014404   \n",
              "2021-11-01      243.251434  109.169281  2849.040039  3507.070068  329.986298   \n",
              "\n",
              "                       JPM        BAC          C         MAR         HLT  \\\n",
              "formatted_date                                                             \n",
              "2016-01-01       50.424938  12.573010  36.897804   57.754189   35.192841   \n",
              "2016-02-01       48.033066  11.132540  33.707108   64.228912   41.061607   \n",
              "2016-03-01       50.524323  12.021718  36.223217   67.336624   44.499886   \n",
              "2016-04-01       53.919910  12.995729  40.153545   66.305466   43.716049   \n",
              "2016-05-01       56.098225  13.201019  40.447887   62.474155   41.198154   \n",
              "...                    ...        ...        ...         ...         ...   \n",
              "2021-07-01      150.006454  37.981613  66.635887  145.979996  131.449997   \n",
              "2021-08-01      158.991928  41.338173  71.392593  135.139999  124.860001   \n",
              "2021-09-01      162.709534  42.031269  69.675041  148.089996  132.110001   \n",
              "2021-10-01      168.872391  47.551128  68.662384  160.020004  143.949997   \n",
              "2021-11-01      158.830002  44.256985  63.700001  147.559998  135.070007   \n",
              "\n",
              "                      RCL           V          MA        PYPL  \n",
              "formatted_date                                                 \n",
              "2016-01-01      74.235298   71.574371   85.822624   36.139999  \n",
              "2016-02-01      67.360649   69.556580   83.956566   38.139999  \n",
              "2016-03-01      74.790009   73.631477   91.278160   38.599998  \n",
              "2016-04-01      70.465584   74.363144   93.683258   39.180000  \n",
              "2016-05-01      70.456474   75.999847   92.817329   37.790001  \n",
              "...                   ...         ...         ...         ...  \n",
              "2021-07-01      76.870003  245.622177  384.999420  275.529999  \n",
              "2021-08-01      82.730003  228.386063  345.793121  288.660004  \n",
              "2021-09-01      88.949997  222.358551  347.241272  260.209991  \n",
              "2021-10-01      84.430000  211.397858  335.096588  232.589996  \n",
              "2021-11-01      69.820000  193.429489  314.920013  184.889999  \n",
              "\n",
              "[71 rows x 14 columns]"
            ],
            "text/html": [
              "\n",
              "  <div id=\"df-55eb3aab-54d8-42cd-ab61-f528e1cc106a\">\n",
              "    <div class=\"colab-df-container\">\n",
              "      <div>\n",
              "<style scoped>\n",
              "    .dataframe tbody tr th:only-of-type {\n",
              "        vertical-align: middle;\n",
              "    }\n",
              "\n",
              "    .dataframe tbody tr th {\n",
              "        vertical-align: top;\n",
              "    }\n",
              "\n",
              "    .dataframe thead th {\n",
              "        text-align: right;\n",
              "    }\n",
              "</style>\n",
              "<table border=\"1\" class=\"dataframe\">\n",
              "  <thead>\n",
              "    <tr style=\"text-align: right;\">\n",
              "      <th></th>\n",
              "      <th>MCD</th>\n",
              "      <th>SBUX</th>\n",
              "      <th>GOOG</th>\n",
              "      <th>AMZN</th>\n",
              "      <th>MSFT</th>\n",
              "      <th>JPM</th>\n",
              "      <th>BAC</th>\n",
              "      <th>C</th>\n",
              "      <th>MAR</th>\n",
              "      <th>HLT</th>\n",
              "      <th>RCL</th>\n",
              "      <th>V</th>\n",
              "      <th>MA</th>\n",
              "      <th>PYPL</th>\n",
              "    </tr>\n",
              "    <tr>\n",
              "      <th>formatted_date</th>\n",
              "      <th></th>\n",
              "      <th></th>\n",
              "      <th></th>\n",
              "      <th></th>\n",
              "      <th></th>\n",
              "      <th></th>\n",
              "      <th></th>\n",
              "      <th></th>\n",
              "      <th></th>\n",
              "      <th></th>\n",
              "      <th></th>\n",
              "      <th></th>\n",
              "      <th></th>\n",
              "      <th></th>\n",
              "    </tr>\n",
              "  </thead>\n",
              "  <tbody>\n",
              "    <tr>\n",
              "      <th>2016-01-01</th>\n",
              "      <td>106.332146</td>\n",
              "      <td>54.353962</td>\n",
              "      <td>742.950012</td>\n",
              "      <td>587.000000</td>\n",
              "      <td>49.853489</td>\n",
              "      <td>50.424938</td>\n",
              "      <td>12.573010</td>\n",
              "      <td>36.897804</td>\n",
              "      <td>57.754189</td>\n",
              "      <td>35.192841</td>\n",
              "      <td>74.235298</td>\n",
              "      <td>71.574371</td>\n",
              "      <td>85.822624</td>\n",
              "      <td>36.139999</td>\n",
              "    </tr>\n",
              "    <tr>\n",
              "      <th>2016-02-01</th>\n",
              "      <td>100.671043</td>\n",
              "      <td>52.064243</td>\n",
              "      <td>697.770020</td>\n",
              "      <td>552.520020</td>\n",
              "      <td>46.043667</td>\n",
              "      <td>48.033066</td>\n",
              "      <td>11.132540</td>\n",
              "      <td>33.707108</td>\n",
              "      <td>64.228912</td>\n",
              "      <td>41.061607</td>\n",
              "      <td>67.360649</td>\n",
              "      <td>69.556580</td>\n",
              "      <td>83.956566</td>\n",
              "      <td>38.139999</td>\n",
              "    </tr>\n",
              "    <tr>\n",
              "      <th>2016-03-01</th>\n",
              "      <td>108.782211</td>\n",
              "      <td>53.571442</td>\n",
              "      <td>744.950012</td>\n",
              "      <td>593.640015</td>\n",
              "      <td>50.339031</td>\n",
              "      <td>50.524323</td>\n",
              "      <td>12.021718</td>\n",
              "      <td>36.223217</td>\n",
              "      <td>67.336624</td>\n",
              "      <td>44.499886</td>\n",
              "      <td>74.790009</td>\n",
              "      <td>73.631477</td>\n",
              "      <td>91.278160</td>\n",
              "      <td>38.599998</td>\n",
              "    </tr>\n",
              "    <tr>\n",
              "      <th>2016-04-01</th>\n",
              "      <td>109.483307</td>\n",
              "      <td>50.457645</td>\n",
              "      <td>693.010010</td>\n",
              "      <td>659.590027</td>\n",
              "      <td>45.453705</td>\n",
              "      <td>53.919910</td>\n",
              "      <td>12.995729</td>\n",
              "      <td>40.153545</td>\n",
              "      <td>66.305466</td>\n",
              "      <td>43.716049</td>\n",
              "      <td>70.465584</td>\n",
              "      <td>74.363144</td>\n",
              "      <td>93.683258</td>\n",
              "      <td>39.180000</td>\n",
              "    </tr>\n",
              "    <tr>\n",
              "      <th>2016-05-01</th>\n",
              "      <td>105.648926</td>\n",
              "      <td>49.255203</td>\n",
              "      <td>735.719971</td>\n",
              "      <td>722.789978</td>\n",
              "      <td>48.306515</td>\n",
              "      <td>56.098225</td>\n",
              "      <td>13.201019</td>\n",
              "      <td>40.447887</td>\n",
              "      <td>62.474155</td>\n",
              "      <td>41.198154</td>\n",
              "      <td>70.456474</td>\n",
              "      <td>75.999847</td>\n",
              "      <td>92.817329</td>\n",
              "      <td>37.790001</td>\n",
              "    </tr>\n",
              "    <tr>\n",
              "      <th>...</th>\n",
              "      <td>...</td>\n",
              "      <td>...</td>\n",
              "      <td>...</td>\n",
              "      <td>...</td>\n",
              "      <td>...</td>\n",
              "      <td>...</td>\n",
              "      <td>...</td>\n",
              "      <td>...</td>\n",
              "      <td>...</td>\n",
              "      <td>...</td>\n",
              "      <td>...</td>\n",
              "      <td>...</td>\n",
              "      <td>...</td>\n",
              "      <td>...</td>\n",
              "    </tr>\n",
              "    <tr>\n",
              "      <th>2021-07-01</th>\n",
              "      <td>240.055786</td>\n",
              "      <td>120.441193</td>\n",
              "      <td>2704.419922</td>\n",
              "      <td>3327.590088</td>\n",
              "      <td>283.846313</td>\n",
              "      <td>150.006454</td>\n",
              "      <td>37.981613</td>\n",
              "      <td>66.635887</td>\n",
              "      <td>145.979996</td>\n",
              "      <td>131.449997</td>\n",
              "      <td>76.870003</td>\n",
              "      <td>245.622177</td>\n",
              "      <td>384.999420</td>\n",
              "      <td>275.529999</td>\n",
              "    </tr>\n",
              "    <tr>\n",
              "      <th>2021-08-01</th>\n",
              "      <td>234.863205</td>\n",
              "      <td>116.533272</td>\n",
              "      <td>2909.239990</td>\n",
              "      <td>3470.790039</td>\n",
              "      <td>300.752960</td>\n",
              "      <td>158.991928</td>\n",
              "      <td>41.338173</td>\n",
              "      <td>71.392593</td>\n",
              "      <td>135.139999</td>\n",
              "      <td>124.860001</td>\n",
              "      <td>82.730003</td>\n",
              "      <td>228.386063</td>\n",
              "      <td>345.793121</td>\n",
              "      <td>288.660004</td>\n",
              "    </tr>\n",
              "    <tr>\n",
              "      <th>2021-09-01</th>\n",
              "      <td>239.780670</td>\n",
              "      <td>109.836403</td>\n",
              "      <td>2665.310059</td>\n",
              "      <td>3285.040039</td>\n",
              "      <td>281.405182</td>\n",
              "      <td>162.709534</td>\n",
              "      <td>42.031269</td>\n",
              "      <td>69.675041</td>\n",
              "      <td>148.089996</td>\n",
              "      <td>132.110001</td>\n",
              "      <td>88.949997</td>\n",
              "      <td>222.358551</td>\n",
              "      <td>347.241272</td>\n",
              "      <td>260.209991</td>\n",
              "    </tr>\n",
              "    <tr>\n",
              "      <th>2021-10-01</th>\n",
              "      <td>244.196198</td>\n",
              "      <td>105.614609</td>\n",
              "      <td>2965.409912</td>\n",
              "      <td>3372.429932</td>\n",
              "      <td>331.014404</td>\n",
              "      <td>168.872391</td>\n",
              "      <td>47.551128</td>\n",
              "      <td>68.662384</td>\n",
              "      <td>160.020004</td>\n",
              "      <td>143.949997</td>\n",
              "      <td>84.430000</td>\n",
              "      <td>211.397858</td>\n",
              "      <td>335.096588</td>\n",
              "      <td>232.589996</td>\n",
              "    </tr>\n",
              "    <tr>\n",
              "      <th>2021-11-01</th>\n",
              "      <td>243.251434</td>\n",
              "      <td>109.169281</td>\n",
              "      <td>2849.040039</td>\n",
              "      <td>3507.070068</td>\n",
              "      <td>329.986298</td>\n",
              "      <td>158.830002</td>\n",
              "      <td>44.256985</td>\n",
              "      <td>63.700001</td>\n",
              "      <td>147.559998</td>\n",
              "      <td>135.070007</td>\n",
              "      <td>69.820000</td>\n",
              "      <td>193.429489</td>\n",
              "      <td>314.920013</td>\n",
              "      <td>184.889999</td>\n",
              "    </tr>\n",
              "  </tbody>\n",
              "</table>\n",
              "<p>71 rows × 14 columns</p>\n",
              "</div>\n",
              "      <button class=\"colab-df-convert\" onclick=\"convertToInteractive('df-55eb3aab-54d8-42cd-ab61-f528e1cc106a')\"\n",
              "              title=\"Convert this dataframe to an interactive table.\"\n",
              "              style=\"display:none;\">\n",
              "        \n",
              "  <svg xmlns=\"http://www.w3.org/2000/svg\" height=\"24px\"viewBox=\"0 0 24 24\"\n",
              "       width=\"24px\">\n",
              "    <path d=\"M0 0h24v24H0V0z\" fill=\"none\"/>\n",
              "    <path d=\"M18.56 5.44l.94 2.06.94-2.06 2.06-.94-2.06-.94-.94-2.06-.94 2.06-2.06.94zm-11 1L8.5 8.5l.94-2.06 2.06-.94-2.06-.94L8.5 2.5l-.94 2.06-2.06.94zm10 10l.94 2.06.94-2.06 2.06-.94-2.06-.94-.94-2.06-.94 2.06-2.06.94z\"/><path d=\"M17.41 7.96l-1.37-1.37c-.4-.4-.92-.59-1.43-.59-.52 0-1.04.2-1.43.59L10.3 9.45l-7.72 7.72c-.78.78-.78 2.05 0 2.83L4 21.41c.39.39.9.59 1.41.59.51 0 1.02-.2 1.41-.59l7.78-7.78 2.81-2.81c.8-.78.8-2.07 0-2.86zM5.41 20L4 18.59l7.72-7.72 1.47 1.35L5.41 20z\"/>\n",
              "  </svg>\n",
              "      </button>\n",
              "      \n",
              "  <style>\n",
              "    .colab-df-container {\n",
              "      display:flex;\n",
              "      flex-wrap:wrap;\n",
              "      gap: 12px;\n",
              "    }\n",
              "\n",
              "    .colab-df-convert {\n",
              "      background-color: #E8F0FE;\n",
              "      border: none;\n",
              "      border-radius: 50%;\n",
              "      cursor: pointer;\n",
              "      display: none;\n",
              "      fill: #1967D2;\n",
              "      height: 32px;\n",
              "      padding: 0 0 0 0;\n",
              "      width: 32px;\n",
              "    }\n",
              "\n",
              "    .colab-df-convert:hover {\n",
              "      background-color: #E2EBFA;\n",
              "      box-shadow: 0px 1px 2px rgba(60, 64, 67, 0.3), 0px 1px 3px 1px rgba(60, 64, 67, 0.15);\n",
              "      fill: #174EA6;\n",
              "    }\n",
              "\n",
              "    [theme=dark] .colab-df-convert {\n",
              "      background-color: #3B4455;\n",
              "      fill: #D2E3FC;\n",
              "    }\n",
              "\n",
              "    [theme=dark] .colab-df-convert:hover {\n",
              "      background-color: #434B5C;\n",
              "      box-shadow: 0px 1px 3px 1px rgba(0, 0, 0, 0.15);\n",
              "      filter: drop-shadow(0px 1px 2px rgba(0, 0, 0, 0.3));\n",
              "      fill: #FFFFFF;\n",
              "    }\n",
              "  </style>\n",
              "\n",
              "      <script>\n",
              "        const buttonEl =\n",
              "          document.querySelector('#df-55eb3aab-54d8-42cd-ab61-f528e1cc106a button.colab-df-convert');\n",
              "        buttonEl.style.display =\n",
              "          google.colab.kernel.accessAllowed ? 'block' : 'none';\n",
              "\n",
              "        async function convertToInteractive(key) {\n",
              "          const element = document.querySelector('#df-55eb3aab-54d8-42cd-ab61-f528e1cc106a');\n",
              "          const dataTable =\n",
              "            await google.colab.kernel.invokeFunction('convertToInteractive',\n",
              "                                                     [key], {});\n",
              "          if (!dataTable) return;\n",
              "\n",
              "          const docLinkHtml = 'Like what you see? Visit the ' +\n",
              "            '<a target=\"_blank\" href=https://colab.research.google.com/notebooks/data_table.ipynb>data table notebook</a>'\n",
              "            + ' to learn more about interactive tables.';\n",
              "          element.innerHTML = '';\n",
              "          dataTable['output_type'] = 'display_data';\n",
              "          await google.colab.output.renderOutput(dataTable, element);\n",
              "          const docLink = document.createElement('div');\n",
              "          docLink.innerHTML = docLinkHtml;\n",
              "          element.appendChild(docLink);\n",
              "        }\n",
              "      </script>\n",
              "    </div>\n",
              "  </div>\n",
              "  "
            ]
          },
          "metadata": {},
          "execution_count": 129
        }
      ]
    },
    {
      "cell_type": "code",
      "source": [
        "df.tail(2)"
      ],
      "metadata": {
        "colab": {
          "base_uri": "https://localhost:8080/",
          "height": 176
        },
        "id": "nwtJItv78FYY",
        "outputId": "601d1aab-8a4c-4654-9c05-5934938cfab7"
      },
      "execution_count": null,
      "outputs": [
        {
          "output_type": "execute_result",
          "data": {
            "text/plain": [
              "                       MCD        SBUX         GOOG         AMZN        MSFT  \\\n",
              "formatted_date                                                                 \n",
              "2021-11-01      243.251434  109.169281  2849.040039  3507.070068  329.986298   \n",
              "\n",
              "                       JPM        BAC          C         MAR         HLT  \\\n",
              "formatted_date                                                             \n",
              "2021-11-01      158.830002  44.256985  63.700001  147.559998  135.070007   \n",
              "\n",
              "                  RCL           V          MA        PYPL  \n",
              "formatted_date                                             \n",
              "2021-11-01      69.82  193.429489  314.920013  184.889999  "
            ],
            "text/html": [
              "\n",
              "  <div id=\"df-22058ded-d6ae-4535-9584-fa7754738d6f\">\n",
              "    <div class=\"colab-df-container\">\n",
              "      <div>\n",
              "<style scoped>\n",
              "    .dataframe tbody tr th:only-of-type {\n",
              "        vertical-align: middle;\n",
              "    }\n",
              "\n",
              "    .dataframe tbody tr th {\n",
              "        vertical-align: top;\n",
              "    }\n",
              "\n",
              "    .dataframe thead th {\n",
              "        text-align: right;\n",
              "    }\n",
              "</style>\n",
              "<table border=\"1\" class=\"dataframe\">\n",
              "  <thead>\n",
              "    <tr style=\"text-align: right;\">\n",
              "      <th></th>\n",
              "      <th>MCD</th>\n",
              "      <th>SBUX</th>\n",
              "      <th>GOOG</th>\n",
              "      <th>AMZN</th>\n",
              "      <th>MSFT</th>\n",
              "      <th>JPM</th>\n",
              "      <th>BAC</th>\n",
              "      <th>C</th>\n",
              "      <th>MAR</th>\n",
              "      <th>HLT</th>\n",
              "      <th>RCL</th>\n",
              "      <th>V</th>\n",
              "      <th>MA</th>\n",
              "      <th>PYPL</th>\n",
              "    </tr>\n",
              "    <tr>\n",
              "      <th>formatted_date</th>\n",
              "      <th></th>\n",
              "      <th></th>\n",
              "      <th></th>\n",
              "      <th></th>\n",
              "      <th></th>\n",
              "      <th></th>\n",
              "      <th></th>\n",
              "      <th></th>\n",
              "      <th></th>\n",
              "      <th></th>\n",
              "      <th></th>\n",
              "      <th></th>\n",
              "      <th></th>\n",
              "      <th></th>\n",
              "    </tr>\n",
              "  </thead>\n",
              "  <tbody>\n",
              "    <tr>\n",
              "      <th>2021-11-01</th>\n",
              "      <td>243.251434</td>\n",
              "      <td>109.169281</td>\n",
              "      <td>2849.040039</td>\n",
              "      <td>3507.070068</td>\n",
              "      <td>329.986298</td>\n",
              "      <td>158.830002</td>\n",
              "      <td>44.256985</td>\n",
              "      <td>63.700001</td>\n",
              "      <td>147.559998</td>\n",
              "      <td>135.070007</td>\n",
              "      <td>69.82</td>\n",
              "      <td>193.429489</td>\n",
              "      <td>314.920013</td>\n",
              "      <td>184.889999</td>\n",
              "    </tr>\n",
              "  </tbody>\n",
              "</table>\n",
              "</div>\n",
              "      <button class=\"colab-df-convert\" onclick=\"convertToInteractive('df-22058ded-d6ae-4535-9584-fa7754738d6f')\"\n",
              "              title=\"Convert this dataframe to an interactive table.\"\n",
              "              style=\"display:none;\">\n",
              "        \n",
              "  <svg xmlns=\"http://www.w3.org/2000/svg\" height=\"24px\"viewBox=\"0 0 24 24\"\n",
              "       width=\"24px\">\n",
              "    <path d=\"M0 0h24v24H0V0z\" fill=\"none\"/>\n",
              "    <path d=\"M18.56 5.44l.94 2.06.94-2.06 2.06-.94-2.06-.94-.94-2.06-.94 2.06-2.06.94zm-11 1L8.5 8.5l.94-2.06 2.06-.94-2.06-.94L8.5 2.5l-.94 2.06-2.06.94zm10 10l.94 2.06.94-2.06 2.06-.94-2.06-.94-.94-2.06-.94 2.06-2.06.94z\"/><path d=\"M17.41 7.96l-1.37-1.37c-.4-.4-.92-.59-1.43-.59-.52 0-1.04.2-1.43.59L10.3 9.45l-7.72 7.72c-.78.78-.78 2.05 0 2.83L4 21.41c.39.39.9.59 1.41.59.51 0 1.02-.2 1.41-.59l7.78-7.78 2.81-2.81c.8-.78.8-2.07 0-2.86zM5.41 20L4 18.59l7.72-7.72 1.47 1.35L5.41 20z\"/>\n",
              "  </svg>\n",
              "      </button>\n",
              "      \n",
              "  <style>\n",
              "    .colab-df-container {\n",
              "      display:flex;\n",
              "      flex-wrap:wrap;\n",
              "      gap: 12px;\n",
              "    }\n",
              "\n",
              "    .colab-df-convert {\n",
              "      background-color: #E8F0FE;\n",
              "      border: none;\n",
              "      border-radius: 50%;\n",
              "      cursor: pointer;\n",
              "      display: none;\n",
              "      fill: #1967D2;\n",
              "      height: 32px;\n",
              "      padding: 0 0 0 0;\n",
              "      width: 32px;\n",
              "    }\n",
              "\n",
              "    .colab-df-convert:hover {\n",
              "      background-color: #E2EBFA;\n",
              "      box-shadow: 0px 1px 2px rgba(60, 64, 67, 0.3), 0px 1px 3px 1px rgba(60, 64, 67, 0.15);\n",
              "      fill: #174EA6;\n",
              "    }\n",
              "\n",
              "    [theme=dark] .colab-df-convert {\n",
              "      background-color: #3B4455;\n",
              "      fill: #D2E3FC;\n",
              "    }\n",
              "\n",
              "    [theme=dark] .colab-df-convert:hover {\n",
              "      background-color: #434B5C;\n",
              "      box-shadow: 0px 1px 3px 1px rgba(0, 0, 0, 0.15);\n",
              "      filter: drop-shadow(0px 1px 2px rgba(0, 0, 0, 0.3));\n",
              "      fill: #FFFFFF;\n",
              "    }\n",
              "  </style>\n",
              "\n",
              "      <script>\n",
              "        const buttonEl =\n",
              "          document.querySelector('#df-22058ded-d6ae-4535-9584-fa7754738d6f button.colab-df-convert');\n",
              "        buttonEl.style.display =\n",
              "          google.colab.kernel.accessAllowed ? 'block' : 'none';\n",
              "\n",
              "        async function convertToInteractive(key) {\n",
              "          const element = document.querySelector('#df-22058ded-d6ae-4535-9584-fa7754738d6f');\n",
              "          const dataTable =\n",
              "            await google.colab.kernel.invokeFunction('convertToInteractive',\n",
              "                                                     [key], {});\n",
              "          if (!dataTable) return;\n",
              "\n",
              "          const docLinkHtml = 'Like what you see? Visit the ' +\n",
              "            '<a target=\"_blank\" href=https://colab.research.google.com/notebooks/data_table.ipynb>data table notebook</a>'\n",
              "            + ' to learn more about interactive tables.';\n",
              "          element.innerHTML = '';\n",
              "          dataTable['output_type'] = 'display_data';\n",
              "          await google.colab.output.renderOutput(dataTable, element);\n",
              "          const docLink = document.createElement('div');\n",
              "          docLink.innerHTML = docLinkHtml;\n",
              "          element.appendChild(docLink);\n",
              "        }\n",
              "      </script>\n",
              "    </div>\n",
              "  </div>\n",
              "  "
            ]
          },
          "metadata": {},
          "execution_count": 134
        }
      ]
    },
    {
      "cell_type": "markdown",
      "source": [
        "Miremos el tamaño de nuestro datraframe"
      ],
      "metadata": {
        "id": "b2VuYDsS8Ihe"
      }
    },
    {
      "cell_type": "code",
      "source": [
        "df.shape"
      ],
      "metadata": {
        "colab": {
          "base_uri": "https://localhost:8080/"
        },
        "id": "QeyozF0i8Kfb",
        "outputId": "b3e5f277-f959-4489-ef7c-c1c4aee48e22"
      },
      "execution_count": null,
      "outputs": [
        {
          "output_type": "execute_result",
          "data": {
            "text/plain": [
              "(71, 14)"
            ]
          },
          "metadata": {},
          "execution_count": 135
        }
      ]
    },
    {
      "cell_type": "markdown",
      "source": [
        "11 filas x 14 columnas"
      ],
      "metadata": {
        "id": "ZJAOuD7O8LjI"
      }
    },
    {
      "cell_type": "markdown",
      "source": [
        "Las columnas son los precios de acciones de:\n",
        "\n",
        "1. MCD: Macdonals\n",
        "2. SBUX: Starbucks\n",
        "3. GOOG: Google\n",
        "4. AMZN: Amazon\n",
        "5. MSFT: Microsoft\n",
        "6. JPM: JPMorgan Chase & Co.\n",
        "7. BAC: Bank of America Corp\n",
        "8. C: Citigroup\n",
        "9. MAR: Pharma MAr\n",
        "10. HLT: Hoteles Hilton\n",
        "11. RCL: Royal Caribbean Cruises\n",
        "12. V: Visa Inc.\n",
        "13. MA: Mastercard \n",
        "14. PYPL: Paypal"
      ],
      "metadata": {
        "id": "ytyHdFzvC6ed"
      }
    },
    {
      "cell_type": "markdown",
      "source": [
        "# Analizando el comportamiento de una serie de tiempo"
      ],
      "metadata": {
        "id": "b9n7zuxd8Njf"
      }
    },
    {
      "cell_type": "code",
      "source": [
        "df['MCD']"
      ],
      "metadata": {
        "colab": {
          "base_uri": "https://localhost:8080/"
        },
        "id": "irNa9v4X59TG",
        "outputId": "798d43b9-48a8-45cf-d4ca-19cc469ed6b5"
      },
      "execution_count": null,
      "outputs": [
        {
          "output_type": "execute_result",
          "data": {
            "text/plain": [
              "formatted_date\n",
              "2016-01-01    106.332146\n",
              "2016-02-01    100.671043\n",
              "2016-03-01    108.782211\n",
              "2016-04-01    109.483307\n",
              "2016-05-01    105.648926\n",
              "                 ...    \n",
              "2021-07-01    240.055786\n",
              "2021-08-01    234.863205\n",
              "2021-09-01    239.780670\n",
              "2021-10-01    244.196198\n",
              "2021-11-01    243.251434\n",
              "Name: MCD, Length: 71, dtype: float64"
            ]
          },
          "metadata": {},
          "execution_count": 136
        }
      ]
    },
    {
      "cell_type": "code",
      "source": [
        "df['MCD'].plot(kind='line',figsize=(10,6),xlabel='Fecha', ylabel='Precio Accion', title='Precio Accion vs Fecha')"
      ],
      "metadata": {
        "colab": {
          "base_uri": "https://localhost:8080/",
          "height": 422
        },
        "id": "bDXqJ3mW8RLY",
        "outputId": "cfe47fca-d6e3-4fc6-c65c-d372b42340c4"
      },
      "execution_count": null,
      "outputs": [
        {
          "output_type": "execute_result",
          "data": {
            "text/plain": [
              "<matplotlib.axes._subplots.AxesSubplot at 0x7f42246bd2d0>"
            ]
          },
          "metadata": {},
          "execution_count": 137
        },
        {
          "output_type": "display_data",
          "data": {
            "text/plain": [
              "<Figure size 720x432 with 1 Axes>"
            ],
            "image/png": "[encoded data removed]"
          },
          "metadata": {
            "needs_background": "light"
          }
        }
      ]
    },
    {
      "cell_type": "markdown",
      "source": [
        "Se observa un comportamiento creciente entre el 01/01/21 hasta el 11/01/2021 "
      ],
      "metadata": {
        "id": "h5j609z182p2"
      }
    },
    {
      "cell_type": "markdown",
      "source": [
        "# Grafiquemos todas las series de tiempo"
      ],
      "metadata": {
        "id": "16OmymQ59Bal"
      }
    },
    {
      "cell_type": "code",
      "source": [
        "df.plot(kind='line',figsize=(15,6),xlabel='Fecha', ylabel='Precio Accion', title='Precio Accion vs Fecha').legend(loc='best')"
      ],
      "metadata": {
        "colab": {
          "base_uri": "https://localhost:8080/",
          "height": 422
        },
        "id": "B2jOljgL85tB",
        "outputId": "c5d4751a-62f6-40e6-8c64-ef8a6922c226"
      },
      "execution_count": null,
      "outputs": [
        {
          "output_type": "execute_result",
          "data": {
            "text/plain": [
              "<matplotlib.legend.Legend at 0x7f42246a14d0>"
            ]
          },
          "metadata": {},
          "execution_count": 138
        },
        {
          "output_type": "display_data",
          "data": {
            "text/plain": [
              "<Figure size 1080x432 with 1 Axes>"
            ],
            "image/png": "[encoded data removed]"
          },
          "metadata": {
            "needs_background": "light"
          }
        }
      ]
    },
    {
      "cell_type": "markdown",
      "source": [
        "**En cual accion invertirian y porque?**"
      ],
      "metadata": {
        "id": "a8JTObOJ9kuZ"
      }
    },
    {
      "cell_type": "markdown",
      "source": [
        "Al parecer hay una gran diferencia en el comportamiento de las acciones **GOOG (Google) y AMZN (Amazon)** respecto a las demás, por otro lado podemos analizar el porcentaje de cambio cada día para entender como estan sucediendo los cambios diarios de manera porcentual"
      ],
      "metadata": {
        "id": "X86UYFei9sTP"
      }
    },
    {
      "cell_type": "code",
      "source": [
        "df_cambios=df.pct_change()*100\n",
        "df_cambios"
      ],
      "metadata": {
        "colab": {
          "base_uri": "https://localhost:8080/",
          "height": 519
        },
        "id": "zX7K4FYX991l",
        "outputId": "9577197c-5f97-4af8-f6ee-28f11eee4920"
      },
      "execution_count": null,
      "outputs": [
        {
          "output_type": "execute_result",
          "data": {
            "text/plain": [
              "                     MCD      SBUX       GOOG       AMZN       MSFT       JPM  \\\n",
              "formatted_date                                                                  \n",
              "2016-01-01           NaN       NaN        NaN        NaN        NaN       NaN   \n",
              "2016-02-01     -5.323980 -4.212607  -6.081162  -5.873932  -7.642037 -4.743432   \n",
              "2016-03-01      8.057101  2.894882   6.761539   7.442263   9.328893  5.186545   \n",
              "2016-04-01      0.644495 -5.812418  -6.972280  11.109428  -9.704848  6.720700   \n",
              "2016-05-01     -3.502252 -2.383072   6.162965   9.581702   6.276298  4.039907   \n",
              "...                  ...       ...        ...        ...        ...       ...   \n",
              "2021-07-01      5.073810  8.603882   7.904013  -3.272226   5.171653 -2.417375   \n",
              "2021-08-01     -2.163073 -3.244671   7.573531   4.303413   5.956268  5.990058   \n",
              "2021-09-01      2.093757 -5.746744  -8.384662  -5.351807  -6.433113  2.338235   \n",
              "2021-10-01      1.841486 -3.843711  11.259473   2.660238  17.629108  3.787643   \n",
              "2021-11-01     -0.386887  3.365701  -3.924242   3.992378  -0.310593 -5.946732   \n",
              "\n",
              "                      BAC          C        MAR        HLT        RCL  \\\n",
              "formatted_date                                                          \n",
              "2016-01-01            NaN        NaN        NaN        NaN        NaN   \n",
              "2016-02-01     -11.456848  -8.647389  11.210830  16.676025  -9.260620   \n",
              "2016-03-01       7.987201   7.464626   4.838494   8.373462  11.029228   \n",
              "2016-04-01       8.102098  10.850302  -1.531349  -1.761435  -5.782089   \n",
              "2016-05-01       1.579672   0.733041  -5.778272  -5.759658  -0.012928   \n",
              "...                   ...        ...        ...        ...        ...   \n",
              "2021-07-01      -6.569298  -4.424032   6.929381   8.978606  -9.861628   \n",
              "2021-08-01       8.837328   7.138355  -7.425672  -5.013310   7.623261   \n",
              "2021-09-01       1.676649  -2.405785   9.582653   5.806503   7.518425   \n",
              "2021-10-01      13.132745  -1.453400   8.055918   8.962226  -5.081503   \n",
              "2021-11-01      -6.927583  -7.227223  -7.786531  -6.168802 -17.304276   \n",
              "\n",
              "                       V         MA       PYPL  \n",
              "formatted_date                                  \n",
              "2016-01-01           NaN        NaN        NaN  \n",
              "2016-02-01     -2.819154  -2.174320   5.534034  \n",
              "2016-03-01      5.858393   8.720693   1.206080  \n",
              "2016-04-01      0.993687   2.634911   1.502595  \n",
              "2016-05-01      2.200961  -0.924315  -3.547727  \n",
              "...                  ...        ...        ...  \n",
              "2021-07-01      5.375928   5.710923  -5.472078  \n",
              "2021-08-01     -7.017328 -10.183470   4.765363  \n",
              "2021-09-01     -2.639177   0.418791  -9.855890  \n",
              "2021-10-01     -4.929288  -3.497477 -10.614502  \n",
              "2021-11-01     -8.499787  -6.021122 -20.508189  \n",
              "\n",
              "[71 rows x 14 columns]"
            ],
            "text/html": [
              "\n",
              "  <div id=\"df-40c05ae2-c431-4a77-82ab-22a8ccf07969\">\n",
              "    <div class=\"colab-df-container\">\n",
              "      <div>\n",
              "<style scoped>\n",
              "    .dataframe tbody tr th:only-of-type {\n",
              "        vertical-align: middle;\n",
              "    }\n",
              "\n",
              "    .dataframe tbody tr th {\n",
              "        vertical-align: top;\n",
              "    }\n",
              "\n",
              "    .dataframe thead th {\n",
              "        text-align: right;\n",
              "    }\n",
              "</style>\n",
              "<table border=\"1\" class=\"dataframe\">\n",
              "  <thead>\n",
              "    <tr style=\"text-align: right;\">\n",
              "      <th></th>\n",
              "      <th>MCD</th>\n",
              "      <th>SBUX</th>\n",
              "      <th>GOOG</th>\n",
              "      <th>AMZN</th>\n",
              "      <th>MSFT</th>\n",
              "      <th>JPM</th>\n",
              "      <th>BAC</th>\n",
              "      <th>C</th>\n",
              "      <th>MAR</th>\n",
              "      <th>HLT</th>\n",
              "      <th>RCL</th>\n",
              "      <th>V</th>\n",
              "      <th>MA</th>\n",
              "      <th>PYPL</th>\n",
              "    </tr>\n",
              "    <tr>\n",
              "      <th>formatted_date</th>\n",
              "      <th></th>\n",
              "      <th></th>\n",
              "      <th></th>\n",
              "      <th></th>\n",
              "      <th></th>\n",
              "      <th></th>\n",
              "      <th></th>\n",
              "      <th></th>\n",
              "      <th></th>\n",
              "      <th></th>\n",
              "      <th></th>\n",
              "      <th></th>\n",
              "      <th></th>\n",
              "      <th></th>\n",
              "    </tr>\n",
              "  </thead>\n",
              "  <tbody>\n",
              "    <tr>\n",
              "      <th>2016-01-01</th>\n",
              "      <td>NaN</td>\n",
              "      <td>NaN</td>\n",
              "      <td>NaN</td>\n",
              "      <td>NaN</td>\n",
              "      <td>NaN</td>\n",
              "      <td>NaN</td>\n",
              "      <td>NaN</td>\n",
              "      <td>NaN</td>\n",
              "      <td>NaN</td>\n",
              "      <td>NaN</td>\n",
              "      <td>NaN</td>\n",
              "      <td>NaN</td>\n",
              "      <td>NaN</td>\n",
              "      <td>NaN</td>\n",
              "    </tr>\n",
              "    <tr>\n",
              "      <th>2016-02-01</th>\n",
              "      <td>-5.323980</td>\n",
              "      <td>-4.212607</td>\n",
              "      <td>-6.081162</td>\n",
              "      <td>-5.873932</td>\n",
              "      <td>-7.642037</td>\n",
              "      <td>-4.743432</td>\n",
              "      <td>-11.456848</td>\n",
              "      <td>-8.647389</td>\n",
              "      <td>11.210830</td>\n",
              "      <td>16.676025</td>\n",
              "      <td>-9.260620</td>\n",
              "      <td>-2.819154</td>\n",
              "      <td>-2.174320</td>\n",
              "      <td>5.534034</td>\n",
              "    </tr>\n",
              "    <tr>\n",
              "      <th>2016-03-01</th>\n",
              "      <td>8.057101</td>\n",
              "      <td>2.894882</td>\n",
              "      <td>6.761539</td>\n",
              "      <td>7.442263</td>\n",
              "      <td>9.328893</td>\n",
              "      <td>5.186545</td>\n",
              "      <td>7.987201</td>\n",
              "      <td>7.464626</td>\n",
              "      <td>4.838494</td>\n",
              "      <td>8.373462</td>\n",
              "      <td>11.029228</td>\n",
              "      <td>5.858393</td>\n",
              "      <td>8.720693</td>\n",
              "      <td>1.206080</td>\n",
              "    </tr>\n",
              "    <tr>\n",
              "      <th>2016-04-01</th>\n",
              "      <td>0.644495</td>\n",
              "      <td>-5.812418</td>\n",
              "      <td>-6.972280</td>\n",
              "      <td>11.109428</td>\n",
              "      <td>-9.704848</td>\n",
              "      <td>6.720700</td>\n",
              "      <td>8.102098</td>\n",
              "      <td>10.850302</td>\n",
              "      <td>-1.531349</td>\n",
              "      <td>-1.761435</td>\n",
              "      <td>-5.782089</td>\n",
              "      <td>0.993687</td>\n",
              "      <td>2.634911</td>\n",
              "      <td>1.502595</td>\n",
              "    </tr>\n",
              "    <tr>\n",
              "      <th>2016-05-01</th>\n",
              "      <td>-3.502252</td>\n",
              "      <td>-2.383072</td>\n",
              "      <td>6.162965</td>\n",
              "      <td>9.581702</td>\n",
              "      <td>6.276298</td>\n",
              "      <td>4.039907</td>\n",
              "      <td>1.579672</td>\n",
              "      <td>0.733041</td>\n",
              "      <td>-5.778272</td>\n",
              "      <td>-5.759658</td>\n",
              "      <td>-0.012928</td>\n",
              "      <td>2.200961</td>\n",
              "      <td>-0.924315</td>\n",
              "      <td>-3.547727</td>\n",
              "    </tr>\n",
              "    <tr>\n",
              "      <th>...</th>\n",
              "      <td>...</td>\n",
              "      <td>...</td>\n",
              "      <td>...</td>\n",
              "      <td>...</td>\n",
              "      <td>...</td>\n",
              "      <td>...</td>\n",
              "      <td>...</td>\n",
              "      <td>...</td>\n",
              "      <td>...</td>\n",
              "      <td>...</td>\n",
              "      <td>...</td>\n",
              "      <td>...</td>\n",
              "      <td>...</td>\n",
              "      <td>...</td>\n",
              "    </tr>\n",
              "    <tr>\n",
              "      <th>2021-07-01</th>\n",
              "      <td>5.073810</td>\n",
              "      <td>8.603882</td>\n",
              "      <td>7.904013</td>\n",
              "      <td>-3.272226</td>\n",
              "      <td>5.171653</td>\n",
              "      <td>-2.417375</td>\n",
              "      <td>-6.569298</td>\n",
              "      <td>-4.424032</td>\n",
              "      <td>6.929381</td>\n",
              "      <td>8.978606</td>\n",
              "      <td>-9.861628</td>\n",
              "      <td>5.375928</td>\n",
              "      <td>5.710923</td>\n",
              "      <td>-5.472078</td>\n",
              "    </tr>\n",
              "    <tr>\n",
              "      <th>2021-08-01</th>\n",
              "      <td>-2.163073</td>\n",
              "      <td>-3.244671</td>\n",
              "      <td>7.573531</td>\n",
              "      <td>4.303413</td>\n",
              "      <td>5.956268</td>\n",
              "      <td>5.990058</td>\n",
              "      <td>8.837328</td>\n",
              "      <td>7.138355</td>\n",
              "      <td>-7.425672</td>\n",
              "      <td>-5.013310</td>\n",
              "      <td>7.623261</td>\n",
              "      <td>-7.017328</td>\n",
              "      <td>-10.183470</td>\n",
              "      <td>4.765363</td>\n",
              "    </tr>\n",
              "    <tr>\n",
              "      <th>2021-09-01</th>\n",
              "      <td>2.093757</td>\n",
              "      <td>-5.746744</td>\n",
              "      <td>-8.384662</td>\n",
              "      <td>-5.351807</td>\n",
              "      <td>-6.433113</td>\n",
              "      <td>2.338235</td>\n",
              "      <td>1.676649</td>\n",
              "      <td>-2.405785</td>\n",
              "      <td>9.582653</td>\n",
              "      <td>5.806503</td>\n",
              "      <td>7.518425</td>\n",
              "      <td>-2.639177</td>\n",
              "      <td>0.418791</td>\n",
              "      <td>-9.855890</td>\n",
              "    </tr>\n",
              "    <tr>\n",
              "      <th>2021-10-01</th>\n",
              "      <td>1.841486</td>\n",
              "      <td>-3.843711</td>\n",
              "      <td>11.259473</td>\n",
              "      <td>2.660238</td>\n",
              "      <td>17.629108</td>\n",
              "      <td>3.787643</td>\n",
              "      <td>13.132745</td>\n",
              "      <td>-1.453400</td>\n",
              "      <td>8.055918</td>\n",
              "      <td>8.962226</td>\n",
              "      <td>-5.081503</td>\n",
              "      <td>-4.929288</td>\n",
              "      <td>-3.497477</td>\n",
              "      <td>-10.614502</td>\n",
              "    </tr>\n",
              "    <tr>\n",
              "      <th>2021-11-01</th>\n",
              "      <td>-0.386887</td>\n",
              "      <td>3.365701</td>\n",
              "      <td>-3.924242</td>\n",
              "      <td>3.992378</td>\n",
              "      <td>-0.310593</td>\n",
              "      <td>-5.946732</td>\n",
              "      <td>-6.927583</td>\n",
              "      <td>-7.227223</td>\n",
              "      <td>-7.786531</td>\n",
              "      <td>-6.168802</td>\n",
              "      <td>-17.304276</td>\n",
              "      <td>-8.499787</td>\n",
              "      <td>-6.021122</td>\n",
              "      <td>-20.508189</td>\n",
              "    </tr>\n",
              "  </tbody>\n",
              "</table>\n",
              "<p>71 rows × 14 columns</p>\n",
              "</div>\n",
              "      <button class=\"colab-df-convert\" onclick=\"convertToInteractive('df-40c05ae2-c431-4a77-82ab-22a8ccf07969')\"\n",
              "              title=\"Convert this dataframe to an interactive table.\"\n",
              "              style=\"display:none;\">\n",
              "        \n",
              "  <svg xmlns=\"http://www.w3.org/2000/svg\" height=\"24px\"viewBox=\"0 0 24 24\"\n",
              "       width=\"24px\">\n",
              "    <path d=\"M0 0h24v24H0V0z\" fill=\"none\"/>\n",
              "    <path d=\"M18.56 5.44l.94 2.06.94-2.06 2.06-.94-2.06-.94-.94-2.06-.94 2.06-2.06.94zm-11 1L8.5 8.5l.94-2.06 2.06-.94-2.06-.94L8.5 2.5l-.94 2.06-2.06.94zm10 10l.94 2.06.94-2.06 2.06-.94-2.06-.94-.94-2.06-.94 2.06-2.06.94z\"/><path d=\"M17.41 7.96l-1.37-1.37c-.4-.4-.92-.59-1.43-.59-.52 0-1.04.2-1.43.59L10.3 9.45l-7.72 7.72c-.78.78-.78 2.05 0 2.83L4 21.41c.39.39.9.59 1.41.59.51 0 1.02-.2 1.41-.59l7.78-7.78 2.81-2.81c.8-.78.8-2.07 0-2.86zM5.41 20L4 18.59l7.72-7.72 1.47 1.35L5.41 20z\"/>\n",
              "  </svg>\n",
              "      </button>\n",
              "      \n",
              "  <style>\n",
              "    .colab-df-container {\n",
              "      display:flex;\n",
              "      flex-wrap:wrap;\n",
              "      gap: 12px;\n",
              "    }\n",
              "\n",
              "    .colab-df-convert {\n",
              "      background-color: #E8F0FE;\n",
              "      border: none;\n",
              "      border-radius: 50%;\n",
              "      cursor: pointer;\n",
              "      display: none;\n",
              "      fill: #1967D2;\n",
              "      height: 32px;\n",
              "      padding: 0 0 0 0;\n",
              "      width: 32px;\n",
              "    }\n",
              "\n",
              "    .colab-df-convert:hover {\n",
              "      background-color: #E2EBFA;\n",
              "      box-shadow: 0px 1px 2px rgba(60, 64, 67, 0.3), 0px 1px 3px 1px rgba(60, 64, 67, 0.15);\n",
              "      fill: #174EA6;\n",
              "    }\n",
              "\n",
              "    [theme=dark] .colab-df-convert {\n",
              "      background-color: #3B4455;\n",
              "      fill: #D2E3FC;\n",
              "    }\n",
              "\n",
              "    [theme=dark] .colab-df-convert:hover {\n",
              "      background-color: #434B5C;\n",
              "      box-shadow: 0px 1px 3px 1px rgba(0, 0, 0, 0.15);\n",
              "      filter: drop-shadow(0px 1px 2px rgba(0, 0, 0, 0.3));\n",
              "      fill: #FFFFFF;\n",
              "    }\n",
              "  </style>\n",
              "\n",
              "      <script>\n",
              "        const buttonEl =\n",
              "          document.querySelector('#df-40c05ae2-c431-4a77-82ab-22a8ccf07969 button.colab-df-convert');\n",
              "        buttonEl.style.display =\n",
              "          google.colab.kernel.accessAllowed ? 'block' : 'none';\n",
              "\n",
              "        async function convertToInteractive(key) {\n",
              "          const element = document.querySelector('#df-40c05ae2-c431-4a77-82ab-22a8ccf07969');\n",
              "          const dataTable =\n",
              "            await google.colab.kernel.invokeFunction('convertToInteractive',\n",
              "                                                     [key], {});\n",
              "          if (!dataTable) return;\n",
              "\n",
              "          const docLinkHtml = 'Like what you see? Visit the ' +\n",
              "            '<a target=\"_blank\" href=https://colab.research.google.com/notebooks/data_table.ipynb>data table notebook</a>'\n",
              "            + ' to learn more about interactive tables.';\n",
              "          element.innerHTML = '';\n",
              "          dataTable['output_type'] = 'display_data';\n",
              "          await google.colab.output.renderOutput(dataTable, element);\n",
              "          const docLink = document.createElement('div');\n",
              "          docLink.innerHTML = docLinkHtml;\n",
              "          element.appendChild(docLink);\n",
              "        }\n",
              "      </script>\n",
              "    </div>\n",
              "  </div>\n",
              "  "
            ]
          },
          "metadata": {},
          "execution_count": 139
        }
      ]
    },
    {
      "cell_type": "code",
      "source": [
        "df_cambios.plot(kind='line',figsize=(15,6),xlabel='Fecha', ylabel='Porcentaje de cambio', title='Precio Accion vs Fecha').legend(loc='best')"
      ],
      "metadata": {
        "colab": {
          "base_uri": "https://localhost:8080/",
          "height": 422
        },
        "id": "49gV25xt-FCH",
        "outputId": "199a2b66-bb90-41a3-86ce-7091e0bfba93"
      },
      "execution_count": null,
      "outputs": [
        {
          "output_type": "execute_result",
          "data": {
            "text/plain": [
              "<matplotlib.legend.Legend at 0x7f42245e13d0>"
            ]
          },
          "metadata": {},
          "execution_count": 140
        },
        {
          "output_type": "display_data",
          "data": {
            "text/plain": [
              "<Figure size 1080x432 with 1 Axes>"
            ],
            "image/png": "[encoded data removed]"
          },
          "metadata": {
            "needs_background": "light"
          }
        }
      ]
    },
    {
      "cell_type": "markdown",
      "source": [
        "**Siguen pensando lo mismo respecto a la pregunta anterior** \n",
        "Teniendo en cuenta esta información cual sería a la acción en la cual invertirian?"
      ],
      "metadata": {
        "id": "R4OWLpP6-TeD"
      }
    },
    {
      "cell_type": "markdown",
      "source": [
        "La respuesta en que accion invertir no solo pasa por el valor de la acción en si sino mas bien por factores asociados a la volatididad que pueda tener la acción.\n",
        "\n",
        "Cuando se prefiere aversion al riesgo (evitar incertidumbre en inversiones) se requieren acciones que tengan poca volatilidad. 🧱 🈶 ☁ 🪗 ❎\n",
        "\n",
        "Por el contrario cuando se asumen riesgos las inversiones podrían enfocarse en aquellas acciones con mayor volatilidad ⏰ ⚗ ⛹ ♟"
      ],
      "metadata": {
        "id": "TBJE0p1YEM6j"
      }
    },
    {
      "cell_type": "markdown",
      "source": [
        "# Grafico interactivo\n",
        "\n",
        "Para generar un grafico dinamico podemos usar plotly con el fin de poder establecer el valor en cada momento del tiempo para cada accion\n",
        "\n",
        "Ademas debemos hacer uso de la funcion ```melt``` que explicaremos posteriormente mas adelante pero consiste en formato long del dataframe para facilitar el grafico en plotly"
      ],
      "metadata": {
        "id": "PL8pbOGgFgZn"
      }
    },
    {
      "cell_type": "code",
      "source": [
        "df_n=df.copy()\n",
        "df_n['Fecha']=df.index\n",
        "df_n= df_n.reset_index(drop=True)\n",
        "df_n"
      ],
      "metadata": {
        "colab": {
          "base_uri": "https://localhost:8080/",
          "height": 415
        },
        "id": "-P9ktYyxGg5W",
        "outputId": "3159e4a3-399b-43cf-8e59-f3fa07040922"
      },
      "execution_count": null,
      "outputs": [
        {
          "output_type": "execute_result",
          "data": {
            "text/html": [
              "<div>\n",
              "<style scoped>\n",
              "    .dataframe tbody tr th:only-of-type {\n",
              "        vertical-align: middle;\n",
              "    }\n",
              "\n",
              "    .dataframe tbody tr th {\n",
              "        vertical-align: top;\n",
              "    }\n",
              "\n",
              "    .dataframe thead th {\n",
              "        text-align: right;\n",
              "    }\n",
              "</style>\n",
              "<table border=\"1\" class=\"dataframe\">\n",
              "  <thead>\n",
              "    <tr style=\"text-align: right;\">\n",
              "      <th></th>\n",
              "      <th>MCD</th>\n",
              "      <th>SBUX</th>\n",
              "      <th>GOOG</th>\n",
              "      <th>AMZN</th>\n",
              "      <th>MSFT</th>\n",
              "      <th>JPM</th>\n",
              "      <th>BAC</th>\n",
              "      <th>C</th>\n",
              "      <th>MAR</th>\n",
              "      <th>HLT</th>\n",
              "      <th>RCL</th>\n",
              "      <th>V</th>\n",
              "      <th>MA</th>\n",
              "      <th>PYPL</th>\n",
              "      <th>Fecha</th>\n",
              "    </tr>\n",
              "  </thead>\n",
              "  <tbody>\n",
              "    <tr>\n",
              "      <th>0</th>\n",
              "      <td>203.187836</td>\n",
              "      <td>95.235695</td>\n",
              "      <td>1835.739990</td>\n",
              "      <td>3206.199951</td>\n",
              "      <td>230.031799</td>\n",
              "      <td>125.517960</td>\n",
              "      <td>29.089981</td>\n",
              "      <td>56.271671</td>\n",
              "      <td>116.309998</td>\n",
              "      <td>101.389999</td>\n",
              "      <td>65.000000</td>\n",
              "      <td>192.070175</td>\n",
              "      <td>314.746094</td>\n",
              "      <td>234.309998</td>\n",
              "      <td>2021-01-01</td>\n",
              "    </tr>\n",
              "    <tr>\n",
              "      <th>1</th>\n",
              "      <td>201.525894</td>\n",
              "      <td>106.273232</td>\n",
              "      <td>2036.859985</td>\n",
              "      <td>3092.929932</td>\n",
              "      <td>230.448318</td>\n",
              "      <td>144.598679</td>\n",
              "      <td>34.054409</td>\n",
              "      <td>64.472809</td>\n",
              "      <td>148.070007</td>\n",
              "      <td>123.680000</td>\n",
              "      <td>93.269997</td>\n",
              "      <td>211.093323</td>\n",
              "      <td>352.569061</td>\n",
              "      <td>259.850006</td>\n",
              "      <td>2021-02-01</td>\n",
              "    </tr>\n",
              "    <tr>\n",
              "      <th>2</th>\n",
              "      <td>220.471207</td>\n",
              "      <td>107.950699</td>\n",
              "      <td>2068.629883</td>\n",
              "      <td>3094.080078</td>\n",
              "      <td>234.348633</td>\n",
              "      <td>149.570267</td>\n",
              "      <td>37.959236</td>\n",
              "      <td>71.196068</td>\n",
              "      <td>148.110001</td>\n",
              "      <td>120.919998</td>\n",
              "      <td>85.610001</td>\n",
              "      <td>210.764023</td>\n",
              "      <td>354.761108</td>\n",
              "      <td>242.839996</td>\n",
              "      <td>2021-03-01</td>\n",
              "    </tr>\n",
              "    <tr>\n",
              "      <th>3</th>\n",
              "      <td>232.215775</td>\n",
              "      <td>113.107674</td>\n",
              "      <td>2410.120117</td>\n",
              "      <td>3467.419922</td>\n",
              "      <td>250.659698</td>\n",
              "      <td>151.122665</td>\n",
              "      <td>39.961990</td>\n",
              "      <td>69.718323</td>\n",
              "      <td>148.520004</td>\n",
              "      <td>128.699997</td>\n",
              "      <td>86.949997</td>\n",
              "      <td>232.494446</td>\n",
              "      <td>380.676971</td>\n",
              "      <td>262.290009</td>\n",
              "      <td>2021-04-01</td>\n",
              "    </tr>\n",
              "    <tr>\n",
              "      <th>4</th>\n",
              "      <td>230.061630</td>\n",
              "      <td>112.505043</td>\n",
              "      <td>2411.560059</td>\n",
              "      <td>3223.070068</td>\n",
              "      <td>248.174774</td>\n",
              "      <td>162.320847</td>\n",
              "      <td>41.795921</td>\n",
              "      <td>77.564484</td>\n",
              "      <td>143.580002</td>\n",
              "      <td>125.269997</td>\n",
              "      <td>93.269997</td>\n",
              "      <td>226.263016</td>\n",
              "      <td>359.701202</td>\n",
              "      <td>260.019989</td>\n",
              "      <td>2021-05-01</td>\n",
              "    </tr>\n",
              "    <tr>\n",
              "      <th>5</th>\n",
              "      <td>228.463959</td>\n",
              "      <td>110.899529</td>\n",
              "      <td>2506.320068</td>\n",
              "      <td>3440.159912</td>\n",
              "      <td>269.888611</td>\n",
              "      <td>153.722504</td>\n",
              "      <td>40.652176</td>\n",
              "      <td>69.720337</td>\n",
              "      <td>136.520004</td>\n",
              "      <td>120.620003</td>\n",
              "      <td>85.279999</td>\n",
              "      <td>233.091354</td>\n",
              "      <td>364.200226</td>\n",
              "      <td>291.480011</td>\n",
              "      <td>2021-06-01</td>\n",
              "    </tr>\n",
              "    <tr>\n",
              "      <th>6</th>\n",
              "      <td>240.055786</td>\n",
              "      <td>120.441185</td>\n",
              "      <td>2704.419922</td>\n",
              "      <td>3327.590088</td>\n",
              "      <td>283.846313</td>\n",
              "      <td>150.006454</td>\n",
              "      <td>37.981617</td>\n",
              "      <td>66.635887</td>\n",
              "      <td>145.979996</td>\n",
              "      <td>131.449997</td>\n",
              "      <td>76.870003</td>\n",
              "      <td>245.622177</td>\n",
              "      <td>384.999420</td>\n",
              "      <td>275.529999</td>\n",
              "      <td>2021-07-01</td>\n",
              "    </tr>\n",
              "    <tr>\n",
              "      <th>7</th>\n",
              "      <td>234.863205</td>\n",
              "      <td>116.533272</td>\n",
              "      <td>2909.239990</td>\n",
              "      <td>3470.790039</td>\n",
              "      <td>300.752960</td>\n",
              "      <td>158.991928</td>\n",
              "      <td>41.338177</td>\n",
              "      <td>71.392593</td>\n",
              "      <td>135.139999</td>\n",
              "      <td>124.860001</td>\n",
              "      <td>82.730003</td>\n",
              "      <td>228.386063</td>\n",
              "      <td>345.793121</td>\n",
              "      <td>288.660004</td>\n",
              "      <td>2021-08-01</td>\n",
              "    </tr>\n",
              "    <tr>\n",
              "      <th>8</th>\n",
              "      <td>239.780670</td>\n",
              "      <td>109.836403</td>\n",
              "      <td>2665.310059</td>\n",
              "      <td>3285.040039</td>\n",
              "      <td>281.405182</td>\n",
              "      <td>162.709534</td>\n",
              "      <td>42.031273</td>\n",
              "      <td>69.675041</td>\n",
              "      <td>148.089996</td>\n",
              "      <td>132.110001</td>\n",
              "      <td>88.949997</td>\n",
              "      <td>222.358551</td>\n",
              "      <td>347.241272</td>\n",
              "      <td>260.209991</td>\n",
              "      <td>2021-09-01</td>\n",
              "    </tr>\n",
              "    <tr>\n",
              "      <th>9</th>\n",
              "      <td>244.196198</td>\n",
              "      <td>105.614609</td>\n",
              "      <td>2965.409912</td>\n",
              "      <td>3372.429932</td>\n",
              "      <td>331.014404</td>\n",
              "      <td>168.872391</td>\n",
              "      <td>47.551128</td>\n",
              "      <td>68.662384</td>\n",
              "      <td>160.020004</td>\n",
              "      <td>143.949997</td>\n",
              "      <td>84.430000</td>\n",
              "      <td>211.397858</td>\n",
              "      <td>335.096588</td>\n",
              "      <td>232.589996</td>\n",
              "      <td>2021-10-01</td>\n",
              "    </tr>\n",
              "    <tr>\n",
              "      <th>10</th>\n",
              "      <td>243.251434</td>\n",
              "      <td>109.169281</td>\n",
              "      <td>2849.040039</td>\n",
              "      <td>3507.070068</td>\n",
              "      <td>329.986298</td>\n",
              "      <td>158.830002</td>\n",
              "      <td>44.256985</td>\n",
              "      <td>63.700001</td>\n",
              "      <td>147.559998</td>\n",
              "      <td>135.070007</td>\n",
              "      <td>69.820000</td>\n",
              "      <td>193.429489</td>\n",
              "      <td>314.920013</td>\n",
              "      <td>184.889999</td>\n",
              "      <td>2021-11-01</td>\n",
              "    </tr>\n",
              "  </tbody>\n",
              "</table>\n",
              "</div>"
            ],
            "text/plain": [
              "           MCD        SBUX         GOOG  ...          MA        PYPL       Fecha\n",
              "0   203.187836   95.235695  1835.739990  ...  314.746094  234.309998  2021-01-01\n",
              "1   201.525894  106.273232  2036.859985  ...  352.569061  259.850006  2021-02-01\n",
              "2   220.471207  107.950699  2068.629883  ...  354.761108  242.839996  2021-03-01\n",
              "3   232.215775  113.107674  2410.120117  ...  380.676971  262.290009  2021-04-01\n",
              "4   230.061630  112.505043  2411.560059  ...  359.701202  260.019989  2021-05-01\n",
              "5   228.463959  110.899529  2506.320068  ...  364.200226  291.480011  2021-06-01\n",
              "6   240.055786  120.441185  2704.419922  ...  384.999420  275.529999  2021-07-01\n",
              "7   234.863205  116.533272  2909.239990  ...  345.793121  288.660004  2021-08-01\n",
              "8   239.780670  109.836403  2665.310059  ...  347.241272  260.209991  2021-09-01\n",
              "9   244.196198  105.614609  2965.409912  ...  335.096588  232.589996  2021-10-01\n",
              "10  243.251434  109.169281  2849.040039  ...  314.920013  184.889999  2021-11-01\n",
              "\n",
              "[11 rows x 15 columns]"
            ]
          },
          "metadata": {},
          "execution_count": 40
        }
      ]
    },
    {
      "cell_type": "code",
      "source": [
        "df_long=pd.melt(df_n , value_vars=df.columns,id_vars='Fecha')\n",
        "df_long"
      ],
      "metadata": {
        "colab": {
          "base_uri": "https://localhost:8080/",
          "height": 424
        },
        "id": "9fuHznuVFR47",
        "outputId": "f00650ec-9f65-4eb7-c07e-054c2759d442"
      },
      "execution_count": null,
      "outputs": [
        {
          "output_type": "execute_result",
          "data": {
            "text/html": [
              "<div>\n",
              "<style scoped>\n",
              "    .dataframe tbody tr th:only-of-type {\n",
              "        vertical-align: middle;\n",
              "    }\n",
              "\n",
              "    .dataframe tbody tr th {\n",
              "        vertical-align: top;\n",
              "    }\n",
              "\n",
              "    .dataframe thead th {\n",
              "        text-align: right;\n",
              "    }\n",
              "</style>\n",
              "<table border=\"1\" class=\"dataframe\">\n",
              "  <thead>\n",
              "    <tr style=\"text-align: right;\">\n",
              "      <th></th>\n",
              "      <th>Fecha</th>\n",
              "      <th>variable</th>\n",
              "      <th>value</th>\n",
              "    </tr>\n",
              "  </thead>\n",
              "  <tbody>\n",
              "    <tr>\n",
              "      <th>0</th>\n",
              "      <td>2021-01-01</td>\n",
              "      <td>MCD</td>\n",
              "      <td>203.187836</td>\n",
              "    </tr>\n",
              "    <tr>\n",
              "      <th>1</th>\n",
              "      <td>2021-02-01</td>\n",
              "      <td>MCD</td>\n",
              "      <td>201.525894</td>\n",
              "    </tr>\n",
              "    <tr>\n",
              "      <th>2</th>\n",
              "      <td>2021-03-01</td>\n",
              "      <td>MCD</td>\n",
              "      <td>220.471207</td>\n",
              "    </tr>\n",
              "    <tr>\n",
              "      <th>3</th>\n",
              "      <td>2021-04-01</td>\n",
              "      <td>MCD</td>\n",
              "      <td>232.215775</td>\n",
              "    </tr>\n",
              "    <tr>\n",
              "      <th>4</th>\n",
              "      <td>2021-05-01</td>\n",
              "      <td>MCD</td>\n",
              "      <td>230.061630</td>\n",
              "    </tr>\n",
              "    <tr>\n",
              "      <th>...</th>\n",
              "      <td>...</td>\n",
              "      <td>...</td>\n",
              "      <td>...</td>\n",
              "    </tr>\n",
              "    <tr>\n",
              "      <th>149</th>\n",
              "      <td>2021-07-01</td>\n",
              "      <td>PYPL</td>\n",
              "      <td>275.529999</td>\n",
              "    </tr>\n",
              "    <tr>\n",
              "      <th>150</th>\n",
              "      <td>2021-08-01</td>\n",
              "      <td>PYPL</td>\n",
              "      <td>288.660004</td>\n",
              "    </tr>\n",
              "    <tr>\n",
              "      <th>151</th>\n",
              "      <td>2021-09-01</td>\n",
              "      <td>PYPL</td>\n",
              "      <td>260.209991</td>\n",
              "    </tr>\n",
              "    <tr>\n",
              "      <th>152</th>\n",
              "      <td>2021-10-01</td>\n",
              "      <td>PYPL</td>\n",
              "      <td>232.589996</td>\n",
              "    </tr>\n",
              "    <tr>\n",
              "      <th>153</th>\n",
              "      <td>2021-11-01</td>\n",
              "      <td>PYPL</td>\n",
              "      <td>184.889999</td>\n",
              "    </tr>\n",
              "  </tbody>\n",
              "</table>\n",
              "<p>154 rows × 3 columns</p>\n",
              "</div>"
            ],
            "text/plain": [
              "          Fecha variable       value\n",
              "0    2021-01-01      MCD  203.187836\n",
              "1    2021-02-01      MCD  201.525894\n",
              "2    2021-03-01      MCD  220.471207\n",
              "3    2021-04-01      MCD  232.215775\n",
              "4    2021-05-01      MCD  230.061630\n",
              "..          ...      ...         ...\n",
              "149  2021-07-01     PYPL  275.529999\n",
              "150  2021-08-01     PYPL  288.660004\n",
              "151  2021-09-01     PYPL  260.209991\n",
              "152  2021-10-01     PYPL  232.589996\n",
              "153  2021-11-01     PYPL  184.889999\n",
              "\n",
              "[154 rows x 3 columns]"
            ]
          },
          "metadata": {},
          "execution_count": 42
        }
      ]
    },
    {
      "cell_type": "code",
      "source": [
        "import plotly.express as px\n",
        "\n",
        "\n",
        "fig=px.line(data_frame=df_long,x='Fecha',y='value',line_group='variable',color='variable',title='Comportamiento de precio de acciones',\\\n",
        "             labels={\n",
        "                     \"Fecha\": \"Fecha_dias\",\n",
        "                     \"value\": \"Precio (USD)\"\n",
        "                 })\n",
        "fig.update_layout(paper_bgcolor=\"#FFFFFF\",plot_bgcolor='#FFFFFF',)\n",
        "\n",
        "fig.show()"
      ],
      "metadata": {
        "colab": {
          "base_uri": "https://localhost:8080/",
          "height": 542
        },
        "id": "tcyOiOxrEMJn",
        "outputId": "9ca2b737-4fc9-45b1-a8fc-c144d3467fd8"
      },
      "execution_count": null,
      "outputs": [
        {
          "output_type": "display_data",
          "data": {
            "text/html": [
              "<html>\n",
              "<head><meta charset=\"utf-8\" /></head>\n",
              "<body>\n",
              "    <div>\n",
              "            <script src=\"https://cdnjs.cloudflare.com/ajax/libs/mathjax/2.7.5/MathJax.js?config=TeX-AMS-MML_SVG\"></script><script type=\"text/javascript\">if (window.MathJax) {MathJax.Hub.Config({SVG: {font: \"STIX-Web\"}});}</script>\n",
              "                <script type=\"text/javascript\">window.PlotlyConfig = {MathJaxConfig: 'local'};</script>\n",
              "        <script src=\"https://cdn.plot.ly/plotly-latest.min.js\"></script>    \n",
              "            <div id=\"88258f4b-0b4a-4f2c-ad43-340f572fc0d1\" class=\"plotly-graph-div\" style=\"height:525px; width:100%;\"></div>\n",
              "            <script type=\"text/javascript\">\n",
              "                \n",
              "                    window.PLOTLYENV=window.PLOTLYENV || {};\n",
              "                    \n",
              "                if (document.getElementById(\"88258f4b-0b4a-4f2c-ad43-340f572fc0d1\")) {\n",
              "                    Plotly.newPlot(\n",
              "                        '88258f4b-0b4a-4f2c-ad43-340f572fc0d1',\n",
              "                        [{\"hoverlabel\": {\"namelength\": 0}, \"hovertemplate\": \"variable=MCD<br>Fecha_dias=%{x}<br>Precio (USD)=%{y}\", \"legendgroup\": \"variable=MCD\", \"line\": {\"color\": \"#636efa\", \"dash\": \"solid\"}, \"mode\": \"lines\", \"name\": \"variable=MCD\", \"showlegend\": true, \"type\": \"scatter\", \"x\": [\"2021-01-01\", \"2021-02-01\", \"2021-03-01\", \"2021-04-01\", \"2021-05-01\", \"2021-06-01\", \"2021-07-01\", \"2021-08-01\", \"2021-09-01\", \"2021-10-01\", \"2021-11-01\"], \"xaxis\": \"x\", \"y\": [203.18783569335938, 201.52589416503903, 220.47120666503903, 232.2157745361328, 230.06163024902344, 228.4639587402344, 240.0557861328125, 234.8632049560547, 239.7806701660156, 244.1961975097656, 243.25143432617188], \"yaxis\": \"y\"}, {\"hoverlabel\": {\"namelength\": 0}, \"hovertemplate\": \"variable=SBUX<br>Fecha_dias=%{x}<br>Precio (USD)=%{y}\", \"legendgroup\": \"variable=SBUX\", \"line\": {\"color\": \"#EF553B\", \"dash\": \"solid\"}, \"mode\": \"lines\", \"name\": \"variable=SBUX\", \"showlegend\": true, \"type\": \"scatter\", \"x\": [\"2021-01-01\", \"2021-02-01\", \"2021-03-01\", \"2021-04-01\", \"2021-05-01\", \"2021-06-01\", \"2021-07-01\", \"2021-08-01\", \"2021-09-01\", \"2021-10-01\", \"2021-11-01\"], \"xaxis\": \"x\", \"y\": [95.2356948852539, 106.27323150634766, 107.95069885253906, 113.10767364501952, 112.50504302978516, 110.89952850341795, 120.4411849975586, 116.53327178955078, 109.8364028930664, 105.61460876464844, 109.16928100585938], \"yaxis\": \"y\"}, {\"hoverlabel\": {\"namelength\": 0}, \"hovertemplate\": \"variable=GOOG<br>Fecha_dias=%{x}<br>Precio (USD)=%{y}\", \"legendgroup\": \"variable=GOOG\", \"line\": {\"color\": \"#00cc96\", \"dash\": \"solid\"}, \"mode\": \"lines\", \"name\": \"variable=GOOG\", \"showlegend\": true, \"type\": \"scatter\", \"x\": [\"2021-01-01\", \"2021-02-01\", \"2021-03-01\", \"2021-04-01\", \"2021-05-01\", \"2021-06-01\", \"2021-07-01\", \"2021-08-01\", \"2021-09-01\", \"2021-10-01\", \"2021-11-01\"], \"xaxis\": \"x\", \"y\": [1835.739990234375, 2036.8599853515625, 2068.6298828125, 2410.1201171875, 2411.56005859375, 2506.320068359375, 2704.419921875, 2909.239990234375, 2665.31005859375, 2965.409912109375, 2849.0400390625], \"yaxis\": \"y\"}, {\"hoverlabel\": {\"namelength\": 0}, \"hovertemplate\": \"variable=AMZN<br>Fecha_dias=%{x}<br>Precio (USD)=%{y}\", \"legendgroup\": \"variable=AMZN\", \"line\": {\"color\": \"#ab63fa\", \"dash\": \"solid\"}, \"mode\": \"lines\", \"name\": \"variable=AMZN\", \"showlegend\": true, \"type\": \"scatter\", \"x\": [\"2021-01-01\", \"2021-02-01\", \"2021-03-01\", \"2021-04-01\", \"2021-05-01\", \"2021-06-01\", \"2021-07-01\", \"2021-08-01\", \"2021-09-01\", \"2021-10-01\", \"2021-11-01\"], \"xaxis\": \"x\", \"y\": [3206.199951171875, 3092.929931640625, 3094.080078125, 3467.419921875, 3223.070068359375, 3440.159912109375, 3327.590087890625, 3470.7900390625, 3285.0400390625, 3372.429931640625, 3507.070068359375], \"yaxis\": \"y\"}, {\"hoverlabel\": {\"namelength\": 0}, \"hovertemplate\": \"variable=MSFT<br>Fecha_dias=%{x}<br>Precio (USD)=%{y}\", \"legendgroup\": \"variable=MSFT\", \"line\": {\"color\": \"#FFA15A\", \"dash\": \"solid\"}, \"mode\": \"lines\", \"name\": \"variable=MSFT\", \"showlegend\": true, \"type\": \"scatter\", \"x\": [\"2021-01-01\", \"2021-02-01\", \"2021-03-01\", \"2021-04-01\", \"2021-05-01\", \"2021-06-01\", \"2021-07-01\", \"2021-08-01\", \"2021-09-01\", \"2021-10-01\", \"2021-11-01\"], \"xaxis\": \"x\", \"y\": [230.03179931640625, 230.4483184814453, 234.3486328125, 250.6596984863281, 248.17477416992188, 269.8886108398437, 283.8463134765625, 300.7529602050781, 281.40518188476557, 331.014404296875, 329.9862976074219], \"yaxis\": \"y\"}, {\"hoverlabel\": {\"namelength\": 0}, \"hovertemplate\": \"variable=JPM<br>Fecha_dias=%{x}<br>Precio (USD)=%{y}\", \"legendgroup\": \"variable=JPM\", \"line\": {\"color\": \"#19d3f3\", \"dash\": \"solid\"}, \"mode\": \"lines\", \"name\": \"variable=JPM\", \"showlegend\": true, \"type\": \"scatter\", \"x\": [\"2021-01-01\", \"2021-02-01\", \"2021-03-01\", \"2021-04-01\", \"2021-05-01\", \"2021-06-01\", \"2021-07-01\", \"2021-08-01\", \"2021-09-01\", \"2021-10-01\", \"2021-11-01\"], \"xaxis\": \"x\", \"y\": [125.51795959472656, 144.5986785888672, 149.5702667236328, 151.12266540527344, 162.3208465576172, 153.72250366210938, 150.00645446777344, 158.99192810058594, 162.70953369140625, 168.8723907470703, 158.8300018310547], \"yaxis\": \"y\"}, {\"hoverlabel\": {\"namelength\": 0}, \"hovertemplate\": \"variable=BAC<br>Fecha_dias=%{x}<br>Precio (USD)=%{y}\", \"legendgroup\": \"variable=BAC\", \"line\": {\"color\": \"#FF6692\", \"dash\": \"solid\"}, \"mode\": \"lines\", \"name\": \"variable=BAC\", \"showlegend\": true, \"type\": \"scatter\", \"x\": [\"2021-01-01\", \"2021-02-01\", \"2021-03-01\", \"2021-04-01\", \"2021-05-01\", \"2021-06-01\", \"2021-07-01\", \"2021-08-01\", \"2021-09-01\", \"2021-10-01\", \"2021-11-01\"], \"xaxis\": \"x\", \"y\": [29.08998107910156, 34.05440902709961, 37.95923614501953, 39.96199035644531, 41.7959213256836, 40.65217590332031, 37.98161697387695, 41.33817672729492, 42.0312728881836, 47.55112838745117, 44.25698471069336], \"yaxis\": \"y\"}, {\"hoverlabel\": {\"namelength\": 0}, \"hovertemplate\": \"variable=C<br>Fecha_dias=%{x}<br>Precio (USD)=%{y}\", \"legendgroup\": \"variable=C\", \"line\": {\"color\": \"#B6E880\", \"dash\": \"solid\"}, \"mode\": \"lines\", \"name\": \"variable=C\", \"showlegend\": true, \"type\": \"scatter\", \"x\": [\"2021-01-01\", \"2021-02-01\", \"2021-03-01\", \"2021-04-01\", \"2021-05-01\", \"2021-06-01\", \"2021-07-01\", \"2021-08-01\", \"2021-09-01\", \"2021-10-01\", \"2021-11-01\"], \"xaxis\": \"x\", \"y\": [56.27167129516602, 64.47280883789061, 71.1960678100586, 69.71832275390625, 77.56448364257812, 69.7203369140625, 66.63588714599611, 71.39259338378906, 69.67504119873047, 68.66238403320311, 63.70000076293945], \"yaxis\": \"y\"}, {\"hoverlabel\": {\"namelength\": 0}, \"hovertemplate\": \"variable=MAR<br>Fecha_dias=%{x}<br>Precio (USD)=%{y}\", \"legendgroup\": \"variable=MAR\", \"line\": {\"color\": \"#FF97FF\", \"dash\": \"solid\"}, \"mode\": \"lines\", \"name\": \"variable=MAR\", \"showlegend\": true, \"type\": \"scatter\", \"x\": [\"2021-01-01\", \"2021-02-01\", \"2021-03-01\", \"2021-04-01\", \"2021-05-01\", \"2021-06-01\", \"2021-07-01\", \"2021-08-01\", \"2021-09-01\", \"2021-10-01\", \"2021-11-01\"], \"xaxis\": \"x\", \"y\": [116.30999755859376, 148.07000732421875, 148.11000061035156, 148.52000427246094, 143.5800018310547, 136.52000427246094, 145.97999572753906, 135.13999938964844, 148.08999633789062, 160.02000427246094, 147.55999755859375], \"yaxis\": \"y\"}, {\"hoverlabel\": {\"namelength\": 0}, \"hovertemplate\": \"variable=HLT<br>Fecha_dias=%{x}<br>Precio (USD)=%{y}\", \"legendgroup\": \"variable=HLT\", \"line\": {\"color\": \"#FECB52\", \"dash\": \"solid\"}, \"mode\": \"lines\", \"name\": \"variable=HLT\", \"showlegend\": true, \"type\": \"scatter\", \"x\": [\"2021-01-01\", \"2021-02-01\", \"2021-03-01\", \"2021-04-01\", \"2021-05-01\", \"2021-06-01\", \"2021-07-01\", \"2021-08-01\", \"2021-09-01\", \"2021-10-01\", \"2021-11-01\"], \"xaxis\": \"x\", \"y\": [101.38999938964844, 123.68000030517578, 120.91999816894531, 128.69999694824222, 125.2699966430664, 120.62000274658205, 131.44999694824222, 124.86000061035156, 132.11000061035156, 143.9499969482422, 135.07000732421878], \"yaxis\": \"y\"}, {\"hoverlabel\": {\"namelength\": 0}, \"hovertemplate\": \"variable=RCL<br>Fecha_dias=%{x}<br>Precio (USD)=%{y}\", \"legendgroup\": \"variable=RCL\", \"line\": {\"color\": \"#636efa\", \"dash\": \"solid\"}, \"mode\": \"lines\", \"name\": \"variable=RCL\", \"showlegend\": true, \"type\": \"scatter\", \"x\": [\"2021-01-01\", \"2021-02-01\", \"2021-03-01\", \"2021-04-01\", \"2021-05-01\", \"2021-06-01\", \"2021-07-01\", \"2021-08-01\", \"2021-09-01\", \"2021-10-01\", \"2021-11-01\"], \"xaxis\": \"x\", \"y\": [65.0, 93.2699966430664, 85.61000061035156, 86.94999694824219, 93.2699966430664, 85.27999877929688, 76.87000274658203, 82.7300033569336, 88.94999694824219, 84.43000030517578, 69.81999969482422], \"yaxis\": \"y\"}, {\"hoverlabel\": {\"namelength\": 0}, \"hovertemplate\": \"variable=V<br>Fecha_dias=%{x}<br>Precio (USD)=%{y}\", \"legendgroup\": \"variable=V\", \"line\": {\"color\": \"#EF553B\", \"dash\": \"solid\"}, \"mode\": \"lines\", \"name\": \"variable=V\", \"showlegend\": true, \"type\": \"scatter\", \"x\": [\"2021-01-01\", \"2021-02-01\", \"2021-03-01\", \"2021-04-01\", \"2021-05-01\", \"2021-06-01\", \"2021-07-01\", \"2021-08-01\", \"2021-09-01\", \"2021-10-01\", \"2021-11-01\"], \"xaxis\": \"x\", \"y\": [192.07017517089844, 211.09332275390625, 210.76402282714844, 232.49444580078125, 226.2630157470703, 233.0913543701172, 245.62217712402344, 228.3860626220703, 222.35855102539062, 211.3978576660156, 193.4294891357422], \"yaxis\": \"y\"}, {\"hoverlabel\": {\"namelength\": 0}, \"hovertemplate\": \"variable=MA<br>Fecha_dias=%{x}<br>Precio (USD)=%{y}\", \"legendgroup\": \"variable=MA\", \"line\": {\"color\": \"#00cc96\", \"dash\": \"solid\"}, \"mode\": \"lines\", \"name\": \"variable=MA\", \"showlegend\": true, \"type\": \"scatter\", \"x\": [\"2021-01-01\", \"2021-02-01\", \"2021-03-01\", \"2021-04-01\", \"2021-05-01\", \"2021-06-01\", \"2021-07-01\", \"2021-08-01\", \"2021-09-01\", \"2021-10-01\", \"2021-11-01\"], \"xaxis\": \"x\", \"y\": [314.74609375, 352.5690612792969, 354.7611083984375, 380.6769714355469, 359.7012023925781, 364.2002258300781, 384.9994201660156, 345.7931213378906, 347.24127197265625, 335.0965881347656, 314.9200134277344], \"yaxis\": \"y\"}, {\"hoverlabel\": {\"namelength\": 0}, \"hovertemplate\": \"variable=PYPL<br>Fecha_dias=%{x}<br>Precio (USD)=%{y}\", \"legendgroup\": \"variable=PYPL\", \"line\": {\"color\": \"#ab63fa\", \"dash\": \"solid\"}, \"mode\": \"lines\", \"name\": \"variable=PYPL\", \"showlegend\": true, \"type\": \"scatter\", \"x\": [\"2021-01-01\", \"2021-02-01\", \"2021-03-01\", \"2021-04-01\", \"2021-05-01\", \"2021-06-01\", \"2021-07-01\", \"2021-08-01\", \"2021-09-01\", \"2021-10-01\", \"2021-11-01\"], \"xaxis\": \"x\", \"y\": [234.30999755859372, 259.85000610351557, 242.83999633789062, 262.29000854492193, 260.01998901367193, 291.4800109863281, 275.52999877929693, 288.6600036621094, 260.20999145507807, 232.58999633789062, 184.88999938964844], \"yaxis\": \"y\"}],\n",
              "                        {\"legend\": {\"tracegroupgap\": 0}, \"paper_bgcolor\": \"#FFFFFF\", \"plot_bgcolor\": \"#FFFFFF\", \"template\": {\"data\": {\"bar\": [{\"error_x\": {\"color\": \"#2a3f5f\"}, \"error_y\": {\"color\": \"#2a3f5f\"}, \"marker\": {\"line\": {\"color\": \"#E5ECF6\", \"width\": 0.5}}, \"type\": \"bar\"}], \"barpolar\": [{\"marker\": {\"line\": {\"color\": \"#E5ECF6\", \"width\": 0.5}}, \"type\": \"barpolar\"}], \"carpet\": [{\"aaxis\": {\"endlinecolor\": \"#2a3f5f\", \"gridcolor\": \"white\", \"linecolor\": \"white\", \"minorgridcolor\": \"white\", \"startlinecolor\": \"#2a3f5f\"}, \"baxis\": {\"endlinecolor\": \"#2a3f5f\", \"gridcolor\": \"white\", \"linecolor\": \"white\", \"minorgridcolor\": \"white\", \"startlinecolor\": \"#2a3f5f\"}, \"type\": \"carpet\"}], \"choropleth\": [{\"colorbar\": {\"outlinewidth\": 0, \"ticks\": \"\"}, \"type\": \"choropleth\"}], \"contour\": [{\"colorbar\": {\"outlinewidth\": 0, \"ticks\": \"\"}, \"colorscale\": [[0.0, \"#0d0887\"], [0.1111111111111111, \"#46039f\"], [0.2222222222222222, \"#7201a8\"], [0.3333333333333333, \"#9c179e\"], [0.4444444444444444, \"#bd3786\"], [0.5555555555555556, \"#d8576b\"], [0.6666666666666666, \"#ed7953\"], [0.7777777777777778, \"#fb9f3a\"], [0.8888888888888888, \"#fdca26\"], [1.0, \"#f0f921\"]], \"type\": \"contour\"}], \"contourcarpet\": [{\"colorbar\": {\"outlinewidth\": 0, \"ticks\": \"\"}, \"type\": \"contourcarpet\"}], \"heatmap\": [{\"colorbar\": {\"outlinewidth\": 0, \"ticks\": \"\"}, \"colorscale\": [[0.0, \"#0d0887\"], [0.1111111111111111, \"#46039f\"], [0.2222222222222222, \"#7201a8\"], [0.3333333333333333, \"#9c179e\"], [0.4444444444444444, \"#bd3786\"], [0.5555555555555556, \"#d8576b\"], [0.6666666666666666, \"#ed7953\"], [0.7777777777777778, \"#fb9f3a\"], [0.8888888888888888, \"#fdca26\"], [1.0, \"#f0f921\"]], \"type\": \"heatmap\"}], \"heatmapgl\": [{\"colorbar\": {\"outlinewidth\": 0, \"ticks\": \"\"}, \"colorscale\": [[0.0, \"#0d0887\"], [0.1111111111111111, \"#46039f\"], [0.2222222222222222, \"#7201a8\"], [0.3333333333333333, \"#9c179e\"], [0.4444444444444444, \"#bd3786\"], [0.5555555555555556, \"#d8576b\"], [0.6666666666666666, \"#ed7953\"], [0.7777777777777778, \"#fb9f3a\"], [0.8888888888888888, \"#fdca26\"], [1.0, \"#f0f921\"]], \"type\": \"heatmapgl\"}], \"histogram\": [{\"marker\": {\"colorbar\": {\"outlinewidth\": 0, \"ticks\": \"\"}}, \"type\": \"histogram\"}], \"histogram2d\": [{\"colorbar\": {\"outlinewidth\": 0, \"ticks\": \"\"}, \"colorscale\": [[0.0, \"#0d0887\"], [0.1111111111111111, \"#46039f\"], [0.2222222222222222, \"#7201a8\"], [0.3333333333333333, \"#9c179e\"], [0.4444444444444444, \"#bd3786\"], [0.5555555555555556, \"#d8576b\"], [0.6666666666666666, \"#ed7953\"], [0.7777777777777778, \"#fb9f3a\"], [0.8888888888888888, \"#fdca26\"], [1.0, \"#f0f921\"]], \"type\": \"histogram2d\"}], \"histogram2dcontour\": [{\"colorbar\": {\"outlinewidth\": 0, \"ticks\": \"\"}, \"colorscale\": [[0.0, \"#0d0887\"], [0.1111111111111111, \"#46039f\"], [0.2222222222222222, \"#7201a8\"], [0.3333333333333333, \"#9c179e\"], [0.4444444444444444, \"#bd3786\"], [0.5555555555555556, \"#d8576b\"], [0.6666666666666666, \"#ed7953\"], [0.7777777777777778, \"#fb9f3a\"], [0.8888888888888888, \"#fdca26\"], [1.0, \"#f0f921\"]], \"type\": \"histogram2dcontour\"}], \"mesh3d\": [{\"colorbar\": {\"outlinewidth\": 0, \"ticks\": \"\"}, \"type\": \"mesh3d\"}], \"parcoords\": [{\"line\": {\"colorbar\": {\"outlinewidth\": 0, \"ticks\": \"\"}}, \"type\": \"parcoords\"}], \"pie\": [{\"automargin\": true, \"type\": \"pie\"}], \"scatter\": [{\"marker\": {\"colorbar\": {\"outlinewidth\": 0, \"ticks\": \"\"}}, \"type\": \"scatter\"}], \"scatter3d\": [{\"line\": {\"colorbar\": {\"outlinewidth\": 0, \"ticks\": \"\"}}, \"marker\": {\"colorbar\": {\"outlinewidth\": 0, \"ticks\": \"\"}}, \"type\": \"scatter3d\"}], \"scattercarpet\": [{\"marker\": {\"colorbar\": {\"outlinewidth\": 0, \"ticks\": \"\"}}, \"type\": \"scattercarpet\"}], \"scattergeo\": [{\"marker\": {\"colorbar\": {\"outlinewidth\": 0, \"ticks\": \"\"}}, \"type\": \"scattergeo\"}], \"scattergl\": [{\"marker\": {\"colorbar\": {\"outlinewidth\": 0, \"ticks\": \"\"}}, \"type\": \"scattergl\"}], \"scattermapbox\": [{\"marker\": {\"colorbar\": {\"outlinewidth\": 0, \"ticks\": \"\"}}, \"type\": \"scattermapbox\"}], \"scatterpolar\": [{\"marker\": {\"colorbar\": {\"outlinewidth\": 0, \"ticks\": \"\"}}, \"type\": \"scatterpolar\"}], \"scatterpolargl\": [{\"marker\": {\"colorbar\": {\"outlinewidth\": 0, \"ticks\": \"\"}}, \"type\": \"scatterpolargl\"}], \"scatterternary\": [{\"marker\": {\"colorbar\": {\"outlinewidth\": 0, \"ticks\": \"\"}}, \"type\": \"scatterternary\"}], \"surface\": [{\"colorbar\": {\"outlinewidth\": 0, \"ticks\": \"\"}, \"colorscale\": [[0.0, \"#0d0887\"], [0.1111111111111111, \"#46039f\"], [0.2222222222222222, \"#7201a8\"], [0.3333333333333333, \"#9c179e\"], [0.4444444444444444, \"#bd3786\"], [0.5555555555555556, \"#d8576b\"], [0.6666666666666666, \"#ed7953\"], [0.7777777777777778, \"#fb9f3a\"], [0.8888888888888888, \"#fdca26\"], [1.0, \"#f0f921\"]], \"type\": \"surface\"}], \"table\": [{\"cells\": {\"fill\": {\"color\": \"#EBF0F8\"}, \"line\": {\"color\": \"white\"}}, \"header\": {\"fill\": {\"color\": \"#C8D4E3\"}, \"line\": {\"color\": \"white\"}}, \"type\": \"table\"}]}, \"layout\": {\"annotationdefaults\": {\"arrowcolor\": \"#2a3f5f\", \"arrowhead\": 0, \"arrowwidth\": 1}, \"coloraxis\": {\"colorbar\": {\"outlinewidth\": 0, \"ticks\": \"\"}}, \"colorscale\": {\"diverging\": [[0, \"#8e0152\"], [0.1, \"#c51b7d\"], [0.2, \"#de77ae\"], [0.3, \"#f1b6da\"], [0.4, \"#fde0ef\"], [0.5, \"#f7f7f7\"], [0.6, \"#e6f5d0\"], [0.7, \"#b8e186\"], [0.8, \"#7fbc41\"], [0.9, \"#4d9221\"], [1, \"#276419\"]], \"sequential\": [[0.0, \"#0d0887\"], [0.1111111111111111, \"#46039f\"], [0.2222222222222222, \"#7201a8\"], [0.3333333333333333, \"#9c179e\"], [0.4444444444444444, \"#bd3786\"], [0.5555555555555556, \"#d8576b\"], [0.6666666666666666, \"#ed7953\"], [0.7777777777777778, \"#fb9f3a\"], [0.8888888888888888, \"#fdca26\"], [1.0, \"#f0f921\"]], \"sequentialminus\": [[0.0, \"#0d0887\"], [0.1111111111111111, \"#46039f\"], [0.2222222222222222, \"#7201a8\"], [0.3333333333333333, \"#9c179e\"], [0.4444444444444444, \"#bd3786\"], [0.5555555555555556, \"#d8576b\"], [0.6666666666666666, \"#ed7953\"], [0.7777777777777778, \"#fb9f3a\"], [0.8888888888888888, \"#fdca26\"], [1.0, \"#f0f921\"]]}, \"colorway\": [\"#636efa\", \"#EF553B\", \"#00cc96\", \"#ab63fa\", \"#FFA15A\", \"#19d3f3\", \"#FF6692\", \"#B6E880\", \"#FF97FF\", \"#FECB52\"], \"font\": {\"color\": \"#2a3f5f\"}, \"geo\": {\"bgcolor\": \"white\", \"lakecolor\": \"white\", \"landcolor\": \"#E5ECF6\", \"showlakes\": true, \"showland\": true, \"subunitcolor\": \"white\"}, \"hoverlabel\": {\"align\": \"left\"}, \"hovermode\": \"closest\", \"mapbox\": {\"style\": \"light\"}, \"paper_bgcolor\": \"white\", \"plot_bgcolor\": \"#E5ECF6\", \"polar\": {\"angularaxis\": {\"gridcolor\": \"white\", \"linecolor\": \"white\", \"ticks\": \"\"}, \"bgcolor\": \"#E5ECF6\", \"radialaxis\": {\"gridcolor\": \"white\", \"linecolor\": \"white\", \"ticks\": \"\"}}, \"scene\": {\"xaxis\": {\"backgroundcolor\": \"#E5ECF6\", \"gridcolor\": \"white\", \"gridwidth\": 2, \"linecolor\": \"white\", \"showbackground\": true, \"ticks\": \"\", \"zerolinecolor\": \"white\"}, \"yaxis\": {\"backgroundcolor\": \"#E5ECF6\", \"gridcolor\": \"white\", \"gridwidth\": 2, \"linecolor\": \"white\", \"showbackground\": true, \"ticks\": \"\", \"zerolinecolor\": \"white\"}, \"zaxis\": {\"backgroundcolor\": \"#E5ECF6\", \"gridcolor\": \"white\", \"gridwidth\": 2, \"linecolor\": \"white\", \"showbackground\": true, \"ticks\": \"\", \"zerolinecolor\": \"white\"}}, \"shapedefaults\": {\"line\": {\"color\": \"#2a3f5f\"}}, \"ternary\": {\"aaxis\": {\"gridcolor\": \"white\", \"linecolor\": \"white\", \"ticks\": \"\"}, \"baxis\": {\"gridcolor\": \"white\", \"linecolor\": \"white\", \"ticks\": \"\"}, \"bgcolor\": \"#E5ECF6\", \"caxis\": {\"gridcolor\": \"white\", \"linecolor\": \"white\", \"ticks\": \"\"}}, \"title\": {\"x\": 0.05}, \"xaxis\": {\"automargin\": true, \"gridcolor\": \"white\", \"linecolor\": \"white\", \"ticks\": \"\", \"title\": {\"standoff\": 15}, \"zerolinecolor\": \"white\", \"zerolinewidth\": 2}, \"yaxis\": {\"automargin\": true, \"gridcolor\": \"white\", \"linecolor\": \"white\", \"ticks\": \"\", \"title\": {\"standoff\": 15}, \"zerolinecolor\": \"white\", \"zerolinewidth\": 2}}}, \"title\": {\"text\": \"Comportamiento de precio de acciones\"}, \"xaxis\": {\"anchor\": \"y\", \"domain\": [0.0, 1.0], \"title\": {\"text\": \"Fecha_dias\"}}, \"yaxis\": {\"anchor\": \"x\", \"domain\": [0.0, 1.0], \"title\": {\"text\": \"Precio (USD)\"}}},\n",
              "                        {\"responsive\": true}\n",
              "                    ).then(function(){\n",
              "                            \n",
              "var gd = document.getElementById('88258f4b-0b4a-4f2c-ad43-340f572fc0d1');\n",
              "var x = new MutationObserver(function (mutations, observer) {{\n",
              "        var display = window.getComputedStyle(gd).display;\n",
              "        if (!display || display === 'none') {{\n",
              "            console.log([gd, 'removed!']);\n",
              "            Plotly.purge(gd);\n",
              "            observer.disconnect();\n",
              "        }}\n",
              "}});\n",
              "\n",
              "// Listen for the removal of the full notebook cells\n",
              "var notebookContainer = gd.closest('#notebook-container');\n",
              "if (notebookContainer) {{\n",
              "    x.observe(notebookContainer, {childList: true});\n",
              "}}\n",
              "\n",
              "// Listen for the clearing of the current output cell\n",
              "var outputEl = gd.closest('.output');\n",
              "if (outputEl) {{\n",
              "    x.observe(outputEl, {childList: true});\n",
              "}}\n",
              "\n",
              "                        })\n",
              "                };\n",
              "                \n",
              "            </script>\n",
              "        </div>\n",
              "</body>\n",
              "</html>"
            ]
          },
          "metadata": {}
        }
      ]
    },
    {
      "cell_type": "markdown",
      "source": [
        "# Excluyendo Amazon y GOOGLE"
      ],
      "metadata": {
        "id": "2pgxL7QNNwEw"
      }
    },
    {
      "cell_type": "code",
      "source": [
        "df_n=df.copy()\n",
        "df_n['Fecha']=df.index\n",
        "df_n= df_n.reset_index(drop=True)\n",
        "df_n= df_n.drop(columns=['GOOG','AMZN'])\n",
        "df_n"
      ],
      "metadata": {
        "colab": {
          "base_uri": "https://localhost:8080/",
          "height": 395
        },
        "id": "m8RqaEIcN06D",
        "outputId": "d79f30c4-945c-4f4b-dc5d-a1f540289a79"
      },
      "execution_count": null,
      "outputs": [
        {
          "output_type": "execute_result",
          "data": {
            "text/html": [
              "<div>\n",
              "<style scoped>\n",
              "    .dataframe tbody tr th:only-of-type {\n",
              "        vertical-align: middle;\n",
              "    }\n",
              "\n",
              "    .dataframe tbody tr th {\n",
              "        vertical-align: top;\n",
              "    }\n",
              "\n",
              "    .dataframe thead th {\n",
              "        text-align: right;\n",
              "    }\n",
              "</style>\n",
              "<table border=\"1\" class=\"dataframe\">\n",
              "  <thead>\n",
              "    <tr style=\"text-align: right;\">\n",
              "      <th></th>\n",
              "      <th>MCD</th>\n",
              "      <th>SBUX</th>\n",
              "      <th>MSFT</th>\n",
              "      <th>JPM</th>\n",
              "      <th>BAC</th>\n",
              "      <th>C</th>\n",
              "      <th>MAR</th>\n",
              "      <th>HLT</th>\n",
              "      <th>RCL</th>\n",
              "      <th>V</th>\n",
              "      <th>MA</th>\n",
              "      <th>PYPL</th>\n",
              "      <th>Fecha</th>\n",
              "    </tr>\n",
              "  </thead>\n",
              "  <tbody>\n",
              "    <tr>\n",
              "      <th>0</th>\n",
              "      <td>203.187836</td>\n",
              "      <td>95.235695</td>\n",
              "      <td>230.031799</td>\n",
              "      <td>125.517960</td>\n",
              "      <td>29.089981</td>\n",
              "      <td>56.271671</td>\n",
              "      <td>116.309998</td>\n",
              "      <td>101.389999</td>\n",
              "      <td>65.000000</td>\n",
              "      <td>192.070175</td>\n",
              "      <td>314.746094</td>\n",
              "      <td>234.309998</td>\n",
              "      <td>2021-01-01</td>\n",
              "    </tr>\n",
              "    <tr>\n",
              "      <th>1</th>\n",
              "      <td>201.525894</td>\n",
              "      <td>106.273232</td>\n",
              "      <td>230.448318</td>\n",
              "      <td>144.598679</td>\n",
              "      <td>34.054409</td>\n",
              "      <td>64.472809</td>\n",
              "      <td>148.070007</td>\n",
              "      <td>123.680000</td>\n",
              "      <td>93.269997</td>\n",
              "      <td>211.093323</td>\n",
              "      <td>352.569061</td>\n",
              "      <td>259.850006</td>\n",
              "      <td>2021-02-01</td>\n",
              "    </tr>\n",
              "    <tr>\n",
              "      <th>2</th>\n",
              "      <td>220.471207</td>\n",
              "      <td>107.950699</td>\n",
              "      <td>234.348633</td>\n",
              "      <td>149.570267</td>\n",
              "      <td>37.959236</td>\n",
              "      <td>71.196068</td>\n",
              "      <td>148.110001</td>\n",
              "      <td>120.919998</td>\n",
              "      <td>85.610001</td>\n",
              "      <td>210.764023</td>\n",
              "      <td>354.761108</td>\n",
              "      <td>242.839996</td>\n",
              "      <td>2021-03-01</td>\n",
              "    </tr>\n",
              "    <tr>\n",
              "      <th>3</th>\n",
              "      <td>232.215775</td>\n",
              "      <td>113.107674</td>\n",
              "      <td>250.659698</td>\n",
              "      <td>151.122665</td>\n",
              "      <td>39.961990</td>\n",
              "      <td>69.718323</td>\n",
              "      <td>148.520004</td>\n",
              "      <td>128.699997</td>\n",
              "      <td>86.949997</td>\n",
              "      <td>232.494446</td>\n",
              "      <td>380.676971</td>\n",
              "      <td>262.290009</td>\n",
              "      <td>2021-04-01</td>\n",
              "    </tr>\n",
              "    <tr>\n",
              "      <th>4</th>\n",
              "      <td>230.061630</td>\n",
              "      <td>112.505043</td>\n",
              "      <td>248.174774</td>\n",
              "      <td>162.320847</td>\n",
              "      <td>41.795921</td>\n",
              "      <td>77.564484</td>\n",
              "      <td>143.580002</td>\n",
              "      <td>125.269997</td>\n",
              "      <td>93.269997</td>\n",
              "      <td>226.263016</td>\n",
              "      <td>359.701202</td>\n",
              "      <td>260.019989</td>\n",
              "      <td>2021-05-01</td>\n",
              "    </tr>\n",
              "    <tr>\n",
              "      <th>5</th>\n",
              "      <td>228.463959</td>\n",
              "      <td>110.899529</td>\n",
              "      <td>269.888611</td>\n",
              "      <td>153.722504</td>\n",
              "      <td>40.652176</td>\n",
              "      <td>69.720337</td>\n",
              "      <td>136.520004</td>\n",
              "      <td>120.620003</td>\n",
              "      <td>85.279999</td>\n",
              "      <td>233.091354</td>\n",
              "      <td>364.200226</td>\n",
              "      <td>291.480011</td>\n",
              "      <td>2021-06-01</td>\n",
              "    </tr>\n",
              "    <tr>\n",
              "      <th>6</th>\n",
              "      <td>240.055786</td>\n",
              "      <td>120.441185</td>\n",
              "      <td>283.846313</td>\n",
              "      <td>150.006454</td>\n",
              "      <td>37.981617</td>\n",
              "      <td>66.635887</td>\n",
              "      <td>145.979996</td>\n",
              "      <td>131.449997</td>\n",
              "      <td>76.870003</td>\n",
              "      <td>245.622177</td>\n",
              "      <td>384.999420</td>\n",
              "      <td>275.529999</td>\n",
              "      <td>2021-07-01</td>\n",
              "    </tr>\n",
              "    <tr>\n",
              "      <th>7</th>\n",
              "      <td>234.863205</td>\n",
              "      <td>116.533272</td>\n",
              "      <td>300.752960</td>\n",
              "      <td>158.991928</td>\n",
              "      <td>41.338177</td>\n",
              "      <td>71.392593</td>\n",
              "      <td>135.139999</td>\n",
              "      <td>124.860001</td>\n",
              "      <td>82.730003</td>\n",
              "      <td>228.386063</td>\n",
              "      <td>345.793121</td>\n",
              "      <td>288.660004</td>\n",
              "      <td>2021-08-01</td>\n",
              "    </tr>\n",
              "    <tr>\n",
              "      <th>8</th>\n",
              "      <td>239.780670</td>\n",
              "      <td>109.836403</td>\n",
              "      <td>281.405182</td>\n",
              "      <td>162.709534</td>\n",
              "      <td>42.031273</td>\n",
              "      <td>69.675041</td>\n",
              "      <td>148.089996</td>\n",
              "      <td>132.110001</td>\n",
              "      <td>88.949997</td>\n",
              "      <td>222.358551</td>\n",
              "      <td>347.241272</td>\n",
              "      <td>260.209991</td>\n",
              "      <td>2021-09-01</td>\n",
              "    </tr>\n",
              "    <tr>\n",
              "      <th>9</th>\n",
              "      <td>244.196198</td>\n",
              "      <td>105.614609</td>\n",
              "      <td>331.014404</td>\n",
              "      <td>168.872391</td>\n",
              "      <td>47.551128</td>\n",
              "      <td>68.662384</td>\n",
              "      <td>160.020004</td>\n",
              "      <td>143.949997</td>\n",
              "      <td>84.430000</td>\n",
              "      <td>211.397858</td>\n",
              "      <td>335.096588</td>\n",
              "      <td>232.589996</td>\n",
              "      <td>2021-10-01</td>\n",
              "    </tr>\n",
              "    <tr>\n",
              "      <th>10</th>\n",
              "      <td>243.251434</td>\n",
              "      <td>109.169281</td>\n",
              "      <td>329.986298</td>\n",
              "      <td>158.830002</td>\n",
              "      <td>44.256985</td>\n",
              "      <td>63.700001</td>\n",
              "      <td>147.559998</td>\n",
              "      <td>135.070007</td>\n",
              "      <td>69.820000</td>\n",
              "      <td>193.429489</td>\n",
              "      <td>314.920013</td>\n",
              "      <td>184.889999</td>\n",
              "      <td>2021-11-01</td>\n",
              "    </tr>\n",
              "  </tbody>\n",
              "</table>\n",
              "</div>"
            ],
            "text/plain": [
              "           MCD        SBUX        MSFT  ...          MA        PYPL       Fecha\n",
              "0   203.187836   95.235695  230.031799  ...  314.746094  234.309998  2021-01-01\n",
              "1   201.525894  106.273232  230.448318  ...  352.569061  259.850006  2021-02-01\n",
              "2   220.471207  107.950699  234.348633  ...  354.761108  242.839996  2021-03-01\n",
              "3   232.215775  113.107674  250.659698  ...  380.676971  262.290009  2021-04-01\n",
              "4   230.061630  112.505043  248.174774  ...  359.701202  260.019989  2021-05-01\n",
              "5   228.463959  110.899529  269.888611  ...  364.200226  291.480011  2021-06-01\n",
              "6   240.055786  120.441185  283.846313  ...  384.999420  275.529999  2021-07-01\n",
              "7   234.863205  116.533272  300.752960  ...  345.793121  288.660004  2021-08-01\n",
              "8   239.780670  109.836403  281.405182  ...  347.241272  260.209991  2021-09-01\n",
              "9   244.196198  105.614609  331.014404  ...  335.096588  232.589996  2021-10-01\n",
              "10  243.251434  109.169281  329.986298  ...  314.920013  184.889999  2021-11-01\n",
              "\n",
              "[11 rows x 13 columns]"
            ]
          },
          "metadata": {},
          "execution_count": 55
        }
      ]
    },
    {
      "cell_type": "code",
      "source": [
        "columnas=list(df.columns)\n",
        "unwanted_num = {'AMZN', 'GOOG'}\n",
        " \n",
        "col_final = [x for x in columnas if x not in unwanted_num]\n",
        "col_final"
      ],
      "metadata": {
        "colab": {
          "base_uri": "https://localhost:8080/"
        },
        "id": "mekxZmA3OGmW",
        "outputId": "bd92ff0d-b212-4b2e-d5af-e867f3599014"
      },
      "execution_count": null,
      "outputs": [
        {
          "output_type": "execute_result",
          "data": {
            "text/plain": [
              "['MCD',\n",
              " 'SBUX',\n",
              " 'MSFT',\n",
              " 'JPM',\n",
              " 'BAC',\n",
              " 'C',\n",
              " 'MAR',\n",
              " 'HLT',\n",
              " 'RCL',\n",
              " 'V',\n",
              " 'MA',\n",
              " 'PYPL']"
            ]
          },
          "metadata": {},
          "execution_count": 65
        }
      ]
    },
    {
      "cell_type": "code",
      "source": [
        "df_long=pd.melt(df_n , value_vars=col_final,id_vars='Fecha')\n",
        "df_long"
      ],
      "metadata": {
        "colab": {
          "base_uri": "https://localhost:8080/",
          "height": 424
        },
        "id": "LxpmXbJeN9A0",
        "outputId": "34ad75f0-dc12-46ff-d2cd-bd55c49a878a"
      },
      "execution_count": null,
      "outputs": [
        {
          "output_type": "execute_result",
          "data": {
            "text/html": [
              "<div>\n",
              "<style scoped>\n",
              "    .dataframe tbody tr th:only-of-type {\n",
              "        vertical-align: middle;\n",
              "    }\n",
              "\n",
              "    .dataframe tbody tr th {\n",
              "        vertical-align: top;\n",
              "    }\n",
              "\n",
              "    .dataframe thead th {\n",
              "        text-align: right;\n",
              "    }\n",
              "</style>\n",
              "<table border=\"1\" class=\"dataframe\">\n",
              "  <thead>\n",
              "    <tr style=\"text-align: right;\">\n",
              "      <th></th>\n",
              "      <th>Fecha</th>\n",
              "      <th>variable</th>\n",
              "      <th>value</th>\n",
              "    </tr>\n",
              "  </thead>\n",
              "  <tbody>\n",
              "    <tr>\n",
              "      <th>0</th>\n",
              "      <td>2021-01-01</td>\n",
              "      <td>MCD</td>\n",
              "      <td>203.187836</td>\n",
              "    </tr>\n",
              "    <tr>\n",
              "      <th>1</th>\n",
              "      <td>2021-02-01</td>\n",
              "      <td>MCD</td>\n",
              "      <td>201.525894</td>\n",
              "    </tr>\n",
              "    <tr>\n",
              "      <th>2</th>\n",
              "      <td>2021-03-01</td>\n",
              "      <td>MCD</td>\n",
              "      <td>220.471207</td>\n",
              "    </tr>\n",
              "    <tr>\n",
              "      <th>3</th>\n",
              "      <td>2021-04-01</td>\n",
              "      <td>MCD</td>\n",
              "      <td>232.215775</td>\n",
              "    </tr>\n",
              "    <tr>\n",
              "      <th>4</th>\n",
              "      <td>2021-05-01</td>\n",
              "      <td>MCD</td>\n",
              "      <td>230.061630</td>\n",
              "    </tr>\n",
              "    <tr>\n",
              "      <th>...</th>\n",
              "      <td>...</td>\n",
              "      <td>...</td>\n",
              "      <td>...</td>\n",
              "    </tr>\n",
              "    <tr>\n",
              "      <th>127</th>\n",
              "      <td>2021-07-01</td>\n",
              "      <td>PYPL</td>\n",
              "      <td>275.529999</td>\n",
              "    </tr>\n",
              "    <tr>\n",
              "      <th>128</th>\n",
              "      <td>2021-08-01</td>\n",
              "      <td>PYPL</td>\n",
              "      <td>288.660004</td>\n",
              "    </tr>\n",
              "    <tr>\n",
              "      <th>129</th>\n",
              "      <td>2021-09-01</td>\n",
              "      <td>PYPL</td>\n",
              "      <td>260.209991</td>\n",
              "    </tr>\n",
              "    <tr>\n",
              "      <th>130</th>\n",
              "      <td>2021-10-01</td>\n",
              "      <td>PYPL</td>\n",
              "      <td>232.589996</td>\n",
              "    </tr>\n",
              "    <tr>\n",
              "      <th>131</th>\n",
              "      <td>2021-11-01</td>\n",
              "      <td>PYPL</td>\n",
              "      <td>184.889999</td>\n",
              "    </tr>\n",
              "  </tbody>\n",
              "</table>\n",
              "<p>132 rows × 3 columns</p>\n",
              "</div>"
            ],
            "text/plain": [
              "          Fecha variable       value\n",
              "0    2021-01-01      MCD  203.187836\n",
              "1    2021-02-01      MCD  201.525894\n",
              "2    2021-03-01      MCD  220.471207\n",
              "3    2021-04-01      MCD  232.215775\n",
              "4    2021-05-01      MCD  230.061630\n",
              "..          ...      ...         ...\n",
              "127  2021-07-01     PYPL  275.529999\n",
              "128  2021-08-01     PYPL  288.660004\n",
              "129  2021-09-01     PYPL  260.209991\n",
              "130  2021-10-01     PYPL  232.589996\n",
              "131  2021-11-01     PYPL  184.889999\n",
              "\n",
              "[132 rows x 3 columns]"
            ]
          },
          "metadata": {},
          "execution_count": 66
        }
      ]
    },
    {
      "cell_type": "code",
      "source": [
        "import plotly.express as px\n",
        "\n",
        "\n",
        "fig=px.line(data_frame=df_long,x='Fecha',y='value',line_group='variable',color='variable',title='Comportamiento de precio de acciones',\\\n",
        "             labels={\n",
        "                     \"Fecha\": \"Fecha_dias\",\n",
        "                     \"value\": \"Precio (USD)\"\n",
        "                 })\n",
        "fig.update_layout(paper_bgcolor=\"#FFFFFF\",plot_bgcolor='#FFFFFF',)\n",
        "\n",
        "fig.show()"
      ],
      "metadata": {
        "colab": {
          "base_uri": "https://localhost:8080/",
          "height": 542
        },
        "id": "c7uAuDP-PFfT",
        "outputId": "12effcce-53fd-4eb8-f9a8-5b1996d38c52"
      },
      "execution_count": null,
      "outputs": [
        {
          "output_type": "display_data",
          "data": {
            "text/html": [
              "<html>\n",
              "<head><meta charset=\"utf-8\" /></head>\n",
              "<body>\n",
              "    <div>\n",
              "            <script src=\"https://cdnjs.cloudflare.com/ajax/libs/mathjax/2.7.5/MathJax.js?config=TeX-AMS-MML_SVG\"></script><script type=\"text/javascript\">if (window.MathJax) {MathJax.Hub.Config({SVG: {font: \"STIX-Web\"}});}</script>\n",
              "                <script type=\"text/javascript\">window.PlotlyConfig = {MathJaxConfig: 'local'};</script>\n",
              "        <script src=\"https://cdn.plot.ly/plotly-latest.min.js\"></script>    \n",
              "            <div id=\"d21c64e5-d86d-4598-950f-1becde92cc19\" class=\"plotly-graph-div\" style=\"height:525px; width:100%;\"></div>\n",
              "            <script type=\"text/javascript\">\n",
              "                \n",
              "                    window.PLOTLYENV=window.PLOTLYENV || {};\n",
              "                    \n",
              "                if (document.getElementById(\"d21c64e5-d86d-4598-950f-1becde92cc19\")) {\n",
              "                    Plotly.newPlot(\n",
              "                        'd21c64e5-d86d-4598-950f-1becde92cc19',\n",
              "                        [{\"hoverlabel\": {\"namelength\": 0}, \"hovertemplate\": \"variable=MCD<br>Fecha_dias=%{x}<br>Precio (USD)=%{y}\", \"legendgroup\": \"variable=MCD\", \"line\": {\"color\": \"#636efa\", \"dash\": \"solid\"}, \"mode\": \"lines\", \"name\": \"variable=MCD\", \"showlegend\": true, \"type\": \"scatter\", \"x\": [\"2021-01-01\", \"2021-02-01\", \"2021-03-01\", \"2021-04-01\", \"2021-05-01\", \"2021-06-01\", \"2021-07-01\", \"2021-08-01\", \"2021-09-01\", \"2021-10-01\", \"2021-11-01\"], \"xaxis\": \"x\", \"y\": [203.18783569335938, 201.52589416503903, 220.47120666503903, 232.2157745361328, 230.06163024902344, 228.4639587402344, 240.0557861328125, 234.8632049560547, 239.7806701660156, 244.1961975097656, 243.25143432617188], \"yaxis\": \"y\"}, {\"hoverlabel\": {\"namelength\": 0}, \"hovertemplate\": \"variable=SBUX<br>Fecha_dias=%{x}<br>Precio (USD)=%{y}\", \"legendgroup\": \"variable=SBUX\", \"line\": {\"color\": \"#EF553B\", \"dash\": \"solid\"}, \"mode\": \"lines\", \"name\": \"variable=SBUX\", \"showlegend\": true, \"type\": \"scatter\", \"x\": [\"2021-01-01\", \"2021-02-01\", \"2021-03-01\", \"2021-04-01\", \"2021-05-01\", \"2021-06-01\", \"2021-07-01\", \"2021-08-01\", \"2021-09-01\", \"2021-10-01\", \"2021-11-01\"], \"xaxis\": \"x\", \"y\": [95.2356948852539, 106.27323150634766, 107.95069885253906, 113.10767364501952, 112.50504302978516, 110.89952850341795, 120.4411849975586, 116.53327178955078, 109.8364028930664, 105.61460876464844, 109.16928100585938], \"yaxis\": \"y\"}, {\"hoverlabel\": {\"namelength\": 0}, \"hovertemplate\": \"variable=MSFT<br>Fecha_dias=%{x}<br>Precio (USD)=%{y}\", \"legendgroup\": \"variable=MSFT\", \"line\": {\"color\": \"#00cc96\", \"dash\": \"solid\"}, \"mode\": \"lines\", \"name\": \"variable=MSFT\", \"showlegend\": true, \"type\": \"scatter\", \"x\": [\"2021-01-01\", \"2021-02-01\", \"2021-03-01\", \"2021-04-01\", \"2021-05-01\", \"2021-06-01\", \"2021-07-01\", \"2021-08-01\", \"2021-09-01\", \"2021-10-01\", \"2021-11-01\"], \"xaxis\": \"x\", \"y\": [230.03179931640625, 230.4483184814453, 234.3486328125, 250.6596984863281, 248.17477416992188, 269.8886108398437, 283.8463134765625, 300.7529602050781, 281.40518188476557, 331.014404296875, 329.9862976074219], \"yaxis\": \"y\"}, {\"hoverlabel\": {\"namelength\": 0}, \"hovertemplate\": \"variable=JPM<br>Fecha_dias=%{x}<br>Precio (USD)=%{y}\", \"legendgroup\": \"variable=JPM\", \"line\": {\"color\": \"#ab63fa\", \"dash\": \"solid\"}, \"mode\": \"lines\", \"name\": \"variable=JPM\", \"showlegend\": true, \"type\": \"scatter\", \"x\": [\"2021-01-01\", \"2021-02-01\", \"2021-03-01\", \"2021-04-01\", \"2021-05-01\", \"2021-06-01\", \"2021-07-01\", \"2021-08-01\", \"2021-09-01\", \"2021-10-01\", \"2021-11-01\"], \"xaxis\": \"x\", \"y\": [125.51795959472656, 144.5986785888672, 149.5702667236328, 151.12266540527344, 162.3208465576172, 153.72250366210938, 150.00645446777344, 158.99192810058594, 162.70953369140625, 168.8723907470703, 158.8300018310547], \"yaxis\": \"y\"}, {\"hoverlabel\": {\"namelength\": 0}, \"hovertemplate\": \"variable=BAC<br>Fecha_dias=%{x}<br>Precio (USD)=%{y}\", \"legendgroup\": \"variable=BAC\", \"line\": {\"color\": \"#FFA15A\", \"dash\": \"solid\"}, \"mode\": \"lines\", \"name\": \"variable=BAC\", \"showlegend\": true, \"type\": \"scatter\", \"x\": [\"2021-01-01\", \"2021-02-01\", \"2021-03-01\", \"2021-04-01\", \"2021-05-01\", \"2021-06-01\", \"2021-07-01\", \"2021-08-01\", \"2021-09-01\", \"2021-10-01\", \"2021-11-01\"], \"xaxis\": \"x\", \"y\": [29.08998107910156, 34.05440902709961, 37.95923614501953, 39.96199035644531, 41.7959213256836, 40.65217590332031, 37.98161697387695, 41.33817672729492, 42.0312728881836, 47.55112838745117, 44.25698471069336], \"yaxis\": \"y\"}, {\"hoverlabel\": {\"namelength\": 0}, \"hovertemplate\": \"variable=C<br>Fecha_dias=%{x}<br>Precio (USD)=%{y}\", \"legendgroup\": \"variable=C\", \"line\": {\"color\": \"#19d3f3\", \"dash\": \"solid\"}, \"mode\": \"lines\", \"name\": \"variable=C\", \"showlegend\": true, \"type\": \"scatter\", \"x\": [\"2021-01-01\", \"2021-02-01\", \"2021-03-01\", \"2021-04-01\", \"2021-05-01\", \"2021-06-01\", \"2021-07-01\", \"2021-08-01\", \"2021-09-01\", \"2021-10-01\", \"2021-11-01\"], \"xaxis\": \"x\", \"y\": [56.27167129516602, 64.47280883789061, 71.1960678100586, 69.71832275390625, 77.56448364257812, 69.7203369140625, 66.63588714599611, 71.39259338378906, 69.67504119873047, 68.66238403320311, 63.70000076293945], \"yaxis\": \"y\"}, {\"hoverlabel\": {\"namelength\": 0}, \"hovertemplate\": \"variable=MAR<br>Fecha_dias=%{x}<br>Precio (USD)=%{y}\", \"legendgroup\": \"variable=MAR\", \"line\": {\"color\": \"#FF6692\", \"dash\": \"solid\"}, \"mode\": \"lines\", \"name\": \"variable=MAR\", \"showlegend\": true, \"type\": \"scatter\", \"x\": [\"2021-01-01\", \"2021-02-01\", \"2021-03-01\", \"2021-04-01\", \"2021-05-01\", \"2021-06-01\", \"2021-07-01\", \"2021-08-01\", \"2021-09-01\", \"2021-10-01\", \"2021-11-01\"], \"xaxis\": \"x\", \"y\": [116.30999755859376, 148.07000732421875, 148.11000061035156, 148.52000427246094, 143.5800018310547, 136.52000427246094, 145.97999572753906, 135.13999938964844, 148.08999633789062, 160.02000427246094, 147.55999755859375], \"yaxis\": \"y\"}, {\"hoverlabel\": {\"namelength\": 0}, \"hovertemplate\": \"variable=HLT<br>Fecha_dias=%{x}<br>Precio (USD)=%{y}\", \"legendgroup\": \"variable=HLT\", \"line\": {\"color\": \"#B6E880\", \"dash\": \"solid\"}, \"mode\": \"lines\", \"name\": \"variable=HLT\", \"showlegend\": true, \"type\": \"scatter\", \"x\": [\"2021-01-01\", \"2021-02-01\", \"2021-03-01\", \"2021-04-01\", \"2021-05-01\", \"2021-06-01\", \"2021-07-01\", \"2021-08-01\", \"2021-09-01\", \"2021-10-01\", \"2021-11-01\"], \"xaxis\": \"x\", \"y\": [101.38999938964844, 123.68000030517578, 120.91999816894531, 128.69999694824222, 125.2699966430664, 120.62000274658205, 131.44999694824222, 124.86000061035156, 132.11000061035156, 143.9499969482422, 135.07000732421878], \"yaxis\": \"y\"}, {\"hoverlabel\": {\"namelength\": 0}, \"hovertemplate\": \"variable=RCL<br>Fecha_dias=%{x}<br>Precio (USD)=%{y}\", \"legendgroup\": \"variable=RCL\", \"line\": {\"color\": \"#FF97FF\", \"dash\": \"solid\"}, \"mode\": \"lines\", \"name\": \"variable=RCL\", \"showlegend\": true, \"type\": \"scatter\", \"x\": [\"2021-01-01\", \"2021-02-01\", \"2021-03-01\", \"2021-04-01\", \"2021-05-01\", \"2021-06-01\", \"2021-07-01\", \"2021-08-01\", \"2021-09-01\", \"2021-10-01\", \"2021-11-01\"], \"xaxis\": \"x\", \"y\": [65.0, 93.2699966430664, 85.61000061035156, 86.94999694824219, 93.2699966430664, 85.27999877929688, 76.87000274658203, 82.7300033569336, 88.94999694824219, 84.43000030517578, 69.81999969482422], \"yaxis\": \"y\"}, {\"hoverlabel\": {\"namelength\": 0}, \"hovertemplate\": \"variable=V<br>Fecha_dias=%{x}<br>Precio (USD)=%{y}\", \"legendgroup\": \"variable=V\", \"line\": {\"color\": \"#FECB52\", \"dash\": \"solid\"}, \"mode\": \"lines\", \"name\": \"variable=V\", \"showlegend\": true, \"type\": \"scatter\", \"x\": [\"2021-01-01\", \"2021-02-01\", \"2021-03-01\", \"2021-04-01\", \"2021-05-01\", \"2021-06-01\", \"2021-07-01\", \"2021-08-01\", \"2021-09-01\", \"2021-10-01\", \"2021-11-01\"], \"xaxis\": \"x\", \"y\": [192.07017517089844, 211.09332275390625, 210.76402282714844, 232.49444580078125, 226.2630157470703, 233.0913543701172, 245.62217712402344, 228.3860626220703, 222.35855102539062, 211.3978576660156, 193.4294891357422], \"yaxis\": \"y\"}, {\"hoverlabel\": {\"namelength\": 0}, \"hovertemplate\": \"variable=MA<br>Fecha_dias=%{x}<br>Precio (USD)=%{y}\", \"legendgroup\": \"variable=MA\", \"line\": {\"color\": \"#636efa\", \"dash\": \"solid\"}, \"mode\": \"lines\", \"name\": \"variable=MA\", \"showlegend\": true, \"type\": \"scatter\", \"x\": [\"2021-01-01\", \"2021-02-01\", \"2021-03-01\", \"2021-04-01\", \"2021-05-01\", \"2021-06-01\", \"2021-07-01\", \"2021-08-01\", \"2021-09-01\", \"2021-10-01\", \"2021-11-01\"], \"xaxis\": \"x\", \"y\": [314.74609375, 352.5690612792969, 354.7611083984375, 380.6769714355469, 359.7012023925781, 364.2002258300781, 384.9994201660156, 345.7931213378906, 347.24127197265625, 335.0965881347656, 314.9200134277344], \"yaxis\": \"y\"}, {\"hoverlabel\": {\"namelength\": 0}, \"hovertemplate\": \"variable=PYPL<br>Fecha_dias=%{x}<br>Precio (USD)=%{y}\", \"legendgroup\": \"variable=PYPL\", \"line\": {\"color\": \"#EF553B\", \"dash\": \"solid\"}, \"mode\": \"lines\", \"name\": \"variable=PYPL\", \"showlegend\": true, \"type\": \"scatter\", \"x\": [\"2021-01-01\", \"2021-02-01\", \"2021-03-01\", \"2021-04-01\", \"2021-05-01\", \"2021-06-01\", \"2021-07-01\", \"2021-08-01\", \"2021-09-01\", \"2021-10-01\", \"2021-11-01\"], \"xaxis\": \"x\", \"y\": [234.30999755859372, 259.85000610351557, 242.83999633789062, 262.29000854492193, 260.01998901367193, 291.4800109863281, 275.52999877929693, 288.6600036621094, 260.20999145507807, 232.58999633789062, 184.88999938964844], \"yaxis\": \"y\"}],\n",
              "                        {\"legend\": {\"tracegroupgap\": 0}, \"paper_bgcolor\": \"#FFFFFF\", \"plot_bgcolor\": \"#FFFFFF\", \"template\": {\"data\": {\"bar\": [{\"error_x\": {\"color\": \"#2a3f5f\"}, \"error_y\": {\"color\": \"#2a3f5f\"}, \"marker\": {\"line\": {\"color\": \"#E5ECF6\", \"width\": 0.5}}, \"type\": \"bar\"}], \"barpolar\": [{\"marker\": {\"line\": {\"color\": \"#E5ECF6\", \"width\": 0.5}}, \"type\": \"barpolar\"}], \"carpet\": [{\"aaxis\": {\"endlinecolor\": \"#2a3f5f\", \"gridcolor\": \"white\", \"linecolor\": \"white\", \"minorgridcolor\": \"white\", \"startlinecolor\": \"#2a3f5f\"}, \"baxis\": {\"endlinecolor\": \"#2a3f5f\", \"gridcolor\": \"white\", \"linecolor\": \"white\", \"minorgridcolor\": \"white\", \"startlinecolor\": \"#2a3f5f\"}, \"type\": \"carpet\"}], \"choropleth\": [{\"colorbar\": {\"outlinewidth\": 0, \"ticks\": \"\"}, \"type\": \"choropleth\"}], \"contour\": [{\"colorbar\": {\"outlinewidth\": 0, \"ticks\": \"\"}, \"colorscale\": [[0.0, \"#0d0887\"], [0.1111111111111111, \"#46039f\"], [0.2222222222222222, \"#7201a8\"], [0.3333333333333333, \"#9c179e\"], [0.4444444444444444, \"#bd3786\"], [0.5555555555555556, \"#d8576b\"], [0.6666666666666666, \"#ed7953\"], [0.7777777777777778, \"#fb9f3a\"], [0.8888888888888888, \"#fdca26\"], [1.0, \"#f0f921\"]], \"type\": \"contour\"}], \"contourcarpet\": [{\"colorbar\": {\"outlinewidth\": 0, \"ticks\": \"\"}, \"type\": \"contourcarpet\"}], \"heatmap\": [{\"colorbar\": {\"outlinewidth\": 0, \"ticks\": \"\"}, \"colorscale\": [[0.0, \"#0d0887\"], [0.1111111111111111, \"#46039f\"], [0.2222222222222222, \"#7201a8\"], [0.3333333333333333, \"#9c179e\"], [0.4444444444444444, \"#bd3786\"], [0.5555555555555556, \"#d8576b\"], [0.6666666666666666, \"#ed7953\"], [0.7777777777777778, \"#fb9f3a\"], [0.8888888888888888, \"#fdca26\"], [1.0, \"#f0f921\"]], \"type\": \"heatmap\"}], \"heatmapgl\": [{\"colorbar\": {\"outlinewidth\": 0, \"ticks\": \"\"}, \"colorscale\": [[0.0, \"#0d0887\"], [0.1111111111111111, \"#46039f\"], [0.2222222222222222, \"#7201a8\"], [0.3333333333333333, \"#9c179e\"], [0.4444444444444444, \"#bd3786\"], [0.5555555555555556, \"#d8576b\"], [0.6666666666666666, \"#ed7953\"], [0.7777777777777778, \"#fb9f3a\"], [0.8888888888888888, \"#fdca26\"], [1.0, \"#f0f921\"]], \"type\": \"heatmapgl\"}], \"histogram\": [{\"marker\": {\"colorbar\": {\"outlinewidth\": 0, \"ticks\": \"\"}}, \"type\": \"histogram\"}], \"histogram2d\": [{\"colorbar\": {\"outlinewidth\": 0, \"ticks\": \"\"}, \"colorscale\": [[0.0, \"#0d0887\"], [0.1111111111111111, \"#46039f\"], [0.2222222222222222, \"#7201a8\"], [0.3333333333333333, \"#9c179e\"], [0.4444444444444444, \"#bd3786\"], [0.5555555555555556, \"#d8576b\"], [0.6666666666666666, \"#ed7953\"], [0.7777777777777778, \"#fb9f3a\"], [0.8888888888888888, \"#fdca26\"], [1.0, \"#f0f921\"]], \"type\": \"histogram2d\"}], \"histogram2dcontour\": [{\"colorbar\": {\"outlinewidth\": 0, \"ticks\": \"\"}, \"colorscale\": [[0.0, \"#0d0887\"], [0.1111111111111111, \"#46039f\"], [0.2222222222222222, \"#7201a8\"], [0.3333333333333333, \"#9c179e\"], [0.4444444444444444, \"#bd3786\"], [0.5555555555555556, \"#d8576b\"], [0.6666666666666666, \"#ed7953\"], [0.7777777777777778, \"#fb9f3a\"], [0.8888888888888888, \"#fdca26\"], [1.0, \"#f0f921\"]], \"type\": \"histogram2dcontour\"}], \"mesh3d\": [{\"colorbar\": {\"outlinewidth\": 0, \"ticks\": \"\"}, \"type\": \"mesh3d\"}], \"parcoords\": [{\"line\": {\"colorbar\": {\"outlinewidth\": 0, \"ticks\": \"\"}}, \"type\": \"parcoords\"}], \"pie\": [{\"automargin\": true, \"type\": \"pie\"}], \"scatter\": [{\"marker\": {\"colorbar\": {\"outlinewidth\": 0, \"ticks\": \"\"}}, \"type\": \"scatter\"}], \"scatter3d\": [{\"line\": {\"colorbar\": {\"outlinewidth\": 0, \"ticks\": \"\"}}, \"marker\": {\"colorbar\": {\"outlinewidth\": 0, \"ticks\": \"\"}}, \"type\": \"scatter3d\"}], \"scattercarpet\": [{\"marker\": {\"colorbar\": {\"outlinewidth\": 0, \"ticks\": \"\"}}, \"type\": \"scattercarpet\"}], \"scattergeo\": [{\"marker\": {\"colorbar\": {\"outlinewidth\": 0, \"ticks\": \"\"}}, \"type\": \"scattergeo\"}], \"scattergl\": [{\"marker\": {\"colorbar\": {\"outlinewidth\": 0, \"ticks\": \"\"}}, \"type\": \"scattergl\"}], \"scattermapbox\": [{\"marker\": {\"colorbar\": {\"outlinewidth\": 0, \"ticks\": \"\"}}, \"type\": \"scattermapbox\"}], \"scatterpolar\": [{\"marker\": {\"colorbar\": {\"outlinewidth\": 0, \"ticks\": \"\"}}, \"type\": \"scatterpolar\"}], \"scatterpolargl\": [{\"marker\": {\"colorbar\": {\"outlinewidth\": 0, \"ticks\": \"\"}}, \"type\": \"scatterpolargl\"}], \"scatterternary\": [{\"marker\": {\"colorbar\": {\"outlinewidth\": 0, \"ticks\": \"\"}}, \"type\": \"scatterternary\"}], \"surface\": [{\"colorbar\": {\"outlinewidth\": 0, \"ticks\": \"\"}, \"colorscale\": [[0.0, \"#0d0887\"], [0.1111111111111111, \"#46039f\"], [0.2222222222222222, \"#7201a8\"], [0.3333333333333333, \"#9c179e\"], [0.4444444444444444, \"#bd3786\"], [0.5555555555555556, \"#d8576b\"], [0.6666666666666666, \"#ed7953\"], [0.7777777777777778, \"#fb9f3a\"], [0.8888888888888888, \"#fdca26\"], [1.0, \"#f0f921\"]], \"type\": \"surface\"}], \"table\": [{\"cells\": {\"fill\": {\"color\": \"#EBF0F8\"}, \"line\": {\"color\": \"white\"}}, \"header\": {\"fill\": {\"color\": \"#C8D4E3\"}, \"line\": {\"color\": \"white\"}}, \"type\": \"table\"}]}, \"layout\": {\"annotationdefaults\": {\"arrowcolor\": \"#2a3f5f\", \"arrowhead\": 0, \"arrowwidth\": 1}, \"coloraxis\": {\"colorbar\": {\"outlinewidth\": 0, \"ticks\": \"\"}}, \"colorscale\": {\"diverging\": [[0, \"#8e0152\"], [0.1, \"#c51b7d\"], [0.2, \"#de77ae\"], [0.3, \"#f1b6da\"], [0.4, \"#fde0ef\"], [0.5, \"#f7f7f7\"], [0.6, \"#e6f5d0\"], [0.7, \"#b8e186\"], [0.8, \"#7fbc41\"], [0.9, \"#4d9221\"], [1, \"#276419\"]], \"sequential\": [[0.0, \"#0d0887\"], [0.1111111111111111, \"#46039f\"], [0.2222222222222222, \"#7201a8\"], [0.3333333333333333, \"#9c179e\"], [0.4444444444444444, \"#bd3786\"], [0.5555555555555556, \"#d8576b\"], [0.6666666666666666, \"#ed7953\"], [0.7777777777777778, \"#fb9f3a\"], [0.8888888888888888, \"#fdca26\"], [1.0, \"#f0f921\"]], \"sequentialminus\": [[0.0, \"#0d0887\"], [0.1111111111111111, \"#46039f\"], [0.2222222222222222, \"#7201a8\"], [0.3333333333333333, \"#9c179e\"], [0.4444444444444444, \"#bd3786\"], [0.5555555555555556, \"#d8576b\"], [0.6666666666666666, \"#ed7953\"], [0.7777777777777778, \"#fb9f3a\"], [0.8888888888888888, \"#fdca26\"], [1.0, \"#f0f921\"]]}, \"colorway\": [\"#636efa\", \"#EF553B\", \"#00cc96\", \"#ab63fa\", \"#FFA15A\", \"#19d3f3\", \"#FF6692\", \"#B6E880\", \"#FF97FF\", \"#FECB52\"], \"font\": {\"color\": \"#2a3f5f\"}, \"geo\": {\"bgcolor\": \"white\", \"lakecolor\": \"white\", \"landcolor\": \"#E5ECF6\", \"showlakes\": true, \"showland\": true, \"subunitcolor\": \"white\"}, \"hoverlabel\": {\"align\": \"left\"}, \"hovermode\": \"closest\", \"mapbox\": {\"style\": \"light\"}, \"paper_bgcolor\": \"white\", \"plot_bgcolor\": \"#E5ECF6\", \"polar\": {\"angularaxis\": {\"gridcolor\": \"white\", \"linecolor\": \"white\", \"ticks\": \"\"}, \"bgcolor\": \"#E5ECF6\", \"radialaxis\": {\"gridcolor\": \"white\", \"linecolor\": \"white\", \"ticks\": \"\"}}, \"scene\": {\"xaxis\": {\"backgroundcolor\": \"#E5ECF6\", \"gridcolor\": \"white\", \"gridwidth\": 2, \"linecolor\": \"white\", \"showbackground\": true, \"ticks\": \"\", \"zerolinecolor\": \"white\"}, \"yaxis\": {\"backgroundcolor\": \"#E5ECF6\", \"gridcolor\": \"white\", \"gridwidth\": 2, \"linecolor\": \"white\", \"showbackground\": true, \"ticks\": \"\", \"zerolinecolor\": \"white\"}, \"zaxis\": {\"backgroundcolor\": \"#E5ECF6\", \"gridcolor\": \"white\", \"gridwidth\": 2, \"linecolor\": \"white\", \"showbackground\": true, \"ticks\": \"\", \"zerolinecolor\": \"white\"}}, \"shapedefaults\": {\"line\": {\"color\": \"#2a3f5f\"}}, \"ternary\": {\"aaxis\": {\"gridcolor\": \"white\", \"linecolor\": \"white\", \"ticks\": \"\"}, \"baxis\": {\"gridcolor\": \"white\", \"linecolor\": \"white\", \"ticks\": \"\"}, \"bgcolor\": \"#E5ECF6\", \"caxis\": {\"gridcolor\": \"white\", \"linecolor\": \"white\", \"ticks\": \"\"}}, \"title\": {\"x\": 0.05}, \"xaxis\": {\"automargin\": true, \"gridcolor\": \"white\", \"linecolor\": \"white\", \"ticks\": \"\", \"title\": {\"standoff\": 15}, \"zerolinecolor\": \"white\", \"zerolinewidth\": 2}, \"yaxis\": {\"automargin\": true, \"gridcolor\": \"white\", \"linecolor\": \"white\", \"ticks\": \"\", \"title\": {\"standoff\": 15}, \"zerolinecolor\": \"white\", \"zerolinewidth\": 2}}}, \"title\": {\"text\": \"Comportamiento de precio de acciones\"}, \"xaxis\": {\"anchor\": \"y\", \"domain\": [0.0, 1.0], \"title\": {\"text\": \"Fecha_dias\"}}, \"yaxis\": {\"anchor\": \"x\", \"domain\": [0.0, 1.0], \"title\": {\"text\": \"Precio (USD)\"}}},\n",
              "                        {\"responsive\": true}\n",
              "                    ).then(function(){\n",
              "                            \n",
              "var gd = document.getElementById('d21c64e5-d86d-4598-950f-1becde92cc19');\n",
              "var x = new MutationObserver(function (mutations, observer) {{\n",
              "        var display = window.getComputedStyle(gd).display;\n",
              "        if (!display || display === 'none') {{\n",
              "            console.log([gd, 'removed!']);\n",
              "            Plotly.purge(gd);\n",
              "            observer.disconnect();\n",
              "        }}\n",
              "}});\n",
              "\n",
              "// Listen for the removal of the full notebook cells\n",
              "var notebookContainer = gd.closest('#notebook-container');\n",
              "if (notebookContainer) {{\n",
              "    x.observe(notebookContainer, {childList: true});\n",
              "}}\n",
              "\n",
              "// Listen for the clearing of the current output cell\n",
              "var outputEl = gd.closest('.output');\n",
              "if (outputEl) {{\n",
              "    x.observe(outputEl, {childList: true});\n",
              "}}\n",
              "\n",
              "                        })\n",
              "                };\n",
              "                \n",
              "            </script>\n",
              "        </div>\n",
              "</body>\n",
              "</html>"
            ]
          },
          "metadata": {}
        }
      ]
    },
    {
      "cell_type": "markdown",
      "source": [
        "Ahora se pueden ver mucho mejor las fluctuaciones de cada compañia que antes no era tan claro "
      ],
      "metadata": {
        "id": "rujBgm-NPJd-"
      }
    }
  ]
}